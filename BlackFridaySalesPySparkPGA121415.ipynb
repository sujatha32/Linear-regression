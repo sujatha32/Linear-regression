{
  "nbformat": 4,
  "nbformat_minor": 0,
  "metadata": {
    "kernelspec": {
      "display_name": "Python 3",
      "language": "python",
      "name": "python3"
    },
    "language_info": {
      "codemirror_mode": {
        "name": "ipython",
        "version": 3
      },
      "file_extension": ".py",
      "mimetype": "text/x-python",
      "name": "python",
      "nbconvert_exporter": "python",
      "pygments_lexer": "ipython3",
      "version": "3.8.5"
    },
    "colab": {
      "name": "BlackFridaySalesPySparkPGA121415.ipynb",
      "provenance": []
    }
  },
  "cells": [
    {
      "cell_type": "code",
      "metadata": {
        "id": "ODcF-hdtZP-Q"
      },
      "source": [
        "import pandas as pd\n",
        "import numpy as np\n",
        "import matplotlib.pyplot as plt\n",
        "%matplotlib inline"
      ],
      "execution_count": null,
      "outputs": []
    },
    {
      "cell_type": "code",
      "metadata": {
        "id": "GFRddVAQZP-T"
      },
      "source": [
        "import pyspark"
      ],
      "execution_count": null,
      "outputs": []
    },
    {
      "cell_type": "code",
      "metadata": {
        "id": "uVN_HT6lZP-U"
      },
      "source": [
        "from pyspark.sql import SparkSession"
      ],
      "execution_count": null,
      "outputs": []
    },
    {
      "cell_type": "code",
      "metadata": {
        "id": "-g5zP1T5ZP-U"
      },
      "source": [
        "spark=SparkSession.builder.appName('reg').getOrCreate()"
      ],
      "execution_count": null,
      "outputs": []
    },
    {
      "cell_type": "code",
      "metadata": {
        "id": "PoeJP2TmZP-U",
        "outputId": "4200a693-e797-4fb1-b3b0-e6b4a1e19500"
      },
      "source": [
        "import io\n",
        "%cd '/Users/rajeshprabhakar/Desktop/Hackathon/BlackFridaySales'"
      ],
      "execution_count": null,
      "outputs": [
        {
          "output_type": "stream",
          "text": [
            "/Users/rajeshprabhakar/Desktop/Hackathon/BlackFridaySales\n"
          ],
          "name": "stdout"
        }
      ]
    },
    {
      "cell_type": "code",
      "metadata": {
        "id": "OV5YBOz_ZP-V"
      },
      "source": [
        "salestrain=pd.read_csv('train.csv')"
      ],
      "execution_count": null,
      "outputs": []
    },
    {
      "cell_type": "code",
      "metadata": {
        "id": "0Ra-yTXQZP-W"
      },
      "source": [
        "salestest=pd.read_csv('test.csv')"
      ],
      "execution_count": null,
      "outputs": []
    },
    {
      "cell_type": "code",
      "metadata": {
        "id": "FbhVGd35ZP-W"
      },
      "source": [
        "salestraindf=spark.createDataFrame(salestrain)"
      ],
      "execution_count": null,
      "outputs": []
    },
    {
      "cell_type": "code",
      "metadata": {
        "id": "9-N8DW3ZZP-W"
      },
      "source": [
        "salestestdf=spark.createDataFrame(salestest)"
      ],
      "execution_count": null,
      "outputs": []
    },
    {
      "cell_type": "code",
      "metadata": {
        "id": "ZQICM_g_ZP-W"
      },
      "source": [
        "from pyspark.sql.functions import isnan,isnull,when,count,col"
      ],
      "execution_count": null,
      "outputs": []
    },
    {
      "cell_type": "code",
      "metadata": {
        "id": "4ui2gx9_ZP-X",
        "outputId": "1357b050-ea75-46d5-decd-1bec2ec65ec8"
      },
      "source": [
        "salestraindf.select([count(when(isnan(c),c)).alias(c)\n",
        "                    for c in salestraindf.columns]).show()"
      ],
      "execution_count": null,
      "outputs": [
        {
          "output_type": "stream",
          "text": [
            "+-------+----------+------+---+----------+-------------+--------------------------+--------------+------------------+------------------+------------------+--------+\n",
            "|User_ID|Product_ID|Gender|Age|Occupation|City_Category|Stay_In_Current_City_Years|Marital_Status|Product_Category_1|Product_Category_2|Product_Category_3|Purchase|\n",
            "+-------+----------+------+---+----------+-------------+--------------------------+--------------+------------------+------------------+------------------+--------+\n",
            "|      0|         0|     0|  0|         0|            0|                         0|             0|                 0|            173638|            383247|       0|\n",
            "+-------+----------+------+---+----------+-------------+--------------------------+--------------+------------------+------------------+------------------+--------+\n",
            "\n"
          ],
          "name": "stdout"
        }
      ]
    },
    {
      "cell_type": "code",
      "metadata": {
        "id": "-TjGOZzoZP-X",
        "outputId": "31a917ed-a8a8-4db0-c512-27dd10003d23"
      },
      "source": [
        "salestestdf.select([count(when(isnan(c),c)).alias(c)\n",
        "                   for c in salestestdf.columns]).show()"
      ],
      "execution_count": null,
      "outputs": [
        {
          "output_type": "stream",
          "text": [
            "+-------+----------+------+---+----------+-------------+--------------------------+--------------+------------------+------------------+------------------+\n",
            "|User_ID|Product_ID|Gender|Age|Occupation|City_Category|Stay_In_Current_City_Years|Marital_Status|Product_Category_1|Product_Category_2|Product_Category_3|\n",
            "+-------+----------+------+---+----------+-------------+--------------------------+--------------+------------------+------------------+------------------+\n",
            "|      0|         0|     0|  0|         0|            0|                         0|             0|                 0|             72344|            162562|\n",
            "+-------+----------+------+---+----------+-------------+--------------------------+--------------+------------------+------------------+------------------+\n",
            "\n"
          ],
          "name": "stdout"
        }
      ]
    },
    {
      "cell_type": "code",
      "metadata": {
        "id": "-lOS5rakZP-Y"
      },
      "source": [
        "salestraindf=salestraindf.na.fill(value=999,\n",
        "                                 subset=['Product_Category_2'])"
      ],
      "execution_count": null,
      "outputs": []
    },
    {
      "cell_type": "code",
      "metadata": {
        "id": "PHfLdERCZP-Y"
      },
      "source": [
        "salestraindf=salestraindf.na.fill(value=888,\n",
        "                                 subset=['Product_category_3'])"
      ],
      "execution_count": null,
      "outputs": []
    },
    {
      "cell_type": "code",
      "metadata": {
        "id": "33ZQI2uuZP-Y"
      },
      "source": [
        "salestestdf=salestestdf.na.fill(value=999,\n",
        "                               subset=['Product_Category_2'])"
      ],
      "execution_count": null,
      "outputs": []
    },
    {
      "cell_type": "code",
      "metadata": {
        "id": "oZuZoUWSZP-Y"
      },
      "source": [
        "salestestdf=salestestdf.na.fill(value=888,\n",
        "                               subset=['Product_Category_3'])"
      ],
      "execution_count": null,
      "outputs": []
    },
    {
      "cell_type": "code",
      "metadata": {
        "id": "zhnVutsrZP-Z",
        "outputId": "288d821b-9f23-4598-eec7-6b5a845f3894"
      },
      "source": [
        "salestraindf.printSchema()"
      ],
      "execution_count": null,
      "outputs": [
        {
          "output_type": "stream",
          "text": [
            "root\n",
            " |-- User_ID: long (nullable = true)\n",
            " |-- Product_ID: string (nullable = true)\n",
            " |-- Gender: string (nullable = true)\n",
            " |-- Age: string (nullable = true)\n",
            " |-- Occupation: long (nullable = true)\n",
            " |-- City_Category: string (nullable = true)\n",
            " |-- Stay_In_Current_City_Years: string (nullable = true)\n",
            " |-- Marital_Status: long (nullable = true)\n",
            " |-- Product_Category_1: long (nullable = true)\n",
            " |-- Product_Category_2: double (nullable = false)\n",
            " |-- Product_Category_3: double (nullable = false)\n",
            " |-- Purchase: long (nullable = true)\n",
            "\n"
          ],
          "name": "stdout"
        }
      ]
    },
    {
      "cell_type": "code",
      "metadata": {
        "id": "FPRQwQQqZP-Z",
        "outputId": "30ef6270-3420-4d29-93db-216d2b7434ca"
      },
      "source": [
        "salestraindf.select(['User_ID','Product_ID']).show(5)"
      ],
      "execution_count": null,
      "outputs": [
        {
          "output_type": "stream",
          "text": [
            "+-------+----------+\n",
            "|User_ID|Product_ID|\n",
            "+-------+----------+\n",
            "|1000001| P00069042|\n",
            "|1000001| P00248942|\n",
            "|1000001| P00087842|\n",
            "|1000001| P00085442|\n",
            "|1000002| P00285442|\n",
            "+-------+----------+\n",
            "only showing top 5 rows\n",
            "\n"
          ],
          "name": "stdout"
        }
      ]
    },
    {
      "cell_type": "code",
      "metadata": {
        "id": "gFkQQKpwZP-Z",
        "outputId": "94c976d1-d0b8-40e4-bddb-dc1e2453645a"
      },
      "source": [
        "salestraindf.select(['City_Category',\n",
        "                     'Stay_In_Current_City_Years']).show(5)"
      ],
      "execution_count": null,
      "outputs": [
        {
          "output_type": "stream",
          "text": [
            "+-------------+--------------------------+\n",
            "|City_Category|Stay_In_Current_City_Years|\n",
            "+-------------+--------------------------+\n",
            "|            A|                         2|\n",
            "|            A|                         2|\n",
            "|            A|                         2|\n",
            "|            A|                         2|\n",
            "|            C|                        4+|\n",
            "+-------------+--------------------------+\n",
            "only showing top 5 rows\n",
            "\n"
          ],
          "name": "stdout"
        }
      ]
    },
    {
      "cell_type": "code",
      "metadata": {
        "id": "AFSBU-YDZP-Z",
        "outputId": "24f72f56-d36c-4e9c-faeb-2b43dfa2e154"
      },
      "source": [
        "salestraindf.groupBy('Stay_In_Current_City_Years').count().show()"
      ],
      "execution_count": null,
      "outputs": [
        {
          "output_type": "stream",
          "text": [
            "+--------------------------+------+\n",
            "|Stay_In_Current_City_Years| count|\n",
            "+--------------------------+------+\n",
            "|                         3| 95285|\n",
            "|                         0| 74398|\n",
            "|                        4+| 84726|\n",
            "|                         1|193821|\n",
            "|                         2|101838|\n",
            "+--------------------------+------+\n",
            "\n"
          ],
          "name": "stdout"
        }
      ]
    },
    {
      "cell_type": "code",
      "metadata": {
        "id": "SoJk6swoZP-a"
      },
      "source": [
        "from pyspark.ml.feature import StringIndexer\n",
        "from pyspark.ml import Pipeline"
      ],
      "execution_count": null,
      "outputs": []
    },
    {
      "cell_type": "code",
      "metadata": {
        "id": "rl1wD3mhZP-a"
      },
      "source": [
        "indexers=[StringIndexer(inputCol=column,\n",
        "                       outputCol=column+'_index').fit(salestraindf)\n",
        "         for column in list(set(salestraindf.columns)-\n",
        "                           set(['Purchase','User_ID','Product_ID']))]"
      ],
      "execution_count": null,
      "outputs": []
    },
    {
      "cell_type": "code",
      "metadata": {
        "id": "PgJzenE_ZP-a"
      },
      "source": [
        "pipeline=Pipeline(stages=indexers)\n",
        "salestraindf=pipeline.fit(salestraindf).transform(salestraindf)"
      ],
      "execution_count": null,
      "outputs": []
    },
    {
      "cell_type": "code",
      "metadata": {
        "id": "nKMgnLI9ZP-a"
      },
      "source": [
        "salestestdf=pipeline.fit(salestestdf).transform(salestestdf)"
      ],
      "execution_count": null,
      "outputs": []
    },
    {
      "cell_type": "code",
      "metadata": {
        "id": "ELc8ZpHMZP-a",
        "outputId": "e17ea050-1838-499e-9311-d6298e935b30"
      },
      "source": [
        "salestraindf.columns"
      ],
      "execution_count": null,
      "outputs": [
        {
          "output_type": "execute_result",
          "data": {
            "text/plain": [
              "['User_ID',\n",
              " 'Product_ID',\n",
              " 'Gender',\n",
              " 'Age',\n",
              " 'Occupation',\n",
              " 'City_Category',\n",
              " 'Stay_In_Current_City_Years',\n",
              " 'Marital_Status',\n",
              " 'Product_Category_1',\n",
              " 'Product_Category_2',\n",
              " 'Product_Category_3',\n",
              " 'Purchase',\n",
              " 'Gender_index',\n",
              " 'Stay_In_Current_City_Years_index',\n",
              " 'Product_Category_1_index',\n",
              " 'Age_index',\n",
              " 'City_Category_index',\n",
              " 'Product_Category_2_index',\n",
              " 'Marital_Status_index',\n",
              " 'Product_Category_3_index',\n",
              " 'Occupation_index']"
            ]
          },
          "metadata": {
            "tags": []
          },
          "execution_count": 25
        }
      ]
    },
    {
      "cell_type": "code",
      "metadata": {
        "id": "8_vQzGjFZP-b"
      },
      "source": [
        "columnstodrop=['User_ID','Product_ID','Gender','Age','Occupation',\n",
        " 'City_Category','Stay_In_Current_City_Years','Marital_Status',\n",
        " 'Product_Category_1','Product_Category_2','Product_Category_3',]"
      ],
      "execution_count": null,
      "outputs": []
    },
    {
      "cell_type": "code",
      "metadata": {
        "id": "gK4UzjxzZP-b"
      },
      "source": [
        "salestraindf=salestraindf.drop(*columnstodrop)"
      ],
      "execution_count": null,
      "outputs": []
    },
    {
      "cell_type": "code",
      "metadata": {
        "id": "E9fZVQRVZP-b"
      },
      "source": [
        "from pyspark.ml.feature import RFormula"
      ],
      "execution_count": null,
      "outputs": []
    },
    {
      "cell_type": "code",
      "metadata": {
        "id": "12wO4WUmZP-b"
      },
      "source": [
        "formula=RFormula(formula='Purchase~.',featuresCol='features',\n",
        "                labelCol='label')"
      ],
      "execution_count": null,
      "outputs": []
    },
    {
      "cell_type": "code",
      "metadata": {
        "id": "nzCl-UCAZP-b",
        "outputId": "cc8da17e-4153-4113-dd9b-bda0fb347fcb"
      },
      "source": [
        "output=formula.fit(salestraindf).transform(salestraindf)\n",
        "output.select('features','label').show(5)"
      ],
      "execution_count": null,
      "outputs": [
        {
          "output_type": "stream",
          "text": [
            "+--------------------+-------+\n",
            "|            features|  label|\n",
            "+--------------------+-------+\n",
            "|[1.0,1.0,6.0,6.0,...| 8370.0|\n",
            "|[1.0,1.0,1.0,6.0,...|15200.0|\n",
            "|[1.0,1.0,12.0,6.0...| 1422.0|\n",
            "|[1.0,1.0,12.0,6.0...| 1057.0|\n",
            "|[0.0,3.0,2.0,5.0,...| 7969.0|\n",
            "+--------------------+-------+\n",
            "only showing top 5 rows\n",
            "\n"
          ],
          "name": "stdout"
        }
      ]
    },
    {
      "cell_type": "code",
      "metadata": {
        "id": "FAJh1D6aZP-c"
      },
      "source": [
        "from pyspark.ml.regression import LinearRegression"
      ],
      "execution_count": null,
      "outputs": []
    },
    {
      "cell_type": "code",
      "metadata": {
        "id": "t2ztaBVRZP-c"
      },
      "source": [
        "linreg=LinearRegression(featuresCol='features',labelCol='label')"
      ],
      "execution_count": null,
      "outputs": []
    },
    {
      "cell_type": "code",
      "metadata": {
        "id": "u6KBJwSNZP-c"
      },
      "source": [
        "linregmodel=linreg.fit(output)"
      ],
      "execution_count": null,
      "outputs": []
    },
    {
      "cell_type": "code",
      "metadata": {
        "id": "9GLivjexZP-c",
        "outputId": "4d375402-1cf9-4e55-aaf6-a7b1a2a1ad8b"
      },
      "source": [
        "linregmodel.summary.r2adj"
      ],
      "execution_count": null,
      "outputs": [
        {
          "output_type": "execute_result",
          "data": {
            "text/plain": [
              "0.06356300117930158"
            ]
          },
          "metadata": {
            "tags": []
          },
          "execution_count": 34
        }
      ]
    },
    {
      "cell_type": "code",
      "metadata": {
        "id": "S2Cl4xxmZP-c",
        "outputId": "e53764ce-bb2b-48c5-89b1-6717efbecae3"
      },
      "source": [
        "linregmodel.summary.rootMeanSquaredError"
      ],
      "execution_count": null,
      "outputs": [
        {
          "output_type": "execute_result",
          "data": {
            "text/plain": [
              "4860.75986981341"
            ]
          },
          "metadata": {
            "tags": []
          },
          "execution_count": 35
        }
      ]
    },
    {
      "cell_type": "code",
      "metadata": {
        "id": "GNEtcHzUZP-d"
      },
      "source": [
        "salestestdf=salestestdf.drop(*columnstodrop)"
      ],
      "execution_count": null,
      "outputs": []
    },
    {
      "cell_type": "code",
      "metadata": {
        "id": "JAuzEi-uZP-d",
        "outputId": "5b6b7dde-dfe8-4409-c2f2-3379e1673138"
      },
      "source": [
        "salestestdf.columns"
      ],
      "execution_count": null,
      "outputs": [
        {
          "output_type": "execute_result",
          "data": {
            "text/plain": [
              "['Gender_index',\n",
              " 'Stay_In_Current_City_Years_index',\n",
              " 'Product_Category_1_index',\n",
              " 'Age_index',\n",
              " 'City_Category_index',\n",
              " 'Product_Category_2_index',\n",
              " 'Marital_Status_index',\n",
              " 'Product_Category_3_index',\n",
              " 'Occupation_index']"
            ]
          },
          "metadata": {
            "tags": []
          },
          "execution_count": 37
        }
      ]
    },
    {
      "cell_type": "code",
      "metadata": {
        "id": "_np2dUdjZP-d"
      },
      "source": [
        "from pyspark.ml.feature import VectorAssembler"
      ],
      "execution_count": null,
      "outputs": []
    },
    {
      "cell_type": "code",
      "metadata": {
        "id": "sAzhcBlYZP-d"
      },
      "source": [
        "assembler=VectorAssembler(inputCols=['Age_index',\n",
        "'Product_Category_2_index','Product_Category_1_index',\n",
        " 'Stay_In_Current_City_Years_index','Occupation_index',\n",
        " 'Gender_index','City_Category_index',\n",
        " 'Product_Category_3_index','Marital_Status_index'],\n",
        "                         outputCol='features')"
      ],
      "execution_count": null,
      "outputs": []
    },
    {
      "cell_type": "code",
      "metadata": {
        "id": "IeK8Mg_iZP-d"
      },
      "source": [
        "testoutput=assembler.transform(salestestdf)"
      ],
      "execution_count": null,
      "outputs": []
    },
    {
      "cell_type": "code",
      "metadata": {
        "id": "GOlFzQ87ZP-e",
        "outputId": "3dbfd036-dec4-4033-b198-2933bd0b069a"
      },
      "source": [
        "testoutput.select('features').show(5)"
      ],
      "execution_count": null,
      "outputs": [
        {
          "output_type": "stream",
          "text": [
            "+--------------------+\n",
            "|            features|\n",
            "+--------------------+\n",
            "|[3.0,9.0,1.0,1.0,...|\n",
            "|[0.0,6.0,6.0,4.0,...|\n",
            "|[1.0,2.0,0.0,3.0,...|\n",
            "|[1.0,12.0,7.0,3.0...|\n",
            "|[0.0,6.0,7.0,0.0,...|\n",
            "+--------------------+\n",
            "only showing top 5 rows\n",
            "\n"
          ],
          "name": "stdout"
        }
      ]
    },
    {
      "cell_type": "code",
      "metadata": {
        "id": "F8JifNtCZP-e"
      },
      "source": [
        "regpredict=linregmodel.transform(testoutput)"
      ],
      "execution_count": null,
      "outputs": []
    },
    {
      "cell_type": "code",
      "metadata": {
        "id": "3glR09vDZP-e",
        "outputId": "698c8f70-a0e1-45e8-b79a-8fa4b3f75f16"
      },
      "source": [
        "regpredict.select('prediction').show(5)"
      ],
      "execution_count": null,
      "outputs": [
        {
          "output_type": "stream",
          "text": [
            "+-----------------+\n",
            "|       prediction|\n",
            "+-----------------+\n",
            "| 6391.54807827454|\n",
            "| 8593.91385040738|\n",
            "|7723.127430105531|\n",
            "|8091.752748068837|\n",
            "|11907.51851717382|\n",
            "+-----------------+\n",
            "only showing top 5 rows\n",
            "\n"
          ],
          "name": "stdout"
        }
      ]
    },
    {
      "cell_type": "code",
      "metadata": {
        "id": "6YK6Dmu9ZP-e"
      },
      "source": [
        "regpredict.select('prediction').toPandas().to_csv('reg.csv')"
      ],
      "execution_count": null,
      "outputs": []
    },
    {
      "cell_type": "code",
      "metadata": {
        "id": "o-mykLXwZP-e"
      },
      "source": [
        "from pyspark.ml.regression import DecisionTreeRegressor"
      ],
      "execution_count": null,
      "outputs": []
    },
    {
      "cell_type": "code",
      "metadata": {
        "id": "cQTJuyokZP-e"
      },
      "source": [
        "tree=DecisionTreeRegressor(featuresCol='features',labelCol='label')"
      ],
      "execution_count": null,
      "outputs": []
    },
    {
      "cell_type": "code",
      "metadata": {
        "id": "B7c5ttqmZP-f"
      },
      "source": [
        "treemodel=tree.fit(output)"
      ],
      "execution_count": null,
      "outputs": []
    },
    {
      "cell_type": "code",
      "metadata": {
        "id": "cEI9hQxoZP-f"
      },
      "source": [
        "treepredict=treemodel.transform(testoutput)"
      ],
      "execution_count": null,
      "outputs": []
    },
    {
      "cell_type": "code",
      "metadata": {
        "id": "00X2JBQrZP-f"
      },
      "source": [
        "treepredict.select('prediction').toPandas().to_csv('tree.csv')"
      ],
      "execution_count": null,
      "outputs": []
    },
    {
      "cell_type": "code",
      "metadata": {
        "id": "HZ9wgOh9ZP-f"
      },
      "source": [
        "lr = LinearRegression(regParam=0.1,elasticNetParam=0.9)"
      ],
      "execution_count": null,
      "outputs": []
    },
    {
      "cell_type": "code",
      "metadata": {
        "id": "nmqA8-t4ZP-f"
      },
      "source": [
        "lrmodel=lr.fit(output)"
      ],
      "execution_count": null,
      "outputs": []
    },
    {
      "cell_type": "code",
      "metadata": {
        "id": "TKhZUdYUZP-f",
        "outputId": "83c45102-684c-47b9-a269-7bcda8f61828"
      },
      "source": [
        "lrmodel.summary.rootMeanSquaredError"
      ],
      "execution_count": null,
      "outputs": [
        {
          "output_type": "execute_result",
          "data": {
            "text/plain": [
              "4860.759876976344"
            ]
          },
          "metadata": {
            "tags": []
          },
          "execution_count": 51
        }
      ]
    },
    {
      "cell_type": "code",
      "metadata": {
        "id": "7U7FiJS1ZP-g"
      },
      "source": [
        "from pyspark.ml.regression import GBTRegressor"
      ],
      "execution_count": null,
      "outputs": []
    },
    {
      "cell_type": "code",
      "metadata": {
        "id": "3kubyvrqZP-g"
      },
      "source": [
        "gbm=GBTRegressor()"
      ],
      "execution_count": null,
      "outputs": []
    },
    {
      "cell_type": "code",
      "metadata": {
        "id": "pWlquvA_ZP-g"
      },
      "source": [
        "gbmmodel=gbm.fit(output)"
      ],
      "execution_count": null,
      "outputs": []
    },
    {
      "cell_type": "code",
      "metadata": {
        "id": "0eMr8nJyZP-g"
      },
      "source": [
        "gbmpredict=gbmmodel.transform(testoutput)"
      ],
      "execution_count": null,
      "outputs": []
    },
    {
      "cell_type": "code",
      "metadata": {
        "id": "YsGToykJZP-g"
      },
      "source": [
        "gbmpredict.select('prediction').toPandas().to_csv('gbm.csv')"
      ],
      "execution_count": null,
      "outputs": []
    },
    {
      "cell_type": "code",
      "metadata": {
        "id": "Cur9KJu-ZP-g"
      },
      "source": [
        ""
      ],
      "execution_count": null,
      "outputs": []
    }
  ]
}