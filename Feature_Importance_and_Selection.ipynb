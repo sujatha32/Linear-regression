{
  "nbformat": 4,
  "nbformat_minor": 0,
  "metadata": {
    "kernelspec": {
      "display_name": "AI_for_Healthcare",
      "language": "python",
      "name": "ai_for_healthcare"
    },
    "language_info": {
      "codemirror_mode": {
        "name": "ipython",
        "version": 3
      },
      "file_extension": ".py",
      "mimetype": "text/x-python",
      "name": "python",
      "nbconvert_exporter": "python",
      "pygments_lexer": "ipython3",
      "version": "3.7.10"
    },
    "colab": {
      "name": "Feature Importance and Selection.ipynb",
      "provenance": []
    }
  },
  "cells": [
    {
      "cell_type": "markdown",
      "metadata": {
        "id": "Pt0K2A9oW7jQ"
      },
      "source": [
        "# Feature Importance"
      ]
    },
    {
      "cell_type": "code",
      "metadata": {
        "id": "Y7XpenD-W7jS"
      },
      "source": [
        "import pandas as pd\n",
        "import numpy as np\n",
        "from sklearn.impute import SimpleImputer\n",
        "import warnings\n",
        "warnings.filterwarnings(\"ignore\")"
      ],
      "execution_count": null,
      "outputs": []
    },
    {
      "cell_type": "code",
      "metadata": {
        "id": "izmo-AMKW7jT"
      },
      "source": [
        "data = pd.read_csv(\"healthcare-dataset-stroke-data.csv\")"
      ],
      "execution_count": null,
      "outputs": []
    },
    {
      "cell_type": "code",
      "metadata": {
        "id": "8p9B645jW7jU"
      },
      "source": [
        "meanImpute = SimpleImputer(strategy=\"mean\")"
      ],
      "execution_count": null,
      "outputs": []
    },
    {
      "cell_type": "code",
      "metadata": {
        "id": "e3wbKX2zW7jV",
        "outputId": "29631c51-8a96-47ca-ad63-4199d73a9901"
      },
      "source": [
        "meanImpute.fit(data[['bmi']])"
      ],
      "execution_count": null,
      "outputs": [
        {
          "output_type": "execute_result",
          "data": {
            "text/plain": [
              "SimpleImputer()"
            ]
          },
          "metadata": {
            "tags": []
          },
          "execution_count": 96
        }
      ]
    },
    {
      "cell_type": "code",
      "metadata": {
        "id": "1xBR1rZAW7jW"
      },
      "source": [
        "data[['bmi']] = meanImpute.transform(data[['bmi']])"
      ],
      "execution_count": null,
      "outputs": []
    },
    {
      "cell_type": "code",
      "metadata": {
        "id": "TUXLIWpEW7jW",
        "outputId": "911e0dbf-5257-46f0-b1f2-f9b10bf534f7"
      },
      "source": [
        "data.isna().sum()"
      ],
      "execution_count": null,
      "outputs": [
        {
          "output_type": "execute_result",
          "data": {
            "text/plain": [
              "id                   0\n",
              "gender               0\n",
              "age                  0\n",
              "hypertension         0\n",
              "heart_disease        0\n",
              "ever_married         0\n",
              "work_type            0\n",
              "Residence_type       0\n",
              "avg_glucose_level    0\n",
              "bmi                  0\n",
              "smoking_status       0\n",
              "stroke               0\n",
              "dtype: int64"
            ]
          },
          "metadata": {
            "tags": []
          },
          "execution_count": 98
        }
      ]
    },
    {
      "cell_type": "markdown",
      "metadata": {
        "id": "zd9F4aRrW7jX"
      },
      "source": [
        "# Feature Importance for Classification Problem"
      ]
    },
    {
      "cell_type": "code",
      "metadata": {
        "id": "f3SwQtOmW7jY"
      },
      "source": [
        "X = data.drop(['stroke'], axis=1)\n",
        "y = data[['stroke']]"
      ],
      "execution_count": null,
      "outputs": []
    },
    {
      "cell_type": "code",
      "metadata": {
        "id": "jx6QGQ3pW7ja"
      },
      "source": [
        "# Division into Categorical and Numerical Columns\n",
        "\n",
        "dataCat = X.select_dtypes(object)\n",
        "dataNum = X.select_dtypes(np.number)"
      ],
      "execution_count": null,
      "outputs": []
    },
    {
      "cell_type": "code",
      "metadata": {
        "id": "zMUMLRW_W7jb"
      },
      "source": [
        "from sklearn.preprocessing import LabelEncoder\n",
        "le = LabelEncoder()"
      ],
      "execution_count": null,
      "outputs": []
    },
    {
      "cell_type": "code",
      "metadata": {
        "id": "r_8jyWliW7jc"
      },
      "source": [
        "dataCatEncoded = dataCat.apply(le.fit_transform)"
      ],
      "execution_count": null,
      "outputs": []
    },
    {
      "cell_type": "code",
      "metadata": {
        "id": "Lo6I_IMIW7jc"
      },
      "source": [
        "from sklearn.feature_selection import SelectKBest\n",
        "from sklearn.feature_selection import chi2, mutual_info_classif"
      ],
      "execution_count": null,
      "outputs": []
    },
    {
      "cell_type": "markdown",
      "metadata": {
        "id": "nNrnaZGAW7jd"
      },
      "source": [
        "## For Categorical Columns and Target Variable"
      ]
    },
    {
      "cell_type": "markdown",
      "metadata": {
        "id": "kMBvJOP7W7jd"
      },
      "source": [
        "### Using Chi Square Values"
      ]
    },
    {
      "cell_type": "code",
      "metadata": {
        "id": "HlrNiBRcW7jd"
      },
      "source": [
        "chiScore = SelectKBest(score_func=chi2, k='all')\n",
        "chiScore.fit(dataCatEncoded, y)\n",
        "X_chi2 = chiScore.transform(dataCatEncoded)"
      ],
      "execution_count": null,
      "outputs": []
    },
    {
      "cell_type": "code",
      "metadata": {
        "id": "GnAs-mwdW7jd",
        "outputId": "a6512498-29ab-4466-ce62-545c905c3474"
      },
      "source": [
        "from matplotlib import pyplot\n",
        "for i in range(len(chiScore.scores_)):\n",
        "\tprint('Feature %d: %f' % (i, chiScore.scores_[i]))\n",
        "# plot the scores\n",
        "pyplot.bar([i for i in range(len(chiScore.scores_))], chiScore.scores_)\n",
        "pyplot.show()"
      ],
      "execution_count": null,
      "outputs": [
        {
          "output_type": "stream",
          "text": [
            "Feature 0: 0.239001\n",
            "Feature 1: 20.622787\n",
            "Feature 2: 2.925901\n",
            "Feature 3: 0.600717\n",
            "Feature 4: 3.369423\n"
          ],
          "name": "stdout"
        },
        {
          "output_type": "display_data",
          "data": {
            "image/png": "[encoded data removed]",
            "text/plain": [
              "<Figure size 432x288 with 1 Axes>"
            ]
          },
          "metadata": {
            "tags": [],
            "needs_background": "light"
          }
        }
      ]
    },
    {
      "cell_type": "markdown",
      "metadata": {
        "id": "FL3-3ZVvW7je"
      },
      "source": [
        "### Using Mutual Information Score"
      ]
    },
    {
      "cell_type": "code",
      "metadata": {
        "id": "qabcaWDUW7je",
        "outputId": "d3816b65-be80-47ca-b2e7-b1e4864f2ec1"
      },
      "source": [
        "mf = SelectKBest(score_func=mutual_info_classif, k='all')\n",
        "mf.fit(dataCatEncoded, y)\n",
        "X_mf = mf.transform(dataCatEncoded)"
      ],
      "execution_count": null,
      "outputs": [
        {
          "output_type": "stream",
          "text": [
            "/Users/ag78400/opt/anaconda3/envs/AI_for_Healthcare/lib/python3.7/site-packages/sklearn/utils/validation.py:63: DataConversionWarning: A column-vector y was passed when a 1d array was expected. Please change the shape of y to (n_samples, ), for example using ravel().\n",
            "  return f(*args, **kwargs)\n"
          ],
          "name": "stderr"
        }
      ]
    },
    {
      "cell_type": "code",
      "metadata": {
        "id": "JeRFS-EbW7je",
        "outputId": "d35a37d1-d0e1-4608-f7ce-29edbb0a43fa"
      },
      "source": [
        "for i in range(len(mf.scores_)):\n",
        "\tprint('Feature %d: %f' % (i, mf.scores_[i]))\n",
        "# plot the scores\n",
        "pyplot.bar([i for i in range(len(mf.scores_))], mf.scores_)\n",
        "pyplot.show()"
      ],
      "execution_count": null,
      "outputs": [
        {
          "output_type": "stream",
          "text": [
            "Feature 0: 0.002229\n",
            "Feature 1: 0.006966\n",
            "Feature 2: 0.004439\n",
            "Feature 3: 0.000959\n",
            "Feature 4: 0.000000\n"
          ],
          "name": "stdout"
        },
        {
          "output_type": "display_data",
          "data": {
            "image/png": "[encoded data removed]",
            "text/plain": [
              "<Figure size 432x288 with 1 Axes>"
            ]
          },
          "metadata": {
            "tags": [],
            "needs_background": "light"
          }
        }
      ]
    },
    {
      "cell_type": "markdown",
      "metadata": {
        "id": "fohF_KmJW7je"
      },
      "source": [
        "## For Numerical Columns and Target Variable"
      ]
    },
    {
      "cell_type": "markdown",
      "metadata": {
        "id": "FQI3r_daW7jf"
      },
      "source": [
        "### Using ANOVA scores"
      ]
    },
    {
      "cell_type": "code",
      "metadata": {
        "id": "jbJH8J8lW7jf"
      },
      "source": [
        "from sklearn.feature_selection import f_classif"
      ],
      "execution_count": null,
      "outputs": []
    },
    {
      "cell_type": "code",
      "metadata": {
        "id": "7513sgodW7jf",
        "outputId": "cec70fb4-42b0-4aca-a09f-fc1d11459432"
      },
      "source": [
        "fs = SelectKBest(score_func=f_classif, k='all')\n",
        "fs.fit(dataNum, y)\n",
        "X_fs = fs.transform(dataNum)\n",
        "\n",
        "for i in range(len(fs.scores_)):\n",
        "\tprint('Feature %d: %f' % (i, fs.scores_[i]))\n",
        "# plot the scores\n",
        "pyplot.bar([i for i in range(len(fs.scores_))], fs.scores_)\n",
        "pyplot.show()"
      ],
      "execution_count": null,
      "outputs": [
        {
          "output_type": "stream",
          "text": [
            "Feature 0: 0.208459\n",
            "Feature 1: 326.916568\n",
            "Feature 2: 84.953542\n",
            "Feature 3: 94.698406\n",
            "Feature 4: 90.503870\n",
            "Feature 5: 7.759776\n"
          ],
          "name": "stdout"
        },
        {
          "output_type": "stream",
          "text": [
            "/Users/ag78400/opt/anaconda3/envs/AI_for_Healthcare/lib/python3.7/site-packages/sklearn/utils/validation.py:63: DataConversionWarning: A column-vector y was passed when a 1d array was expected. Please change the shape of y to (n_samples, ), for example using ravel().\n",
            "  return f(*args, **kwargs)\n"
          ],
          "name": "stderr"
        },
        {
          "output_type": "display_data",
          "data": {
            "image/png": "[encoded data removed]",
            "text/plain": [
              "<Figure size 432x288 with 1 Axes>"
            ]
          },
          "metadata": {
            "tags": [],
            "needs_background": "light"
          }
        }
      ]
    },
    {
      "cell_type": "markdown",
      "metadata": {
        "id": "xXtTv-D9W7jg"
      },
      "source": [
        "### Using Kendall Correlation"
      ]
    },
    {
      "cell_type": "code",
      "metadata": {
        "id": "EdkZPrm9W7jg",
        "outputId": "a798b459-d267-402e-d45e-3ca5f4bb3a36"
      },
      "source": [
        "pd.concat([dataNum, y], axis=1).corr(method=\"kendall\").style.background_gradient(cmap ='viridis')\\\n",
        "        .set_properties(**{'font-size': '20px'})"
      ],
      "execution_count": null,
      "outputs": [
        {
          "output_type": "execute_result",
          "data": {
            "text/html": [
              "<style  type=\"text/css\" >\n",
              "#T_eeaa0_row0_col0,#T_eeaa0_row1_col1,#T_eeaa0_row2_col2,#T_eeaa0_row3_col3,#T_eeaa0_row4_col4,#T_eeaa0_row5_col5,#T_eeaa0_row6_col6{\n",
              "            background-color:  #fde725;\n",
              "            color:  #000000;\n",
              "            font-size:  20px;\n",
              "        }#T_eeaa0_row0_col1,#T_eeaa0_row0_col2,#T_eeaa0_row0_col3,#T_eeaa0_row0_col4,#T_eeaa0_row0_col5,#T_eeaa0_row0_col6,#T_eeaa0_row4_col0{\n",
              "            background-color:  #440154;\n",
              "            color:  #f1f1f1;\n",
              "            font-size:  20px;\n",
              "        }#T_eeaa0_row1_col0,#T_eeaa0_row2_col0,#T_eeaa0_row5_col0,#T_eeaa0_row6_col0{\n",
              "            background-color:  #470e61;\n",
              "            color:  #f1f1f1;\n",
              "            font-size:  20px;\n",
              "        }#T_eeaa0_row1_col2,#T_eeaa0_row2_col1{\n",
              "            background-color:  #3e4c8a;\n",
              "            color:  #f1f1f1;\n",
              "            font-size:  20px;\n",
              "        }#T_eeaa0_row1_col3,#T_eeaa0_row3_col1{\n",
              "            background-color:  #3e4989;\n",
              "            color:  #f1f1f1;\n",
              "            font-size:  20px;\n",
              "        }#T_eeaa0_row1_col4,#T_eeaa0_row6_col2{\n",
              "            background-color:  #472d7b;\n",
              "            color:  #f1f1f1;\n",
              "            font-size:  20px;\n",
              "        }#T_eeaa0_row1_col5,#T_eeaa0_row5_col1{\n",
              "            background-color:  #3c508b;\n",
              "            color:  #f1f1f1;\n",
              "            font-size:  20px;\n",
              "        }#T_eeaa0_row1_col6{\n",
              "            background-color:  #414487;\n",
              "            color:  #f1f1f1;\n",
              "            font-size:  20px;\n",
              "        }#T_eeaa0_row2_col3,#T_eeaa0_row3_col2,#T_eeaa0_row5_col4{\n",
              "            background-color:  #482677;\n",
              "            color:  #f1f1f1;\n",
              "            font-size:  20px;\n",
              "        }#T_eeaa0_row2_col4,#T_eeaa0_row2_col6{\n",
              "            background-color:  #472c7a;\n",
              "            color:  #f1f1f1;\n",
              "            font-size:  20px;\n",
              "        }#T_eeaa0_row2_col5,#T_eeaa0_row3_col6,#T_eeaa0_row5_col2{\n",
              "            background-color:  #472e7c;\n",
              "            color:  #f1f1f1;\n",
              "            font-size:  20px;\n",
              "        }#T_eeaa0_row3_col0{\n",
              "            background-color:  #470d60;\n",
              "            color:  #f1f1f1;\n",
              "            font-size:  20px;\n",
              "        }#T_eeaa0_row3_col4{\n",
              "            background-color:  #472a7a;\n",
              "            color:  #f1f1f1;\n",
              "            font-size:  20px;\n",
              "        }#T_eeaa0_row3_col5{\n",
              "            background-color:  #471365;\n",
              "            color:  #f1f1f1;\n",
              "            font-size:  20px;\n",
              "        }#T_eeaa0_row4_col1{\n",
              "            background-color:  #482374;\n",
              "            color:  #f1f1f1;\n",
              "            font-size:  20px;\n",
              "        }#T_eeaa0_row4_col2{\n",
              "            background-color:  #482173;\n",
              "            color:  #f1f1f1;\n",
              "            font-size:  20px;\n",
              "        }#T_eeaa0_row4_col3{\n",
              "            background-color:  #482071;\n",
              "            color:  #f1f1f1;\n",
              "            font-size:  20px;\n",
              "        }#T_eeaa0_row4_col5{\n",
              "            background-color:  #481b6d;\n",
              "            color:  #f1f1f1;\n",
              "            font-size:  20px;\n",
              "        }#T_eeaa0_row4_col6{\n",
              "            background-color:  #481769;\n",
              "            color:  #f1f1f1;\n",
              "            font-size:  20px;\n",
              "        }#T_eeaa0_row5_col3{\n",
              "            background-color:  #481467;\n",
              "            color:  #f1f1f1;\n",
              "            font-size:  20px;\n",
              "        }#T_eeaa0_row5_col6,#T_eeaa0_row6_col5{\n",
              "            background-color:  #471063;\n",
              "            color:  #f1f1f1;\n",
              "            font-size:  20px;\n",
              "        }#T_eeaa0_row6_col1{\n",
              "            background-color:  #404588;\n",
              "            color:  #f1f1f1;\n",
              "            font-size:  20px;\n",
              "        }#T_eeaa0_row6_col3{\n",
              "            background-color:  #472f7d;\n",
              "            color:  #f1f1f1;\n",
              "            font-size:  20px;\n",
              "        }#T_eeaa0_row6_col4{\n",
              "            background-color:  #482475;\n",
              "            color:  #f1f1f1;\n",
              "            font-size:  20px;\n",
              "        }</style><table id=\"T_eeaa0_\" ><thead>    <tr>        <th class=\"blank level0\" ></th>        <th class=\"col_heading level0 col0\" >id</th>        <th class=\"col_heading level0 col1\" >age</th>        <th class=\"col_heading level0 col2\" >hypertension</th>        <th class=\"col_heading level0 col3\" >heart_disease</th>        <th class=\"col_heading level0 col4\" >avg_glucose_level</th>        <th class=\"col_heading level0 col5\" >bmi</th>        <th class=\"col_heading level0 col6\" >stroke</th>    </tr></thead><tbody>\n",
              "                <tr>\n",
              "                        <th id=\"T_eeaa0_level0_row0\" class=\"row_heading level0 row0\" >id</th>\n",
              "                        <td id=\"T_eeaa0_row0_col0\" class=\"data row0 col0\" >1.000000</td>\n",
              "                        <td id=\"T_eeaa0_row0_col1\" class=\"data row0 col1\" >0.002365</td>\n",
              "                        <td id=\"T_eeaa0_row0_col2\" class=\"data row0 col2\" >0.002901</td>\n",
              "                        <td id=\"T_eeaa0_row0_col3\" class=\"data row0 col3\" >-0.000984</td>\n",
              "                        <td id=\"T_eeaa0_row0_col4\" class=\"data row0 col4\" >-0.035023</td>\n",
              "                        <td id=\"T_eeaa0_row0_col5\" class=\"data row0 col5\" >0.002876</td>\n",
              "                        <td id=\"T_eeaa0_row0_col6\" class=\"data row0 col6\" >0.005307</td>\n",
              "            </tr>\n",
              "            <tr>\n",
              "                        <th id=\"T_eeaa0_level0_row1\" class=\"row_heading level0 row1\" >age</th>\n",
              "                        <td id=\"T_eeaa0_row1_col0\" class=\"data row1 col0\" >0.002365</td>\n",
              "                        <td id=\"T_eeaa0_row1_col1\" class=\"data row1 col1\" >1.000000</td>\n",
              "                        <td id=\"T_eeaa0_row1_col2\" class=\"data row1 col2\" >0.230582</td>\n",
              "                        <td id=\"T_eeaa0_row1_col3\" class=\"data row1 col3\" >0.221528</td>\n",
              "                        <td id=\"T_eeaa0_row1_col4\" class=\"data row1 col4\" >0.097858</td>\n",
              "                        <td id=\"T_eeaa0_row1_col5\" class=\"data row1 col5\" >0.246469</td>\n",
              "                        <td id=\"T_eeaa0_row1_col6\" class=\"data row1 col6\" >0.205017</td>\n",
              "            </tr>\n",
              "            <tr>\n",
              "                        <th id=\"T_eeaa0_level0_row2\" class=\"row_heading level0 row2\" >hypertension</th>\n",
              "                        <td id=\"T_eeaa0_row2_col0\" class=\"data row2 col0\" >0.002901</td>\n",
              "                        <td id=\"T_eeaa0_row2_col1\" class=\"data row2 col1\" >0.230582</td>\n",
              "                        <td id=\"T_eeaa0_row2_col2\" class=\"data row2 col2\" >1.000000</td>\n",
              "                        <td id=\"T_eeaa0_row2_col3\" class=\"data row2 col3\" >0.108306</td>\n",
              "                        <td id=\"T_eeaa0_row2_col4\" class=\"data row2 col4\" >0.093128</td>\n",
              "                        <td id=\"T_eeaa0_row2_col5\" class=\"data row2 col5\" >0.132981</td>\n",
              "                        <td id=\"T_eeaa0_row2_col6\" class=\"data row2 col6\" >0.127904</td>\n",
              "            </tr>\n",
              "            <tr>\n",
              "                        <th id=\"T_eeaa0_level0_row3\" class=\"row_heading level0 row3\" >heart_disease</th>\n",
              "                        <td id=\"T_eeaa0_row3_col0\" class=\"data row3 col0\" >-0.000984</td>\n",
              "                        <td id=\"T_eeaa0_row3_col1\" class=\"data row3 col1\" >0.221528</td>\n",
              "                        <td id=\"T_eeaa0_row3_col2\" class=\"data row3 col2\" >0.108306</td>\n",
              "                        <td id=\"T_eeaa0_row3_col3\" class=\"data row3 col3\" >1.000000</td>\n",
              "                        <td id=\"T_eeaa0_row3_col4\" class=\"data row3 col4\" >0.086856</td>\n",
              "                        <td id=\"T_eeaa0_row3_col5\" class=\"data row3 col5\" >0.053492</td>\n",
              "                        <td id=\"T_eeaa0_row3_col6\" class=\"data row3 col6\" >0.134914</td>\n",
              "            </tr>\n",
              "            <tr>\n",
              "                        <th id=\"T_eeaa0_level0_row4\" class=\"row_heading level0 row4\" >avg_glucose_level</th>\n",
              "                        <td id=\"T_eeaa0_row4_col0\" class=\"data row4 col0\" >-0.035023</td>\n",
              "                        <td id=\"T_eeaa0_row4_col1\" class=\"data row4 col1\" >0.097858</td>\n",
              "                        <td id=\"T_eeaa0_row4_col2\" class=\"data row4 col2\" >0.093128</td>\n",
              "                        <td id=\"T_eeaa0_row4_col3\" class=\"data row4 col3\" >0.086856</td>\n",
              "                        <td id=\"T_eeaa0_row4_col4\" class=\"data row4 col4\" >1.000000</td>\n",
              "                        <td id=\"T_eeaa0_row4_col5\" class=\"data row4 col5\" >0.076055</td>\n",
              "                        <td id=\"T_eeaa0_row4_col6\" class=\"data row4 col6\" >0.067404</td>\n",
              "            </tr>\n",
              "            <tr>\n",
              "                        <th id=\"T_eeaa0_level0_row5\" class=\"row_heading level0 row5\" >bmi</th>\n",
              "                        <td id=\"T_eeaa0_row5_col0\" class=\"data row5 col0\" >0.002876</td>\n",
              "                        <td id=\"T_eeaa0_row5_col1\" class=\"data row5 col1\" >0.246469</td>\n",
              "                        <td id=\"T_eeaa0_row5_col2\" class=\"data row5 col2\" >0.132981</td>\n",
              "                        <td id=\"T_eeaa0_row5_col3\" class=\"data row5 col3\" >0.053492</td>\n",
              "                        <td id=\"T_eeaa0_row5_col4\" class=\"data row5 col4\" >0.076055</td>\n",
              "                        <td id=\"T_eeaa0_row5_col5\" class=\"data row5 col5\" >1.000000</td>\n",
              "                        <td id=\"T_eeaa0_row5_col6\" class=\"data row5 col6\" >0.045039</td>\n",
              "            </tr>\n",
              "            <tr>\n",
              "                        <th id=\"T_eeaa0_level0_row6\" class=\"row_heading level0 row6\" >stroke</th>\n",
              "                        <td id=\"T_eeaa0_row6_col0\" class=\"data row6 col0\" >0.005307</td>\n",
              "                        <td id=\"T_eeaa0_row6_col1\" class=\"data row6 col1\" >0.205017</td>\n",
              "                        <td id=\"T_eeaa0_row6_col2\" class=\"data row6 col2\" >0.127904</td>\n",
              "                        <td id=\"T_eeaa0_row6_col3\" class=\"data row6 col3\" >0.134914</td>\n",
              "                        <td id=\"T_eeaa0_row6_col4\" class=\"data row6 col4\" >0.067404</td>\n",
              "                        <td id=\"T_eeaa0_row6_col5\" class=\"data row6 col5\" >0.045039</td>\n",
              "                        <td id=\"T_eeaa0_row6_col6\" class=\"data row6 col6\" >1.000000</td>\n",
              "            </tr>\n",
              "    </tbody></table>"
            ],
            "text/plain": [
              "<pandas.io.formats.style.Styler at 0x7fdb130bcb50>"
            ]
          },
          "metadata": {
            "tags": []
          },
          "execution_count": 46
        }
      ]
    },
    {
      "cell_type": "markdown",
      "metadata": {
        "id": "tpmoYuXwW7jg"
      },
      "source": [
        "# Feature Importance for Regression Analysis"
      ]
    },
    {
      "cell_type": "code",
      "metadata": {
        "id": "AjV2m-WuW7jg"
      },
      "source": [
        "X = data.drop(['avg_glucose_level'], axis=1)\n",
        "y = data[['avg_glucose_level']]\n",
        "\n",
        "# Division into Categorical and Numerical Columns\n",
        "\n",
        "dataCat = X.select_dtypes(object)\n",
        "dataNum = X.select_dtypes(np.number)\n",
        "\n",
        "from sklearn.preprocessing import LabelEncoder\n",
        "le = LabelEncoder()\n",
        "\n",
        "dataCatEncoded = dataCat.apply(le.fit_transform)"
      ],
      "execution_count": null,
      "outputs": []
    },
    {
      "cell_type": "code",
      "metadata": {
        "id": "CQjMFV1MW7jg"
      },
      "source": [
        "dataCatEncoded = pd.concat([dataCatEncoded, dataNum[['hypertension', 'heart_disease', 'stroke']]], axis=1)"
      ],
      "execution_count": null,
      "outputs": []
    },
    {
      "cell_type": "code",
      "metadata": {
        "id": "8uOxvNClW7jg"
      },
      "source": [
        "dataNum = dataNum.drop(['hypertension', 'heart_disease', 'stroke'], axis=1)"
      ],
      "execution_count": null,
      "outputs": []
    },
    {
      "cell_type": "markdown",
      "metadata": {
        "id": "VECJrZMAW7jh"
      },
      "source": [
        "## For Categorical Columns and Target Variable"
      ]
    },
    {
      "cell_type": "markdown",
      "metadata": {
        "id": "aVRQRJawW7jh"
      },
      "source": [
        "### Using ANOVA scores"
      ]
    },
    {
      "cell_type": "code",
      "metadata": {
        "id": "uCTDT-ezW7jh"
      },
      "source": [
        "from sklearn.feature_selection import f_classif"
      ],
      "execution_count": null,
      "outputs": []
    },
    {
      "cell_type": "code",
      "metadata": {
        "id": "vAP01CmEW7jh",
        "outputId": "9f9f5c82-7d64-40cb-c64e-e76ebf99bb4d"
      },
      "source": [
        "fs = SelectKBest(score_func=f_classif, k='all')\n",
        "fs.fit(dataCatEncoded, y)\n",
        "X_fs = fs.transform(dataCatEncoded)\n",
        "\n",
        "for i in range(len(fs.scores_)):\n",
        "\tprint('Feature %d: %f' % (i, fs.scores_[i]))\n",
        "# plot the scores\n",
        "pyplot.bar([i for i in range(len(fs.scores_))], fs.scores_)\n",
        "pyplot.show()"
      ],
      "execution_count": null,
      "outputs": [
        {
          "output_type": "stream",
          "text": [
            "/Users/ag78400/opt/anaconda3/envs/AI_for_Healthcare/lib/python3.7/site-packages/sklearn/utils/validation.py:63: DataConversionWarning: A column-vector y was passed when a 1d array was expected. Please change the shape of y to (n_samples, ), for example using ravel().\n",
            "  return f(*args, **kwargs)\n"
          ],
          "name": "stderr"
        },
        {
          "output_type": "stream",
          "text": [
            "Feature 0: 1.003531\n",
            "Feature 1: 0.954851\n",
            "Feature 2: 0.888354\n",
            "Feature 3: 0.952602\n",
            "Feature 4: 1.011069\n",
            "Feature 5: 1.282696\n",
            "Feature 6: 1.262192\n",
            "Feature 7: 1.263835\n"
          ],
          "name": "stdout"
        },
        {
          "output_type": "display_data",
          "data": {
            "image/png": "[encoded data removed]",
            "text/plain": [
              "<Figure size 432x288 with 1 Axes>"
            ]
          },
          "metadata": {
            "tags": [],
            "needs_background": "light"
          }
        }
      ]
    },
    {
      "cell_type": "markdown",
      "metadata": {
        "id": "9LTZEqT2W7jh"
      },
      "source": [
        "### Using Kendall Correlation"
      ]
    },
    {
      "cell_type": "code",
      "metadata": {
        "id": "Uh5D6We6W7jh",
        "outputId": "3aa4ae3a-f89a-4542-9618-caaf00963fcb"
      },
      "source": [
        "pd.concat([dataCatEncoded, y], axis=1).corr(method=\"kendall\").style.background_gradient(cmap ='viridis')\\\n",
        "        .set_properties(**{'font-size': '20px'})"
      ],
      "execution_count": null,
      "outputs": [
        {
          "output_type": "execute_result",
          "data": {
            "text/html": [
              "<style  type=\"text/css\" >\n",
              "#T_0a0ec_row0_col0,#T_0a0ec_row1_col1,#T_0a0ec_row2_col2,#T_0a0ec_row3_col3,#T_0a0ec_row4_col4,#T_0a0ec_row5_col5,#T_0a0ec_row6_col6,#T_0a0ec_row7_col7,#T_0a0ec_row8_col8{\n",
              "            background-color:  #fde725;\n",
              "            color:  #000000;\n",
              "            font-size:  20px;\n",
              "        }#T_0a0ec_row0_col1,#T_0a0ec_row5_col2{\n",
              "            background-color:  #404688;\n",
              "            color:  #f1f1f1;\n",
              "            font-size:  20px;\n",
              "        }#T_0a0ec_row0_col2{\n",
              "            background-color:  #38588c;\n",
              "            color:  #f1f1f1;\n",
              "            font-size:  20px;\n",
              "        }#T_0a0ec_row0_col3,#T_0a0ec_row2_col3,#T_0a0ec_row3_col8{\n",
              "            background-color:  #440256;\n",
              "            color:  #f1f1f1;\n",
              "            font-size:  20px;\n",
              "        }#T_0a0ec_row0_col4{\n",
              "            background-color:  #453882;\n",
              "            color:  #f1f1f1;\n",
              "            font-size:  20px;\n",
              "        }#T_0a0ec_row0_col5{\n",
              "            background-color:  #481467;\n",
              "            color:  #f1f1f1;\n",
              "            font-size:  20px;\n",
              "        }#T_0a0ec_row0_col6,#T_0a0ec_row6_col8,#T_0a0ec_row8_col6{\n",
              "            background-color:  #482475;\n",
              "            color:  #f1f1f1;\n",
              "            font-size:  20px;\n",
              "        }#T_0a0ec_row0_col7,#T_0a0ec_row4_col2{\n",
              "            background-color:  #470d60;\n",
              "            color:  #f1f1f1;\n",
              "            font-size:  20px;\n",
              "        }#T_0a0ec_row0_col8,#T_0a0ec_row4_col6{\n",
              "            background-color:  #481668;\n",
              "            color:  #f1f1f1;\n",
              "            font-size:  20px;\n",
              "        }#T_0a0ec_row1_col0,#T_0a0ec_row7_col3{\n",
              "            background-color:  #460a5d;\n",
              "            color:  #f1f1f1;\n",
              "            font-size:  20px;\n",
              "        }#T_0a0ec_row1_col2,#T_0a0ec_row2_col1,#T_0a0ec_row2_col4,#T_0a0ec_row2_col5,#T_0a0ec_row2_col6,#T_0a0ec_row2_col7,#T_0a0ec_row2_col8,#T_0a0ec_row4_col0,#T_0a0ec_row5_col3,#T_0a0ec_row8_col3{\n",
              "            background-color:  #440154;\n",
              "            color:  #f1f1f1;\n",
              "            font-size:  20px;\n",
              "        }#T_0a0ec_row1_col3,#T_0a0ec_row3_col6,#T_0a0ec_row4_col3{\n",
              "            background-color:  #46075a;\n",
              "            color:  #f1f1f1;\n",
              "            font-size:  20px;\n",
              "        }#T_0a0ec_row1_col4{\n",
              "            background-color:  #2a768e;\n",
              "            color:  #f1f1f1;\n",
              "            font-size:  20px;\n",
              "        }#T_0a0ec_row1_col5{\n",
              "            background-color:  #424086;\n",
              "            color:  #f1f1f1;\n",
              "            font-size:  20px;\n",
              "        }#T_0a0ec_row1_col6,#T_0a0ec_row1_col7,#T_0a0ec_row4_col5{\n",
              "            background-color:  #472d7b;\n",
              "            color:  #f1f1f1;\n",
              "            font-size:  20px;\n",
              "        }#T_0a0ec_row1_col8{\n",
              "            background-color:  #482374;\n",
              "            color:  #f1f1f1;\n",
              "            font-size:  20px;\n",
              "        }#T_0a0ec_row2_col0{\n",
              "            background-color:  #482576;\n",
              "            color:  #f1f1f1;\n",
              "            font-size:  20px;\n",
              "        }#T_0a0ec_row3_col0{\n",
              "            background-color:  #471365;\n",
              "            color:  #f1f1f1;\n",
              "            font-size:  20px;\n",
              "        }#T_0a0ec_row3_col1{\n",
              "            background-color:  #3d4e8a;\n",
              "            color:  #f1f1f1;\n",
              "            font-size:  20px;\n",
              "        }#T_0a0ec_row3_col2,#T_0a0ec_row7_col4,#T_0a0ec_row8_col4{\n",
              "            background-color:  #3e4c8a;\n",
              "            color:  #f1f1f1;\n",
              "            font-size:  20px;\n",
              "        }#T_0a0ec_row3_col4,#T_0a0ec_row7_col2{\n",
              "            background-color:  #3f4788;\n",
              "            color:  #f1f1f1;\n",
              "            font-size:  20px;\n",
              "        }#T_0a0ec_row3_col5{\n",
              "            background-color:  #46085c;\n",
              "            color:  #f1f1f1;\n",
              "            font-size:  20px;\n",
              "        }#T_0a0ec_row3_col7{\n",
              "            background-color:  #470e61;\n",
              "            color:  #f1f1f1;\n",
              "            font-size:  20px;\n",
              "        }#T_0a0ec_row4_col1{\n",
              "            background-color:  #297b8e;\n",
              "            color:  #000000;\n",
              "            font-size:  20px;\n",
              "        }#T_0a0ec_row4_col7{\n",
              "            background-color:  #471164;\n",
              "            color:  #f1f1f1;\n",
              "            font-size:  20px;\n",
              "        }#T_0a0ec_row4_col8{\n",
              "            background-color:  #471063;\n",
              "            color:  #f1f1f1;\n",
              "            font-size:  20px;\n",
              "        }#T_0a0ec_row5_col0{\n",
              "            background-color:  #481c6e;\n",
              "            color:  #f1f1f1;\n",
              "            font-size:  20px;\n",
              "        }#T_0a0ec_row5_col1{\n",
              "            background-color:  #2e6e8e;\n",
              "            color:  #f1f1f1;\n",
              "            font-size:  20px;\n",
              "        }#T_0a0ec_row5_col4{\n",
              "            background-color:  #365c8d;\n",
              "            color:  #f1f1f1;\n",
              "            font-size:  20px;\n",
              "        }#T_0a0ec_row5_col6,#T_0a0ec_row8_col5{\n",
              "            background-color:  #472c7a;\n",
              "            color:  #f1f1f1;\n",
              "            font-size:  20px;\n",
              "        }#T_0a0ec_row5_col7,#T_0a0ec_row7_col6{\n",
              "            background-color:  #46337f;\n",
              "            color:  #f1f1f1;\n",
              "            font-size:  20px;\n",
              "        }#T_0a0ec_row5_col8{\n",
              "            background-color:  #482677;\n",
              "            color:  #f1f1f1;\n",
              "            font-size:  20px;\n",
              "        }#T_0a0ec_row6_col0,#T_0a0ec_row6_col5{\n",
              "            background-color:  #472f7d;\n",
              "            color:  #f1f1f1;\n",
              "            font-size:  20px;\n",
              "        }#T_0a0ec_row6_col1{\n",
              "            background-color:  #32658e;\n",
              "            color:  #f1f1f1;\n",
              "            font-size:  20px;\n",
              "        }#T_0a0ec_row6_col2,#T_0a0ec_row8_col2{\n",
              "            background-color:  #3e4989;\n",
              "            color:  #f1f1f1;\n",
              "            font-size:  20px;\n",
              "        }#T_0a0ec_row6_col3{\n",
              "            background-color:  #450559;\n",
              "            color:  #f1f1f1;\n",
              "            font-size:  20px;\n",
              "        }#T_0a0ec_row6_col4{\n",
              "            background-color:  #3c4f8a;\n",
              "            color:  #f1f1f1;\n",
              "            font-size:  20px;\n",
              "        }#T_0a0ec_row6_col7,#T_0a0ec_row7_col5{\n",
              "            background-color:  #453581;\n",
              "            color:  #f1f1f1;\n",
              "            font-size:  20px;\n",
              "        }#T_0a0ec_row7_col0{\n",
              "            background-color:  #48186a;\n",
              "            color:  #f1f1f1;\n",
              "            font-size:  20px;\n",
              "        }#T_0a0ec_row7_col1{\n",
              "            background-color:  #33638d;\n",
              "            color:  #f1f1f1;\n",
              "            font-size:  20px;\n",
              "        }#T_0a0ec_row7_col8{\n",
              "            background-color:  #481d6f;\n",
              "            color:  #f1f1f1;\n",
              "            font-size:  20px;\n",
              "        }#T_0a0ec_row8_col0{\n",
              "            background-color:  #482173;\n",
              "            color:  #f1f1f1;\n",
              "            font-size:  20px;\n",
              "        }#T_0a0ec_row8_col1{\n",
              "            background-color:  #355e8d;\n",
              "            color:  #f1f1f1;\n",
              "            font-size:  20px;\n",
              "        }#T_0a0ec_row8_col7{\n",
              "            background-color:  #482071;\n",
              "            color:  #f1f1f1;\n",
              "            font-size:  20px;\n",
              "        }</style><table id=\"T_0a0ec_\" ><thead>    <tr>        <th class=\"blank level0\" ></th>        <th class=\"col_heading level0 col0\" >gender</th>        <th class=\"col_heading level0 col1\" >ever_married</th>        <th class=\"col_heading level0 col2\" >work_type</th>        <th class=\"col_heading level0 col3\" >Residence_type</th>        <th class=\"col_heading level0 col4\" >smoking_status</th>        <th class=\"col_heading level0 col5\" >hypertension</th>        <th class=\"col_heading level0 col6\" >heart_disease</th>        <th class=\"col_heading level0 col7\" >stroke</th>        <th class=\"col_heading level0 col8\" >avg_glucose_level</th>    </tr></thead><tbody>\n",
              "                <tr>\n",
              "                        <th id=\"T_0a0ec_level0_row0\" class=\"row_heading level0 row0\" >gender</th>\n",
              "                        <td id=\"T_0a0ec_row0_col0\" class=\"data row0 col0\" >1.000000</td>\n",
              "                        <td id=\"T_0a0ec_row0_col1\" class=\"data row0 col1\" >-0.030699</td>\n",
              "                        <td id=\"T_0a0ec_row0_col2\" class=\"data row0 col2\" >0.050075</td>\n",
              "                        <td id=\"T_0a0ec_row0_col3\" class=\"data row0 col3\" >-0.006505</td>\n",
              "                        <td id=\"T_0a0ec_row0_col4\" class=\"data row0 col4\" >-0.057798</td>\n",
              "                        <td id=\"T_0a0ec_row0_col5\" class=\"data row0 col5\" >0.021082</td>\n",
              "                        <td id=\"T_0a0ec_row0_col6\" class=\"data row0 col6\" >0.085546</td>\n",
              "                        <td id=\"T_0a0ec_row0_col7\" class=\"data row0 col7\" >0.008986</td>\n",
              "                        <td id=\"T_0a0ec_row0_col8\" class=\"data row0 col8\" >0.040250</td>\n",
              "            </tr>\n",
              "            <tr>\n",
              "                        <th id=\"T_0a0ec_level0_row1\" class=\"row_heading level0 row1\" >ever_married</th>\n",
              "                        <td id=\"T_0a0ec_row1_col0\" class=\"data row1 col0\" >-0.030699</td>\n",
              "                        <td id=\"T_0a0ec_row1_col1\" class=\"data row1 col1\" >1.000000</td>\n",
              "                        <td id=\"T_0a0ec_row1_col2\" class=\"data row1 col2\" >-0.302642</td>\n",
              "                        <td id=\"T_0a0ec_row1_col3\" class=\"data row1 col3\" >0.006261</td>\n",
              "                        <td id=\"T_0a0ec_row1_col4\" class=\"data row1 col4\" >0.233834</td>\n",
              "                        <td id=\"T_0a0ec_row1_col5\" class=\"data row1 col5\" >0.164243</td>\n",
              "                        <td id=\"T_0a0ec_row1_col6\" class=\"data row1 col6\" >0.114644</td>\n",
              "                        <td id=\"T_0a0ec_row1_col7\" class=\"data row1 col7\" >0.108340</td>\n",
              "                        <td id=\"T_0a0ec_row1_col8\" class=\"data row1 col8\" >0.080338</td>\n",
              "            </tr>\n",
              "            <tr>\n",
              "                        <th id=\"T_0a0ec_level0_row2\" class=\"row_heading level0 row2\" >work_type</th>\n",
              "                        <td id=\"T_0a0ec_row2_col0\" class=\"data row2 col0\" >0.050075</td>\n",
              "                        <td id=\"T_0a0ec_row2_col1\" class=\"data row2 col1\" >-0.302642</td>\n",
              "                        <td id=\"T_0a0ec_row2_col2\" class=\"data row2 col2\" >1.000000</td>\n",
              "                        <td id=\"T_0a0ec_row2_col3\" class=\"data row2 col3\" >-0.003514</td>\n",
              "                        <td id=\"T_0a0ec_row2_col4\" class=\"data row2 col4\" >-0.261590</td>\n",
              "                        <td id=\"T_0a0ec_row2_col5\" class=\"data row2 col5\" >-0.032074</td>\n",
              "                        <td id=\"T_0a0ec_row2_col6\" class=\"data row2 col6\" >-0.015397</td>\n",
              "                        <td id=\"T_0a0ec_row2_col7\" class=\"data row2 col7\" >-0.023062</td>\n",
              "                        <td id=\"T_0a0ec_row2_col8\" class=\"data row2 col8\" >-0.015635</td>\n",
              "            </tr>\n",
              "            <tr>\n",
              "                        <th id=\"T_0a0ec_level0_row3\" class=\"row_heading level0 row3\" >Residence_type</th>\n",
              "                        <td id=\"T_0a0ec_row3_col0\" class=\"data row3 col0\" >-0.006505</td>\n",
              "                        <td id=\"T_0a0ec_row3_col1\" class=\"data row3 col1\" >0.006261</td>\n",
              "                        <td id=\"T_0a0ec_row3_col2\" class=\"data row3 col2\" >-0.003514</td>\n",
              "                        <td id=\"T_0a0ec_row3_col3\" class=\"data row3 col3\" >1.000000</td>\n",
              "                        <td id=\"T_0a0ec_row3_col4\" class=\"data row3 col4\" >0.007591</td>\n",
              "                        <td id=\"T_0a0ec_row3_col5\" class=\"data row3 col5\" >-0.007913</td>\n",
              "                        <td id=\"T_0a0ec_row3_col6\" class=\"data row3 col6\" >0.003092</td>\n",
              "                        <td id=\"T_0a0ec_row3_col7\" class=\"data row3 col7\" >0.015458</td>\n",
              "                        <td id=\"T_0a0ec_row3_col8\" class=\"data row3 col8\" >-0.010952</td>\n",
              "            </tr>\n",
              "            <tr>\n",
              "                        <th id=\"T_0a0ec_level0_row4\" class=\"row_heading level0 row4\" >smoking_status</th>\n",
              "                        <td id=\"T_0a0ec_row4_col0\" class=\"data row4 col0\" >-0.057798</td>\n",
              "                        <td id=\"T_0a0ec_row4_col1\" class=\"data row4 col1\" >0.233834</td>\n",
              "                        <td id=\"T_0a0ec_row4_col2\" class=\"data row4 col2\" >-0.261590</td>\n",
              "                        <td id=\"T_0a0ec_row4_col3\" class=\"data row4 col3\" >0.007591</td>\n",
              "                        <td id=\"T_0a0ec_row4_col4\" class=\"data row4 col4\" >1.000000</td>\n",
              "                        <td id=\"T_0a0ec_row4_col5\" class=\"data row4 col5\" >0.100182</td>\n",
              "                        <td id=\"T_0a0ec_row4_col6\" class=\"data row4 col6\" >0.043118</td>\n",
              "                        <td id=\"T_0a0ec_row4_col7\" class=\"data row4 col7\" >0.024315</td>\n",
              "                        <td id=\"T_0a0ec_row4_col8\" class=\"data row4 col8\" >0.027986</td>\n",
              "            </tr>\n",
              "            <tr>\n",
              "                        <th id=\"T_0a0ec_level0_row5\" class=\"row_heading level0 row5\" >hypertension</th>\n",
              "                        <td id=\"T_0a0ec_row5_col0\" class=\"data row5 col0\" >0.021082</td>\n",
              "                        <td id=\"T_0a0ec_row5_col1\" class=\"data row5 col1\" >0.164243</td>\n",
              "                        <td id=\"T_0a0ec_row5_col2\" class=\"data row5 col2\" >-0.032074</td>\n",
              "                        <td id=\"T_0a0ec_row5_col3\" class=\"data row5 col3\" >-0.007913</td>\n",
              "                        <td id=\"T_0a0ec_row5_col4\" class=\"data row5 col4\" >0.100182</td>\n",
              "                        <td id=\"T_0a0ec_row5_col5\" class=\"data row5 col5\" >1.000000</td>\n",
              "                        <td id=\"T_0a0ec_row5_col6\" class=\"data row5 col6\" >0.108306</td>\n",
              "                        <td id=\"T_0a0ec_row5_col7\" class=\"data row5 col7\" >0.127904</td>\n",
              "                        <td id=\"T_0a0ec_row5_col8\" class=\"data row5 col8\" >0.093128</td>\n",
              "            </tr>\n",
              "            <tr>\n",
              "                        <th id=\"T_0a0ec_level0_row6\" class=\"row_heading level0 row6\" >heart_disease</th>\n",
              "                        <td id=\"T_0a0ec_row6_col0\" class=\"data row6 col0\" >0.085546</td>\n",
              "                        <td id=\"T_0a0ec_row6_col1\" class=\"data row6 col1\" >0.114644</td>\n",
              "                        <td id=\"T_0a0ec_row6_col2\" class=\"data row6 col2\" >-0.015397</td>\n",
              "                        <td id=\"T_0a0ec_row6_col3\" class=\"data row6 col3\" >0.003092</td>\n",
              "                        <td id=\"T_0a0ec_row6_col4\" class=\"data row6 col4\" >0.043118</td>\n",
              "                        <td id=\"T_0a0ec_row6_col5\" class=\"data row6 col5\" >0.108306</td>\n",
              "                        <td id=\"T_0a0ec_row6_col6\" class=\"data row6 col6\" >1.000000</td>\n",
              "                        <td id=\"T_0a0ec_row6_col7\" class=\"data row6 col7\" >0.134914</td>\n",
              "                        <td id=\"T_0a0ec_row6_col8\" class=\"data row6 col8\" >0.086856</td>\n",
              "            </tr>\n",
              "            <tr>\n",
              "                        <th id=\"T_0a0ec_level0_row7\" class=\"row_heading level0 row7\" >stroke</th>\n",
              "                        <td id=\"T_0a0ec_row7_col0\" class=\"data row7 col0\" >0.008986</td>\n",
              "                        <td id=\"T_0a0ec_row7_col1\" class=\"data row7 col1\" >0.108340</td>\n",
              "                        <td id=\"T_0a0ec_row7_col2\" class=\"data row7 col2\" >-0.023062</td>\n",
              "                        <td id=\"T_0a0ec_row7_col3\" class=\"data row7 col3\" >0.015458</td>\n",
              "                        <td id=\"T_0a0ec_row7_col4\" class=\"data row7 col4\" >0.024315</td>\n",
              "                        <td id=\"T_0a0ec_row7_col5\" class=\"data row7 col5\" >0.127904</td>\n",
              "                        <td id=\"T_0a0ec_row7_col6\" class=\"data row7 col6\" >0.134914</td>\n",
              "                        <td id=\"T_0a0ec_row7_col7\" class=\"data row7 col7\" >1.000000</td>\n",
              "                        <td id=\"T_0a0ec_row7_col8\" class=\"data row7 col8\" >0.067404</td>\n",
              "            </tr>\n",
              "            <tr>\n",
              "                        <th id=\"T_0a0ec_level0_row8\" class=\"row_heading level0 row8\" >avg_glucose_level</th>\n",
              "                        <td id=\"T_0a0ec_row8_col0\" class=\"data row8 col0\" >0.040250</td>\n",
              "                        <td id=\"T_0a0ec_row8_col1\" class=\"data row8 col1\" >0.080338</td>\n",
              "                        <td id=\"T_0a0ec_row8_col2\" class=\"data row8 col2\" >-0.015635</td>\n",
              "                        <td id=\"T_0a0ec_row8_col3\" class=\"data row8 col3\" >-0.010952</td>\n",
              "                        <td id=\"T_0a0ec_row8_col4\" class=\"data row8 col4\" >0.027986</td>\n",
              "                        <td id=\"T_0a0ec_row8_col5\" class=\"data row8 col5\" >0.093128</td>\n",
              "                        <td id=\"T_0a0ec_row8_col6\" class=\"data row8 col6\" >0.086856</td>\n",
              "                        <td id=\"T_0a0ec_row8_col7\" class=\"data row8 col7\" >0.067404</td>\n",
              "                        <td id=\"T_0a0ec_row8_col8\" class=\"data row8 col8\" >1.000000</td>\n",
              "            </tr>\n",
              "    </tbody></table>"
            ],
            "text/plain": [
              "<pandas.io.formats.style.Styler at 0x7fdb1145c890>"
            ]
          },
          "metadata": {
            "tags": []
          },
          "execution_count": 24
        }
      ]
    },
    {
      "cell_type": "markdown",
      "metadata": {
        "id": "1hjTDJohW7ji"
      },
      "source": [
        "## For Numerical Columns and Target Variable"
      ]
    },
    {
      "cell_type": "markdown",
      "metadata": {
        "id": "AX4ItCOMW7ji"
      },
      "source": [
        "### Using Pearson Correlation"
      ]
    },
    {
      "cell_type": "code",
      "metadata": {
        "id": "D2N_BTXbW7ji",
        "outputId": "4d050f79-83a0-4244-d02e-97ec74e324a8"
      },
      "source": [
        "pd.concat([dataCatEncoded, y], axis=1).corr(method=\"pearson\").style.background_gradient(cmap ='viridis')\\\n",
        "        .set_properties(**{'font-size': '20px'})"
      ],
      "execution_count": null,
      "outputs": [
        {
          "output_type": "execute_result",
          "data": {
            "text/html": [
              "<style  type=\"text/css\" >\n",
              "#T_123fa_row0_col0,#T_123fa_row1_col1,#T_123fa_row2_col2,#T_123fa_row3_col3,#T_123fa_row4_col4,#T_123fa_row5_col5,#T_123fa_row6_col6,#T_123fa_row7_col7,#T_123fa_row8_col8{\n",
              "            background-color:  #fde725;\n",
              "            color:  #000000;\n",
              "            font-size:  20px;\n",
              "        }#T_123fa_row0_col1,#T_123fa_row7_col2{\n",
              "            background-color:  #3d4e8a;\n",
              "            color:  #f1f1f1;\n",
              "            font-size:  20px;\n",
              "        }#T_123fa_row0_col2{\n",
              "            background-color:  #34608d;\n",
              "            color:  #f1f1f1;\n",
              "            font-size:  20px;\n",
              "        }#T_123fa_row0_col3,#T_123fa_row1_col2,#T_123fa_row2_col1,#T_123fa_row2_col3,#T_123fa_row2_col4,#T_123fa_row2_col5,#T_123fa_row2_col6,#T_123fa_row2_col7,#T_123fa_row2_col8,#T_123fa_row4_col0,#T_123fa_row5_col3,#T_123fa_row8_col3{\n",
              "            background-color:  #440154;\n",
              "            color:  #f1f1f1;\n",
              "            font-size:  20px;\n",
              "        }#T_123fa_row0_col4,#T_123fa_row8_col6{\n",
              "            background-color:  #423f85;\n",
              "            color:  #f1f1f1;\n",
              "            font-size:  20px;\n",
              "        }#T_123fa_row0_col5,#T_123fa_row7_col0{\n",
              "            background-color:  #481a6c;\n",
              "            color:  #f1f1f1;\n",
              "            font-size:  20px;\n",
              "        }#T_123fa_row0_col6,#T_123fa_row2_col0,#T_123fa_row8_col0{\n",
              "            background-color:  #482878;\n",
              "            color:  #f1f1f1;\n",
              "            font-size:  20px;\n",
              "        }#T_123fa_row0_col7,#T_123fa_row3_col5{\n",
              "            background-color:  #471063;\n",
              "            color:  #f1f1f1;\n",
              "            font-size:  20px;\n",
              "        }#T_123fa_row0_col8{\n",
              "            background-color:  #482475;\n",
              "            color:  #f1f1f1;\n",
              "            font-size:  20px;\n",
              "        }#T_123fa_row1_col0,#T_123fa_row3_col6{\n",
              "            background-color:  #460b5e;\n",
              "            color:  #f1f1f1;\n",
              "            font-size:  20px;\n",
              "        }#T_123fa_row1_col3{\n",
              "            background-color:  #450559;\n",
              "            color:  #f1f1f1;\n",
              "            font-size:  20px;\n",
              "        }#T_123fa_row1_col4{\n",
              "            background-color:  #27808e;\n",
              "            color:  #000000;\n",
              "            font-size:  20px;\n",
              "        }#T_123fa_row1_col5{\n",
              "            background-color:  #404588;\n",
              "            color:  #f1f1f1;\n",
              "            font-size:  20px;\n",
              "        }#T_123fa_row1_col6,#T_123fa_row6_col0{\n",
              "            background-color:  #46307e;\n",
              "            color:  #f1f1f1;\n",
              "            font-size:  20px;\n",
              "        }#T_123fa_row1_col7{\n",
              "            background-color:  #472f7d;\n",
              "            color:  #f1f1f1;\n",
              "            font-size:  20px;\n",
              "        }#T_123fa_row1_col8{\n",
              "            background-color:  #414287;\n",
              "            color:  #f1f1f1;\n",
              "            font-size:  20px;\n",
              "        }#T_123fa_row3_col0{\n",
              "            background-color:  #481467;\n",
              "            color:  #f1f1f1;\n",
              "            font-size:  20px;\n",
              "        }#T_123fa_row3_col1{\n",
              "            background-color:  #39558c;\n",
              "            color:  #f1f1f1;\n",
              "            font-size:  20px;\n",
              "        }#T_123fa_row3_col2,#T_123fa_row7_col4{\n",
              "            background-color:  #3a538b;\n",
              "            color:  #f1f1f1;\n",
              "            font-size:  20px;\n",
              "        }#T_123fa_row3_col4,#T_123fa_row6_col2{\n",
              "            background-color:  #3c4f8a;\n",
              "            color:  #f1f1f1;\n",
              "            font-size:  20px;\n",
              "        }#T_123fa_row3_col7,#T_123fa_row3_col8{\n",
              "            background-color:  #471164;\n",
              "            color:  #f1f1f1;\n",
              "            font-size:  20px;\n",
              "        }#T_123fa_row4_col1{\n",
              "            background-color:  #25848e;\n",
              "            color:  #000000;\n",
              "            font-size:  20px;\n",
              "        }#T_123fa_row4_col2{\n",
              "            background-color:  #470d60;\n",
              "            color:  #f1f1f1;\n",
              "            font-size:  20px;\n",
              "        }#T_123fa_row4_col3{\n",
              "            background-color:  #46075a;\n",
              "            color:  #f1f1f1;\n",
              "            font-size:  20px;\n",
              "        }#T_123fa_row4_col5,#T_123fa_row5_col7{\n",
              "            background-color:  #453581;\n",
              "            color:  #f1f1f1;\n",
              "            font-size:  20px;\n",
              "        }#T_123fa_row4_col6{\n",
              "            background-color:  #481c6e;\n",
              "            color:  #f1f1f1;\n",
              "            font-size:  20px;\n",
              "        }#T_123fa_row4_col7{\n",
              "            background-color:  #481668;\n",
              "            color:  #f1f1f1;\n",
              "            font-size:  20px;\n",
              "        }#T_123fa_row4_col8{\n",
              "            background-color:  #482677;\n",
              "            color:  #f1f1f1;\n",
              "            font-size:  20px;\n",
              "        }#T_123fa_row5_col0{\n",
              "            background-color:  #481d6f;\n",
              "            color:  #f1f1f1;\n",
              "            font-size:  20px;\n",
              "        }#T_123fa_row5_col1{\n",
              "            background-color:  #2c738e;\n",
              "            color:  #f1f1f1;\n",
              "            font-size:  20px;\n",
              "        }#T_123fa_row5_col2{\n",
              "            background-color:  #3e4989;\n",
              "            color:  #f1f1f1;\n",
              "            font-size:  20px;\n",
              "        }#T_123fa_row5_col4{\n",
              "            background-color:  #32648e;\n",
              "            color:  #f1f1f1;\n",
              "            font-size:  20px;\n",
              "        }#T_123fa_row5_col6{\n",
              "            background-color:  #472e7c;\n",
              "            color:  #f1f1f1;\n",
              "            font-size:  20px;\n",
              "        }#T_123fa_row5_col8{\n",
              "            background-color:  #3f4788;\n",
              "            color:  #f1f1f1;\n",
              "            font-size:  20px;\n",
              "        }#T_123fa_row6_col1{\n",
              "            background-color:  #2f6b8e;\n",
              "            color:  #f1f1f1;\n",
              "            font-size:  20px;\n",
              "        }#T_123fa_row6_col3{\n",
              "            background-color:  #450457;\n",
              "            color:  #f1f1f1;\n",
              "            font-size:  20px;\n",
              "        }#T_123fa_row6_col4{\n",
              "            background-color:  #38588c;\n",
              "            color:  #f1f1f1;\n",
              "            font-size:  20px;\n",
              "        }#T_123fa_row6_col5{\n",
              "            background-color:  #463480;\n",
              "            color:  #f1f1f1;\n",
              "            font-size:  20px;\n",
              "        }#T_123fa_row6_col7{\n",
              "            background-color:  #453882;\n",
              "            color:  #f1f1f1;\n",
              "            font-size:  20px;\n",
              "        }#T_123fa_row6_col8{\n",
              "            background-color:  #414487;\n",
              "            color:  #f1f1f1;\n",
              "            font-size:  20px;\n",
              "        }#T_123fa_row7_col1{\n",
              "            background-color:  #306a8e;\n",
              "            color:  #f1f1f1;\n",
              "            font-size:  20px;\n",
              "        }#T_123fa_row7_col3{\n",
              "            background-color:  #46085c;\n",
              "            color:  #f1f1f1;\n",
              "            font-size:  20px;\n",
              "        }#T_123fa_row7_col5{\n",
              "            background-color:  #443a83;\n",
              "            color:  #f1f1f1;\n",
              "            font-size:  20px;\n",
              "        }#T_123fa_row7_col6,#T_123fa_row8_col7{\n",
              "            background-color:  #453781;\n",
              "            color:  #f1f1f1;\n",
              "            font-size:  20px;\n",
              "        }#T_123fa_row7_col8{\n",
              "            background-color:  #443b84;\n",
              "            color:  #f1f1f1;\n",
              "            font-size:  20px;\n",
              "        }#T_123fa_row8_col1{\n",
              "            background-color:  #2c728e;\n",
              "            color:  #f1f1f1;\n",
              "            font-size:  20px;\n",
              "        }#T_123fa_row8_col2{\n",
              "            background-color:  #3e4a89;\n",
              "            color:  #f1f1f1;\n",
              "            font-size:  20px;\n",
              "        }#T_123fa_row8_col4{\n",
              "            background-color:  #375b8d;\n",
              "            color:  #f1f1f1;\n",
              "            font-size:  20px;\n",
              "        }#T_123fa_row8_col5{\n",
              "            background-color:  #3f4889;\n",
              "            color:  #f1f1f1;\n",
              "            font-size:  20px;\n",
              "        }</style><table id=\"T_123fa_\" ><thead>    <tr>        <th class=\"blank level0\" ></th>        <th class=\"col_heading level0 col0\" >gender</th>        <th class=\"col_heading level0 col1\" >ever_married</th>        <th class=\"col_heading level0 col2\" >work_type</th>        <th class=\"col_heading level0 col3\" >Residence_type</th>        <th class=\"col_heading level0 col4\" >smoking_status</th>        <th class=\"col_heading level0 col5\" >hypertension</th>        <th class=\"col_heading level0 col6\" >heart_disease</th>        <th class=\"col_heading level0 col7\" >stroke</th>        <th class=\"col_heading level0 col8\" >avg_glucose_level</th>    </tr></thead><tbody>\n",
              "                <tr>\n",
              "                        <th id=\"T_123fa_level0_row0\" class=\"row_heading level0 row0\" >gender</th>\n",
              "                        <td id=\"T_123fa_row0_col0\" class=\"data row0 col0\" >1.000000</td>\n",
              "                        <td id=\"T_123fa_row0_col1\" class=\"data row0 col1\" >-0.031005</td>\n",
              "                        <td id=\"T_123fa_row0_col2\" class=\"data row0 col2\" >0.056422</td>\n",
              "                        <td id=\"T_123fa_row0_col3\" class=\"data row0 col3\" >-0.006738</td>\n",
              "                        <td id=\"T_123fa_row0_col4\" class=\"data row0 col4\" >-0.062581</td>\n",
              "                        <td id=\"T_123fa_row0_col5\" class=\"data row0 col5\" >0.020994</td>\n",
              "                        <td id=\"T_123fa_row0_col6\" class=\"data row0 col6\" >0.085447</td>\n",
              "                        <td id=\"T_123fa_row0_col7\" class=\"data row0 col7\" >0.008929</td>\n",
              "                        <td id=\"T_123fa_row0_col8\" class=\"data row0 col8\" >0.055180</td>\n",
              "            </tr>\n",
              "            <tr>\n",
              "                        <th id=\"T_123fa_level0_row1\" class=\"row_heading level0 row1\" >ever_married</th>\n",
              "                        <td id=\"T_123fa_row1_col0\" class=\"data row1 col0\" >-0.031005</td>\n",
              "                        <td id=\"T_123fa_row1_col1\" class=\"data row1 col1\" >1.000000</td>\n",
              "                        <td id=\"T_123fa_row1_col2\" class=\"data row1 col2\" >-0.352722</td>\n",
              "                        <td id=\"T_123fa_row1_col3\" class=\"data row1 col3\" >0.006261</td>\n",
              "                        <td id=\"T_123fa_row1_col4\" class=\"data row1 col4\" >0.259647</td>\n",
              "                        <td id=\"T_123fa_row1_col5\" class=\"data row1 col5\" >0.164243</td>\n",
              "                        <td id=\"T_123fa_row1_col6\" class=\"data row1 col6\" >0.114644</td>\n",
              "                        <td id=\"T_123fa_row1_col7\" class=\"data row1 col7\" >0.108340</td>\n",
              "                        <td id=\"T_123fa_row1_col8\" class=\"data row1 col8\" >0.155068</td>\n",
              "            </tr>\n",
              "            <tr>\n",
              "                        <th id=\"T_123fa_level0_row2\" class=\"row_heading level0 row2\" >work_type</th>\n",
              "                        <td id=\"T_123fa_row2_col0\" class=\"data row2 col0\" >0.056422</td>\n",
              "                        <td id=\"T_123fa_row2_col1\" class=\"data row2 col1\" >-0.352722</td>\n",
              "                        <td id=\"T_123fa_row2_col2\" class=\"data row2 col2\" >1.000000</td>\n",
              "                        <td id=\"T_123fa_row2_col3\" class=\"data row2 col3\" >-0.007316</td>\n",
              "                        <td id=\"T_123fa_row2_col4\" class=\"data row2 col4\" >-0.305927</td>\n",
              "                        <td id=\"T_123fa_row2_col5\" class=\"data row2 col5\" >-0.051761</td>\n",
              "                        <td id=\"T_123fa_row2_col6\" class=\"data row2 col6\" >-0.028023</td>\n",
              "                        <td id=\"T_123fa_row2_col7\" class=\"data row2 col7\" >-0.032316</td>\n",
              "                        <td id=\"T_123fa_row2_col8\" class=\"data row2 col8\" >-0.050513</td>\n",
              "            </tr>\n",
              "            <tr>\n",
              "                        <th id=\"T_123fa_level0_row3\" class=\"row_heading level0 row3\" >Residence_type</th>\n",
              "                        <td id=\"T_123fa_row3_col0\" class=\"data row3 col0\" >-0.006738</td>\n",
              "                        <td id=\"T_123fa_row3_col1\" class=\"data row3 col1\" >0.006261</td>\n",
              "                        <td id=\"T_123fa_row3_col2\" class=\"data row3 col2\" >-0.007316</td>\n",
              "                        <td id=\"T_123fa_row3_col3\" class=\"data row3 col3\" >1.000000</td>\n",
              "                        <td id=\"T_123fa_row3_col4\" class=\"data row3 col4\" >0.008237</td>\n",
              "                        <td id=\"T_123fa_row3_col5\" class=\"data row3 col5\" >-0.007913</td>\n",
              "                        <td id=\"T_123fa_row3_col6\" class=\"data row3 col6\" >0.003092</td>\n",
              "                        <td id=\"T_123fa_row3_col7\" class=\"data row3 col7\" >0.015458</td>\n",
              "                        <td id=\"T_123fa_row3_col8\" class=\"data row3 col8\" >-0.004946</td>\n",
              "            </tr>\n",
              "            <tr>\n",
              "                        <th id=\"T_123fa_level0_row4\" class=\"row_heading level0 row4\" >smoking_status</th>\n",
              "                        <td id=\"T_123fa_row4_col0\" class=\"data row4 col0\" >-0.062581</td>\n",
              "                        <td id=\"T_123fa_row4_col1\" class=\"data row4 col1\" >0.259647</td>\n",
              "                        <td id=\"T_123fa_row4_col2\" class=\"data row4 col2\" >-0.305927</td>\n",
              "                        <td id=\"T_123fa_row4_col3\" class=\"data row4 col3\" >0.008237</td>\n",
              "                        <td id=\"T_123fa_row4_col4\" class=\"data row4 col4\" >1.000000</td>\n",
              "                        <td id=\"T_123fa_row4_col5\" class=\"data row4 col5\" >0.111038</td>\n",
              "                        <td id=\"T_123fa_row4_col6\" class=\"data row4 col6\" >0.048460</td>\n",
              "                        <td id=\"T_123fa_row4_col7\" class=\"data row4 col7\" >0.028123</td>\n",
              "                        <td id=\"T_123fa_row4_col8\" class=\"data row4 col8\" >0.063437</td>\n",
              "            </tr>\n",
              "            <tr>\n",
              "                        <th id=\"T_123fa_level0_row5\" class=\"row_heading level0 row5\" >hypertension</th>\n",
              "                        <td id=\"T_123fa_row5_col0\" class=\"data row5 col0\" >0.020994</td>\n",
              "                        <td id=\"T_123fa_row5_col1\" class=\"data row5 col1\" >0.164243</td>\n",
              "                        <td id=\"T_123fa_row5_col2\" class=\"data row5 col2\" >-0.051761</td>\n",
              "                        <td id=\"T_123fa_row5_col3\" class=\"data row5 col3\" >-0.007913</td>\n",
              "                        <td id=\"T_123fa_row5_col4\" class=\"data row5 col4\" >0.111038</td>\n",
              "                        <td id=\"T_123fa_row5_col5\" class=\"data row5 col5\" >1.000000</td>\n",
              "                        <td id=\"T_123fa_row5_col6\" class=\"data row5 col6\" >0.108306</td>\n",
              "                        <td id=\"T_123fa_row5_col7\" class=\"data row5 col7\" >0.127904</td>\n",
              "                        <td id=\"T_123fa_row5_col8\" class=\"data row5 col8\" >0.174474</td>\n",
              "            </tr>\n",
              "            <tr>\n",
              "                        <th id=\"T_123fa_level0_row6\" class=\"row_heading level0 row6\" >heart_disease</th>\n",
              "                        <td id=\"T_123fa_row6_col0\" class=\"data row6 col0\" >0.085447</td>\n",
              "                        <td id=\"T_123fa_row6_col1\" class=\"data row6 col1\" >0.114644</td>\n",
              "                        <td id=\"T_123fa_row6_col2\" class=\"data row6 col2\" >-0.028023</td>\n",
              "                        <td id=\"T_123fa_row6_col3\" class=\"data row6 col3\" >0.003092</td>\n",
              "                        <td id=\"T_123fa_row6_col4\" class=\"data row6 col4\" >0.048460</td>\n",
              "                        <td id=\"T_123fa_row6_col5\" class=\"data row6 col5\" >0.108306</td>\n",
              "                        <td id=\"T_123fa_row6_col6\" class=\"data row6 col6\" >1.000000</td>\n",
              "                        <td id=\"T_123fa_row6_col7\" class=\"data row6 col7\" >0.134914</td>\n",
              "                        <td id=\"T_123fa_row6_col8\" class=\"data row6 col8\" >0.161857</td>\n",
              "            </tr>\n",
              "            <tr>\n",
              "                        <th id=\"T_123fa_level0_row7\" class=\"row_heading level0 row7\" >stroke</th>\n",
              "                        <td id=\"T_123fa_row7_col0\" class=\"data row7 col0\" >0.008929</td>\n",
              "                        <td id=\"T_123fa_row7_col1\" class=\"data row7 col1\" >0.108340</td>\n",
              "                        <td id=\"T_123fa_row7_col2\" class=\"data row7 col2\" >-0.032316</td>\n",
              "                        <td id=\"T_123fa_row7_col3\" class=\"data row7 col3\" >0.015458</td>\n",
              "                        <td id=\"T_123fa_row7_col4\" class=\"data row7 col4\" >0.028123</td>\n",
              "                        <td id=\"T_123fa_row7_col5\" class=\"data row7 col5\" >0.127904</td>\n",
              "                        <td id=\"T_123fa_row7_col6\" class=\"data row7 col6\" >0.134914</td>\n",
              "                        <td id=\"T_123fa_row7_col7\" class=\"data row7 col7\" >1.000000</td>\n",
              "                        <td id=\"T_123fa_row7_col8\" class=\"data row7 col8\" >0.131945</td>\n",
              "            </tr>\n",
              "            <tr>\n",
              "                        <th id=\"T_123fa_level0_row8\" class=\"row_heading level0 row8\" >avg_glucose_level</th>\n",
              "                        <td id=\"T_123fa_row8_col0\" class=\"data row8 col0\" >0.055180</td>\n",
              "                        <td id=\"T_123fa_row8_col1\" class=\"data row8 col1\" >0.155068</td>\n",
              "                        <td id=\"T_123fa_row8_col2\" class=\"data row8 col2\" >-0.050513</td>\n",
              "                        <td id=\"T_123fa_row8_col3\" class=\"data row8 col3\" >-0.004946</td>\n",
              "                        <td id=\"T_123fa_row8_col4\" class=\"data row8 col4\" >0.063437</td>\n",
              "                        <td id=\"T_123fa_row8_col5\" class=\"data row8 col5\" >0.174474</td>\n",
              "                        <td id=\"T_123fa_row8_col6\" class=\"data row8 col6\" >0.161857</td>\n",
              "                        <td id=\"T_123fa_row8_col7\" class=\"data row8 col7\" >0.131945</td>\n",
              "                        <td id=\"T_123fa_row8_col8\" class=\"data row8 col8\" >1.000000</td>\n",
              "            </tr>\n",
              "    </tbody></table>"
            ],
            "text/plain": [
              "<pandas.io.formats.style.Styler at 0x7fdb102e9750>"
            ]
          },
          "metadata": {
            "tags": []
          },
          "execution_count": 25
        }
      ]
    },
    {
      "cell_type": "markdown",
      "metadata": {
        "id": "ThXFzULKW7jj"
      },
      "source": [
        "# Permutation Based Feature Importance"
      ]
    },
    {
      "cell_type": "code",
      "metadata": {
        "id": "xshzQRuWW7jj"
      },
      "source": [
        "from sklearn.inspection import permutation_importance"
      ],
      "execution_count": null,
      "outputs": []
    },
    {
      "cell_type": "code",
      "metadata": {
        "id": "NfTHsznPW7jj"
      },
      "source": [
        "from sklearn.ensemble import RandomForestClassifier\n",
        "model = RandomForestClassifier()"
      ],
      "execution_count": null,
      "outputs": []
    },
    {
      "cell_type": "code",
      "metadata": {
        "id": "LXyb-RaSW7jj",
        "outputId": "27716356-1b00-4524-9b17-112176f74ab7"
      },
      "source": [
        "model.fit(pd.concat([dataNum, dataCatEncoded], axis=1), y)\n",
        "# perform permutation importance\n",
        "results = permutation_importance(model, pd.concat([dataNum, dataCatEncoded], axis=1), y, scoring='accuracy')\n",
        "# get importance\n",
        "importance = results.importances_mean\n",
        "# summarize feature importance\n",
        "for i,v in enumerate(importance):\n",
        "\tprint('Feature: %0d, Score: %.5f' % (i,v))\n",
        "# plot feature importance\n",
        "pyplot.bar([x for x in range(len(importance))], importance)\n",
        "pyplot.show()"
      ],
      "execution_count": null,
      "outputs": [
        {
          "output_type": "stream",
          "text": [
            "/Users/ag78400/opt/anaconda3/envs/AI_for_Healthcare/lib/python3.7/site-packages/ipykernel_launcher.py:1: DataConversionWarning: A column-vector y was passed when a 1d array was expected. Please change the shape of y to (n_samples,), for example using ravel().\n",
            "  \"\"\"Entry point for launching an IPython kernel.\n"
          ],
          "name": "stderr"
        },
        {
          "output_type": "stream",
          "text": [
            "Feature: 0, Score: 0.03159\n",
            "Feature: 1, Score: 0.04376\n",
            "Feature: 2, Score: 0.01370\n",
            "Feature: 3, Score: 0.00978\n",
            "Feature: 4, Score: 0.03804\n",
            "Feature: 5, Score: 0.03554\n",
            "Feature: 6, Score: 0.01327\n",
            "Feature: 7, Score: 0.01472\n",
            "Feature: 8, Score: 0.01663\n",
            "Feature: 9, Score: 0.01108\n",
            "Feature: 10, Score: 0.02078\n"
          ],
          "name": "stdout"
        },
        {
          "output_type": "display_data",
          "data": {
            "image/png": "[encoded data removed]",
            "text/plain": [
              "<Figure size 432x288 with 1 Axes>"
            ]
          },
          "metadata": {
            "tags": [],
            "needs_background": "light"
          }
        }
      ]
    },
    {
      "cell_type": "markdown",
      "metadata": {
        "id": "tntXByQnW7jj"
      },
      "source": [
        "## Other Feature Importance Methods"
      ]
    },
    {
      "cell_type": "markdown",
      "metadata": {
        "id": "icKPwRDkW7jj"
      },
      "source": [
        "### Fisher Scores"
      ]
    },
    {
      "cell_type": "code",
      "metadata": {
        "id": "4Q_2FnbrW7jj"
      },
      "source": [
        "from skfeature.function.similarity_based.fisher_score import fisher_score"
      ],
      "execution_count": null,
      "outputs": []
    },
    {
      "cell_type": "code",
      "metadata": {
        "id": "Zj13s500W7jj",
        "outputId": "36736fe7-8cfa-4293-fd35-1ac48bfaf774"
      },
      "source": [
        "ranks = fisher_score(np.array(pd.concat([dataNum, dataCatEncoded], axis=1)), data.iloc[:, -1])"
      ],
      "execution_count": null,
      "outputs": [
        {
          "output_type": "stream",
          "text": [
            "/Users/ag78400/opt/anaconda3/envs/AI_for_Healthcare/lib/python3.7/site-packages/skfeature/utility/construct_W.py:194: FutureWarning: Support for multi-dimensional indexing (e.g. `obj[:, None]`) is deprecated and will be removed in a future version.  Convert to a numpy array before indexing instead.\n",
            "  class_idx_all = (class_idx[:, np.newaxis] & class_idx[np.newaxis, :])\n",
            "/Users/ag78400/opt/anaconda3/envs/AI_for_Healthcare/lib/python3.7/site-packages/skfeature/utility/construct_W.py:194: FutureWarning: Support for multi-dimensional indexing (e.g. `obj[:, None]`) is deprecated and will be removed in a future version.  Convert to a numpy array before indexing instead.\n",
            "  class_idx_all = (class_idx[:, np.newaxis] & class_idx[np.newaxis, :])\n"
          ],
          "name": "stderr"
        }
      ]
    },
    {
      "cell_type": "code",
      "metadata": {
        "id": "hVFYCrXXW7jk",
        "outputId": "6bc31858-33eb-4b98-e1e0-c423c387ae31"
      },
      "source": [
        "pd.Series(ranks, pd.concat([dataNum, dataCatEncoded], axis=1).columns).plot.bar()"
      ],
      "execution_count": null,
      "outputs": [
        {
          "output_type": "execute_result",
          "data": {
            "text/plain": [
              "<AxesSubplot:>"
            ]
          },
          "metadata": {
            "tags": []
          },
          "execution_count": 130
        },
        {
          "output_type": "display_data",
          "data": {
            "image/png": "[encoded data removed]",
            "text/plain": [
              "<Figure size 432x288 with 1 Axes>"
            ]
          },
          "metadata": {
            "tags": [],
            "needs_background": "light"
          }
        }
      ]
    },
    {
      "cell_type": "markdown",
      "metadata": {
        "id": "DWjlIXWbW7jk"
      },
      "source": [
        "# Decision Trees Based Feature Importance"
      ]
    },
    {
      "cell_type": "code",
      "metadata": {
        "id": "a_vf-CmUW7jk"
      },
      "source": [
        "from sklearn.tree import DecisionTreeClassifier\n",
        "from sklearn.ensemble import RandomForestClassifier\n",
        "\n",
        "modelDT = DecisionTreeClassifier()\n",
        "modelRF = RandomForestClassifier()"
      ],
      "execution_count": null,
      "outputs": []
    },
    {
      "cell_type": "code",
      "metadata": {
        "id": "jKQfMIyvW7jk",
        "outputId": "5d487e4e-82ff-48f2-c135-2e8445aaa4a7"
      },
      "source": [
        "modelDT.fit(pd.concat([dataNum, dataCatEncoded], axis=1), y)\n",
        "modelRF.fit(pd.concat([dataNum, dataCatEncoded], axis=1), y)"
      ],
      "execution_count": null,
      "outputs": [
        {
          "output_type": "stream",
          "text": [
            "/Users/ag78400/opt/anaconda3/envs/AI_for_Healthcare/lib/python3.7/site-packages/ipykernel_launcher.py:2: DataConversionWarning: A column-vector y was passed when a 1d array was expected. Please change the shape of y to (n_samples,), for example using ravel().\n",
            "  \n"
          ],
          "name": "stderr"
        },
        {
          "output_type": "execute_result",
          "data": {
            "text/plain": [
              "RandomForestClassifier()"
            ]
          },
          "metadata": {
            "tags": []
          },
          "execution_count": 117
        }
      ]
    },
    {
      "cell_type": "code",
      "metadata": {
        "id": "dk9UMLH7W7jk",
        "outputId": "e9dd0979-f5d2-4b39-98bd-0914cd4e49e0"
      },
      "source": [
        "importance = modelDT.feature_importances_\n",
        "# summarize feature importance\n",
        "for i,v in enumerate(importance):\n",
        "\tprint('Feature: %0d, Score: %.5f' % (i,v))\n",
        "# plot feature importance\n",
        "pyplot.bar([x for x in range(len(importance))], importance)\n",
        "pyplot.show()"
      ],
      "execution_count": null,
      "outputs": [
        {
          "output_type": "stream",
          "text": [
            "Feature: 0, Score: 0.23926\n",
            "Feature: 1, Score: 0.15102\n",
            "Feature: 2, Score: 0.01467\n",
            "Feature: 3, Score: 0.02044\n",
            "Feature: 4, Score: 0.20961\n",
            "Feature: 5, Score: 0.17941\n",
            "Feature: 6, Score: 0.02112\n",
            "Feature: 7, Score: 0.00971\n",
            "Feature: 8, Score: 0.03326\n",
            "Feature: 9, Score: 0.03983\n",
            "Feature: 10, Score: 0.08167\n"
          ],
          "name": "stdout"
        },
        {
          "output_type": "display_data",
          "data": {
            "image/png": "[encoded data removed]",
            "text/plain": [
              "<Figure size 432x288 with 1 Axes>"
            ]
          },
          "metadata": {
            "tags": [],
            "needs_background": "light"
          }
        }
      ]
    },
    {
      "cell_type": "code",
      "metadata": {
        "id": "k_ijxwZVW7jl",
        "outputId": "a2c1887c-0efa-4daa-ebfa-b99fc13bf911"
      },
      "source": [
        "importance = modelRF.feature_importances_\n",
        "# summarize feature importance\n",
        "for i,v in enumerate(importance):\n",
        "\tprint('Feature: %0d, Score: %.5f' % (i,v))\n",
        "# plot feature importance\n",
        "pyplot.bar([x for x in range(len(importance))], importance)\n",
        "pyplot.show()"
      ],
      "execution_count": null,
      "outputs": [
        {
          "output_type": "stream",
          "text": [
            "Feature: 0, Score: 0.20704\n",
            "Feature: 1, Score: 0.19366\n",
            "Feature: 2, Score: 0.02281\n",
            "Feature: 3, Score: 0.02060\n",
            "Feature: 4, Score: 0.21634\n",
            "Feature: 5, Score: 0.17720\n",
            "Feature: 6, Score: 0.02409\n",
            "Feature: 7, Score: 0.01607\n",
            "Feature: 8, Score: 0.04063\n",
            "Feature: 9, Score: 0.02807\n",
            "Feature: 10, Score: 0.05348\n"
          ],
          "name": "stdout"
        },
        {
          "output_type": "display_data",
          "data": {
            "image/png": "[encoded data removed]",
            "text/plain": [
              "<Figure size 432x288 with 1 Axes>"
            ]
          },
          "metadata": {
            "tags": [],
            "needs_background": "light"
          }
        }
      ]
    },
    {
      "cell_type": "markdown",
      "metadata": {
        "id": "7w3I-f38W7jl"
      },
      "source": [
        "# Automated Feature Selection"
      ]
    },
    {
      "cell_type": "markdown",
      "metadata": {
        "id": "SyW93UTxW7jl"
      },
      "source": [
        "### Recursive Feature Selection"
      ]
    },
    {
      "cell_type": "code",
      "metadata": {
        "id": "E2zYk7bfW7jl",
        "outputId": "2413f790-f9a4-4102-d951-051d6b1c36e8"
      },
      "source": [
        "from sklearn.feature_selection import RFE\n",
        "from sklearn.pipeline import Pipeline\n",
        "\n",
        "rfe = RFE(estimator=DecisionTreeClassifier(), n_features_to_select=5)\n",
        "\n",
        "rfe.fit(pd.concat([dataNum, dataCatEncoded], axis=1), y)"
      ],
      "execution_count": null,
      "outputs": [
        {
          "output_type": "execute_result",
          "data": {
            "text/plain": [
              "RFE(estimator=DecisionTreeClassifier(), n_features_to_select=5)"
            ]
          },
          "metadata": {
            "tags": []
          },
          "execution_count": 63
        }
      ]
    },
    {
      "cell_type": "code",
      "metadata": {
        "id": "QwCzT_PfW7jl",
        "outputId": "b94f1fe4-42c2-47f7-f464-254e390fdf38"
      },
      "source": [
        "pd.DataFrame(rfe.transform(pd.concat([dataNum, dataCatEncoded], axis=1)))"
      ],
      "execution_count": null,
      "outputs": [
        {
          "output_type": "execute_result",
          "data": {
            "text/html": [
              "<div>\n",
              "<style scoped>\n",
              "    .dataframe tbody tr th:only-of-type {\n",
              "        vertical-align: middle;\n",
              "    }\n",
              "\n",
              "    .dataframe tbody tr th {\n",
              "        vertical-align: top;\n",
              "    }\n",
              "\n",
              "    .dataframe thead th {\n",
              "        text-align: right;\n",
              "    }\n",
              "</style>\n",
              "<table border=\"1\" class=\"dataframe\">\n",
              "  <thead>\n",
              "    <tr style=\"text-align: right;\">\n",
              "      <th></th>\n",
              "      <th>0</th>\n",
              "      <th>1</th>\n",
              "      <th>2</th>\n",
              "      <th>3</th>\n",
              "      <th>4</th>\n",
              "    </tr>\n",
              "  </thead>\n",
              "  <tbody>\n",
              "    <tr>\n",
              "      <th>0</th>\n",
              "      <td>9046.0</td>\n",
              "      <td>67.0</td>\n",
              "      <td>228.69</td>\n",
              "      <td>36.600000</td>\n",
              "      <td>1.0</td>\n",
              "    </tr>\n",
              "    <tr>\n",
              "      <th>1</th>\n",
              "      <td>51676.0</td>\n",
              "      <td>61.0</td>\n",
              "      <td>202.21</td>\n",
              "      <td>28.893237</td>\n",
              "      <td>2.0</td>\n",
              "    </tr>\n",
              "    <tr>\n",
              "      <th>2</th>\n",
              "      <td>31112.0</td>\n",
              "      <td>80.0</td>\n",
              "      <td>105.92</td>\n",
              "      <td>32.500000</td>\n",
              "      <td>2.0</td>\n",
              "    </tr>\n",
              "    <tr>\n",
              "      <th>3</th>\n",
              "      <td>60182.0</td>\n",
              "      <td>49.0</td>\n",
              "      <td>171.23</td>\n",
              "      <td>34.400000</td>\n",
              "      <td>3.0</td>\n",
              "    </tr>\n",
              "    <tr>\n",
              "      <th>4</th>\n",
              "      <td>1665.0</td>\n",
              "      <td>79.0</td>\n",
              "      <td>174.12</td>\n",
              "      <td>24.000000</td>\n",
              "      <td>2.0</td>\n",
              "    </tr>\n",
              "    <tr>\n",
              "      <th>...</th>\n",
              "      <td>...</td>\n",
              "      <td>...</td>\n",
              "      <td>...</td>\n",
              "      <td>...</td>\n",
              "      <td>...</td>\n",
              "    </tr>\n",
              "    <tr>\n",
              "      <th>5105</th>\n",
              "      <td>18234.0</td>\n",
              "      <td>80.0</td>\n",
              "      <td>83.75</td>\n",
              "      <td>28.893237</td>\n",
              "      <td>2.0</td>\n",
              "    </tr>\n",
              "    <tr>\n",
              "      <th>5106</th>\n",
              "      <td>44873.0</td>\n",
              "      <td>81.0</td>\n",
              "      <td>125.20</td>\n",
              "      <td>40.000000</td>\n",
              "      <td>2.0</td>\n",
              "    </tr>\n",
              "    <tr>\n",
              "      <th>5107</th>\n",
              "      <td>19723.0</td>\n",
              "      <td>35.0</td>\n",
              "      <td>82.99</td>\n",
              "      <td>30.600000</td>\n",
              "      <td>2.0</td>\n",
              "    </tr>\n",
              "    <tr>\n",
              "      <th>5108</th>\n",
              "      <td>37544.0</td>\n",
              "      <td>51.0</td>\n",
              "      <td>166.29</td>\n",
              "      <td>25.600000</td>\n",
              "      <td>1.0</td>\n",
              "    </tr>\n",
              "    <tr>\n",
              "      <th>5109</th>\n",
              "      <td>44679.0</td>\n",
              "      <td>44.0</td>\n",
              "      <td>85.28</td>\n",
              "      <td>26.200000</td>\n",
              "      <td>0.0</td>\n",
              "    </tr>\n",
              "  </tbody>\n",
              "</table>\n",
              "<p>5110 rows × 5 columns</p>\n",
              "</div>"
            ],
            "text/plain": [
              "            0     1       2          3    4\n",
              "0      9046.0  67.0  228.69  36.600000  1.0\n",
              "1     51676.0  61.0  202.21  28.893237  2.0\n",
              "2     31112.0  80.0  105.92  32.500000  2.0\n",
              "3     60182.0  49.0  171.23  34.400000  3.0\n",
              "4      1665.0  79.0  174.12  24.000000  2.0\n",
              "...       ...   ...     ...        ...  ...\n",
              "5105  18234.0  80.0   83.75  28.893237  2.0\n",
              "5106  44873.0  81.0  125.20  40.000000  2.0\n",
              "5107  19723.0  35.0   82.99  30.600000  2.0\n",
              "5108  37544.0  51.0  166.29  25.600000  1.0\n",
              "5109  44679.0  44.0   85.28  26.200000  0.0\n",
              "\n",
              "[5110 rows x 5 columns]"
            ]
          },
          "metadata": {
            "tags": []
          },
          "execution_count": 66
        }
      ]
    },
    {
      "cell_type": "code",
      "metadata": {
        "id": "rrZAa3UZW7jl",
        "outputId": "6ab9421d-f433-4d11-c5c2-c93ae98ce91e"
      },
      "source": [
        "rfe.ranking_"
      ],
      "execution_count": null,
      "outputs": [
        {
          "output_type": "execute_result",
          "data": {
            "text/plain": [
              "array([1, 1, 2, 6, 1, 1, 5, 7, 4, 3, 1])"
            ]
          },
          "metadata": {
            "tags": []
          },
          "execution_count": 75
        }
      ]
    },
    {
      "cell_type": "code",
      "metadata": {
        "id": "6Idn3lnJW7jm",
        "outputId": "e9d97ac8-79d1-4933-950c-44352c399fbc"
      },
      "source": [
        "pd.concat([dataNum, dataCatEncoded], axis=1).iloc[:,4]"
      ],
      "execution_count": null,
      "outputs": [
        {
          "output_type": "execute_result",
          "data": {
            "text/plain": [
              "0       228.69\n",
              "1       202.21\n",
              "2       105.92\n",
              "3       171.23\n",
              "4       174.12\n",
              "         ...  \n",
              "5105     83.75\n",
              "5106    125.20\n",
              "5107     82.99\n",
              "5108    166.29\n",
              "5109     85.28\n",
              "Name: avg_glucose_level, Length: 5110, dtype: float64"
            ]
          },
          "metadata": {
            "tags": []
          },
          "execution_count": 79
        }
      ]
    },
    {
      "cell_type": "markdown",
      "metadata": {
        "id": "xa27SEndW7jm"
      },
      "source": [
        "### Forward Feature Selection"
      ]
    },
    {
      "cell_type": "code",
      "metadata": {
        "id": "RKCnGfjWW7jm"
      },
      "source": [
        "from mlxtend.feature_selection import SequentialFeatureSelector"
      ],
      "execution_count": null,
      "outputs": []
    },
    {
      "cell_type": "code",
      "metadata": {
        "id": "u-5trP7rW7jm"
      },
      "source": [
        "forwardFeatureSelection = SequentialFeatureSelector(modelRF, k_features=\"best\", forward=True)\n",
        "\n",
        "forwardFeatureSelection.fit(pd.concat([dataNum, dataCatEncoded], axis=1),y)\n",
        "\n",
        "forwardFeatureSelection.k_feature_names_"
      ],
      "execution_count": null,
      "outputs": []
    },
    {
      "cell_type": "markdown",
      "metadata": {
        "id": "fA6doZzXW7jm"
      },
      "source": [
        "### Backward Feature Selection"
      ]
    },
    {
      "cell_type": "code",
      "metadata": {
        "id": "Fiu01lCLW7jm",
        "outputId": "e5cf10bd-0cc0-42e1-cb7c-3f309469fa67"
      },
      "source": [
        "backwardFeatureSelection = SequentialFeatureSelector(modelRF, k_features=\"best\", forward=False)\n",
        "\n",
        "backwardFeatureSelection.fit(pd.concat([dataNum, dataCatEncoded], axis=1),y)\n",
        "\n",
        "backwardFeatureSelection.k_feature_names_"
      ],
      "execution_count": null,
      "outputs": [
        {
          "output_type": "stream",
          "text": [
            "/Users/ag78400/opt/anaconda3/envs/AI_for_Healthcare/lib/python3.7/site-packages/sklearn/model_selection/_validation.py:593: DataConversionWarning: A column-vector y was passed when a 1d array was expected. Please change the shape of y to (n_samples,), for example using ravel().\n",
            "  estimator.fit(X_train, y_train, **fit_params)\n",
            "/Users/ag78400/opt/anaconda3/envs/AI_for_Healthcare/lib/python3.7/site-packages/sklearn/model_selection/_validation.py:593: DataConversionWarning: A column-vector y was passed when a 1d array was expected. Please change the shape of y to (n_samples,), for example using ravel().\n",
            "  estimator.fit(X_train, y_train, **fit_params)\n",
            "/Users/ag78400/opt/anaconda3/envs/AI_for_Healthcare/lib/python3.7/site-packages/sklearn/model_selection/_validation.py:593: DataConversionWarning: A column-vector y was passed when a 1d array was expected. Please change the shape of y to (n_samples,), for example using ravel().\n",
            "  estimator.fit(X_train, y_train, **fit_params)\n",
            "/Users/ag78400/opt/anaconda3/envs/AI_for_Healthcare/lib/python3.7/site-packages/sklearn/model_selection/_validation.py:593: DataConversionWarning: A column-vector y was passed when a 1d array was expected. Please change the shape of y to (n_samples,), for example using ravel().\n",
            "  estimator.fit(X_train, y_train, **fit_params)\n",
            "/Users/ag78400/opt/anaconda3/envs/AI_for_Healthcare/lib/python3.7/site-packages/sklearn/model_selection/_validation.py:593: DataConversionWarning: A column-vector y was passed when a 1d array was expected. Please change the shape of y to (n_samples,), for example using ravel().\n",
            "  estimator.fit(X_train, y_train, **fit_params)\n",
            "/Users/ag78400/opt/anaconda3/envs/AI_for_Healthcare/lib/python3.7/site-packages/sklearn/model_selection/_validation.py:593: DataConversionWarning: A column-vector y was passed when a 1d array was expected. Please change the shape of y to (n_samples,), for example using ravel().\n",
            "  estimator.fit(X_train, y_train, **fit_params)\n",
            "/Users/ag78400/opt/anaconda3/envs/AI_for_Healthcare/lib/python3.7/site-packages/sklearn/model_selection/_validation.py:593: DataConversionWarning: A column-vector y was passed when a 1d array was expected. Please change the shape of y to (n_samples,), for example using ravel().\n",
            "  estimator.fit(X_train, y_train, **fit_params)\n",
            "/Users/ag78400/opt/anaconda3/envs/AI_for_Healthcare/lib/python3.7/site-packages/sklearn/model_selection/_validation.py:593: DataConversionWarning: A column-vector y was passed when a 1d array was expected. Please change the shape of y to (n_samples,), for example using ravel().\n",
            "  estimator.fit(X_train, y_train, **fit_params)\n",
            "/Users/ag78400/opt/anaconda3/envs/AI_for_Healthcare/lib/python3.7/site-packages/sklearn/model_selection/_validation.py:593: DataConversionWarning: A column-vector y was passed when a 1d array was expected. Please change the shape of y to (n_samples,), for example using ravel().\n",
            "  estimator.fit(X_train, y_train, **fit_params)\n",
            "/Users/ag78400/opt/anaconda3/envs/AI_for_Healthcare/lib/python3.7/site-packages/sklearn/model_selection/_validation.py:593: DataConversionWarning: A column-vector y was passed when a 1d array was expected. Please change the shape of y to (n_samples,), for example using ravel().\n",
            "  estimator.fit(X_train, y_train, **fit_params)\n",
            "/Users/ag78400/opt/anaconda3/envs/AI_for_Healthcare/lib/python3.7/site-packages/sklearn/model_selection/_validation.py:593: DataConversionWarning: A column-vector y was passed when a 1d array was expected. Please change the shape of y to (n_samples,), for example using ravel().\n",
            "  estimator.fit(X_train, y_train, **fit_params)\n",
            "/Users/ag78400/opt/anaconda3/envs/AI_for_Healthcare/lib/python3.7/site-packages/sklearn/model_selection/_validation.py:593: DataConversionWarning: A column-vector y was passed when a 1d array was expected. Please change the shape of y to (n_samples,), for example using ravel().\n",
            "  estimator.fit(X_train, y_train, **fit_params)\n",
            "/Users/ag78400/opt/anaconda3/envs/AI_for_Healthcare/lib/python3.7/site-packages/sklearn/model_selection/_validation.py:593: DataConversionWarning: A column-vector y was passed when a 1d array was expected. Please change the shape of y to (n_samples,), for example using ravel().\n",
            "  estimator.fit(X_train, y_train, **fit_params)\n",
            "/Users/ag78400/opt/anaconda3/envs/AI_for_Healthcare/lib/python3.7/site-packages/sklearn/model_selection/_validation.py:593: DataConversionWarning: A column-vector y was passed when a 1d array was expected. Please change the shape of y to (n_samples,), for example using ravel().\n",
            "  estimator.fit(X_train, y_train, **fit_params)\n",
            "/Users/ag78400/opt/anaconda3/envs/AI_for_Healthcare/lib/python3.7/site-packages/sklearn/model_selection/_validation.py:593: DataConversionWarning: A column-vector y was passed when a 1d array was expected. Please change the shape of y to (n_samples,), for example using ravel().\n",
            "  estimator.fit(X_train, y_train, **fit_params)\n",
            "/Users/ag78400/opt/anaconda3/envs/AI_for_Healthcare/lib/python3.7/site-packages/sklearn/model_selection/_validation.py:593: DataConversionWarning: A column-vector y was passed when a 1d array was expected. Please change the shape of y to (n_samples,), for example using ravel().\n",
            "  estimator.fit(X_train, y_train, **fit_params)\n",
            "/Users/ag78400/opt/anaconda3/envs/AI_for_Healthcare/lib/python3.7/site-packages/sklearn/model_selection/_validation.py:593: DataConversionWarning: A column-vector y was passed when a 1d array was expected. Please change the shape of y to (n_samples,), for example using ravel().\n",
            "  estimator.fit(X_train, y_train, **fit_params)\n",
            "/Users/ag78400/opt/anaconda3/envs/AI_for_Healthcare/lib/python3.7/site-packages/sklearn/model_selection/_validation.py:593: DataConversionWarning: A column-vector y was passed when a 1d array was expected. Please change the shape of y to (n_samples,), for example using ravel().\n",
            "  estimator.fit(X_train, y_train, **fit_params)\n",
            "/Users/ag78400/opt/anaconda3/envs/AI_for_Healthcare/lib/python3.7/site-packages/sklearn/model_selection/_validation.py:593: DataConversionWarning: A column-vector y was passed when a 1d array was expected. Please change the shape of y to (n_samples,), for example using ravel().\n",
            "  estimator.fit(X_train, y_train, **fit_params)\n",
            "/Users/ag78400/opt/anaconda3/envs/AI_for_Healthcare/lib/python3.7/site-packages/sklearn/model_selection/_validation.py:593: DataConversionWarning: A column-vector y was passed when a 1d array was expected. Please change the shape of y to (n_samples,), for example using ravel().\n",
            "  estimator.fit(X_train, y_train, **fit_params)\n",
            "/Users/ag78400/opt/anaconda3/envs/AI_for_Healthcare/lib/python3.7/site-packages/sklearn/model_selection/_validation.py:593: DataConversionWarning: A column-vector y was passed when a 1d array was expected. Please change the shape of y to (n_samples,), for example using ravel().\n",
            "  estimator.fit(X_train, y_train, **fit_params)\n",
            "/Users/ag78400/opt/anaconda3/envs/AI_for_Healthcare/lib/python3.7/site-packages/sklearn/model_selection/_validation.py:593: DataConversionWarning: A column-vector y was passed when a 1d array was expected. Please change the shape of y to (n_samples,), for example using ravel().\n",
            "  estimator.fit(X_train, y_train, **fit_params)\n",
            "/Users/ag78400/opt/anaconda3/envs/AI_for_Healthcare/lib/python3.7/site-packages/sklearn/model_selection/_validation.py:593: DataConversionWarning: A column-vector y was passed when a 1d array was expected. Please change the shape of y to (n_samples,), for example using ravel().\n",
            "  estimator.fit(X_train, y_train, **fit_params)\n",
            "/Users/ag78400/opt/anaconda3/envs/AI_for_Healthcare/lib/python3.7/site-packages/sklearn/model_selection/_validation.py:593: DataConversionWarning: A column-vector y was passed when a 1d array was expected. Please change the shape of y to (n_samples,), for example using ravel().\n",
            "  estimator.fit(X_train, y_train, **fit_params)\n",
            "/Users/ag78400/opt/anaconda3/envs/AI_for_Healthcare/lib/python3.7/site-packages/sklearn/model_selection/_validation.py:593: DataConversionWarning: A column-vector y was passed when a 1d array was expected. Please change the shape of y to (n_samples,), for example using ravel().\n",
            "  estimator.fit(X_train, y_train, **fit_params)\n",
            "/Users/ag78400/opt/anaconda3/envs/AI_for_Healthcare/lib/python3.7/site-packages/sklearn/model_selection/_validation.py:593: DataConversionWarning: A column-vector y was passed when a 1d array was expected. Please change the shape of y to (n_samples,), for example using ravel().\n",
            "  estimator.fit(X_train, y_train, **fit_params)\n"
          ],
          "name": "stderr"
        },
        {
          "output_type": "stream",
          "text": [
            "/Users/ag78400/opt/anaconda3/envs/AI_for_Healthcare/lib/python3.7/site-packages/sklearn/model_selection/_validation.py:593: DataConversionWarning: A column-vector y was passed when a 1d array was expected. Please change the shape of y to (n_samples,), for example using ravel().\n",
            "  estimator.fit(X_train, y_train, **fit_params)\n",
            "/Users/ag78400/opt/anaconda3/envs/AI_for_Healthcare/lib/python3.7/site-packages/sklearn/model_selection/_validation.py:593: DataConversionWarning: A column-vector y was passed when a 1d array was expected. Please change the shape of y to (n_samples,), for example using ravel().\n",
            "  estimator.fit(X_train, y_train, **fit_params)\n",
            "/Users/ag78400/opt/anaconda3/envs/AI_for_Healthcare/lib/python3.7/site-packages/sklearn/model_selection/_validation.py:593: DataConversionWarning: A column-vector y was passed when a 1d array was expected. Please change the shape of y to (n_samples,), for example using ravel().\n",
            "  estimator.fit(X_train, y_train, **fit_params)\n",
            "/Users/ag78400/opt/anaconda3/envs/AI_for_Healthcare/lib/python3.7/site-packages/sklearn/model_selection/_validation.py:593: DataConversionWarning: A column-vector y was passed when a 1d array was expected. Please change the shape of y to (n_samples,), for example using ravel().\n",
            "  estimator.fit(X_train, y_train, **fit_params)\n",
            "/Users/ag78400/opt/anaconda3/envs/AI_for_Healthcare/lib/python3.7/site-packages/sklearn/model_selection/_validation.py:593: DataConversionWarning: A column-vector y was passed when a 1d array was expected. Please change the shape of y to (n_samples,), for example using ravel().\n",
            "  estimator.fit(X_train, y_train, **fit_params)\n",
            "/Users/ag78400/opt/anaconda3/envs/AI_for_Healthcare/lib/python3.7/site-packages/sklearn/model_selection/_validation.py:593: DataConversionWarning: A column-vector y was passed when a 1d array was expected. Please change the shape of y to (n_samples,), for example using ravel().\n",
            "  estimator.fit(X_train, y_train, **fit_params)\n",
            "/Users/ag78400/opt/anaconda3/envs/AI_for_Healthcare/lib/python3.7/site-packages/sklearn/model_selection/_validation.py:593: DataConversionWarning: A column-vector y was passed when a 1d array was expected. Please change the shape of y to (n_samples,), for example using ravel().\n",
            "  estimator.fit(X_train, y_train, **fit_params)\n",
            "/Users/ag78400/opt/anaconda3/envs/AI_for_Healthcare/lib/python3.7/site-packages/sklearn/model_selection/_validation.py:593: DataConversionWarning: A column-vector y was passed when a 1d array was expected. Please change the shape of y to (n_samples,), for example using ravel().\n",
            "  estimator.fit(X_train, y_train, **fit_params)\n",
            "/Users/ag78400/opt/anaconda3/envs/AI_for_Healthcare/lib/python3.7/site-packages/sklearn/model_selection/_validation.py:593: DataConversionWarning: A column-vector y was passed when a 1d array was expected. Please change the shape of y to (n_samples,), for example using ravel().\n",
            "  estimator.fit(X_train, y_train, **fit_params)\n",
            "/Users/ag78400/opt/anaconda3/envs/AI_for_Healthcare/lib/python3.7/site-packages/sklearn/model_selection/_validation.py:593: DataConversionWarning: A column-vector y was passed when a 1d array was expected. Please change the shape of y to (n_samples,), for example using ravel().\n",
            "  estimator.fit(X_train, y_train, **fit_params)\n",
            "/Users/ag78400/opt/anaconda3/envs/AI_for_Healthcare/lib/python3.7/site-packages/sklearn/model_selection/_validation.py:593: DataConversionWarning: A column-vector y was passed when a 1d array was expected. Please change the shape of y to (n_samples,), for example using ravel().\n",
            "  estimator.fit(X_train, y_train, **fit_params)\n",
            "/Users/ag78400/opt/anaconda3/envs/AI_for_Healthcare/lib/python3.7/site-packages/sklearn/model_selection/_validation.py:593: DataConversionWarning: A column-vector y was passed when a 1d array was expected. Please change the shape of y to (n_samples,), for example using ravel().\n",
            "  estimator.fit(X_train, y_train, **fit_params)\n",
            "/Users/ag78400/opt/anaconda3/envs/AI_for_Healthcare/lib/python3.7/site-packages/sklearn/model_selection/_validation.py:593: DataConversionWarning: A column-vector y was passed when a 1d array was expected. Please change the shape of y to (n_samples,), for example using ravel().\n",
            "  estimator.fit(X_train, y_train, **fit_params)\n",
            "/Users/ag78400/opt/anaconda3/envs/AI_for_Healthcare/lib/python3.7/site-packages/sklearn/model_selection/_validation.py:593: DataConversionWarning: A column-vector y was passed when a 1d array was expected. Please change the shape of y to (n_samples,), for example using ravel().\n",
            "  estimator.fit(X_train, y_train, **fit_params)\n",
            "/Users/ag78400/opt/anaconda3/envs/AI_for_Healthcare/lib/python3.7/site-packages/sklearn/model_selection/_validation.py:593: DataConversionWarning: A column-vector y was passed when a 1d array was expected. Please change the shape of y to (n_samples,), for example using ravel().\n",
            "  estimator.fit(X_train, y_train, **fit_params)\n",
            "/Users/ag78400/opt/anaconda3/envs/AI_for_Healthcare/lib/python3.7/site-packages/sklearn/model_selection/_validation.py:593: DataConversionWarning: A column-vector y was passed when a 1d array was expected. Please change the shape of y to (n_samples,), for example using ravel().\n",
            "  estimator.fit(X_train, y_train, **fit_params)\n",
            "/Users/ag78400/opt/anaconda3/envs/AI_for_Healthcare/lib/python3.7/site-packages/sklearn/model_selection/_validation.py:593: DataConversionWarning: A column-vector y was passed when a 1d array was expected. Please change the shape of y to (n_samples,), for example using ravel().\n",
            "  estimator.fit(X_train, y_train, **fit_params)\n",
            "/Users/ag78400/opt/anaconda3/envs/AI_for_Healthcare/lib/python3.7/site-packages/sklearn/model_selection/_validation.py:593: DataConversionWarning: A column-vector y was passed when a 1d array was expected. Please change the shape of y to (n_samples,), for example using ravel().\n",
            "  estimator.fit(X_train, y_train, **fit_params)\n",
            "/Users/ag78400/opt/anaconda3/envs/AI_for_Healthcare/lib/python3.7/site-packages/sklearn/model_selection/_validation.py:593: DataConversionWarning: A column-vector y was passed when a 1d array was expected. Please change the shape of y to (n_samples,), for example using ravel().\n",
            "  estimator.fit(X_train, y_train, **fit_params)\n",
            "/Users/ag78400/opt/anaconda3/envs/AI_for_Healthcare/lib/python3.7/site-packages/sklearn/model_selection/_validation.py:593: DataConversionWarning: A column-vector y was passed when a 1d array was expected. Please change the shape of y to (n_samples,), for example using ravel().\n",
            "  estimator.fit(X_train, y_train, **fit_params)\n",
            "/Users/ag78400/opt/anaconda3/envs/AI_for_Healthcare/lib/python3.7/site-packages/sklearn/model_selection/_validation.py:593: DataConversionWarning: A column-vector y was passed when a 1d array was expected. Please change the shape of y to (n_samples,), for example using ravel().\n",
            "  estimator.fit(X_train, y_train, **fit_params)\n",
            "/Users/ag78400/opt/anaconda3/envs/AI_for_Healthcare/lib/python3.7/site-packages/sklearn/model_selection/_validation.py:593: DataConversionWarning: A column-vector y was passed when a 1d array was expected. Please change the shape of y to (n_samples,), for example using ravel().\n",
            "  estimator.fit(X_train, y_train, **fit_params)\n",
            "/Users/ag78400/opt/anaconda3/envs/AI_for_Healthcare/lib/python3.7/site-packages/sklearn/model_selection/_validation.py:593: DataConversionWarning: A column-vector y was passed when a 1d array was expected. Please change the shape of y to (n_samples,), for example using ravel().\n",
            "  estimator.fit(X_train, y_train, **fit_params)\n",
            "/Users/ag78400/opt/anaconda3/envs/AI_for_Healthcare/lib/python3.7/site-packages/sklearn/model_selection/_validation.py:593: DataConversionWarning: A column-vector y was passed when a 1d array was expected. Please change the shape of y to (n_samples,), for example using ravel().\n",
            "  estimator.fit(X_train, y_train, **fit_params)\n",
            "/Users/ag78400/opt/anaconda3/envs/AI_for_Healthcare/lib/python3.7/site-packages/sklearn/model_selection/_validation.py:593: DataConversionWarning: A column-vector y was passed when a 1d array was expected. Please change the shape of y to (n_samples,), for example using ravel().\n",
            "  estimator.fit(X_train, y_train, **fit_params)\n",
            "/Users/ag78400/opt/anaconda3/envs/AI_for_Healthcare/lib/python3.7/site-packages/sklearn/model_selection/_validation.py:593: DataConversionWarning: A column-vector y was passed when a 1d array was expected. Please change the shape of y to (n_samples,), for example using ravel().\n",
            "  estimator.fit(X_train, y_train, **fit_params)\n"
          ],
          "name": "stderr"
        },
        {
          "output_type": "stream",
          "text": [
            "/Users/ag78400/opt/anaconda3/envs/AI_for_Healthcare/lib/python3.7/site-packages/sklearn/model_selection/_validation.py:593: DataConversionWarning: A column-vector y was passed when a 1d array was expected. Please change the shape of y to (n_samples,), for example using ravel().\n",
            "  estimator.fit(X_train, y_train, **fit_params)\n",
            "/Users/ag78400/opt/anaconda3/envs/AI_for_Healthcare/lib/python3.7/site-packages/sklearn/model_selection/_validation.py:593: DataConversionWarning: A column-vector y was passed when a 1d array was expected. Please change the shape of y to (n_samples,), for example using ravel().\n",
            "  estimator.fit(X_train, y_train, **fit_params)\n",
            "/Users/ag78400/opt/anaconda3/envs/AI_for_Healthcare/lib/python3.7/site-packages/sklearn/model_selection/_validation.py:593: DataConversionWarning: A column-vector y was passed when a 1d array was expected. Please change the shape of y to (n_samples,), for example using ravel().\n",
            "  estimator.fit(X_train, y_train, **fit_params)\n",
            "/Users/ag78400/opt/anaconda3/envs/AI_for_Healthcare/lib/python3.7/site-packages/sklearn/model_selection/_validation.py:593: DataConversionWarning: A column-vector y was passed when a 1d array was expected. Please change the shape of y to (n_samples,), for example using ravel().\n",
            "  estimator.fit(X_train, y_train, **fit_params)\n",
            "/Users/ag78400/opt/anaconda3/envs/AI_for_Healthcare/lib/python3.7/site-packages/sklearn/model_selection/_validation.py:593: DataConversionWarning: A column-vector y was passed when a 1d array was expected. Please change the shape of y to (n_samples,), for example using ravel().\n",
            "  estimator.fit(X_train, y_train, **fit_params)\n",
            "/Users/ag78400/opt/anaconda3/envs/AI_for_Healthcare/lib/python3.7/site-packages/sklearn/model_selection/_validation.py:593: DataConversionWarning: A column-vector y was passed when a 1d array was expected. Please change the shape of y to (n_samples,), for example using ravel().\n",
            "  estimator.fit(X_train, y_train, **fit_params)\n",
            "/Users/ag78400/opt/anaconda3/envs/AI_for_Healthcare/lib/python3.7/site-packages/sklearn/model_selection/_validation.py:593: DataConversionWarning: A column-vector y was passed when a 1d array was expected. Please change the shape of y to (n_samples,), for example using ravel().\n",
            "  estimator.fit(X_train, y_train, **fit_params)\n",
            "/Users/ag78400/opt/anaconda3/envs/AI_for_Healthcare/lib/python3.7/site-packages/sklearn/model_selection/_validation.py:593: DataConversionWarning: A column-vector y was passed when a 1d array was expected. Please change the shape of y to (n_samples,), for example using ravel().\n",
            "  estimator.fit(X_train, y_train, **fit_params)\n",
            "/Users/ag78400/opt/anaconda3/envs/AI_for_Healthcare/lib/python3.7/site-packages/sklearn/model_selection/_validation.py:593: DataConversionWarning: A column-vector y was passed when a 1d array was expected. Please change the shape of y to (n_samples,), for example using ravel().\n",
            "  estimator.fit(X_train, y_train, **fit_params)\n",
            "/Users/ag78400/opt/anaconda3/envs/AI_for_Healthcare/lib/python3.7/site-packages/sklearn/model_selection/_validation.py:593: DataConversionWarning: A column-vector y was passed when a 1d array was expected. Please change the shape of y to (n_samples,), for example using ravel().\n",
            "  estimator.fit(X_train, y_train, **fit_params)\n",
            "/Users/ag78400/opt/anaconda3/envs/AI_for_Healthcare/lib/python3.7/site-packages/sklearn/model_selection/_validation.py:593: DataConversionWarning: A column-vector y was passed when a 1d array was expected. Please change the shape of y to (n_samples,), for example using ravel().\n",
            "  estimator.fit(X_train, y_train, **fit_params)\n",
            "/Users/ag78400/opt/anaconda3/envs/AI_for_Healthcare/lib/python3.7/site-packages/sklearn/model_selection/_validation.py:593: DataConversionWarning: A column-vector y was passed when a 1d array was expected. Please change the shape of y to (n_samples,), for example using ravel().\n",
            "  estimator.fit(X_train, y_train, **fit_params)\n",
            "/Users/ag78400/opt/anaconda3/envs/AI_for_Healthcare/lib/python3.7/site-packages/sklearn/model_selection/_validation.py:593: DataConversionWarning: A column-vector y was passed when a 1d array was expected. Please change the shape of y to (n_samples,), for example using ravel().\n",
            "  estimator.fit(X_train, y_train, **fit_params)\n",
            "/Users/ag78400/opt/anaconda3/envs/AI_for_Healthcare/lib/python3.7/site-packages/sklearn/model_selection/_validation.py:593: DataConversionWarning: A column-vector y was passed when a 1d array was expected. Please change the shape of y to (n_samples,), for example using ravel().\n",
            "  estimator.fit(X_train, y_train, **fit_params)\n",
            "/Users/ag78400/opt/anaconda3/envs/AI_for_Healthcare/lib/python3.7/site-packages/sklearn/model_selection/_validation.py:593: DataConversionWarning: A column-vector y was passed when a 1d array was expected. Please change the shape of y to (n_samples,), for example using ravel().\n",
            "  estimator.fit(X_train, y_train, **fit_params)\n",
            "/Users/ag78400/opt/anaconda3/envs/AI_for_Healthcare/lib/python3.7/site-packages/sklearn/model_selection/_validation.py:593: DataConversionWarning: A column-vector y was passed when a 1d array was expected. Please change the shape of y to (n_samples,), for example using ravel().\n",
            "  estimator.fit(X_train, y_train, **fit_params)\n",
            "/Users/ag78400/opt/anaconda3/envs/AI_for_Healthcare/lib/python3.7/site-packages/sklearn/model_selection/_validation.py:593: DataConversionWarning: A column-vector y was passed when a 1d array was expected. Please change the shape of y to (n_samples,), for example using ravel().\n",
            "  estimator.fit(X_train, y_train, **fit_params)\n",
            "/Users/ag78400/opt/anaconda3/envs/AI_for_Healthcare/lib/python3.7/site-packages/sklearn/model_selection/_validation.py:593: DataConversionWarning: A column-vector y was passed when a 1d array was expected. Please change the shape of y to (n_samples,), for example using ravel().\n",
            "  estimator.fit(X_train, y_train, **fit_params)\n",
            "/Users/ag78400/opt/anaconda3/envs/AI_for_Healthcare/lib/python3.7/site-packages/sklearn/model_selection/_validation.py:593: DataConversionWarning: A column-vector y was passed when a 1d array was expected. Please change the shape of y to (n_samples,), for example using ravel().\n",
            "  estimator.fit(X_train, y_train, **fit_params)\n",
            "/Users/ag78400/opt/anaconda3/envs/AI_for_Healthcare/lib/python3.7/site-packages/sklearn/model_selection/_validation.py:593: DataConversionWarning: A column-vector y was passed when a 1d array was expected. Please change the shape of y to (n_samples,), for example using ravel().\n",
            "  estimator.fit(X_train, y_train, **fit_params)\n",
            "/Users/ag78400/opt/anaconda3/envs/AI_for_Healthcare/lib/python3.7/site-packages/sklearn/model_selection/_validation.py:593: DataConversionWarning: A column-vector y was passed when a 1d array was expected. Please change the shape of y to (n_samples,), for example using ravel().\n",
            "  estimator.fit(X_train, y_train, **fit_params)\n",
            "/Users/ag78400/opt/anaconda3/envs/AI_for_Healthcare/lib/python3.7/site-packages/sklearn/model_selection/_validation.py:593: DataConversionWarning: A column-vector y was passed when a 1d array was expected. Please change the shape of y to (n_samples,), for example using ravel().\n",
            "  estimator.fit(X_train, y_train, **fit_params)\n",
            "/Users/ag78400/opt/anaconda3/envs/AI_for_Healthcare/lib/python3.7/site-packages/sklearn/model_selection/_validation.py:593: DataConversionWarning: A column-vector y was passed when a 1d array was expected. Please change the shape of y to (n_samples,), for example using ravel().\n",
            "  estimator.fit(X_train, y_train, **fit_params)\n",
            "/Users/ag78400/opt/anaconda3/envs/AI_for_Healthcare/lib/python3.7/site-packages/sklearn/model_selection/_validation.py:593: DataConversionWarning: A column-vector y was passed when a 1d array was expected. Please change the shape of y to (n_samples,), for example using ravel().\n",
            "  estimator.fit(X_train, y_train, **fit_params)\n",
            "/Users/ag78400/opt/anaconda3/envs/AI_for_Healthcare/lib/python3.7/site-packages/sklearn/model_selection/_validation.py:593: DataConversionWarning: A column-vector y was passed when a 1d array was expected. Please change the shape of y to (n_samples,), for example using ravel().\n",
            "  estimator.fit(X_train, y_train, **fit_params)\n",
            "/Users/ag78400/opt/anaconda3/envs/AI_for_Healthcare/lib/python3.7/site-packages/sklearn/model_selection/_validation.py:593: DataConversionWarning: A column-vector y was passed when a 1d array was expected. Please change the shape of y to (n_samples,), for example using ravel().\n",
            "  estimator.fit(X_train, y_train, **fit_params)\n"
          ],
          "name": "stderr"
        },
        {
          "output_type": "stream",
          "text": [
            "/Users/ag78400/opt/anaconda3/envs/AI_for_Healthcare/lib/python3.7/site-packages/sklearn/model_selection/_validation.py:593: DataConversionWarning: A column-vector y was passed when a 1d array was expected. Please change the shape of y to (n_samples,), for example using ravel().\n",
            "  estimator.fit(X_train, y_train, **fit_params)\n",
            "/Users/ag78400/opt/anaconda3/envs/AI_for_Healthcare/lib/python3.7/site-packages/sklearn/model_selection/_validation.py:593: DataConversionWarning: A column-vector y was passed when a 1d array was expected. Please change the shape of y to (n_samples,), for example using ravel().\n",
            "  estimator.fit(X_train, y_train, **fit_params)\n",
            "/Users/ag78400/opt/anaconda3/envs/AI_for_Healthcare/lib/python3.7/site-packages/sklearn/model_selection/_validation.py:593: DataConversionWarning: A column-vector y was passed when a 1d array was expected. Please change the shape of y to (n_samples,), for example using ravel().\n",
            "  estimator.fit(X_train, y_train, **fit_params)\n",
            "/Users/ag78400/opt/anaconda3/envs/AI_for_Healthcare/lib/python3.7/site-packages/sklearn/model_selection/_validation.py:593: DataConversionWarning: A column-vector y was passed when a 1d array was expected. Please change the shape of y to (n_samples,), for example using ravel().\n",
            "  estimator.fit(X_train, y_train, **fit_params)\n",
            "/Users/ag78400/opt/anaconda3/envs/AI_for_Healthcare/lib/python3.7/site-packages/sklearn/model_selection/_validation.py:593: DataConversionWarning: A column-vector y was passed when a 1d array was expected. Please change the shape of y to (n_samples,), for example using ravel().\n",
            "  estimator.fit(X_train, y_train, **fit_params)\n",
            "/Users/ag78400/opt/anaconda3/envs/AI_for_Healthcare/lib/python3.7/site-packages/sklearn/model_selection/_validation.py:593: DataConversionWarning: A column-vector y was passed when a 1d array was expected. Please change the shape of y to (n_samples,), for example using ravel().\n",
            "  estimator.fit(X_train, y_train, **fit_params)\n",
            "/Users/ag78400/opt/anaconda3/envs/AI_for_Healthcare/lib/python3.7/site-packages/sklearn/model_selection/_validation.py:593: DataConversionWarning: A column-vector y was passed when a 1d array was expected. Please change the shape of y to (n_samples,), for example using ravel().\n",
            "  estimator.fit(X_train, y_train, **fit_params)\n",
            "/Users/ag78400/opt/anaconda3/envs/AI_for_Healthcare/lib/python3.7/site-packages/sklearn/model_selection/_validation.py:593: DataConversionWarning: A column-vector y was passed when a 1d array was expected. Please change the shape of y to (n_samples,), for example using ravel().\n",
            "  estimator.fit(X_train, y_train, **fit_params)\n",
            "/Users/ag78400/opt/anaconda3/envs/AI_for_Healthcare/lib/python3.7/site-packages/sklearn/model_selection/_validation.py:593: DataConversionWarning: A column-vector y was passed when a 1d array was expected. Please change the shape of y to (n_samples,), for example using ravel().\n",
            "  estimator.fit(X_train, y_train, **fit_params)\n",
            "/Users/ag78400/opt/anaconda3/envs/AI_for_Healthcare/lib/python3.7/site-packages/sklearn/model_selection/_validation.py:593: DataConversionWarning: A column-vector y was passed when a 1d array was expected. Please change the shape of y to (n_samples,), for example using ravel().\n",
            "  estimator.fit(X_train, y_train, **fit_params)\n",
            "/Users/ag78400/opt/anaconda3/envs/AI_for_Healthcare/lib/python3.7/site-packages/sklearn/model_selection/_validation.py:593: DataConversionWarning: A column-vector y was passed when a 1d array was expected. Please change the shape of y to (n_samples,), for example using ravel().\n",
            "  estimator.fit(X_train, y_train, **fit_params)\n",
            "/Users/ag78400/opt/anaconda3/envs/AI_for_Healthcare/lib/python3.7/site-packages/sklearn/model_selection/_validation.py:593: DataConversionWarning: A column-vector y was passed when a 1d array was expected. Please change the shape of y to (n_samples,), for example using ravel().\n",
            "  estimator.fit(X_train, y_train, **fit_params)\n",
            "/Users/ag78400/opt/anaconda3/envs/AI_for_Healthcare/lib/python3.7/site-packages/sklearn/model_selection/_validation.py:593: DataConversionWarning: A column-vector y was passed when a 1d array was expected. Please change the shape of y to (n_samples,), for example using ravel().\n",
            "  estimator.fit(X_train, y_train, **fit_params)\n",
            "/Users/ag78400/opt/anaconda3/envs/AI_for_Healthcare/lib/python3.7/site-packages/sklearn/model_selection/_validation.py:593: DataConversionWarning: A column-vector y was passed when a 1d array was expected. Please change the shape of y to (n_samples,), for example using ravel().\n",
            "  estimator.fit(X_train, y_train, **fit_params)\n",
            "/Users/ag78400/opt/anaconda3/envs/AI_for_Healthcare/lib/python3.7/site-packages/sklearn/model_selection/_validation.py:593: DataConversionWarning: A column-vector y was passed when a 1d array was expected. Please change the shape of y to (n_samples,), for example using ravel().\n",
            "  estimator.fit(X_train, y_train, **fit_params)\n",
            "/Users/ag78400/opt/anaconda3/envs/AI_for_Healthcare/lib/python3.7/site-packages/sklearn/model_selection/_validation.py:593: DataConversionWarning: A column-vector y was passed when a 1d array was expected. Please change the shape of y to (n_samples,), for example using ravel().\n",
            "  estimator.fit(X_train, y_train, **fit_params)\n",
            "/Users/ag78400/opt/anaconda3/envs/AI_for_Healthcare/lib/python3.7/site-packages/sklearn/model_selection/_validation.py:593: DataConversionWarning: A column-vector y was passed when a 1d array was expected. Please change the shape of y to (n_samples,), for example using ravel().\n",
            "  estimator.fit(X_train, y_train, **fit_params)\n",
            "/Users/ag78400/opt/anaconda3/envs/AI_for_Healthcare/lib/python3.7/site-packages/sklearn/model_selection/_validation.py:593: DataConversionWarning: A column-vector y was passed when a 1d array was expected. Please change the shape of y to (n_samples,), for example using ravel().\n",
            "  estimator.fit(X_train, y_train, **fit_params)\n",
            "/Users/ag78400/opt/anaconda3/envs/AI_for_Healthcare/lib/python3.7/site-packages/sklearn/model_selection/_validation.py:593: DataConversionWarning: A column-vector y was passed when a 1d array was expected. Please change the shape of y to (n_samples,), for example using ravel().\n",
            "  estimator.fit(X_train, y_train, **fit_params)\n",
            "/Users/ag78400/opt/anaconda3/envs/AI_for_Healthcare/lib/python3.7/site-packages/sklearn/model_selection/_validation.py:593: DataConversionWarning: A column-vector y was passed when a 1d array was expected. Please change the shape of y to (n_samples,), for example using ravel().\n",
            "  estimator.fit(X_train, y_train, **fit_params)\n",
            "/Users/ag78400/opt/anaconda3/envs/AI_for_Healthcare/lib/python3.7/site-packages/sklearn/model_selection/_validation.py:593: DataConversionWarning: A column-vector y was passed when a 1d array was expected. Please change the shape of y to (n_samples,), for example using ravel().\n",
            "  estimator.fit(X_train, y_train, **fit_params)\n",
            "/Users/ag78400/opt/anaconda3/envs/AI_for_Healthcare/lib/python3.7/site-packages/sklearn/model_selection/_validation.py:593: DataConversionWarning: A column-vector y was passed when a 1d array was expected. Please change the shape of y to (n_samples,), for example using ravel().\n",
            "  estimator.fit(X_train, y_train, **fit_params)\n",
            "/Users/ag78400/opt/anaconda3/envs/AI_for_Healthcare/lib/python3.7/site-packages/sklearn/model_selection/_validation.py:593: DataConversionWarning: A column-vector y was passed when a 1d array was expected. Please change the shape of y to (n_samples,), for example using ravel().\n",
            "  estimator.fit(X_train, y_train, **fit_params)\n",
            "/Users/ag78400/opt/anaconda3/envs/AI_for_Healthcare/lib/python3.7/site-packages/sklearn/model_selection/_validation.py:593: DataConversionWarning: A column-vector y was passed when a 1d array was expected. Please change the shape of y to (n_samples,), for example using ravel().\n",
            "  estimator.fit(X_train, y_train, **fit_params)\n",
            "/Users/ag78400/opt/anaconda3/envs/AI_for_Healthcare/lib/python3.7/site-packages/sklearn/model_selection/_validation.py:593: DataConversionWarning: A column-vector y was passed when a 1d array was expected. Please change the shape of y to (n_samples,), for example using ravel().\n",
            "  estimator.fit(X_train, y_train, **fit_params)\n",
            "/Users/ag78400/opt/anaconda3/envs/AI_for_Healthcare/lib/python3.7/site-packages/sklearn/model_selection/_validation.py:593: DataConversionWarning: A column-vector y was passed when a 1d array was expected. Please change the shape of y to (n_samples,), for example using ravel().\n",
            "  estimator.fit(X_train, y_train, **fit_params)\n"
          ],
          "name": "stderr"
        },
        {
          "output_type": "stream",
          "text": [
            "/Users/ag78400/opt/anaconda3/envs/AI_for_Healthcare/lib/python3.7/site-packages/sklearn/model_selection/_validation.py:593: DataConversionWarning: A column-vector y was passed when a 1d array was expected. Please change the shape of y to (n_samples,), for example using ravel().\n",
            "  estimator.fit(X_train, y_train, **fit_params)\n",
            "/Users/ag78400/opt/anaconda3/envs/AI_for_Healthcare/lib/python3.7/site-packages/sklearn/model_selection/_validation.py:593: DataConversionWarning: A column-vector y was passed when a 1d array was expected. Please change the shape of y to (n_samples,), for example using ravel().\n",
            "  estimator.fit(X_train, y_train, **fit_params)\n",
            "/Users/ag78400/opt/anaconda3/envs/AI_for_Healthcare/lib/python3.7/site-packages/sklearn/model_selection/_validation.py:593: DataConversionWarning: A column-vector y was passed when a 1d array was expected. Please change the shape of y to (n_samples,), for example using ravel().\n",
            "  estimator.fit(X_train, y_train, **fit_params)\n",
            "/Users/ag78400/opt/anaconda3/envs/AI_for_Healthcare/lib/python3.7/site-packages/sklearn/model_selection/_validation.py:593: DataConversionWarning: A column-vector y was passed when a 1d array was expected. Please change the shape of y to (n_samples,), for example using ravel().\n",
            "  estimator.fit(X_train, y_train, **fit_params)\n",
            "/Users/ag78400/opt/anaconda3/envs/AI_for_Healthcare/lib/python3.7/site-packages/sklearn/model_selection/_validation.py:593: DataConversionWarning: A column-vector y was passed when a 1d array was expected. Please change the shape of y to (n_samples,), for example using ravel().\n",
            "  estimator.fit(X_train, y_train, **fit_params)\n",
            "/Users/ag78400/opt/anaconda3/envs/AI_for_Healthcare/lib/python3.7/site-packages/sklearn/model_selection/_validation.py:593: DataConversionWarning: A column-vector y was passed when a 1d array was expected. Please change the shape of y to (n_samples,), for example using ravel().\n",
            "  estimator.fit(X_train, y_train, **fit_params)\n",
            "/Users/ag78400/opt/anaconda3/envs/AI_for_Healthcare/lib/python3.7/site-packages/sklearn/model_selection/_validation.py:593: DataConversionWarning: A column-vector y was passed when a 1d array was expected. Please change the shape of y to (n_samples,), for example using ravel().\n",
            "  estimator.fit(X_train, y_train, **fit_params)\n",
            "/Users/ag78400/opt/anaconda3/envs/AI_for_Healthcare/lib/python3.7/site-packages/sklearn/model_selection/_validation.py:593: DataConversionWarning: A column-vector y was passed when a 1d array was expected. Please change the shape of y to (n_samples,), for example using ravel().\n",
            "  estimator.fit(X_train, y_train, **fit_params)\n",
            "/Users/ag78400/opt/anaconda3/envs/AI_for_Healthcare/lib/python3.7/site-packages/sklearn/model_selection/_validation.py:593: DataConversionWarning: A column-vector y was passed when a 1d array was expected. Please change the shape of y to (n_samples,), for example using ravel().\n",
            "  estimator.fit(X_train, y_train, **fit_params)\n",
            "/Users/ag78400/opt/anaconda3/envs/AI_for_Healthcare/lib/python3.7/site-packages/sklearn/model_selection/_validation.py:593: DataConversionWarning: A column-vector y was passed when a 1d array was expected. Please change the shape of y to (n_samples,), for example using ravel().\n",
            "  estimator.fit(X_train, y_train, **fit_params)\n",
            "/Users/ag78400/opt/anaconda3/envs/AI_for_Healthcare/lib/python3.7/site-packages/sklearn/model_selection/_validation.py:593: DataConversionWarning: A column-vector y was passed when a 1d array was expected. Please change the shape of y to (n_samples,), for example using ravel().\n",
            "  estimator.fit(X_train, y_train, **fit_params)\n",
            "/Users/ag78400/opt/anaconda3/envs/AI_for_Healthcare/lib/python3.7/site-packages/sklearn/model_selection/_validation.py:593: DataConversionWarning: A column-vector y was passed when a 1d array was expected. Please change the shape of y to (n_samples,), for example using ravel().\n",
            "  estimator.fit(X_train, y_train, **fit_params)\n",
            "/Users/ag78400/opt/anaconda3/envs/AI_for_Healthcare/lib/python3.7/site-packages/sklearn/model_selection/_validation.py:593: DataConversionWarning: A column-vector y was passed when a 1d array was expected. Please change the shape of y to (n_samples,), for example using ravel().\n",
            "  estimator.fit(X_train, y_train, **fit_params)\n",
            "/Users/ag78400/opt/anaconda3/envs/AI_for_Healthcare/lib/python3.7/site-packages/sklearn/model_selection/_validation.py:593: DataConversionWarning: A column-vector y was passed when a 1d array was expected. Please change the shape of y to (n_samples,), for example using ravel().\n",
            "  estimator.fit(X_train, y_train, **fit_params)\n",
            "/Users/ag78400/opt/anaconda3/envs/AI_for_Healthcare/lib/python3.7/site-packages/sklearn/model_selection/_validation.py:593: DataConversionWarning: A column-vector y was passed when a 1d array was expected. Please change the shape of y to (n_samples,), for example using ravel().\n",
            "  estimator.fit(X_train, y_train, **fit_params)\n",
            "/Users/ag78400/opt/anaconda3/envs/AI_for_Healthcare/lib/python3.7/site-packages/sklearn/model_selection/_validation.py:593: DataConversionWarning: A column-vector y was passed when a 1d array was expected. Please change the shape of y to (n_samples,), for example using ravel().\n",
            "  estimator.fit(X_train, y_train, **fit_params)\n",
            "/Users/ag78400/opt/anaconda3/envs/AI_for_Healthcare/lib/python3.7/site-packages/sklearn/model_selection/_validation.py:593: DataConversionWarning: A column-vector y was passed when a 1d array was expected. Please change the shape of y to (n_samples,), for example using ravel().\n",
            "  estimator.fit(X_train, y_train, **fit_params)\n",
            "/Users/ag78400/opt/anaconda3/envs/AI_for_Healthcare/lib/python3.7/site-packages/sklearn/model_selection/_validation.py:593: DataConversionWarning: A column-vector y was passed when a 1d array was expected. Please change the shape of y to (n_samples,), for example using ravel().\n",
            "  estimator.fit(X_train, y_train, **fit_params)\n",
            "/Users/ag78400/opt/anaconda3/envs/AI_for_Healthcare/lib/python3.7/site-packages/sklearn/model_selection/_validation.py:593: DataConversionWarning: A column-vector y was passed when a 1d array was expected. Please change the shape of y to (n_samples,), for example using ravel().\n",
            "  estimator.fit(X_train, y_train, **fit_params)\n",
            "/Users/ag78400/opt/anaconda3/envs/AI_for_Healthcare/lib/python3.7/site-packages/sklearn/model_selection/_validation.py:593: DataConversionWarning: A column-vector y was passed when a 1d array was expected. Please change the shape of y to (n_samples,), for example using ravel().\n",
            "  estimator.fit(X_train, y_train, **fit_params)\n",
            "/Users/ag78400/opt/anaconda3/envs/AI_for_Healthcare/lib/python3.7/site-packages/sklearn/model_selection/_validation.py:593: DataConversionWarning: A column-vector y was passed when a 1d array was expected. Please change the shape of y to (n_samples,), for example using ravel().\n",
            "  estimator.fit(X_train, y_train, **fit_params)\n",
            "/Users/ag78400/opt/anaconda3/envs/AI_for_Healthcare/lib/python3.7/site-packages/sklearn/model_selection/_validation.py:593: DataConversionWarning: A column-vector y was passed when a 1d array was expected. Please change the shape of y to (n_samples,), for example using ravel().\n",
            "  estimator.fit(X_train, y_train, **fit_params)\n",
            "/Users/ag78400/opt/anaconda3/envs/AI_for_Healthcare/lib/python3.7/site-packages/sklearn/model_selection/_validation.py:593: DataConversionWarning: A column-vector y was passed when a 1d array was expected. Please change the shape of y to (n_samples,), for example using ravel().\n",
            "  estimator.fit(X_train, y_train, **fit_params)\n",
            "/Users/ag78400/opt/anaconda3/envs/AI_for_Healthcare/lib/python3.7/site-packages/sklearn/model_selection/_validation.py:593: DataConversionWarning: A column-vector y was passed when a 1d array was expected. Please change the shape of y to (n_samples,), for example using ravel().\n",
            "  estimator.fit(X_train, y_train, **fit_params)\n",
            "/Users/ag78400/opt/anaconda3/envs/AI_for_Healthcare/lib/python3.7/site-packages/sklearn/model_selection/_validation.py:593: DataConversionWarning: A column-vector y was passed when a 1d array was expected. Please change the shape of y to (n_samples,), for example using ravel().\n",
            "  estimator.fit(X_train, y_train, **fit_params)\n",
            "/Users/ag78400/opt/anaconda3/envs/AI_for_Healthcare/lib/python3.7/site-packages/sklearn/model_selection/_validation.py:593: DataConversionWarning: A column-vector y was passed when a 1d array was expected. Please change the shape of y to (n_samples,), for example using ravel().\n",
            "  estimator.fit(X_train, y_train, **fit_params)\n"
          ],
          "name": "stderr"
        },
        {
          "output_type": "stream",
          "text": [
            "/Users/ag78400/opt/anaconda3/envs/AI_for_Healthcare/lib/python3.7/site-packages/sklearn/model_selection/_validation.py:593: DataConversionWarning: A column-vector y was passed when a 1d array was expected. Please change the shape of y to (n_samples,), for example using ravel().\n",
            "  estimator.fit(X_train, y_train, **fit_params)\n",
            "/Users/ag78400/opt/anaconda3/envs/AI_for_Healthcare/lib/python3.7/site-packages/sklearn/model_selection/_validation.py:593: DataConversionWarning: A column-vector y was passed when a 1d array was expected. Please change the shape of y to (n_samples,), for example using ravel().\n",
            "  estimator.fit(X_train, y_train, **fit_params)\n",
            "/Users/ag78400/opt/anaconda3/envs/AI_for_Healthcare/lib/python3.7/site-packages/sklearn/model_selection/_validation.py:593: DataConversionWarning: A column-vector y was passed when a 1d array was expected. Please change the shape of y to (n_samples,), for example using ravel().\n",
            "  estimator.fit(X_train, y_train, **fit_params)\n",
            "/Users/ag78400/opt/anaconda3/envs/AI_for_Healthcare/lib/python3.7/site-packages/sklearn/model_selection/_validation.py:593: DataConversionWarning: A column-vector y was passed when a 1d array was expected. Please change the shape of y to (n_samples,), for example using ravel().\n",
            "  estimator.fit(X_train, y_train, **fit_params)\n",
            "/Users/ag78400/opt/anaconda3/envs/AI_for_Healthcare/lib/python3.7/site-packages/sklearn/model_selection/_validation.py:593: DataConversionWarning: A column-vector y was passed when a 1d array was expected. Please change the shape of y to (n_samples,), for example using ravel().\n",
            "  estimator.fit(X_train, y_train, **fit_params)\n",
            "/Users/ag78400/opt/anaconda3/envs/AI_for_Healthcare/lib/python3.7/site-packages/sklearn/model_selection/_validation.py:593: DataConversionWarning: A column-vector y was passed when a 1d array was expected. Please change the shape of y to (n_samples,), for example using ravel().\n",
            "  estimator.fit(X_train, y_train, **fit_params)\n",
            "/Users/ag78400/opt/anaconda3/envs/AI_for_Healthcare/lib/python3.7/site-packages/sklearn/model_selection/_validation.py:593: DataConversionWarning: A column-vector y was passed when a 1d array was expected. Please change the shape of y to (n_samples,), for example using ravel().\n",
            "  estimator.fit(X_train, y_train, **fit_params)\n",
            "/Users/ag78400/opt/anaconda3/envs/AI_for_Healthcare/lib/python3.7/site-packages/sklearn/model_selection/_validation.py:593: DataConversionWarning: A column-vector y was passed when a 1d array was expected. Please change the shape of y to (n_samples,), for example using ravel().\n",
            "  estimator.fit(X_train, y_train, **fit_params)\n",
            "/Users/ag78400/opt/anaconda3/envs/AI_for_Healthcare/lib/python3.7/site-packages/sklearn/model_selection/_validation.py:593: DataConversionWarning: A column-vector y was passed when a 1d array was expected. Please change the shape of y to (n_samples,), for example using ravel().\n",
            "  estimator.fit(X_train, y_train, **fit_params)\n",
            "/Users/ag78400/opt/anaconda3/envs/AI_for_Healthcare/lib/python3.7/site-packages/sklearn/model_selection/_validation.py:593: DataConversionWarning: A column-vector y was passed when a 1d array was expected. Please change the shape of y to (n_samples,), for example using ravel().\n",
            "  estimator.fit(X_train, y_train, **fit_params)\n",
            "/Users/ag78400/opt/anaconda3/envs/AI_for_Healthcare/lib/python3.7/site-packages/sklearn/model_selection/_validation.py:593: DataConversionWarning: A column-vector y was passed when a 1d array was expected. Please change the shape of y to (n_samples,), for example using ravel().\n",
            "  estimator.fit(X_train, y_train, **fit_params)\n",
            "/Users/ag78400/opt/anaconda3/envs/AI_for_Healthcare/lib/python3.7/site-packages/sklearn/model_selection/_validation.py:593: DataConversionWarning: A column-vector y was passed when a 1d array was expected. Please change the shape of y to (n_samples,), for example using ravel().\n",
            "  estimator.fit(X_train, y_train, **fit_params)\n",
            "/Users/ag78400/opt/anaconda3/envs/AI_for_Healthcare/lib/python3.7/site-packages/sklearn/model_selection/_validation.py:593: DataConversionWarning: A column-vector y was passed when a 1d array was expected. Please change the shape of y to (n_samples,), for example using ravel().\n",
            "  estimator.fit(X_train, y_train, **fit_params)\n",
            "/Users/ag78400/opt/anaconda3/envs/AI_for_Healthcare/lib/python3.7/site-packages/sklearn/model_selection/_validation.py:593: DataConversionWarning: A column-vector y was passed when a 1d array was expected. Please change the shape of y to (n_samples,), for example using ravel().\n",
            "  estimator.fit(X_train, y_train, **fit_params)\n",
            "/Users/ag78400/opt/anaconda3/envs/AI_for_Healthcare/lib/python3.7/site-packages/sklearn/model_selection/_validation.py:593: DataConversionWarning: A column-vector y was passed when a 1d array was expected. Please change the shape of y to (n_samples,), for example using ravel().\n",
            "  estimator.fit(X_train, y_train, **fit_params)\n",
            "/Users/ag78400/opt/anaconda3/envs/AI_for_Healthcare/lib/python3.7/site-packages/sklearn/model_selection/_validation.py:593: DataConversionWarning: A column-vector y was passed when a 1d array was expected. Please change the shape of y to (n_samples,), for example using ravel().\n",
            "  estimator.fit(X_train, y_train, **fit_params)\n",
            "/Users/ag78400/opt/anaconda3/envs/AI_for_Healthcare/lib/python3.7/site-packages/sklearn/model_selection/_validation.py:593: DataConversionWarning: A column-vector y was passed when a 1d array was expected. Please change the shape of y to (n_samples,), for example using ravel().\n",
            "  estimator.fit(X_train, y_train, **fit_params)\n",
            "/Users/ag78400/opt/anaconda3/envs/AI_for_Healthcare/lib/python3.7/site-packages/sklearn/model_selection/_validation.py:593: DataConversionWarning: A column-vector y was passed when a 1d array was expected. Please change the shape of y to (n_samples,), for example using ravel().\n",
            "  estimator.fit(X_train, y_train, **fit_params)\n",
            "/Users/ag78400/opt/anaconda3/envs/AI_for_Healthcare/lib/python3.7/site-packages/sklearn/model_selection/_validation.py:593: DataConversionWarning: A column-vector y was passed when a 1d array was expected. Please change the shape of y to (n_samples,), for example using ravel().\n",
            "  estimator.fit(X_train, y_train, **fit_params)\n",
            "/Users/ag78400/opt/anaconda3/envs/AI_for_Healthcare/lib/python3.7/site-packages/sklearn/model_selection/_validation.py:593: DataConversionWarning: A column-vector y was passed when a 1d array was expected. Please change the shape of y to (n_samples,), for example using ravel().\n",
            "  estimator.fit(X_train, y_train, **fit_params)\n",
            "/Users/ag78400/opt/anaconda3/envs/AI_for_Healthcare/lib/python3.7/site-packages/sklearn/model_selection/_validation.py:593: DataConversionWarning: A column-vector y was passed when a 1d array was expected. Please change the shape of y to (n_samples,), for example using ravel().\n",
            "  estimator.fit(X_train, y_train, **fit_params)\n",
            "/Users/ag78400/opt/anaconda3/envs/AI_for_Healthcare/lib/python3.7/site-packages/sklearn/model_selection/_validation.py:593: DataConversionWarning: A column-vector y was passed when a 1d array was expected. Please change the shape of y to (n_samples,), for example using ravel().\n",
            "  estimator.fit(X_train, y_train, **fit_params)\n",
            "/Users/ag78400/opt/anaconda3/envs/AI_for_Healthcare/lib/python3.7/site-packages/sklearn/model_selection/_validation.py:593: DataConversionWarning: A column-vector y was passed when a 1d array was expected. Please change the shape of y to (n_samples,), for example using ravel().\n",
            "  estimator.fit(X_train, y_train, **fit_params)\n",
            "/Users/ag78400/opt/anaconda3/envs/AI_for_Healthcare/lib/python3.7/site-packages/sklearn/model_selection/_validation.py:593: DataConversionWarning: A column-vector y was passed when a 1d array was expected. Please change the shape of y to (n_samples,), for example using ravel().\n",
            "  estimator.fit(X_train, y_train, **fit_params)\n",
            "/Users/ag78400/opt/anaconda3/envs/AI_for_Healthcare/lib/python3.7/site-packages/sklearn/model_selection/_validation.py:593: DataConversionWarning: A column-vector y was passed when a 1d array was expected. Please change the shape of y to (n_samples,), for example using ravel().\n",
            "  estimator.fit(X_train, y_train, **fit_params)\n",
            "/Users/ag78400/opt/anaconda3/envs/AI_for_Healthcare/lib/python3.7/site-packages/sklearn/model_selection/_validation.py:593: DataConversionWarning: A column-vector y was passed when a 1d array was expected. Please change the shape of y to (n_samples,), for example using ravel().\n",
            "  estimator.fit(X_train, y_train, **fit_params)\n"
          ],
          "name": "stderr"
        },
        {
          "output_type": "stream",
          "text": [
            "/Users/ag78400/opt/anaconda3/envs/AI_for_Healthcare/lib/python3.7/site-packages/sklearn/model_selection/_validation.py:593: DataConversionWarning: A column-vector y was passed when a 1d array was expected. Please change the shape of y to (n_samples,), for example using ravel().\n",
            "  estimator.fit(X_train, y_train, **fit_params)\n",
            "/Users/ag78400/opt/anaconda3/envs/AI_for_Healthcare/lib/python3.7/site-packages/sklearn/model_selection/_validation.py:593: DataConversionWarning: A column-vector y was passed when a 1d array was expected. Please change the shape of y to (n_samples,), for example using ravel().\n",
            "  estimator.fit(X_train, y_train, **fit_params)\n",
            "/Users/ag78400/opt/anaconda3/envs/AI_for_Healthcare/lib/python3.7/site-packages/sklearn/model_selection/_validation.py:593: DataConversionWarning: A column-vector y was passed when a 1d array was expected. Please change the shape of y to (n_samples,), for example using ravel().\n",
            "  estimator.fit(X_train, y_train, **fit_params)\n",
            "/Users/ag78400/opt/anaconda3/envs/AI_for_Healthcare/lib/python3.7/site-packages/sklearn/model_selection/_validation.py:593: DataConversionWarning: A column-vector y was passed when a 1d array was expected. Please change the shape of y to (n_samples,), for example using ravel().\n",
            "  estimator.fit(X_train, y_train, **fit_params)\n",
            "/Users/ag78400/opt/anaconda3/envs/AI_for_Healthcare/lib/python3.7/site-packages/sklearn/model_selection/_validation.py:593: DataConversionWarning: A column-vector y was passed when a 1d array was expected. Please change the shape of y to (n_samples,), for example using ravel().\n",
            "  estimator.fit(X_train, y_train, **fit_params)\n",
            "/Users/ag78400/opt/anaconda3/envs/AI_for_Healthcare/lib/python3.7/site-packages/sklearn/model_selection/_validation.py:593: DataConversionWarning: A column-vector y was passed when a 1d array was expected. Please change the shape of y to (n_samples,), for example using ravel().\n",
            "  estimator.fit(X_train, y_train, **fit_params)\n",
            "/Users/ag78400/opt/anaconda3/envs/AI_for_Healthcare/lib/python3.7/site-packages/sklearn/model_selection/_validation.py:593: DataConversionWarning: A column-vector y was passed when a 1d array was expected. Please change the shape of y to (n_samples,), for example using ravel().\n",
            "  estimator.fit(X_train, y_train, **fit_params)\n",
            "/Users/ag78400/opt/anaconda3/envs/AI_for_Healthcare/lib/python3.7/site-packages/sklearn/model_selection/_validation.py:593: DataConversionWarning: A column-vector y was passed when a 1d array was expected. Please change the shape of y to (n_samples,), for example using ravel().\n",
            "  estimator.fit(X_train, y_train, **fit_params)\n",
            "/Users/ag78400/opt/anaconda3/envs/AI_for_Healthcare/lib/python3.7/site-packages/sklearn/model_selection/_validation.py:593: DataConversionWarning: A column-vector y was passed when a 1d array was expected. Please change the shape of y to (n_samples,), for example using ravel().\n",
            "  estimator.fit(X_train, y_train, **fit_params)\n",
            "/Users/ag78400/opt/anaconda3/envs/AI_for_Healthcare/lib/python3.7/site-packages/sklearn/model_selection/_validation.py:593: DataConversionWarning: A column-vector y was passed when a 1d array was expected. Please change the shape of y to (n_samples,), for example using ravel().\n",
            "  estimator.fit(X_train, y_train, **fit_params)\n",
            "/Users/ag78400/opt/anaconda3/envs/AI_for_Healthcare/lib/python3.7/site-packages/sklearn/model_selection/_validation.py:593: DataConversionWarning: A column-vector y was passed when a 1d array was expected. Please change the shape of y to (n_samples,), for example using ravel().\n",
            "  estimator.fit(X_train, y_train, **fit_params)\n",
            "/Users/ag78400/opt/anaconda3/envs/AI_for_Healthcare/lib/python3.7/site-packages/sklearn/model_selection/_validation.py:593: DataConversionWarning: A column-vector y was passed when a 1d array was expected. Please change the shape of y to (n_samples,), for example using ravel().\n",
            "  estimator.fit(X_train, y_train, **fit_params)\n",
            "/Users/ag78400/opt/anaconda3/envs/AI_for_Healthcare/lib/python3.7/site-packages/sklearn/model_selection/_validation.py:593: DataConversionWarning: A column-vector y was passed when a 1d array was expected. Please change the shape of y to (n_samples,), for example using ravel().\n",
            "  estimator.fit(X_train, y_train, **fit_params)\n",
            "/Users/ag78400/opt/anaconda3/envs/AI_for_Healthcare/lib/python3.7/site-packages/sklearn/model_selection/_validation.py:593: DataConversionWarning: A column-vector y was passed when a 1d array was expected. Please change the shape of y to (n_samples,), for example using ravel().\n",
            "  estimator.fit(X_train, y_train, **fit_params)\n",
            "/Users/ag78400/opt/anaconda3/envs/AI_for_Healthcare/lib/python3.7/site-packages/sklearn/model_selection/_validation.py:593: DataConversionWarning: A column-vector y was passed when a 1d array was expected. Please change the shape of y to (n_samples,), for example using ravel().\n",
            "  estimator.fit(X_train, y_train, **fit_params)\n",
            "/Users/ag78400/opt/anaconda3/envs/AI_for_Healthcare/lib/python3.7/site-packages/sklearn/model_selection/_validation.py:593: DataConversionWarning: A column-vector y was passed when a 1d array was expected. Please change the shape of y to (n_samples,), for example using ravel().\n",
            "  estimator.fit(X_train, y_train, **fit_params)\n",
            "/Users/ag78400/opt/anaconda3/envs/AI_for_Healthcare/lib/python3.7/site-packages/sklearn/model_selection/_validation.py:593: DataConversionWarning: A column-vector y was passed when a 1d array was expected. Please change the shape of y to (n_samples,), for example using ravel().\n",
            "  estimator.fit(X_train, y_train, **fit_params)\n",
            "/Users/ag78400/opt/anaconda3/envs/AI_for_Healthcare/lib/python3.7/site-packages/sklearn/model_selection/_validation.py:593: DataConversionWarning: A column-vector y was passed when a 1d array was expected. Please change the shape of y to (n_samples,), for example using ravel().\n",
            "  estimator.fit(X_train, y_train, **fit_params)\n",
            "/Users/ag78400/opt/anaconda3/envs/AI_for_Healthcare/lib/python3.7/site-packages/sklearn/model_selection/_validation.py:593: DataConversionWarning: A column-vector y was passed when a 1d array was expected. Please change the shape of y to (n_samples,), for example using ravel().\n",
            "  estimator.fit(X_train, y_train, **fit_params)\n",
            "/Users/ag78400/opt/anaconda3/envs/AI_for_Healthcare/lib/python3.7/site-packages/sklearn/model_selection/_validation.py:593: DataConversionWarning: A column-vector y was passed when a 1d array was expected. Please change the shape of y to (n_samples,), for example using ravel().\n",
            "  estimator.fit(X_train, y_train, **fit_params)\n",
            "/Users/ag78400/opt/anaconda3/envs/AI_for_Healthcare/lib/python3.7/site-packages/sklearn/model_selection/_validation.py:593: DataConversionWarning: A column-vector y was passed when a 1d array was expected. Please change the shape of y to (n_samples,), for example using ravel().\n",
            "  estimator.fit(X_train, y_train, **fit_params)\n",
            "/Users/ag78400/opt/anaconda3/envs/AI_for_Healthcare/lib/python3.7/site-packages/sklearn/model_selection/_validation.py:593: DataConversionWarning: A column-vector y was passed when a 1d array was expected. Please change the shape of y to (n_samples,), for example using ravel().\n",
            "  estimator.fit(X_train, y_train, **fit_params)\n",
            "/Users/ag78400/opt/anaconda3/envs/AI_for_Healthcare/lib/python3.7/site-packages/sklearn/model_selection/_validation.py:593: DataConversionWarning: A column-vector y was passed when a 1d array was expected. Please change the shape of y to (n_samples,), for example using ravel().\n",
            "  estimator.fit(X_train, y_train, **fit_params)\n",
            "/Users/ag78400/opt/anaconda3/envs/AI_for_Healthcare/lib/python3.7/site-packages/sklearn/model_selection/_validation.py:593: DataConversionWarning: A column-vector y was passed when a 1d array was expected. Please change the shape of y to (n_samples,), for example using ravel().\n",
            "  estimator.fit(X_train, y_train, **fit_params)\n",
            "/Users/ag78400/opt/anaconda3/envs/AI_for_Healthcare/lib/python3.7/site-packages/sklearn/model_selection/_validation.py:593: DataConversionWarning: A column-vector y was passed when a 1d array was expected. Please change the shape of y to (n_samples,), for example using ravel().\n",
            "  estimator.fit(X_train, y_train, **fit_params)\n",
            "/Users/ag78400/opt/anaconda3/envs/AI_for_Healthcare/lib/python3.7/site-packages/sklearn/model_selection/_validation.py:593: DataConversionWarning: A column-vector y was passed when a 1d array was expected. Please change the shape of y to (n_samples,), for example using ravel().\n",
            "  estimator.fit(X_train, y_train, **fit_params)\n"
          ],
          "name": "stderr"
        },
        {
          "output_type": "stream",
          "text": [
            "/Users/ag78400/opt/anaconda3/envs/AI_for_Healthcare/lib/python3.7/site-packages/sklearn/model_selection/_validation.py:593: DataConversionWarning: A column-vector y was passed when a 1d array was expected. Please change the shape of y to (n_samples,), for example using ravel().\n",
            "  estimator.fit(X_train, y_train, **fit_params)\n",
            "/Users/ag78400/opt/anaconda3/envs/AI_for_Healthcare/lib/python3.7/site-packages/sklearn/model_selection/_validation.py:593: DataConversionWarning: A column-vector y was passed when a 1d array was expected. Please change the shape of y to (n_samples,), for example using ravel().\n",
            "  estimator.fit(X_train, y_train, **fit_params)\n",
            "/Users/ag78400/opt/anaconda3/envs/AI_for_Healthcare/lib/python3.7/site-packages/sklearn/model_selection/_validation.py:593: DataConversionWarning: A column-vector y was passed when a 1d array was expected. Please change the shape of y to (n_samples,), for example using ravel().\n",
            "  estimator.fit(X_train, y_train, **fit_params)\n",
            "/Users/ag78400/opt/anaconda3/envs/AI_for_Healthcare/lib/python3.7/site-packages/sklearn/model_selection/_validation.py:593: DataConversionWarning: A column-vector y was passed when a 1d array was expected. Please change the shape of y to (n_samples,), for example using ravel().\n",
            "  estimator.fit(X_train, y_train, **fit_params)\n",
            "/Users/ag78400/opt/anaconda3/envs/AI_for_Healthcare/lib/python3.7/site-packages/sklearn/model_selection/_validation.py:593: DataConversionWarning: A column-vector y was passed when a 1d array was expected. Please change the shape of y to (n_samples,), for example using ravel().\n",
            "  estimator.fit(X_train, y_train, **fit_params)\n",
            "/Users/ag78400/opt/anaconda3/envs/AI_for_Healthcare/lib/python3.7/site-packages/sklearn/model_selection/_validation.py:593: DataConversionWarning: A column-vector y was passed when a 1d array was expected. Please change the shape of y to (n_samples,), for example using ravel().\n",
            "  estimator.fit(X_train, y_train, **fit_params)\n",
            "/Users/ag78400/opt/anaconda3/envs/AI_for_Healthcare/lib/python3.7/site-packages/sklearn/model_selection/_validation.py:593: DataConversionWarning: A column-vector y was passed when a 1d array was expected. Please change the shape of y to (n_samples,), for example using ravel().\n",
            "  estimator.fit(X_train, y_train, **fit_params)\n",
            "/Users/ag78400/opt/anaconda3/envs/AI_for_Healthcare/lib/python3.7/site-packages/sklearn/model_selection/_validation.py:593: DataConversionWarning: A column-vector y was passed when a 1d array was expected. Please change the shape of y to (n_samples,), for example using ravel().\n",
            "  estimator.fit(X_train, y_train, **fit_params)\n",
            "/Users/ag78400/opt/anaconda3/envs/AI_for_Healthcare/lib/python3.7/site-packages/sklearn/model_selection/_validation.py:593: DataConversionWarning: A column-vector y was passed when a 1d array was expected. Please change the shape of y to (n_samples,), for example using ravel().\n",
            "  estimator.fit(X_train, y_train, **fit_params)\n",
            "/Users/ag78400/opt/anaconda3/envs/AI_for_Healthcare/lib/python3.7/site-packages/sklearn/model_selection/_validation.py:593: DataConversionWarning: A column-vector y was passed when a 1d array was expected. Please change the shape of y to (n_samples,), for example using ravel().\n",
            "  estimator.fit(X_train, y_train, **fit_params)\n",
            "/Users/ag78400/opt/anaconda3/envs/AI_for_Healthcare/lib/python3.7/site-packages/sklearn/model_selection/_validation.py:593: DataConversionWarning: A column-vector y was passed when a 1d array was expected. Please change the shape of y to (n_samples,), for example using ravel().\n",
            "  estimator.fit(X_train, y_train, **fit_params)\n",
            "/Users/ag78400/opt/anaconda3/envs/AI_for_Healthcare/lib/python3.7/site-packages/sklearn/model_selection/_validation.py:593: DataConversionWarning: A column-vector y was passed when a 1d array was expected. Please change the shape of y to (n_samples,), for example using ravel().\n",
            "  estimator.fit(X_train, y_train, **fit_params)\n",
            "/Users/ag78400/opt/anaconda3/envs/AI_for_Healthcare/lib/python3.7/site-packages/sklearn/model_selection/_validation.py:593: DataConversionWarning: A column-vector y was passed when a 1d array was expected. Please change the shape of y to (n_samples,), for example using ravel().\n",
            "  estimator.fit(X_train, y_train, **fit_params)\n",
            "/Users/ag78400/opt/anaconda3/envs/AI_for_Healthcare/lib/python3.7/site-packages/sklearn/model_selection/_validation.py:593: DataConversionWarning: A column-vector y was passed when a 1d array was expected. Please change the shape of y to (n_samples,), for example using ravel().\n",
            "  estimator.fit(X_train, y_train, **fit_params)\n",
            "/Users/ag78400/opt/anaconda3/envs/AI_for_Healthcare/lib/python3.7/site-packages/sklearn/model_selection/_validation.py:593: DataConversionWarning: A column-vector y was passed when a 1d array was expected. Please change the shape of y to (n_samples,), for example using ravel().\n",
            "  estimator.fit(X_train, y_train, **fit_params)\n",
            "/Users/ag78400/opt/anaconda3/envs/AI_for_Healthcare/lib/python3.7/site-packages/sklearn/model_selection/_validation.py:593: DataConversionWarning: A column-vector y was passed when a 1d array was expected. Please change the shape of y to (n_samples,), for example using ravel().\n",
            "  estimator.fit(X_train, y_train, **fit_params)\n",
            "/Users/ag78400/opt/anaconda3/envs/AI_for_Healthcare/lib/python3.7/site-packages/sklearn/model_selection/_validation.py:593: DataConversionWarning: A column-vector y was passed when a 1d array was expected. Please change the shape of y to (n_samples,), for example using ravel().\n",
            "  estimator.fit(X_train, y_train, **fit_params)\n",
            "/Users/ag78400/opt/anaconda3/envs/AI_for_Healthcare/lib/python3.7/site-packages/sklearn/model_selection/_validation.py:593: DataConversionWarning: A column-vector y was passed when a 1d array was expected. Please change the shape of y to (n_samples,), for example using ravel().\n",
            "  estimator.fit(X_train, y_train, **fit_params)\n",
            "/Users/ag78400/opt/anaconda3/envs/AI_for_Healthcare/lib/python3.7/site-packages/sklearn/model_selection/_validation.py:593: DataConversionWarning: A column-vector y was passed when a 1d array was expected. Please change the shape of y to (n_samples,), for example using ravel().\n",
            "  estimator.fit(X_train, y_train, **fit_params)\n",
            "/Users/ag78400/opt/anaconda3/envs/AI_for_Healthcare/lib/python3.7/site-packages/sklearn/model_selection/_validation.py:593: DataConversionWarning: A column-vector y was passed when a 1d array was expected. Please change the shape of y to (n_samples,), for example using ravel().\n",
            "  estimator.fit(X_train, y_train, **fit_params)\n",
            "/Users/ag78400/opt/anaconda3/envs/AI_for_Healthcare/lib/python3.7/site-packages/sklearn/model_selection/_validation.py:593: DataConversionWarning: A column-vector y was passed when a 1d array was expected. Please change the shape of y to (n_samples,), for example using ravel().\n",
            "  estimator.fit(X_train, y_train, **fit_params)\n",
            "/Users/ag78400/opt/anaconda3/envs/AI_for_Healthcare/lib/python3.7/site-packages/sklearn/model_selection/_validation.py:593: DataConversionWarning: A column-vector y was passed when a 1d array was expected. Please change the shape of y to (n_samples,), for example using ravel().\n",
            "  estimator.fit(X_train, y_train, **fit_params)\n",
            "/Users/ag78400/opt/anaconda3/envs/AI_for_Healthcare/lib/python3.7/site-packages/sklearn/model_selection/_validation.py:593: DataConversionWarning: A column-vector y was passed when a 1d array was expected. Please change the shape of y to (n_samples,), for example using ravel().\n",
            "  estimator.fit(X_train, y_train, **fit_params)\n",
            "/Users/ag78400/opt/anaconda3/envs/AI_for_Healthcare/lib/python3.7/site-packages/sklearn/model_selection/_validation.py:593: DataConversionWarning: A column-vector y was passed when a 1d array was expected. Please change the shape of y to (n_samples,), for example using ravel().\n",
            "  estimator.fit(X_train, y_train, **fit_params)\n",
            "/Users/ag78400/opt/anaconda3/envs/AI_for_Healthcare/lib/python3.7/site-packages/sklearn/model_selection/_validation.py:593: DataConversionWarning: A column-vector y was passed when a 1d array was expected. Please change the shape of y to (n_samples,), for example using ravel().\n",
            "  estimator.fit(X_train, y_train, **fit_params)\n",
            "/Users/ag78400/opt/anaconda3/envs/AI_for_Healthcare/lib/python3.7/site-packages/sklearn/model_selection/_validation.py:593: DataConversionWarning: A column-vector y was passed when a 1d array was expected. Please change the shape of y to (n_samples,), for example using ravel().\n",
            "  estimator.fit(X_train, y_train, **fit_params)\n"
          ],
          "name": "stderr"
        },
        {
          "output_type": "stream",
          "text": [
            "/Users/ag78400/opt/anaconda3/envs/AI_for_Healthcare/lib/python3.7/site-packages/sklearn/model_selection/_validation.py:593: DataConversionWarning: A column-vector y was passed when a 1d array was expected. Please change the shape of y to (n_samples,), for example using ravel().\n",
            "  estimator.fit(X_train, y_train, **fit_params)\n",
            "/Users/ag78400/opt/anaconda3/envs/AI_for_Healthcare/lib/python3.7/site-packages/sklearn/model_selection/_validation.py:593: DataConversionWarning: A column-vector y was passed when a 1d array was expected. Please change the shape of y to (n_samples,), for example using ravel().\n",
            "  estimator.fit(X_train, y_train, **fit_params)\n",
            "/Users/ag78400/opt/anaconda3/envs/AI_for_Healthcare/lib/python3.7/site-packages/sklearn/model_selection/_validation.py:593: DataConversionWarning: A column-vector y was passed when a 1d array was expected. Please change the shape of y to (n_samples,), for example using ravel().\n",
            "  estimator.fit(X_train, y_train, **fit_params)\n",
            "/Users/ag78400/opt/anaconda3/envs/AI_for_Healthcare/lib/python3.7/site-packages/sklearn/model_selection/_validation.py:593: DataConversionWarning: A column-vector y was passed when a 1d array was expected. Please change the shape of y to (n_samples,), for example using ravel().\n",
            "  estimator.fit(X_train, y_train, **fit_params)\n",
            "/Users/ag78400/opt/anaconda3/envs/AI_for_Healthcare/lib/python3.7/site-packages/sklearn/model_selection/_validation.py:593: DataConversionWarning: A column-vector y was passed when a 1d array was expected. Please change the shape of y to (n_samples,), for example using ravel().\n",
            "  estimator.fit(X_train, y_train, **fit_params)\n",
            "/Users/ag78400/opt/anaconda3/envs/AI_for_Healthcare/lib/python3.7/site-packages/sklearn/model_selection/_validation.py:593: DataConversionWarning: A column-vector y was passed when a 1d array was expected. Please change the shape of y to (n_samples,), for example using ravel().\n",
            "  estimator.fit(X_train, y_train, **fit_params)\n",
            "/Users/ag78400/opt/anaconda3/envs/AI_for_Healthcare/lib/python3.7/site-packages/sklearn/model_selection/_validation.py:593: DataConversionWarning: A column-vector y was passed when a 1d array was expected. Please change the shape of y to (n_samples,), for example using ravel().\n",
            "  estimator.fit(X_train, y_train, **fit_params)\n",
            "/Users/ag78400/opt/anaconda3/envs/AI_for_Healthcare/lib/python3.7/site-packages/sklearn/model_selection/_validation.py:593: DataConversionWarning: A column-vector y was passed when a 1d array was expected. Please change the shape of y to (n_samples,), for example using ravel().\n",
            "  estimator.fit(X_train, y_train, **fit_params)\n",
            "/Users/ag78400/opt/anaconda3/envs/AI_for_Healthcare/lib/python3.7/site-packages/sklearn/model_selection/_validation.py:593: DataConversionWarning: A column-vector y was passed when a 1d array was expected. Please change the shape of y to (n_samples,), for example using ravel().\n",
            "  estimator.fit(X_train, y_train, **fit_params)\n",
            "/Users/ag78400/opt/anaconda3/envs/AI_for_Healthcare/lib/python3.7/site-packages/sklearn/model_selection/_validation.py:593: DataConversionWarning: A column-vector y was passed when a 1d array was expected. Please change the shape of y to (n_samples,), for example using ravel().\n",
            "  estimator.fit(X_train, y_train, **fit_params)\n",
            "/Users/ag78400/opt/anaconda3/envs/AI_for_Healthcare/lib/python3.7/site-packages/sklearn/model_selection/_validation.py:593: DataConversionWarning: A column-vector y was passed when a 1d array was expected. Please change the shape of y to (n_samples,), for example using ravel().\n",
            "  estimator.fit(X_train, y_train, **fit_params)\n",
            "/Users/ag78400/opt/anaconda3/envs/AI_for_Healthcare/lib/python3.7/site-packages/sklearn/model_selection/_validation.py:593: DataConversionWarning: A column-vector y was passed when a 1d array was expected. Please change the shape of y to (n_samples,), for example using ravel().\n",
            "  estimator.fit(X_train, y_train, **fit_params)\n",
            "/Users/ag78400/opt/anaconda3/envs/AI_for_Healthcare/lib/python3.7/site-packages/sklearn/model_selection/_validation.py:593: DataConversionWarning: A column-vector y was passed when a 1d array was expected. Please change the shape of y to (n_samples,), for example using ravel().\n",
            "  estimator.fit(X_train, y_train, **fit_params)\n",
            "/Users/ag78400/opt/anaconda3/envs/AI_for_Healthcare/lib/python3.7/site-packages/sklearn/model_selection/_validation.py:593: DataConversionWarning: A column-vector y was passed when a 1d array was expected. Please change the shape of y to (n_samples,), for example using ravel().\n",
            "  estimator.fit(X_train, y_train, **fit_params)\n",
            "/Users/ag78400/opt/anaconda3/envs/AI_for_Healthcare/lib/python3.7/site-packages/sklearn/model_selection/_validation.py:593: DataConversionWarning: A column-vector y was passed when a 1d array was expected. Please change the shape of y to (n_samples,), for example using ravel().\n",
            "  estimator.fit(X_train, y_train, **fit_params)\n",
            "/Users/ag78400/opt/anaconda3/envs/AI_for_Healthcare/lib/python3.7/site-packages/sklearn/model_selection/_validation.py:593: DataConversionWarning: A column-vector y was passed when a 1d array was expected. Please change the shape of y to (n_samples,), for example using ravel().\n",
            "  estimator.fit(X_train, y_train, **fit_params)\n",
            "/Users/ag78400/opt/anaconda3/envs/AI_for_Healthcare/lib/python3.7/site-packages/sklearn/model_selection/_validation.py:593: DataConversionWarning: A column-vector y was passed when a 1d array was expected. Please change the shape of y to (n_samples,), for example using ravel().\n",
            "  estimator.fit(X_train, y_train, **fit_params)\n",
            "/Users/ag78400/opt/anaconda3/envs/AI_for_Healthcare/lib/python3.7/site-packages/sklearn/model_selection/_validation.py:593: DataConversionWarning: A column-vector y was passed when a 1d array was expected. Please change the shape of y to (n_samples,), for example using ravel().\n",
            "  estimator.fit(X_train, y_train, **fit_params)\n",
            "/Users/ag78400/opt/anaconda3/envs/AI_for_Healthcare/lib/python3.7/site-packages/sklearn/model_selection/_validation.py:593: DataConversionWarning: A column-vector y was passed when a 1d array was expected. Please change the shape of y to (n_samples,), for example using ravel().\n",
            "  estimator.fit(X_train, y_train, **fit_params)\n",
            "/Users/ag78400/opt/anaconda3/envs/AI_for_Healthcare/lib/python3.7/site-packages/sklearn/model_selection/_validation.py:593: DataConversionWarning: A column-vector y was passed when a 1d array was expected. Please change the shape of y to (n_samples,), for example using ravel().\n",
            "  estimator.fit(X_train, y_train, **fit_params)\n",
            "/Users/ag78400/opt/anaconda3/envs/AI_for_Healthcare/lib/python3.7/site-packages/sklearn/model_selection/_validation.py:593: DataConversionWarning: A column-vector y was passed when a 1d array was expected. Please change the shape of y to (n_samples,), for example using ravel().\n",
            "  estimator.fit(X_train, y_train, **fit_params)\n",
            "/Users/ag78400/opt/anaconda3/envs/AI_for_Healthcare/lib/python3.7/site-packages/sklearn/model_selection/_validation.py:593: DataConversionWarning: A column-vector y was passed when a 1d array was expected. Please change the shape of y to (n_samples,), for example using ravel().\n",
            "  estimator.fit(X_train, y_train, **fit_params)\n",
            "/Users/ag78400/opt/anaconda3/envs/AI_for_Healthcare/lib/python3.7/site-packages/sklearn/model_selection/_validation.py:593: DataConversionWarning: A column-vector y was passed when a 1d array was expected. Please change the shape of y to (n_samples,), for example using ravel().\n",
            "  estimator.fit(X_train, y_train, **fit_params)\n",
            "/Users/ag78400/opt/anaconda3/envs/AI_for_Healthcare/lib/python3.7/site-packages/sklearn/model_selection/_validation.py:593: DataConversionWarning: A column-vector y was passed when a 1d array was expected. Please change the shape of y to (n_samples,), for example using ravel().\n",
            "  estimator.fit(X_train, y_train, **fit_params)\n",
            "/Users/ag78400/opt/anaconda3/envs/AI_for_Healthcare/lib/python3.7/site-packages/sklearn/model_selection/_validation.py:593: DataConversionWarning: A column-vector y was passed when a 1d array was expected. Please change the shape of y to (n_samples,), for example using ravel().\n",
            "  estimator.fit(X_train, y_train, **fit_params)\n",
            "/Users/ag78400/opt/anaconda3/envs/AI_for_Healthcare/lib/python3.7/site-packages/sklearn/model_selection/_validation.py:593: DataConversionWarning: A column-vector y was passed when a 1d array was expected. Please change the shape of y to (n_samples,), for example using ravel().\n",
            "  estimator.fit(X_train, y_train, **fit_params)\n"
          ],
          "name": "stderr"
        },
        {
          "output_type": "stream",
          "text": [
            "/Users/ag78400/opt/anaconda3/envs/AI_for_Healthcare/lib/python3.7/site-packages/sklearn/model_selection/_validation.py:593: DataConversionWarning: A column-vector y was passed when a 1d array was expected. Please change the shape of y to (n_samples,), for example using ravel().\n",
            "  estimator.fit(X_train, y_train, **fit_params)\n",
            "/Users/ag78400/opt/anaconda3/envs/AI_for_Healthcare/lib/python3.7/site-packages/sklearn/model_selection/_validation.py:593: DataConversionWarning: A column-vector y was passed when a 1d array was expected. Please change the shape of y to (n_samples,), for example using ravel().\n",
            "  estimator.fit(X_train, y_train, **fit_params)\n",
            "/Users/ag78400/opt/anaconda3/envs/AI_for_Healthcare/lib/python3.7/site-packages/sklearn/model_selection/_validation.py:593: DataConversionWarning: A column-vector y was passed when a 1d array was expected. Please change the shape of y to (n_samples,), for example using ravel().\n",
            "  estimator.fit(X_train, y_train, **fit_params)\n",
            "/Users/ag78400/opt/anaconda3/envs/AI_for_Healthcare/lib/python3.7/site-packages/sklearn/model_selection/_validation.py:593: DataConversionWarning: A column-vector y was passed when a 1d array was expected. Please change the shape of y to (n_samples,), for example using ravel().\n",
            "  estimator.fit(X_train, y_train, **fit_params)\n",
            "/Users/ag78400/opt/anaconda3/envs/AI_for_Healthcare/lib/python3.7/site-packages/sklearn/model_selection/_validation.py:593: DataConversionWarning: A column-vector y was passed when a 1d array was expected. Please change the shape of y to (n_samples,), for example using ravel().\n",
            "  estimator.fit(X_train, y_train, **fit_params)\n",
            "/Users/ag78400/opt/anaconda3/envs/AI_for_Healthcare/lib/python3.7/site-packages/sklearn/model_selection/_validation.py:593: DataConversionWarning: A column-vector y was passed when a 1d array was expected. Please change the shape of y to (n_samples,), for example using ravel().\n",
            "  estimator.fit(X_train, y_train, **fit_params)\n",
            "/Users/ag78400/opt/anaconda3/envs/AI_for_Healthcare/lib/python3.7/site-packages/sklearn/model_selection/_validation.py:593: DataConversionWarning: A column-vector y was passed when a 1d array was expected. Please change the shape of y to (n_samples,), for example using ravel().\n",
            "  estimator.fit(X_train, y_train, **fit_params)\n",
            "/Users/ag78400/opt/anaconda3/envs/AI_for_Healthcare/lib/python3.7/site-packages/sklearn/model_selection/_validation.py:593: DataConversionWarning: A column-vector y was passed when a 1d array was expected. Please change the shape of y to (n_samples,), for example using ravel().\n",
            "  estimator.fit(X_train, y_train, **fit_params)\n",
            "/Users/ag78400/opt/anaconda3/envs/AI_for_Healthcare/lib/python3.7/site-packages/sklearn/model_selection/_validation.py:593: DataConversionWarning: A column-vector y was passed when a 1d array was expected. Please change the shape of y to (n_samples,), for example using ravel().\n",
            "  estimator.fit(X_train, y_train, **fit_params)\n",
            "/Users/ag78400/opt/anaconda3/envs/AI_for_Healthcare/lib/python3.7/site-packages/sklearn/model_selection/_validation.py:593: DataConversionWarning: A column-vector y was passed when a 1d array was expected. Please change the shape of y to (n_samples,), for example using ravel().\n",
            "  estimator.fit(X_train, y_train, **fit_params)\n",
            "/Users/ag78400/opt/anaconda3/envs/AI_for_Healthcare/lib/python3.7/site-packages/sklearn/model_selection/_validation.py:593: DataConversionWarning: A column-vector y was passed when a 1d array was expected. Please change the shape of y to (n_samples,), for example using ravel().\n",
            "  estimator.fit(X_train, y_train, **fit_params)\n",
            "/Users/ag78400/opt/anaconda3/envs/AI_for_Healthcare/lib/python3.7/site-packages/sklearn/model_selection/_validation.py:593: DataConversionWarning: A column-vector y was passed when a 1d array was expected. Please change the shape of y to (n_samples,), for example using ravel().\n",
            "  estimator.fit(X_train, y_train, **fit_params)\n",
            "/Users/ag78400/opt/anaconda3/envs/AI_for_Healthcare/lib/python3.7/site-packages/sklearn/model_selection/_validation.py:593: DataConversionWarning: A column-vector y was passed when a 1d array was expected. Please change the shape of y to (n_samples,), for example using ravel().\n",
            "  estimator.fit(X_train, y_train, **fit_params)\n",
            "/Users/ag78400/opt/anaconda3/envs/AI_for_Healthcare/lib/python3.7/site-packages/sklearn/model_selection/_validation.py:593: DataConversionWarning: A column-vector y was passed when a 1d array was expected. Please change the shape of y to (n_samples,), for example using ravel().\n",
            "  estimator.fit(X_train, y_train, **fit_params)\n",
            "/Users/ag78400/opt/anaconda3/envs/AI_for_Healthcare/lib/python3.7/site-packages/sklearn/model_selection/_validation.py:593: DataConversionWarning: A column-vector y was passed when a 1d array was expected. Please change the shape of y to (n_samples,), for example using ravel().\n",
            "  estimator.fit(X_train, y_train, **fit_params)\n",
            "/Users/ag78400/opt/anaconda3/envs/AI_for_Healthcare/lib/python3.7/site-packages/sklearn/model_selection/_validation.py:593: DataConversionWarning: A column-vector y was passed when a 1d array was expected. Please change the shape of y to (n_samples,), for example using ravel().\n",
            "  estimator.fit(X_train, y_train, **fit_params)\n",
            "/Users/ag78400/opt/anaconda3/envs/AI_for_Healthcare/lib/python3.7/site-packages/sklearn/model_selection/_validation.py:593: DataConversionWarning: A column-vector y was passed when a 1d array was expected. Please change the shape of y to (n_samples,), for example using ravel().\n",
            "  estimator.fit(X_train, y_train, **fit_params)\n",
            "/Users/ag78400/opt/anaconda3/envs/AI_for_Healthcare/lib/python3.7/site-packages/sklearn/model_selection/_validation.py:593: DataConversionWarning: A column-vector y was passed when a 1d array was expected. Please change the shape of y to (n_samples,), for example using ravel().\n",
            "  estimator.fit(X_train, y_train, **fit_params)\n",
            "/Users/ag78400/opt/anaconda3/envs/AI_for_Healthcare/lib/python3.7/site-packages/sklearn/model_selection/_validation.py:593: DataConversionWarning: A column-vector y was passed when a 1d array was expected. Please change the shape of y to (n_samples,), for example using ravel().\n",
            "  estimator.fit(X_train, y_train, **fit_params)\n",
            "/Users/ag78400/opt/anaconda3/envs/AI_for_Healthcare/lib/python3.7/site-packages/sklearn/model_selection/_validation.py:593: DataConversionWarning: A column-vector y was passed when a 1d array was expected. Please change the shape of y to (n_samples,), for example using ravel().\n",
            "  estimator.fit(X_train, y_train, **fit_params)\n",
            "/Users/ag78400/opt/anaconda3/envs/AI_for_Healthcare/lib/python3.7/site-packages/sklearn/model_selection/_validation.py:593: DataConversionWarning: A column-vector y was passed when a 1d array was expected. Please change the shape of y to (n_samples,), for example using ravel().\n",
            "  estimator.fit(X_train, y_train, **fit_params)\n",
            "/Users/ag78400/opt/anaconda3/envs/AI_for_Healthcare/lib/python3.7/site-packages/sklearn/model_selection/_validation.py:593: DataConversionWarning: A column-vector y was passed when a 1d array was expected. Please change the shape of y to (n_samples,), for example using ravel().\n",
            "  estimator.fit(X_train, y_train, **fit_params)\n",
            "/Users/ag78400/opt/anaconda3/envs/AI_for_Healthcare/lib/python3.7/site-packages/sklearn/model_selection/_validation.py:593: DataConversionWarning: A column-vector y was passed when a 1d array was expected. Please change the shape of y to (n_samples,), for example using ravel().\n",
            "  estimator.fit(X_train, y_train, **fit_params)\n",
            "/Users/ag78400/opt/anaconda3/envs/AI_for_Healthcare/lib/python3.7/site-packages/sklearn/model_selection/_validation.py:593: DataConversionWarning: A column-vector y was passed when a 1d array was expected. Please change the shape of y to (n_samples,), for example using ravel().\n",
            "  estimator.fit(X_train, y_train, **fit_params)\n",
            "/Users/ag78400/opt/anaconda3/envs/AI_for_Healthcare/lib/python3.7/site-packages/sklearn/model_selection/_validation.py:593: DataConversionWarning: A column-vector y was passed when a 1d array was expected. Please change the shape of y to (n_samples,), for example using ravel().\n",
            "  estimator.fit(X_train, y_train, **fit_params)\n",
            "/Users/ag78400/opt/anaconda3/envs/AI_for_Healthcare/lib/python3.7/site-packages/sklearn/model_selection/_validation.py:593: DataConversionWarning: A column-vector y was passed when a 1d array was expected. Please change the shape of y to (n_samples,), for example using ravel().\n",
            "  estimator.fit(X_train, y_train, **fit_params)\n"
          ],
          "name": "stderr"
        },
        {
          "output_type": "stream",
          "text": [
            "/Users/ag78400/opt/anaconda3/envs/AI_for_Healthcare/lib/python3.7/site-packages/sklearn/model_selection/_validation.py:593: DataConversionWarning: A column-vector y was passed when a 1d array was expected. Please change the shape of y to (n_samples,), for example using ravel().\n",
            "  estimator.fit(X_train, y_train, **fit_params)\n",
            "/Users/ag78400/opt/anaconda3/envs/AI_for_Healthcare/lib/python3.7/site-packages/sklearn/model_selection/_validation.py:593: DataConversionWarning: A column-vector y was passed when a 1d array was expected. Please change the shape of y to (n_samples,), for example using ravel().\n",
            "  estimator.fit(X_train, y_train, **fit_params)\n",
            "/Users/ag78400/opt/anaconda3/envs/AI_for_Healthcare/lib/python3.7/site-packages/sklearn/model_selection/_validation.py:593: DataConversionWarning: A column-vector y was passed when a 1d array was expected. Please change the shape of y to (n_samples,), for example using ravel().\n",
            "  estimator.fit(X_train, y_train, **fit_params)\n",
            "/Users/ag78400/opt/anaconda3/envs/AI_for_Healthcare/lib/python3.7/site-packages/sklearn/model_selection/_validation.py:593: DataConversionWarning: A column-vector y was passed when a 1d array was expected. Please change the shape of y to (n_samples,), for example using ravel().\n",
            "  estimator.fit(X_train, y_train, **fit_params)\n",
            "/Users/ag78400/opt/anaconda3/envs/AI_for_Healthcare/lib/python3.7/site-packages/sklearn/model_selection/_validation.py:593: DataConversionWarning: A column-vector y was passed when a 1d array was expected. Please change the shape of y to (n_samples,), for example using ravel().\n",
            "  estimator.fit(X_train, y_train, **fit_params)\n",
            "/Users/ag78400/opt/anaconda3/envs/AI_for_Healthcare/lib/python3.7/site-packages/sklearn/model_selection/_validation.py:593: DataConversionWarning: A column-vector y was passed when a 1d array was expected. Please change the shape of y to (n_samples,), for example using ravel().\n",
            "  estimator.fit(X_train, y_train, **fit_params)\n",
            "/Users/ag78400/opt/anaconda3/envs/AI_for_Healthcare/lib/python3.7/site-packages/sklearn/model_selection/_validation.py:593: DataConversionWarning: A column-vector y was passed when a 1d array was expected. Please change the shape of y to (n_samples,), for example using ravel().\n",
            "  estimator.fit(X_train, y_train, **fit_params)\n",
            "/Users/ag78400/opt/anaconda3/envs/AI_for_Healthcare/lib/python3.7/site-packages/sklearn/model_selection/_validation.py:593: DataConversionWarning: A column-vector y was passed when a 1d array was expected. Please change the shape of y to (n_samples,), for example using ravel().\n",
            "  estimator.fit(X_train, y_train, **fit_params)\n",
            "/Users/ag78400/opt/anaconda3/envs/AI_for_Healthcare/lib/python3.7/site-packages/sklearn/model_selection/_validation.py:593: DataConversionWarning: A column-vector y was passed when a 1d array was expected. Please change the shape of y to (n_samples,), for example using ravel().\n",
            "  estimator.fit(X_train, y_train, **fit_params)\n",
            "/Users/ag78400/opt/anaconda3/envs/AI_for_Healthcare/lib/python3.7/site-packages/sklearn/model_selection/_validation.py:593: DataConversionWarning: A column-vector y was passed when a 1d array was expected. Please change the shape of y to (n_samples,), for example using ravel().\n",
            "  estimator.fit(X_train, y_train, **fit_params)\n",
            "/Users/ag78400/opt/anaconda3/envs/AI_for_Healthcare/lib/python3.7/site-packages/sklearn/model_selection/_validation.py:593: DataConversionWarning: A column-vector y was passed when a 1d array was expected. Please change the shape of y to (n_samples,), for example using ravel().\n",
            "  estimator.fit(X_train, y_train, **fit_params)\n",
            "/Users/ag78400/opt/anaconda3/envs/AI_for_Healthcare/lib/python3.7/site-packages/sklearn/model_selection/_validation.py:593: DataConversionWarning: A column-vector y was passed when a 1d array was expected. Please change the shape of y to (n_samples,), for example using ravel().\n",
            "  estimator.fit(X_train, y_train, **fit_params)\n",
            "/Users/ag78400/opt/anaconda3/envs/AI_for_Healthcare/lib/python3.7/site-packages/sklearn/model_selection/_validation.py:593: DataConversionWarning: A column-vector y was passed when a 1d array was expected. Please change the shape of y to (n_samples,), for example using ravel().\n",
            "  estimator.fit(X_train, y_train, **fit_params)\n",
            "/Users/ag78400/opt/anaconda3/envs/AI_for_Healthcare/lib/python3.7/site-packages/sklearn/model_selection/_validation.py:593: DataConversionWarning: A column-vector y was passed when a 1d array was expected. Please change the shape of y to (n_samples,), for example using ravel().\n",
            "  estimator.fit(X_train, y_train, **fit_params)\n",
            "/Users/ag78400/opt/anaconda3/envs/AI_for_Healthcare/lib/python3.7/site-packages/sklearn/model_selection/_validation.py:593: DataConversionWarning: A column-vector y was passed when a 1d array was expected. Please change the shape of y to (n_samples,), for example using ravel().\n",
            "  estimator.fit(X_train, y_train, **fit_params)\n",
            "/Users/ag78400/opt/anaconda3/envs/AI_for_Healthcare/lib/python3.7/site-packages/sklearn/model_selection/_validation.py:593: DataConversionWarning: A column-vector y was passed when a 1d array was expected. Please change the shape of y to (n_samples,), for example using ravel().\n",
            "  estimator.fit(X_train, y_train, **fit_params)\n",
            "/Users/ag78400/opt/anaconda3/envs/AI_for_Healthcare/lib/python3.7/site-packages/sklearn/model_selection/_validation.py:593: DataConversionWarning: A column-vector y was passed when a 1d array was expected. Please change the shape of y to (n_samples,), for example using ravel().\n",
            "  estimator.fit(X_train, y_train, **fit_params)\n",
            "/Users/ag78400/opt/anaconda3/envs/AI_for_Healthcare/lib/python3.7/site-packages/sklearn/model_selection/_validation.py:593: DataConversionWarning: A column-vector y was passed when a 1d array was expected. Please change the shape of y to (n_samples,), for example using ravel().\n",
            "  estimator.fit(X_train, y_train, **fit_params)\n",
            "/Users/ag78400/opt/anaconda3/envs/AI_for_Healthcare/lib/python3.7/site-packages/sklearn/model_selection/_validation.py:593: DataConversionWarning: A column-vector y was passed when a 1d array was expected. Please change the shape of y to (n_samples,), for example using ravel().\n",
            "  estimator.fit(X_train, y_train, **fit_params)\n",
            "/Users/ag78400/opt/anaconda3/envs/AI_for_Healthcare/lib/python3.7/site-packages/sklearn/model_selection/_validation.py:593: DataConversionWarning: A column-vector y was passed when a 1d array was expected. Please change the shape of y to (n_samples,), for example using ravel().\n",
            "  estimator.fit(X_train, y_train, **fit_params)\n",
            "/Users/ag78400/opt/anaconda3/envs/AI_for_Healthcare/lib/python3.7/site-packages/sklearn/model_selection/_validation.py:593: DataConversionWarning: A column-vector y was passed when a 1d array was expected. Please change the shape of y to (n_samples,), for example using ravel().\n",
            "  estimator.fit(X_train, y_train, **fit_params)\n",
            "/Users/ag78400/opt/anaconda3/envs/AI_for_Healthcare/lib/python3.7/site-packages/sklearn/model_selection/_validation.py:593: DataConversionWarning: A column-vector y was passed when a 1d array was expected. Please change the shape of y to (n_samples,), for example using ravel().\n",
            "  estimator.fit(X_train, y_train, **fit_params)\n",
            "/Users/ag78400/opt/anaconda3/envs/AI_for_Healthcare/lib/python3.7/site-packages/sklearn/model_selection/_validation.py:593: DataConversionWarning: A column-vector y was passed when a 1d array was expected. Please change the shape of y to (n_samples,), for example using ravel().\n",
            "  estimator.fit(X_train, y_train, **fit_params)\n",
            "/Users/ag78400/opt/anaconda3/envs/AI_for_Healthcare/lib/python3.7/site-packages/sklearn/model_selection/_validation.py:593: DataConversionWarning: A column-vector y was passed when a 1d array was expected. Please change the shape of y to (n_samples,), for example using ravel().\n",
            "  estimator.fit(X_train, y_train, **fit_params)\n",
            "/Users/ag78400/opt/anaconda3/envs/AI_for_Healthcare/lib/python3.7/site-packages/sklearn/model_selection/_validation.py:593: DataConversionWarning: A column-vector y was passed when a 1d array was expected. Please change the shape of y to (n_samples,), for example using ravel().\n",
            "  estimator.fit(X_train, y_train, **fit_params)\n",
            "/Users/ag78400/opt/anaconda3/envs/AI_for_Healthcare/lib/python3.7/site-packages/sklearn/model_selection/_validation.py:593: DataConversionWarning: A column-vector y was passed when a 1d array was expected. Please change the shape of y to (n_samples,), for example using ravel().\n",
            "  estimator.fit(X_train, y_train, **fit_params)\n"
          ],
          "name": "stderr"
        },
        {
          "output_type": "stream",
          "text": [
            "/Users/ag78400/opt/anaconda3/envs/AI_for_Healthcare/lib/python3.7/site-packages/sklearn/model_selection/_validation.py:593: DataConversionWarning: A column-vector y was passed when a 1d array was expected. Please change the shape of y to (n_samples,), for example using ravel().\n",
            "  estimator.fit(X_train, y_train, **fit_params)\n",
            "/Users/ag78400/opt/anaconda3/envs/AI_for_Healthcare/lib/python3.7/site-packages/sklearn/model_selection/_validation.py:593: DataConversionWarning: A column-vector y was passed when a 1d array was expected. Please change the shape of y to (n_samples,), for example using ravel().\n",
            "  estimator.fit(X_train, y_train, **fit_params)\n",
            "/Users/ag78400/opt/anaconda3/envs/AI_for_Healthcare/lib/python3.7/site-packages/sklearn/model_selection/_validation.py:593: DataConversionWarning: A column-vector y was passed when a 1d array was expected. Please change the shape of y to (n_samples,), for example using ravel().\n",
            "  estimator.fit(X_train, y_train, **fit_params)\n",
            "/Users/ag78400/opt/anaconda3/envs/AI_for_Healthcare/lib/python3.7/site-packages/sklearn/model_selection/_validation.py:593: DataConversionWarning: A column-vector y was passed when a 1d array was expected. Please change the shape of y to (n_samples,), for example using ravel().\n",
            "  estimator.fit(X_train, y_train, **fit_params)\n",
            "/Users/ag78400/opt/anaconda3/envs/AI_for_Healthcare/lib/python3.7/site-packages/sklearn/model_selection/_validation.py:593: DataConversionWarning: A column-vector y was passed when a 1d array was expected. Please change the shape of y to (n_samples,), for example using ravel().\n",
            "  estimator.fit(X_train, y_train, **fit_params)\n",
            "/Users/ag78400/opt/anaconda3/envs/AI_for_Healthcare/lib/python3.7/site-packages/sklearn/model_selection/_validation.py:593: DataConversionWarning: A column-vector y was passed when a 1d array was expected. Please change the shape of y to (n_samples,), for example using ravel().\n",
            "  estimator.fit(X_train, y_train, **fit_params)\n",
            "/Users/ag78400/opt/anaconda3/envs/AI_for_Healthcare/lib/python3.7/site-packages/sklearn/model_selection/_validation.py:593: DataConversionWarning: A column-vector y was passed when a 1d array was expected. Please change the shape of y to (n_samples,), for example using ravel().\n",
            "  estimator.fit(X_train, y_train, **fit_params)\n",
            "/Users/ag78400/opt/anaconda3/envs/AI_for_Healthcare/lib/python3.7/site-packages/sklearn/model_selection/_validation.py:593: DataConversionWarning: A column-vector y was passed when a 1d array was expected. Please change the shape of y to (n_samples,), for example using ravel().\n",
            "  estimator.fit(X_train, y_train, **fit_params)\n",
            "/Users/ag78400/opt/anaconda3/envs/AI_for_Healthcare/lib/python3.7/site-packages/sklearn/model_selection/_validation.py:593: DataConversionWarning: A column-vector y was passed when a 1d array was expected. Please change the shape of y to (n_samples,), for example using ravel().\n",
            "  estimator.fit(X_train, y_train, **fit_params)\n",
            "/Users/ag78400/opt/anaconda3/envs/AI_for_Healthcare/lib/python3.7/site-packages/sklearn/model_selection/_validation.py:593: DataConversionWarning: A column-vector y was passed when a 1d array was expected. Please change the shape of y to (n_samples,), for example using ravel().\n",
            "  estimator.fit(X_train, y_train, **fit_params)\n",
            "/Users/ag78400/opt/anaconda3/envs/AI_for_Healthcare/lib/python3.7/site-packages/sklearn/model_selection/_validation.py:593: DataConversionWarning: A column-vector y was passed when a 1d array was expected. Please change the shape of y to (n_samples,), for example using ravel().\n",
            "  estimator.fit(X_train, y_train, **fit_params)\n",
            "/Users/ag78400/opt/anaconda3/envs/AI_for_Healthcare/lib/python3.7/site-packages/sklearn/model_selection/_validation.py:593: DataConversionWarning: A column-vector y was passed when a 1d array was expected. Please change the shape of y to (n_samples,), for example using ravel().\n",
            "  estimator.fit(X_train, y_train, **fit_params)\n",
            "/Users/ag78400/opt/anaconda3/envs/AI_for_Healthcare/lib/python3.7/site-packages/sklearn/model_selection/_validation.py:593: DataConversionWarning: A column-vector y was passed when a 1d array was expected. Please change the shape of y to (n_samples,), for example using ravel().\n",
            "  estimator.fit(X_train, y_train, **fit_params)\n",
            "/Users/ag78400/opt/anaconda3/envs/AI_for_Healthcare/lib/python3.7/site-packages/sklearn/model_selection/_validation.py:593: DataConversionWarning: A column-vector y was passed when a 1d array was expected. Please change the shape of y to (n_samples,), for example using ravel().\n",
            "  estimator.fit(X_train, y_train, **fit_params)\n",
            "/Users/ag78400/opt/anaconda3/envs/AI_for_Healthcare/lib/python3.7/site-packages/sklearn/model_selection/_validation.py:593: DataConversionWarning: A column-vector y was passed when a 1d array was expected. Please change the shape of y to (n_samples,), for example using ravel().\n",
            "  estimator.fit(X_train, y_train, **fit_params)\n",
            "/Users/ag78400/opt/anaconda3/envs/AI_for_Healthcare/lib/python3.7/site-packages/sklearn/model_selection/_validation.py:593: DataConversionWarning: A column-vector y was passed when a 1d array was expected. Please change the shape of y to (n_samples,), for example using ravel().\n",
            "  estimator.fit(X_train, y_train, **fit_params)\n",
            "/Users/ag78400/opt/anaconda3/envs/AI_for_Healthcare/lib/python3.7/site-packages/sklearn/model_selection/_validation.py:593: DataConversionWarning: A column-vector y was passed when a 1d array was expected. Please change the shape of y to (n_samples,), for example using ravel().\n",
            "  estimator.fit(X_train, y_train, **fit_params)\n",
            "/Users/ag78400/opt/anaconda3/envs/AI_for_Healthcare/lib/python3.7/site-packages/sklearn/model_selection/_validation.py:593: DataConversionWarning: A column-vector y was passed when a 1d array was expected. Please change the shape of y to (n_samples,), for example using ravel().\n",
            "  estimator.fit(X_train, y_train, **fit_params)\n",
            "/Users/ag78400/opt/anaconda3/envs/AI_for_Healthcare/lib/python3.7/site-packages/sklearn/model_selection/_validation.py:593: DataConversionWarning: A column-vector y was passed when a 1d array was expected. Please change the shape of y to (n_samples,), for example using ravel().\n",
            "  estimator.fit(X_train, y_train, **fit_params)\n",
            "/Users/ag78400/opt/anaconda3/envs/AI_for_Healthcare/lib/python3.7/site-packages/sklearn/model_selection/_validation.py:593: DataConversionWarning: A column-vector y was passed when a 1d array was expected. Please change the shape of y to (n_samples,), for example using ravel().\n",
            "  estimator.fit(X_train, y_train, **fit_params)\n",
            "/Users/ag78400/opt/anaconda3/envs/AI_for_Healthcare/lib/python3.7/site-packages/sklearn/model_selection/_validation.py:593: DataConversionWarning: A column-vector y was passed when a 1d array was expected. Please change the shape of y to (n_samples,), for example using ravel().\n",
            "  estimator.fit(X_train, y_train, **fit_params)\n",
            "/Users/ag78400/opt/anaconda3/envs/AI_for_Healthcare/lib/python3.7/site-packages/sklearn/model_selection/_validation.py:593: DataConversionWarning: A column-vector y was passed when a 1d array was expected. Please change the shape of y to (n_samples,), for example using ravel().\n",
            "  estimator.fit(X_train, y_train, **fit_params)\n",
            "/Users/ag78400/opt/anaconda3/envs/AI_for_Healthcare/lib/python3.7/site-packages/sklearn/model_selection/_validation.py:593: DataConversionWarning: A column-vector y was passed when a 1d array was expected. Please change the shape of y to (n_samples,), for example using ravel().\n",
            "  estimator.fit(X_train, y_train, **fit_params)\n",
            "/Users/ag78400/opt/anaconda3/envs/AI_for_Healthcare/lib/python3.7/site-packages/sklearn/model_selection/_validation.py:593: DataConversionWarning: A column-vector y was passed when a 1d array was expected. Please change the shape of y to (n_samples,), for example using ravel().\n",
            "  estimator.fit(X_train, y_train, **fit_params)\n",
            "/Users/ag78400/opt/anaconda3/envs/AI_for_Healthcare/lib/python3.7/site-packages/sklearn/model_selection/_validation.py:593: DataConversionWarning: A column-vector y was passed when a 1d array was expected. Please change the shape of y to (n_samples,), for example using ravel().\n",
            "  estimator.fit(X_train, y_train, **fit_params)\n",
            "/Users/ag78400/opt/anaconda3/envs/AI_for_Healthcare/lib/python3.7/site-packages/sklearn/model_selection/_validation.py:593: DataConversionWarning: A column-vector y was passed when a 1d array was expected. Please change the shape of y to (n_samples,), for example using ravel().\n",
            "  estimator.fit(X_train, y_train, **fit_params)\n"
          ],
          "name": "stderr"
        },
        {
          "output_type": "stream",
          "text": [
            "/Users/ag78400/opt/anaconda3/envs/AI_for_Healthcare/lib/python3.7/site-packages/sklearn/model_selection/_validation.py:593: DataConversionWarning: A column-vector y was passed when a 1d array was expected. Please change the shape of y to (n_samples,), for example using ravel().\n",
            "  estimator.fit(X_train, y_train, **fit_params)\n",
            "/Users/ag78400/opt/anaconda3/envs/AI_for_Healthcare/lib/python3.7/site-packages/sklearn/model_selection/_validation.py:593: DataConversionWarning: A column-vector y was passed when a 1d array was expected. Please change the shape of y to (n_samples,), for example using ravel().\n",
            "  estimator.fit(X_train, y_train, **fit_params)\n",
            "/Users/ag78400/opt/anaconda3/envs/AI_for_Healthcare/lib/python3.7/site-packages/sklearn/model_selection/_validation.py:593: DataConversionWarning: A column-vector y was passed when a 1d array was expected. Please change the shape of y to (n_samples,), for example using ravel().\n",
            "  estimator.fit(X_train, y_train, **fit_params)\n",
            "/Users/ag78400/opt/anaconda3/envs/AI_for_Healthcare/lib/python3.7/site-packages/sklearn/model_selection/_validation.py:593: DataConversionWarning: A column-vector y was passed when a 1d array was expected. Please change the shape of y to (n_samples,), for example using ravel().\n",
            "  estimator.fit(X_train, y_train, **fit_params)\n",
            "/Users/ag78400/opt/anaconda3/envs/AI_for_Healthcare/lib/python3.7/site-packages/sklearn/model_selection/_validation.py:593: DataConversionWarning: A column-vector y was passed when a 1d array was expected. Please change the shape of y to (n_samples,), for example using ravel().\n",
            "  estimator.fit(X_train, y_train, **fit_params)\n",
            "/Users/ag78400/opt/anaconda3/envs/AI_for_Healthcare/lib/python3.7/site-packages/sklearn/model_selection/_validation.py:593: DataConversionWarning: A column-vector y was passed when a 1d array was expected. Please change the shape of y to (n_samples,), for example using ravel().\n",
            "  estimator.fit(X_train, y_train, **fit_params)\n",
            "/Users/ag78400/opt/anaconda3/envs/AI_for_Healthcare/lib/python3.7/site-packages/sklearn/model_selection/_validation.py:593: DataConversionWarning: A column-vector y was passed when a 1d array was expected. Please change the shape of y to (n_samples,), for example using ravel().\n",
            "  estimator.fit(X_train, y_train, **fit_params)\n",
            "/Users/ag78400/opt/anaconda3/envs/AI_for_Healthcare/lib/python3.7/site-packages/sklearn/model_selection/_validation.py:593: DataConversionWarning: A column-vector y was passed when a 1d array was expected. Please change the shape of y to (n_samples,), for example using ravel().\n",
            "  estimator.fit(X_train, y_train, **fit_params)\n",
            "/Users/ag78400/opt/anaconda3/envs/AI_for_Healthcare/lib/python3.7/site-packages/sklearn/model_selection/_validation.py:593: DataConversionWarning: A column-vector y was passed when a 1d array was expected. Please change the shape of y to (n_samples,), for example using ravel().\n",
            "  estimator.fit(X_train, y_train, **fit_params)\n",
            "/Users/ag78400/opt/anaconda3/envs/AI_for_Healthcare/lib/python3.7/site-packages/sklearn/model_selection/_validation.py:593: DataConversionWarning: A column-vector y was passed when a 1d array was expected. Please change the shape of y to (n_samples,), for example using ravel().\n",
            "  estimator.fit(X_train, y_train, **fit_params)\n",
            "/Users/ag78400/opt/anaconda3/envs/AI_for_Healthcare/lib/python3.7/site-packages/sklearn/model_selection/_validation.py:593: DataConversionWarning: A column-vector y was passed when a 1d array was expected. Please change the shape of y to (n_samples,), for example using ravel().\n",
            "  estimator.fit(X_train, y_train, **fit_params)\n",
            "/Users/ag78400/opt/anaconda3/envs/AI_for_Healthcare/lib/python3.7/site-packages/sklearn/model_selection/_validation.py:593: DataConversionWarning: A column-vector y was passed when a 1d array was expected. Please change the shape of y to (n_samples,), for example using ravel().\n",
            "  estimator.fit(X_train, y_train, **fit_params)\n",
            "/Users/ag78400/opt/anaconda3/envs/AI_for_Healthcare/lib/python3.7/site-packages/sklearn/model_selection/_validation.py:593: DataConversionWarning: A column-vector y was passed when a 1d array was expected. Please change the shape of y to (n_samples,), for example using ravel().\n",
            "  estimator.fit(X_train, y_train, **fit_params)\n",
            "/Users/ag78400/opt/anaconda3/envs/AI_for_Healthcare/lib/python3.7/site-packages/sklearn/model_selection/_validation.py:593: DataConversionWarning: A column-vector y was passed when a 1d array was expected. Please change the shape of y to (n_samples,), for example using ravel().\n",
            "  estimator.fit(X_train, y_train, **fit_params)\n",
            "/Users/ag78400/opt/anaconda3/envs/AI_for_Healthcare/lib/python3.7/site-packages/sklearn/model_selection/_validation.py:593: DataConversionWarning: A column-vector y was passed when a 1d array was expected. Please change the shape of y to (n_samples,), for example using ravel().\n",
            "  estimator.fit(X_train, y_train, **fit_params)\n",
            "/Users/ag78400/opt/anaconda3/envs/AI_for_Healthcare/lib/python3.7/site-packages/sklearn/model_selection/_validation.py:593: DataConversionWarning: A column-vector y was passed when a 1d array was expected. Please change the shape of y to (n_samples,), for example using ravel().\n",
            "  estimator.fit(X_train, y_train, **fit_params)\n",
            "/Users/ag78400/opt/anaconda3/envs/AI_for_Healthcare/lib/python3.7/site-packages/sklearn/model_selection/_validation.py:593: DataConversionWarning: A column-vector y was passed when a 1d array was expected. Please change the shape of y to (n_samples,), for example using ravel().\n",
            "  estimator.fit(X_train, y_train, **fit_params)\n",
            "/Users/ag78400/opt/anaconda3/envs/AI_for_Healthcare/lib/python3.7/site-packages/sklearn/model_selection/_validation.py:593: DataConversionWarning: A column-vector y was passed when a 1d array was expected. Please change the shape of y to (n_samples,), for example using ravel().\n",
            "  estimator.fit(X_train, y_train, **fit_params)\n"
          ],
          "name": "stderr"
        },
        {
          "output_type": "execute_result",
          "data": {
            "text/plain": [
              "('id',\n",
              " 'age',\n",
              " 'heart_disease',\n",
              " 'avg_glucose_level',\n",
              " 'bmi',\n",
              " 'gender',\n",
              " 'ever_married',\n",
              " 'work_type',\n",
              " 'Residence_type',\n",
              " 'smoking_status')"
            ]
          },
          "metadata": {
            "tags": []
          },
          "execution_count": 137
        }
      ]
    },
    {
      "cell_type": "markdown",
      "metadata": {
        "id": "ATBoa8a2W7jm"
      },
      "source": [
        "### Exhaustive Feature Selection"
      ]
    },
    {
      "cell_type": "code",
      "metadata": {
        "id": "QfCByiiPW7jm"
      },
      "source": [
        "from mlxtend.feature_selection import ExhaustiveFeatureSelector\n",
        "efs = ExhaustiveFeatureSelector(modelRF)"
      ],
      "execution_count": null,
      "outputs": []
    },
    {
      "cell_type": "code",
      "metadata": {
        "id": "YiVGD2wbW7jn",
        "outputId": "f3a1b1ef-378d-4c73-ff13-ca977842be78"
      },
      "source": [
        "efs.fit(pd.concat([dataNum, dataCatEncoded], axis=1),y)"
      ],
      "execution_count": null,
      "outputs": [
        {
          "output_type": "stream",
          "text": [
            "Features: 11/11"
          ],
          "name": "stderr"
        },
        {
          "output_type": "execute_result",
          "data": {
            "text/plain": [
              "ExhaustiveFeatureSelector(estimator=RandomForestClassifier())"
            ]
          },
          "metadata": {
            "tags": []
          },
          "execution_count": 145
        }
      ]
    },
    {
      "cell_type": "code",
      "metadata": {
        "id": "5VGV4F8dW7jn",
        "outputId": "9b1c3aa8-e85e-4a82-d54c-6842b337ff46"
      },
      "source": [
        "pd.concat([dataNum, dataCatEncoded], axis=1).columns[efs.best_idx_]"
      ],
      "execution_count": null,
      "outputs": [
        {
          "output_type": "execute_result",
          "data": {
            "text/plain": [
              "'age'"
            ]
          },
          "metadata": {
            "tags": []
          },
          "execution_count": 146
        }
      ]
    },
    {
      "cell_type": "markdown",
      "metadata": {
        "id": "My11_NzpW7jn"
      },
      "source": [
        "# Thank YOu"
      ]
    }
  ]
}