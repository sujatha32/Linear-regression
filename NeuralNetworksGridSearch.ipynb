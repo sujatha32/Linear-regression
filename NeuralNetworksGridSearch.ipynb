{
  "nbformat": 4,
  "nbformat_minor": 5,
  "metadata": {
    "kernelspec": {
      "display_name": "Python 3",
      "language": "python",
      "name": "python3"
    },
    "language_info": {
      "codemirror_mode": {
        "name": "ipython",
        "version": 3
      },
      "file_extension": ".py",
      "mimetype": "text/x-python",
      "name": "python",
      "nbconvert_exporter": "python",
      "pygments_lexer": "ipython3",
      "version": "3.8.10"
    },
    "colab": {
      "name": "NeuralNetworksGridSearch",
      "provenance": []
    }
  },
  "cells": [
    {
      "cell_type": "code",
      "metadata": {
        "id": "ba3c371b"
      },
      "source": [
        "import pandas as pd\n",
        "import numpy as np\n",
        "import matplotlib.pyplot as plt\n",
        "%matplotlib inline"
      ],
      "id": "ba3c371b",
      "execution_count": null,
      "outputs": []
    },
    {
      "cell_type": "code",
      "metadata": {
        "colab": {
          "base_uri": "https://localhost:8080/"
        },
        "id": "t8YZb4DZlchT",
        "outputId": "11582b75-744f-4f3b-859a-497294c36222"
      },
      "source": [
        "from google.colab import drive\n",
        "drive.mount('/content/drive')"
      ],
      "id": "t8YZb4DZlchT",
      "execution_count": null,
      "outputs": [
        {
          "output_type": "stream",
          "text": [
            "Drive already mounted at /content/drive; to attempt to forcibly remount, call drive.mount(\"/content/drive\", force_remount=True).\n"
          ],
          "name": "stdout"
        }
      ]
    },
    {
      "cell_type": "code",
      "metadata": {
        "id": "14627ff9"
      },
      "source": [
        "hrtrain=pd.read_csv('/content/drive/MyDrive/HR Analytics/train_LZdllcl.csv')"
      ],
      "id": "14627ff9",
      "execution_count": null,
      "outputs": []
    },
    {
      "cell_type": "code",
      "metadata": {
        "id": "70b6c086"
      },
      "source": [
        "hrtest=pd.read_csv('/content/drive/MyDrive/HR Analytics/test_2umaH9m.csv')"
      ],
      "id": "70b6c086",
      "execution_count": null,
      "outputs": []
    },
    {
      "cell_type": "code",
      "metadata": {
        "colab": {
          "base_uri": "https://localhost:8080/"
        },
        "id": "e825b487",
        "outputId": "bc242c14-71fd-4dd1-8a5e-34ee9cb8673c"
      },
      "source": [
        "hrtrain.isnull().sum().sort_values(ascending=False)"
      ],
      "id": "e825b487",
      "execution_count": null,
      "outputs": [
        {
          "output_type": "execute_result",
          "data": {
            "text/plain": [
              "previous_year_rating    4124\n",
              "education               2409\n",
              "is_promoted                0\n",
              "avg_training_score         0\n",
              "awards_won?                0\n",
              "KPIs_met >80%              0\n",
              "length_of_service          0\n",
              "age                        0\n",
              "no_of_trainings            0\n",
              "recruitment_channel        0\n",
              "gender                     0\n",
              "region                     0\n",
              "department                 0\n",
              "employee_id                0\n",
              "dtype: int64"
            ]
          },
          "metadata": {
            "tags": []
          },
          "execution_count": 12
        }
      ]
    },
    {
      "cell_type": "code",
      "metadata": {
        "colab": {
          "base_uri": "https://localhost:8080/"
        },
        "id": "c0b682a4",
        "outputId": "38b7396f-d950-40c2-de12-5e132de18ec8"
      },
      "source": [
        "hrtest.isnull().sum().sort_values(ascending=False)"
      ],
      "id": "c0b682a4",
      "execution_count": null,
      "outputs": [
        {
          "output_type": "execute_result",
          "data": {
            "text/plain": [
              "previous_year_rating    1812\n",
              "education               1034\n",
              "avg_training_score         0\n",
              "awards_won?                0\n",
              "KPIs_met >80%              0\n",
              "length_of_service          0\n",
              "age                        0\n",
              "no_of_trainings            0\n",
              "recruitment_channel        0\n",
              "gender                     0\n",
              "region                     0\n",
              "department                 0\n",
              "employee_id                0\n",
              "dtype: int64"
            ]
          },
          "metadata": {
            "tags": []
          },
          "execution_count": 13
        }
      ]
    },
    {
      "cell_type": "code",
      "metadata": {
        "colab": {
          "base_uri": "https://localhost:8080/"
        },
        "id": "d206b985",
        "outputId": "28915898-b462-46be-f070-eec347607af9"
      },
      "source": [
        "# Dependent Variable - is_promoted (0/1)(No/Yes)\n",
        "hrtrain.is_promoted.value_counts()"
      ],
      "id": "d206b985",
      "execution_count": null,
      "outputs": [
        {
          "output_type": "execute_result",
          "data": {
            "text/plain": [
              "0    50140\n",
              "1     4668\n",
              "Name: is_promoted, dtype: int64"
            ]
          },
          "metadata": {
            "tags": []
          },
          "execution_count": 14
        }
      ]
    },
    {
      "cell_type": "code",
      "metadata": {
        "colab": {
          "base_uri": "https://localhost:8080/",
          "height": 142
        },
        "id": "0ac1c262",
        "outputId": "26d759d3-ab5b-4f67-ebea-38256cd2597e"
      },
      "source": [
        "# How many Male/Female Promoted?\n",
        "pd.crosstab(hrtrain.is_promoted,hrtrain.gender)"
      ],
      "id": "0ac1c262",
      "execution_count": null,
      "outputs": [
        {
          "output_type": "execute_result",
          "data": {
            "text/html": [
              "<div>\n",
              "<style scoped>\n",
              "    .dataframe tbody tr th:only-of-type {\n",
              "        vertical-align: middle;\n",
              "    }\n",
              "\n",
              "    .dataframe tbody tr th {\n",
              "        vertical-align: top;\n",
              "    }\n",
              "\n",
              "    .dataframe thead th {\n",
              "        text-align: right;\n",
              "    }\n",
              "</style>\n",
              "<table border=\"1\" class=\"dataframe\">\n",
              "  <thead>\n",
              "    <tr style=\"text-align: right;\">\n",
              "      <th>gender</th>\n",
              "      <th>f</th>\n",
              "      <th>m</th>\n",
              "    </tr>\n",
              "    <tr>\n",
              "      <th>is_promoted</th>\n",
              "      <th></th>\n",
              "      <th></th>\n",
              "    </tr>\n",
              "  </thead>\n",
              "  <tbody>\n",
              "    <tr>\n",
              "      <th>0</th>\n",
              "      <td>14845</td>\n",
              "      <td>35295</td>\n",
              "    </tr>\n",
              "    <tr>\n",
              "      <th>1</th>\n",
              "      <td>1467</td>\n",
              "      <td>3201</td>\n",
              "    </tr>\n",
              "  </tbody>\n",
              "</table>\n",
              "</div>"
            ],
            "text/plain": [
              "gender           f      m\n",
              "is_promoted              \n",
              "0            14845  35295\n",
              "1             1467   3201"
            ]
          },
          "metadata": {
            "tags": []
          },
          "execution_count": 15
        }
      ]
    },
    {
      "cell_type": "code",
      "metadata": {
        "id": "c081c92e"
      },
      "source": [
        "# Hypothesis Testing\n",
        "# Type 1 Error - Finding Criminal Not Guilty - Accepting a False\n",
        "# Hypothesis. Patient has No Covid but RTPCR Test gave Positive\n",
        "# Type 2 Error - Hanging an innocent Man - Rejecting a True \n",
        "# Hypothesis. Patient has Covid but RTPCR Test gave Negative"
      ],
      "id": "c081c92e",
      "execution_count": null,
      "outputs": []
    },
    {
      "cell_type": "code",
      "metadata": {
        "colab": {
          "base_uri": "https://localhost:8080/"
        },
        "id": "07838c40",
        "outputId": "f1232a81-3b2e-499c-e417-32096d5edc91"
      },
      "source": [
        "hrtrain.previous_year_rating.value_counts(dropna=False)"
      ],
      "id": "07838c40",
      "execution_count": null,
      "outputs": [
        {
          "output_type": "execute_result",
          "data": {
            "text/plain": [
              "3.0    18618\n",
              "5.0    11741\n",
              "4.0     9877\n",
              "1.0     6223\n",
              "2.0     4225\n",
              "NaN     4124\n",
              "Name: previous_year_rating, dtype: int64"
            ]
          },
          "metadata": {
            "tags": []
          },
          "execution_count": 17
        }
      ]
    },
    {
      "cell_type": "code",
      "metadata": {
        "id": "a70e6d12"
      },
      "source": [
        "hrtrain.previous_year_rating=hrtrain.previous_year_rating.fillna(3.0)"
      ],
      "id": "a70e6d12",
      "execution_count": null,
      "outputs": []
    },
    {
      "cell_type": "code",
      "metadata": {
        "colab": {
          "base_uri": "https://localhost:8080/"
        },
        "id": "6bc6b0d4",
        "outputId": "3570339c-cfa4-4233-cdfc-8bce2992d560"
      },
      "source": [
        "hrtest.previous_year_rating.value_counts(dropna=False)"
      ],
      "id": "6bc6b0d4",
      "execution_count": null,
      "outputs": [
        {
          "output_type": "execute_result",
          "data": {
            "text/plain": [
              "3.0    7921\n",
              "5.0    5097\n",
              "4.0    4249\n",
              "1.0    2680\n",
              "NaN    1812\n",
              "2.0    1731\n",
              "Name: previous_year_rating, dtype: int64"
            ]
          },
          "metadata": {
            "tags": []
          },
          "execution_count": 19
        }
      ]
    },
    {
      "cell_type": "code",
      "metadata": {
        "id": "cd0d0645"
      },
      "source": [
        "hrtest.previous_year_rating=hrtest.previous_year_rating.fillna(3.0)"
      ],
      "id": "cd0d0645",
      "execution_count": null,
      "outputs": []
    },
    {
      "cell_type": "code",
      "metadata": {
        "colab": {
          "base_uri": "https://localhost:8080/"
        },
        "id": "be386a98",
        "outputId": "d530d429-34a6-4362-d78d-3a4b89959b38"
      },
      "source": [
        "hrtrain.education.value_counts(dropna=False)"
      ],
      "id": "be386a98",
      "execution_count": null,
      "outputs": [
        {
          "output_type": "execute_result",
          "data": {
            "text/plain": [
              "Bachelor's          36669\n",
              "Master's & above    14925\n",
              "NaN                  2409\n",
              "Below Secondary       805\n",
              "Name: education, dtype: int64"
            ]
          },
          "metadata": {
            "tags": []
          },
          "execution_count": 21
        }
      ]
    },
    {
      "cell_type": "code",
      "metadata": {
        "id": "5fbcebd0"
      },
      "source": [
        "hrtrain.education=hrtrain.education.fillna(\"Bachelor's\")"
      ],
      "id": "5fbcebd0",
      "execution_count": null,
      "outputs": []
    },
    {
      "cell_type": "code",
      "metadata": {
        "id": "89ca6bbd"
      },
      "source": [
        "hrtest.education=hrtest.education.fillna(\"Bachelor's\")"
      ],
      "id": "89ca6bbd",
      "execution_count": null,
      "outputs": []
    },
    {
      "cell_type": "code",
      "metadata": {
        "colab": {
          "base_uri": "https://localhost:8080/"
        },
        "id": "f5fafb94",
        "outputId": "614f1fa8-beb2-4122-a97d-38c01fedd32b"
      },
      "source": [
        "hrtrain.columns"
      ],
      "id": "f5fafb94",
      "execution_count": null,
      "outputs": [
        {
          "output_type": "execute_result",
          "data": {
            "text/plain": [
              "Index(['employee_id', 'department', 'region', 'education', 'gender',\n",
              "       'recruitment_channel', 'no_of_trainings', 'age', 'previous_year_rating',\n",
              "       'length_of_service', 'KPIs_met >80%', 'awards_won?',\n",
              "       'avg_training_score', 'is_promoted'],\n",
              "      dtype='object')"
            ]
          },
          "metadata": {
            "tags": []
          },
          "execution_count": 24
        }
      ]
    },
    {
      "cell_type": "code",
      "metadata": {
        "colab": {
          "base_uri": "https://localhost:8080/"
        },
        "id": "9ad48171",
        "outputId": "7fa115d5-1705-4b36-de35-3b1111d1be1d"
      },
      "source": [
        "# Test Null Average avg_training_score of is_promoted(0/1) Equal\n",
        "# groupby(), Null & Alt, Split Dataframe, Conduct test & Interpret\n",
        "hrtrain.avg_training_score.groupby(hrtrain.is_promoted).mean()"
      ],
      "id": "9ad48171",
      "execution_count": null,
      "outputs": [
        {
          "output_type": "execute_result",
          "data": {
            "text/plain": [
              "is_promoted\n",
              "0    62.647686\n",
              "1    71.325193\n",
              "Name: avg_training_score, dtype: float64"
            ]
          },
          "metadata": {
            "tags": []
          },
          "execution_count": 25
        }
      ]
    },
    {
      "cell_type": "code",
      "metadata": {
        "colab": {
          "base_uri": "https://localhost:8080/"
        },
        "id": "7b4dafc3",
        "outputId": "db95d4e5-c02e-4dde-a1f4-45370f055977"
      },
      "source": [
        "hrtrain.avg_training_score.groupby(hrtrain.is_promoted).var()"
      ],
      "id": "7b4dafc3",
      "execution_count": null,
      "outputs": [
        {
          "output_type": "execute_result",
          "data": {
            "text/plain": [
              "is_promoted\n",
              "0    168.791268\n",
              "1    217.448116\n",
              "Name: avg_training_score, dtype: float64"
            ]
          },
          "metadata": {
            "tags": []
          },
          "execution_count": 26
        }
      ]
    },
    {
      "cell_type": "code",
      "metadata": {
        "id": "0539d880"
      },
      "source": [
        "promotedyes=hrtrain[hrtrain.is_promoted==1]\n",
        "promotedno=hrtrain[hrtrain.is_promoted==0]"
      ],
      "id": "0539d880",
      "execution_count": null,
      "outputs": []
    },
    {
      "cell_type": "code",
      "metadata": {
        "id": "f34e598f"
      },
      "source": [
        "# Null - No Significant difference in Average avg_training_score of\n",
        "# is_promoted(0/1) equal.\n",
        "# Alt - Significant difference in Average avg_training_score of\n",
        "# is_promoted(0/1) equal."
      ],
      "id": "f34e598f",
      "execution_count": null,
      "outputs": []
    },
    {
      "cell_type": "code",
      "metadata": {
        "id": "c9aeaaf0"
      },
      "source": [
        "from scipy.stats import ttest_ind"
      ],
      "id": "c9aeaaf0",
      "execution_count": null,
      "outputs": []
    },
    {
      "cell_type": "code",
      "metadata": {
        "colab": {
          "base_uri": "https://localhost:8080/"
        },
        "id": "6c39baeb",
        "outputId": "a87455e5-6a98-4c31-c972-4bc08b62b33e"
      },
      "source": [
        "ttest_ind(promotedyes.avg_training_score,\n",
        "          promotedno.avg_training_score,equal_var=False)\n",
        "# Since pvalue=7.662329172468838e-291 is less than 0.05,Reject\n",
        "# Null Hypothesis"
      ],
      "id": "6c39baeb",
      "execution_count": null,
      "outputs": [
        {
          "output_type": "execute_result",
          "data": {
            "text/plain": [
              "Ttest_indResult(statistic=38.82675007357188, pvalue=7.662329172468838e-291)"
            ]
          },
          "metadata": {
            "tags": []
          },
          "execution_count": 30
        }
      ]
    },
    {
      "cell_type": "code",
      "metadata": {
        "colab": {
          "base_uri": "https://localhost:8080/"
        },
        "id": "667b7dad",
        "outputId": "d7ddaa90-96b9-45bc-e385-37d08e96e301"
      },
      "source": [
        "# Test Null Average avg_training_score of Female & Male Equal\n",
        "# groupby(), Null & Alt, Split Dataframe, Conduct test & Interpret\n",
        "hrtrain.avg_training_score.groupby(hrtrain.gender).mean()"
      ],
      "id": "667b7dad",
      "execution_count": null,
      "outputs": [
        {
          "output_type": "execute_result",
          "data": {
            "text/plain": [
              "gender\n",
              "f    63.889897\n",
              "m    63.173550\n",
              "Name: avg_training_score, dtype: float64"
            ]
          },
          "metadata": {
            "tags": []
          },
          "execution_count": 31
        }
      ]
    },
    {
      "cell_type": "code",
      "metadata": {
        "id": "ca7c817f"
      },
      "source": [
        "male=hrtrain[hrtrain.gender=='m']\n",
        "female=hrtrain[hrtrain.gender=='f']"
      ],
      "id": "ca7c817f",
      "execution_count": null,
      "outputs": []
    },
    {
      "cell_type": "code",
      "metadata": {
        "colab": {
          "base_uri": "https://localhost:8080/"
        },
        "id": "24b5dd0f",
        "outputId": "9bcb23a6-93a2-4583-c675-363c70c81472"
      },
      "source": [
        "ttest_ind(male.avg_training_score,female.avg_training_score,\n",
        "         equal_var=False)"
      ],
      "id": "24b5dd0f",
      "execution_count": null,
      "outputs": [
        {
          "output_type": "execute_result",
          "data": {
            "text/plain": [
              "Ttest_indResult(statistic=-6.122262326710493, pvalue=9.321257169457923e-10)"
            ]
          },
          "metadata": {
            "tags": []
          },
          "execution_count": 33
        }
      ]
    },
    {
      "cell_type": "code",
      "metadata": {
        "id": "d8e49bde"
      },
      "source": [
        "# ttest=t statistic=(Mean1-Mean2)/sqrt((var1/n1)+(var2/n2))"
      ],
      "id": "d8e49bde",
      "execution_count": null,
      "outputs": []
    },
    {
      "cell_type": "code",
      "metadata": {
        "id": "9c0dc360"
      },
      "source": [
        "# Test Null avg_training_score of different education levels equal\n",
        "# groupby(), Null & Alt, Split Dataframe, Conduct test & Interpret"
      ],
      "id": "9c0dc360",
      "execution_count": null,
      "outputs": []
    },
    {
      "cell_type": "code",
      "metadata": {
        "colab": {
          "base_uri": "https://localhost:8080/"
        },
        "id": "c8c33ad6",
        "outputId": "4ca9e37a-eeaa-4dd1-9d66-ff5ec8c41aa4"
      },
      "source": [
        "hrtrain.avg_training_score.groupby(hrtrain.education).mean()"
      ],
      "id": "c8c33ad6",
      "execution_count": null,
      "outputs": [
        {
          "output_type": "execute_result",
          "data": {
            "text/plain": [
              "education\n",
              "Bachelor's          63.097446\n",
              "Below Secondary     64.925466\n",
              "Master's & above    64.061240\n",
              "Name: avg_training_score, dtype: float64"
            ]
          },
          "metadata": {
            "tags": []
          },
          "execution_count": 36
        }
      ]
    },
    {
      "cell_type": "code",
      "metadata": {
        "id": "87b008ed"
      },
      "source": [
        "ug=hrtrain[hrtrain.education==\"Bachelor's\"]\n",
        "pg=hrtrain[hrtrain.education==\"Master's & above\"]\n",
        "bs=hrtrain[hrtrain.education==\"Below Secondary\"]"
      ],
      "id": "87b008ed",
      "execution_count": null,
      "outputs": []
    },
    {
      "cell_type": "code",
      "metadata": {
        "id": "e791e1d4"
      },
      "source": [
        "from scipy.stats import f_oneway"
      ],
      "id": "e791e1d4",
      "execution_count": null,
      "outputs": []
    },
    {
      "cell_type": "code",
      "metadata": {
        "colab": {
          "base_uri": "https://localhost:8080/"
        },
        "id": "035363f7",
        "outputId": "401fcf45-d628-40c9-d177-def72673f6cf"
      },
      "source": [
        "f_oneway(ug.avg_training_score,pg.avg_training_score,\n",
        "        bs.avg_training_score)"
      ],
      "id": "035363f7",
      "execution_count": null,
      "outputs": [
        {
          "output_type": "execute_result",
          "data": {
            "text/plain": [
              "F_onewayResult(statistic=33.5035375621275, pvalue=2.873996658407989e-15)"
            ]
          },
          "metadata": {
            "tags": []
          },
          "execution_count": 39
        }
      ]
    },
    {
      "cell_type": "code",
      "metadata": {
        "id": "b8fe6326"
      },
      "source": [
        "# Test Null No Association between gender & is_promoted?\n",
        "# Both Categorical Variables\n",
        "# Cross tabulation is input"
      ],
      "id": "b8fe6326",
      "execution_count": null,
      "outputs": []
    },
    {
      "cell_type": "code",
      "metadata": {
        "colab": {
          "base_uri": "https://localhost:8080/",
          "height": 142
        },
        "id": "e2d1cf09",
        "outputId": "aefcfc2b-aa74-4e09-fb57-cf5fb31310b4"
      },
      "source": [
        "pd.crosstab(hrtrain.is_promoted,hrtrain.gender)"
      ],
      "id": "e2d1cf09",
      "execution_count": null,
      "outputs": [
        {
          "output_type": "execute_result",
          "data": {
            "text/html": [
              "<div>\n",
              "<style scoped>\n",
              "    .dataframe tbody tr th:only-of-type {\n",
              "        vertical-align: middle;\n",
              "    }\n",
              "\n",
              "    .dataframe tbody tr th {\n",
              "        vertical-align: top;\n",
              "    }\n",
              "\n",
              "    .dataframe thead th {\n",
              "        text-align: right;\n",
              "    }\n",
              "</style>\n",
              "<table border=\"1\" class=\"dataframe\">\n",
              "  <thead>\n",
              "    <tr style=\"text-align: right;\">\n",
              "      <th>gender</th>\n",
              "      <th>f</th>\n",
              "      <th>m</th>\n",
              "    </tr>\n",
              "    <tr>\n",
              "      <th>is_promoted</th>\n",
              "      <th></th>\n",
              "      <th></th>\n",
              "    </tr>\n",
              "  </thead>\n",
              "  <tbody>\n",
              "    <tr>\n",
              "      <th>0</th>\n",
              "      <td>14845</td>\n",
              "      <td>35295</td>\n",
              "    </tr>\n",
              "    <tr>\n",
              "      <th>1</th>\n",
              "      <td>1467</td>\n",
              "      <td>3201</td>\n",
              "    </tr>\n",
              "  </tbody>\n",
              "</table>\n",
              "</div>"
            ],
            "text/plain": [
              "gender           f      m\n",
              "is_promoted              \n",
              "0            14845  35295\n",
              "1             1467   3201"
            ]
          },
          "metadata": {
            "tags": []
          },
          "execution_count": 41
        }
      ]
    },
    {
      "cell_type": "code",
      "metadata": {
        "id": "d257e011"
      },
      "source": [
        "from scipy.stats import chi2_contingency"
      ],
      "id": "d257e011",
      "execution_count": null,
      "outputs": []
    },
    {
      "cell_type": "code",
      "metadata": {
        "colab": {
          "base_uri": "https://localhost:8080/"
        },
        "id": "07bbe0a9",
        "outputId": "8ed8f627-6348-44e9-a072-37613a4384c9"
      },
      "source": [
        "chi2_contingency(pd.crosstab(hrtrain.is_promoted,\n",
        "                            hrtrain.gender))\n",
        "# Since p-value=0.00976509 is less than 0.05, Reject null"
      ],
      "id": "07bbe0a9",
      "execution_count": null,
      "outputs": [
        {
          "output_type": "execute_result",
          "data": {
            "text/plain": [
              "(6.677254566546107,\n",
              " 0.009765091521176657,\n",
              " 1,\n",
              " array([[14922.70617428, 35217.29382572],\n",
              "        [ 1389.29382572,  3278.70617428]]))"
            ]
          },
          "metadata": {
            "tags": []
          },
          "execution_count": 43
        }
      ]
    },
    {
      "cell_type": "code",
      "metadata": {
        "id": "c5d20f19"
      },
      "source": [
        "# MACHINE LEARNING - SUPERVISED LEARNING - CLASSIFICATION MODELS\n",
        "# IF DEPENDENT VARIABLE(y) IS NON NUMERIC AND CATEGORICAL AND\n",
        "# BINARY(YES/NO), THEN BINARY LOGISTIC REGRESSION IS USED.\n",
        "# IF THERE ARE MORE THAN 2 LEVELS THEN MULTINOMIAL LOGISTIC\n",
        "# REGRESSION IS USED.\n",
        "# BINARY LOGISTIC REGRESSION -\n",
        "#        EXP^(B0+B1X1+B2X2+B3X3+B4X4+..BnXn)\n",
        "# P = ------------------------------------------------\n",
        "#       1 + EXP^(B0+B1X1+B2X2+B3X3+B4X4+..BnXn)\n",
        "# p - Probability lies between 0 & 1\n",
        "# EXP - Exponential - 2.718\n",
        "# B0 - Intercept or Constant\n",
        "# B1,B2,B3,B4,..Bn - Coefficients\n",
        "# X1,X2,X3,X4,...Xn - Independent variables\n",
        "# Equation predicts predicted probability\n",
        "# Classification Rule for all Classification Models\n",
        "# probability greater than equal to 0.50 ---- 1 (yes)\n",
        "# probability less than 0.50 ------ 0  (no)\n",
        "\n",
        "# Assumptions\n",
        "# Dependent Variable(y) must be Binary.(yes/no)\n",
        "# Independent Variables can be both numerical and categorical.\n",
        "# No Multicollinearity(strong correlation >0.95)\n",
        "# Exogeneity \n",
        "# Sample Size is minimum 50 observations per variable\n",
        "\n",
        "# Interpreatation of Output\n",
        "# Accuracy calculated from Confusion Matrix\n",
        "# intercept + Coefficients\n",
        "\n",
        "# Confusion Matrix is a 2 X 2 matrix of Actual Class & Predicted\n",
        "# class. Cross Tabulation of y and predicted y\n",
        "# Actual Class is positive & Predicted class is Positive  -\n",
        "# True Positive (TP)\n",
        "# Actual Class is Positive but Predicted class is Negative -\n",
        "# False Negative (Type II Error) (FN)\n",
        "# Actual Class is Negative but Predicted class is Positive -\n",
        "# False Positive (Type I Error) (FP)\n",
        "# Actual Class is Negative & Predicted Class is Negative-\n",
        "# True Negative (TN)\n",
        "\n",
        "# Primary metric for all Classification Models is\n",
        "#                      True positive + True negative\n",
        "# Accuracy = ----------------------------------------------------\n",
        "#            True positive+FalseNegative+FalsePositive+TrueNegative\n",
        "# Accuracy must be between 0.70 - 0.90 \n",
        "\n",
        "#                               True Positive\n",
        "# Sensitivity or Recall = ------------------------------\n",
        "#                          True Positive + False Negative\n",
        "# Sensitivity must be higher closer to 1\n",
        "# Sensitivity is also called as True Positive Rate (TPR)\n",
        "\n",
        "#                 True Negative\n",
        "# Specificty = ------------------------------\n",
        "#                True Negative + False Positive\n",
        "# Specificity is als called as True Negative Rate\n",
        "# Specificity must be higher closer to 1.\n",
        "\n",
        "#                  True positive\n",
        "# Precision = -----------------------------\n",
        "#                True Positive + False Positive\n",
        "# Precision must be higher closer to 1\n",
        "\n",
        "#                Precision X Recall\n",
        "# F1 Score = 2 X -------------------\n",
        "#                Precision + Recall\n"
      ],
      "id": "c5d20f19",
      "execution_count": null,
      "outputs": []
    },
    {
      "cell_type": "code",
      "metadata": {
        "colab": {
          "base_uri": "https://localhost:8080/"
        },
        "id": "6309f068",
        "outputId": "9e3f42fd-eacc-45c5-b1e8-b182dbaa21f7"
      },
      "source": [
        "hrtrain.columns"
      ],
      "id": "6309f068",
      "execution_count": null,
      "outputs": [
        {
          "output_type": "execute_result",
          "data": {
            "text/plain": [
              "Index(['employee_id', 'department', 'region', 'education', 'gender',\n",
              "       'recruitment_channel', 'no_of_trainings', 'age', 'previous_year_rating',\n",
              "       'length_of_service', 'KPIs_met >80%', 'awards_won?',\n",
              "       'avg_training_score', 'is_promoted'],\n",
              "      dtype='object')"
            ]
          },
          "metadata": {
            "tags": []
          },
          "execution_count": 45
        }
      ]
    },
    {
      "cell_type": "code",
      "metadata": {
        "id": "1d7d37de"
      },
      "source": [
        "objectcolumns=hrtrain[['department', 'region', 'education', 'gender',\n",
        "       'recruitment_channel','previous_year_rating',\n",
        "                      'KPIs_met >80%', 'awards_won?','is_promoted']]"
      ],
      "id": "1d7d37de",
      "execution_count": null,
      "outputs": []
    },
    {
      "cell_type": "code",
      "metadata": {
        "id": "6e58c213"
      },
      "source": [
        "numericcolumns=hrtrain[['no_of_trainings', 'age',\n",
        "                        'avg_training_score','length_of_service']]"
      ],
      "id": "6e58c213",
      "execution_count": null,
      "outputs": []
    },
    {
      "cell_type": "code",
      "metadata": {
        "id": "1f8162ca"
      },
      "source": [
        "from sklearn.preprocessing import LabelEncoder"
      ],
      "id": "1f8162ca",
      "execution_count": null,
      "outputs": []
    },
    {
      "cell_type": "code",
      "metadata": {
        "id": "fbadb323"
      },
      "source": [
        "le=LabelEncoder()"
      ],
      "id": "fbadb323",
      "execution_count": null,
      "outputs": []
    },
    {
      "cell_type": "code",
      "metadata": {
        "id": "872b9fc0"
      },
      "source": [
        "objectcolumnsdummy=objectcolumns.apply(le.fit_transform)"
      ],
      "id": "872b9fc0",
      "execution_count": null,
      "outputs": []
    },
    {
      "cell_type": "code",
      "metadata": {
        "id": "2a6c54e4"
      },
      "source": [
        "hrtraindf=pd.concat([numericcolumns,objectcolumnsdummy],axis=1)"
      ],
      "id": "2a6c54e4",
      "execution_count": null,
      "outputs": []
    },
    {
      "cell_type": "code",
      "metadata": {
        "id": "1b402b43"
      },
      "source": [
        "y=hrtraindf.is_promoted\n",
        "X=hrtraindf.drop('is_promoted',axis=1)"
      ],
      "id": "1b402b43",
      "execution_count": null,
      "outputs": []
    },
    {
      "cell_type": "code",
      "metadata": {
        "id": "7f5d0073"
      },
      "source": [
        "from sklearn.linear_model import LogisticRegression"
      ],
      "id": "7f5d0073",
      "execution_count": null,
      "outputs": []
    },
    {
      "cell_type": "code",
      "metadata": {
        "id": "36ec3fa8"
      },
      "source": [
        "logreg=LogisticRegression(max_iter=2000)\n",
        "# Convergence Warning means Not All Coefficients are Calculated"
      ],
      "id": "36ec3fa8",
      "execution_count": null,
      "outputs": []
    },
    {
      "cell_type": "code",
      "metadata": {
        "id": "6a8c4c50"
      },
      "source": [
        "logregmodel=logreg.fit(X,y)"
      ],
      "id": "6a8c4c50",
      "execution_count": null,
      "outputs": []
    },
    {
      "cell_type": "code",
      "metadata": {
        "colab": {
          "base_uri": "https://localhost:8080/"
        },
        "id": "d5099c8f",
        "outputId": "d55555ed-42c4-43f9-b96e-5710830493ba"
      },
      "source": [
        "logregmodel.score(X,y) # Accuracy from Confusion Matrix"
      ],
      "id": "d5099c8f",
      "execution_count": null,
      "outputs": [
        {
          "output_type": "execute_result",
          "data": {
            "text/plain": [
              "0.9172201138519924"
            ]
          },
          "metadata": {
            "tags": []
          },
          "execution_count": 56
        }
      ]
    },
    {
      "cell_type": "code",
      "metadata": {
        "id": "3ae083b7"
      },
      "source": [
        "logitpredict=logregmodel.predict(X)"
      ],
      "id": "3ae083b7",
      "execution_count": null,
      "outputs": []
    },
    {
      "cell_type": "code",
      "metadata": {
        "colab": {
          "base_uri": "https://localhost:8080/",
          "height": 142
        },
        "id": "972e7229",
        "outputId": "6bd95fe7-627a-4191-cf06-59d2a995b3ac"
      },
      "source": [
        "pd.crosstab(y,logitpredict)"
      ],
      "id": "972e7229",
      "execution_count": null,
      "outputs": [
        {
          "output_type": "execute_result",
          "data": {
            "text/html": [
              "<div>\n",
              "<style scoped>\n",
              "    .dataframe tbody tr th:only-of-type {\n",
              "        vertical-align: middle;\n",
              "    }\n",
              "\n",
              "    .dataframe tbody tr th {\n",
              "        vertical-align: top;\n",
              "    }\n",
              "\n",
              "    .dataframe thead th {\n",
              "        text-align: right;\n",
              "    }\n",
              "</style>\n",
              "<table border=\"1\" class=\"dataframe\">\n",
              "  <thead>\n",
              "    <tr style=\"text-align: right;\">\n",
              "      <th>col_0</th>\n",
              "      <th>0</th>\n",
              "      <th>1</th>\n",
              "    </tr>\n",
              "    <tr>\n",
              "      <th>is_promoted</th>\n",
              "      <th></th>\n",
              "      <th></th>\n",
              "    </tr>\n",
              "  </thead>\n",
              "  <tbody>\n",
              "    <tr>\n",
              "      <th>0</th>\n",
              "      <td>49948</td>\n",
              "      <td>192</td>\n",
              "    </tr>\n",
              "    <tr>\n",
              "      <th>1</th>\n",
              "      <td>4345</td>\n",
              "      <td>323</td>\n",
              "    </tr>\n",
              "  </tbody>\n",
              "</table>\n",
              "</div>"
            ],
            "text/plain": [
              "col_0            0    1\n",
              "is_promoted            \n",
              "0            49948  192\n",
              "1             4345  323"
            ]
          },
          "metadata": {
            "tags": []
          },
          "execution_count": 58
        }
      ]
    },
    {
      "cell_type": "code",
      "metadata": {
        "colab": {
          "base_uri": "https://localhost:8080/"
        },
        "id": "d8b623b4",
        "outputId": "c925e598-e34f-495c-99be-b962ccf5dc79"
      },
      "source": [
        "(49942+328)/(49942+198+4340+328) # Accuracy = 91.72%"
      ],
      "id": "d8b623b4",
      "execution_count": null,
      "outputs": [
        {
          "output_type": "execute_result",
          "data": {
            "text/plain": [
              "0.9172018683403883"
            ]
          },
          "metadata": {
            "tags": []
          },
          "execution_count": 59
        }
      ]
    },
    {
      "cell_type": "code",
      "metadata": {
        "colab": {
          "base_uri": "https://localhost:8080/"
        },
        "id": "d4815a83",
        "outputId": "6152c1eb-d0d3-4e23-bc77-2a02b25615b1"
      },
      "source": [
        "logregmodel.intercept_"
      ],
      "id": "d4815a83",
      "execution_count": null,
      "outputs": [
        {
          "output_type": "execute_result",
          "data": {
            "text/plain": [
              "array([-6.80183032])"
            ]
          },
          "metadata": {
            "tags": []
          },
          "execution_count": 60
        }
      ]
    },
    {
      "cell_type": "code",
      "metadata": {
        "colab": {
          "base_uri": "https://localhost:8080/",
          "height": 421
        },
        "id": "ed0786f9",
        "outputId": "ba8673a4-c63f-439e-abb3-89951b8b6588"
      },
      "source": [
        "pd.DataFrame(logregmodel.coef_,columns=X.columns).transpose()"
      ],
      "id": "ed0786f9",
      "execution_count": null,
      "outputs": [
        {
          "output_type": "execute_result",
          "data": {
            "text/html": [
              "<div>\n",
              "<style scoped>\n",
              "    .dataframe tbody tr th:only-of-type {\n",
              "        vertical-align: middle;\n",
              "    }\n",
              "\n",
              "    .dataframe tbody tr th {\n",
              "        vertical-align: top;\n",
              "    }\n",
              "\n",
              "    .dataframe thead th {\n",
              "        text-align: right;\n",
              "    }\n",
              "</style>\n",
              "<table border=\"1\" class=\"dataframe\">\n",
              "  <thead>\n",
              "    <tr style=\"text-align: right;\">\n",
              "      <th></th>\n",
              "      <th>0</th>\n",
              "    </tr>\n",
              "  </thead>\n",
              "  <tbody>\n",
              "    <tr>\n",
              "      <th>no_of_trainings</th>\n",
              "      <td>-0.187037</td>\n",
              "    </tr>\n",
              "    <tr>\n",
              "      <th>age</th>\n",
              "      <td>-0.020709</td>\n",
              "    </tr>\n",
              "    <tr>\n",
              "      <th>avg_training_score</th>\n",
              "      <td>0.046130</td>\n",
              "    </tr>\n",
              "    <tr>\n",
              "      <th>length_of_service</th>\n",
              "      <td>0.024285</td>\n",
              "    </tr>\n",
              "    <tr>\n",
              "      <th>department</th>\n",
              "      <td>0.082790</td>\n",
              "    </tr>\n",
              "    <tr>\n",
              "      <th>region</th>\n",
              "      <td>0.002428</td>\n",
              "    </tr>\n",
              "    <tr>\n",
              "      <th>education</th>\n",
              "      <td>0.103645</td>\n",
              "    </tr>\n",
              "    <tr>\n",
              "      <th>gender</th>\n",
              "      <td>0.013943</td>\n",
              "    </tr>\n",
              "    <tr>\n",
              "      <th>recruitment_channel</th>\n",
              "      <td>0.009376</td>\n",
              "    </tr>\n",
              "    <tr>\n",
              "      <th>previous_year_rating</th>\n",
              "      <td>0.334313</td>\n",
              "    </tr>\n",
              "    <tr>\n",
              "      <th>KPIs_met &gt;80%</th>\n",
              "      <td>1.284917</td>\n",
              "    </tr>\n",
              "    <tr>\n",
              "      <th>awards_won?</th>\n",
              "      <td>1.903204</td>\n",
              "    </tr>\n",
              "  </tbody>\n",
              "</table>\n",
              "</div>"
            ],
            "text/plain": [
              "                             0\n",
              "no_of_trainings      -0.187037\n",
              "age                  -0.020709\n",
              "avg_training_score    0.046130\n",
              "length_of_service     0.024285\n",
              "department            0.082790\n",
              "region                0.002428\n",
              "education             0.103645\n",
              "gender                0.013943\n",
              "recruitment_channel   0.009376\n",
              "previous_year_rating  0.334313\n",
              "KPIs_met >80%         1.284917\n",
              "awards_won?           1.903204"
            ]
          },
          "metadata": {
            "tags": []
          },
          "execution_count": 61
        }
      ]
    },
    {
      "cell_type": "code",
      "metadata": {
        "id": "871909ff"
      },
      "source": [
        "from sklearn.metrics import classification_report"
      ],
      "id": "871909ff",
      "execution_count": null,
      "outputs": []
    },
    {
      "cell_type": "code",
      "metadata": {
        "colab": {
          "base_uri": "https://localhost:8080/"
        },
        "id": "a2982b73",
        "outputId": "1f829e8d-c6c6-4b7a-f0b2-d959e1bf349a"
      },
      "source": [
        "print(classification_report(y,logitpredict))"
      ],
      "id": "a2982b73",
      "execution_count": null,
      "outputs": [
        {
          "output_type": "stream",
          "text": [
            "              precision    recall  f1-score   support\n",
            "\n",
            "           0       0.92      1.00      0.96     50140\n",
            "           1       0.63      0.07      0.12      4668\n",
            "\n",
            "    accuracy                           0.92     54808\n",
            "   macro avg       0.77      0.53      0.54     54808\n",
            "weighted avg       0.90      0.92      0.89     54808\n",
            "\n"
          ],
          "name": "stdout"
        }
      ]
    },
    {
      "cell_type": "code",
      "metadata": {
        "id": "3cf46af6"
      },
      "source": [
        "from sklearn.metrics import plot_roc_curve"
      ],
      "id": "3cf46af6",
      "execution_count": null,
      "outputs": []
    },
    {
      "cell_type": "code",
      "metadata": {
        "colab": {
          "base_uri": "https://localhost:8080/",
          "height": 296
        },
        "id": "359cfe5c",
        "outputId": "d4bcfc3c-c72b-4d54-ccab-cb44cfdadbf6"
      },
      "source": [
        "plot_roc_curve(logreg,X,y)\n",
        "# Area Under ROC Curve (AUC) = 0.81 or 81%"
      ],
      "id": "359cfe5c",
      "execution_count": null,
      "outputs": [
        {
          "output_type": "execute_result",
          "data": {
            "text/plain": [
              "<sklearn.metrics._plot.roc_curve.RocCurveDisplay at 0x7fb0f24422d0>"
            ]
          },
          "metadata": {
            "tags": []
          },
          "execution_count": 65
        },
        {
          "output_type": "display_data",
          "data": {
            "image/png": "[encoded data removed]",
            "text/plain": [
              "<Figure size 432x288 with 1 Axes>"
            ]
          },
          "metadata": {
            "tags": [],
            "needs_background": "light"
          }
        }
      ]
    },
    {
      "cell_type": "code",
      "metadata": {
        "id": "5b90f04c"
      },
      "source": [
        "#Machine Learning - \n",
        "# Supervised Learning - Complete Understanding of Data and which \n",
        "# Machine Learning Algorithms to Run.\n",
        "# UnSupervised Learning _ Dont have complete understanding of data dont\n",
        "# know what is dependent variable and dont know which algorithms run\n",
        "# Supervised Learning - \n",
        "# Regression Models  - Multiple Linear Regression\n",
        "# Classification Models - Binary Logistic Regression\n",
        "# CART Models - Both Regression and Classification Models\n",
        "\n",
        "# Tree Based Models - Single Tree Model - Decision Tree - CART model\n",
        "# Decision Tree is Binary Splitting tree with Root Node at beginning and\n",
        "# Decision nodes where Tree Splits into further decision nodes or\n",
        "# Terminal Node or Leaf. Output is a Decision Tree diagram.\n",
        "\n",
        "# From Decision Tree rules will be created and rules are used for \n",
        "# prediction. Top Down Reading creates rules when X2>5 & X4=No & X8<150\n",
        "# then class will be 1.\n",
        "\n",
        "# Recursive Partitioning Trees - Tree splits on previous decision node\n",
        "# number of observations not on total number of observations. Tree stops\n",
        "# growing when all observations are classified into diffferent leaf or\n",
        "# terminal node.\n",
        "\n",
        "# Tree Splitting Methods\n",
        "# 1) Gini Method - 1-Σ(probi)^2\n",
        "# Gini will be calculated for all independent variables with dependent\n",
        "# variable. Identiifes Lowest Gini and that variable First Split and in\n",
        "# Ascending order till 0.40. Gini greater than0.40 will not be consider\n",
        "# in tree.\n",
        "\n",
        "# 2) Entropy and Information Gain Method\n",
        "# Entropy = Σ-probi*log2probi\n",
        "# Information Gain = Entropy of dependent Variable - Entropy of Variable\n",
        "# Information Gain is calculated for all independent variables with \n",
        "# dependent variable. Highest Information Gain is identified and that\n",
        "# variable will be first split and descending order till 0.50.\n",
        "# Information gain less than 0.50 will be deleted from tree.\n",
        "\n",
        "# Decision tree used as Regression Model (RMSE) & Classifciation Model(\n",
        "# Accuracy from Confusion Matrix)\n",
        "\n",
        "# Disadvantage is Overfitting problem. Train data - Accuracy of 98% but\n",
        "# on repeated testing Accuracy drastically decreases. (Cv=4, 0.70,0.61,\n",
        "# 0.78,0.64)\n"
      ],
      "id": "5b90f04c",
      "execution_count": null,
      "outputs": []
    },
    {
      "cell_type": "code",
      "metadata": {
        "id": "43edd791"
      },
      "source": [
        "from sklearn.tree import DecisionTreeClassifier"
      ],
      "id": "43edd791",
      "execution_count": null,
      "outputs": []
    },
    {
      "cell_type": "code",
      "metadata": {
        "id": "4faf79cb"
      },
      "source": [
        "tree=DecisionTreeClassifier(max_depth=3)"
      ],
      "id": "4faf79cb",
      "execution_count": null,
      "outputs": []
    },
    {
      "cell_type": "code",
      "metadata": {
        "id": "c009afbc"
      },
      "source": [
        "treemodel=tree.fit(X,y)"
      ],
      "id": "c009afbc",
      "execution_count": null,
      "outputs": []
    },
    {
      "cell_type": "code",
      "metadata": {
        "colab": {
          "base_uri": "https://localhost:8080/"
        },
        "id": "1e5ae2c6",
        "outputId": "6b8446fe-57b2-44eb-f3c8-7152bee2ae33"
      },
      "source": [
        "treemodel.score(X,y) # Accuracy - 92.28"
      ],
      "id": "1e5ae2c6",
      "execution_count": null,
      "outputs": [
        {
          "output_type": "execute_result",
          "data": {
            "text/plain": [
              "0.9231499051233396"
            ]
          },
          "metadata": {
            "tags": []
          },
          "execution_count": 70
        }
      ]
    },
    {
      "cell_type": "code",
      "metadata": {
        "id": "2070da70"
      },
      "source": [
        "from sklearn.model_selection import cross_val_score"
      ],
      "id": "2070da70",
      "execution_count": null,
      "outputs": []
    },
    {
      "cell_type": "code",
      "metadata": {
        "colab": {
          "base_uri": "https://localhost:8080/"
        },
        "id": "745b1957",
        "outputId": "6e64968a-0ca8-4e3c-eda8-22bcb0631804"
      },
      "source": [
        "cross_val_score(tree,X,y,cv=5) # Cross Validation or Repeated Testing"
      ],
      "id": "745b1957",
      "execution_count": null,
      "outputs": [
        {
          "output_type": "execute_result",
          "data": {
            "text/plain": [
              "array([0.92428389, 0.92245941, 0.92145594, 0.92327342, 0.92363835])"
            ]
          },
          "metadata": {
            "tags": []
          },
          "execution_count": 72
        }
      ]
    },
    {
      "cell_type": "code",
      "metadata": {
        "colab": {
          "base_uri": "https://localhost:8080/"
        },
        "id": "61936be1",
        "outputId": "0b61bc68-0a63-4e8d-8238-530e17c0c729"
      },
      "source": [
        "(0.92391899+0.92163839+0.92145594+0.9226348+0.92309096)/5"
      ],
      "id": "61936be1",
      "execution_count": null,
      "outputs": [
        {
          "output_type": "execute_result",
          "data": {
            "text/plain": [
              "0.922547816"
            ]
          },
          "metadata": {
            "tags": []
          },
          "execution_count": 73
        }
      ]
    },
    {
      "cell_type": "code",
      "metadata": {
        "id": "a03b177c"
      },
      "source": [
        "from sklearn.tree import plot_tree"
      ],
      "id": "a03b177c",
      "execution_count": null,
      "outputs": []
    },
    {
      "cell_type": "code",
      "metadata": {
        "colab": {
          "base_uri": "https://localhost:8080/",
          "height": 532
        },
        "id": "a2f1bf11",
        "outputId": "61a93ffd-0c02-4b50-ba11-771ef1efd4bc"
      },
      "source": [
        "plot_tree(treemodel,filled=True,feature_names=X.columns)"
      ],
      "id": "a2f1bf11",
      "execution_count": null,
      "outputs": [
        {
          "output_type": "execute_result",
          "data": {
            "text/plain": [
              "[Text(167.4, 190.26, 'avg_training_score <= 90.5\\ngini = 0.156\\nsamples = 54808\\nvalue = [50140, 4668]'),\n",
              " Text(83.7, 135.9, 'KPIs_met >80% <= 0.5\\ngini = 0.142\\nsamples = 54229\\nvalue = [50069, 4160]'),\n",
              " Text(41.85, 81.53999999999999, 'awards_won? <= 0.5\\ngini = 0.067\\nsamples = 35295\\nvalue = [34064, 1231]'),\n",
              " Text(20.925, 27.180000000000007, 'gini = 0.058\\nsamples = 34907\\nvalue = [33862, 1045]'),\n",
              " Text(62.775000000000006, 27.180000000000007, 'gini = 0.499\\nsamples = 388\\nvalue = [202, 186]'),\n",
              " Text(125.55000000000001, 81.53999999999999, 'avg_training_score <= 88.5\\ngini = 0.262\\nsamples = 18934\\nvalue = [16005, 2929]'),\n",
              " Text(104.625, 27.180000000000007, 'gini = 0.257\\nsamples = 18717\\nvalue = [15883, 2834]'),\n",
              " Text(146.475, 27.180000000000007, 'gini = 0.492\\nsamples = 217\\nvalue = [122, 95]'),\n",
              " Text(251.10000000000002, 135.9, 'department <= 0.5\\ngini = 0.215\\nsamples = 579\\nvalue = [71, 508]'),\n",
              " Text(209.25, 81.53999999999999, 'avg_training_score <= 93.5\\ngini = 0.499\\nsamples = 116\\nvalue = [56, 60]'),\n",
              " Text(188.32500000000002, 27.180000000000007, 'gini = 0.477\\nsamples = 89\\nvalue = [54, 35]'),\n",
              " Text(230.175, 27.180000000000007, 'gini = 0.137\\nsamples = 27\\nvalue = [2, 25]'),\n",
              " Text(292.95, 81.53999999999999, 'avg_training_score <= 92.5\\ngini = 0.063\\nsamples = 463\\nvalue = [15, 448]'),\n",
              " Text(272.02500000000003, 27.180000000000007, 'gini = 0.165\\nsamples = 143\\nvalue = [13, 130]'),\n",
              " Text(313.875, 27.180000000000007, 'gini = 0.012\\nsamples = 320\\nvalue = [2, 318]')]"
            ]
          },
          "metadata": {
            "tags": []
          },
          "execution_count": 75
        },
        {
          "output_type": "display_data",
          "data": {
            "image/png": "[encoded data removed]",
            "text/plain": [
              "<Figure size 432x288 with 1 Axes>"
            ]
          },
          "metadata": {
            "tags": [],
            "needs_background": "light"
          }
        }
      ]
    },
    {
      "cell_type": "code",
      "metadata": {
        "colab": {
          "base_uri": "https://localhost:8080/",
          "height": 259
        },
        "id": "1c6ee7d8",
        "outputId": "64a26083-694d-40a9-a9b1-7204f740de00"
      },
      "source": [
        "hrtest.head()"
      ],
      "id": "1c6ee7d8",
      "execution_count": null,
      "outputs": [
        {
          "output_type": "execute_result",
          "data": {
            "text/html": [
              "<div>\n",
              "<style scoped>\n",
              "    .dataframe tbody tr th:only-of-type {\n",
              "        vertical-align: middle;\n",
              "    }\n",
              "\n",
              "    .dataframe tbody tr th {\n",
              "        vertical-align: top;\n",
              "    }\n",
              "\n",
              "    .dataframe thead th {\n",
              "        text-align: right;\n",
              "    }\n",
              "</style>\n",
              "<table border=\"1\" class=\"dataframe\">\n",
              "  <thead>\n",
              "    <tr style=\"text-align: right;\">\n",
              "      <th></th>\n",
              "      <th>employee_id</th>\n",
              "      <th>department</th>\n",
              "      <th>region</th>\n",
              "      <th>education</th>\n",
              "      <th>gender</th>\n",
              "      <th>recruitment_channel</th>\n",
              "      <th>no_of_trainings</th>\n",
              "      <th>age</th>\n",
              "      <th>previous_year_rating</th>\n",
              "      <th>length_of_service</th>\n",
              "      <th>KPIs_met &gt;80%</th>\n",
              "      <th>awards_won?</th>\n",
              "      <th>avg_training_score</th>\n",
              "    </tr>\n",
              "  </thead>\n",
              "  <tbody>\n",
              "    <tr>\n",
              "      <th>0</th>\n",
              "      <td>8724</td>\n",
              "      <td>Technology</td>\n",
              "      <td>region_26</td>\n",
              "      <td>Bachelor's</td>\n",
              "      <td>m</td>\n",
              "      <td>sourcing</td>\n",
              "      <td>1</td>\n",
              "      <td>24</td>\n",
              "      <td>3.0</td>\n",
              "      <td>1</td>\n",
              "      <td>1</td>\n",
              "      <td>0</td>\n",
              "      <td>77</td>\n",
              "    </tr>\n",
              "    <tr>\n",
              "      <th>1</th>\n",
              "      <td>74430</td>\n",
              "      <td>HR</td>\n",
              "      <td>region_4</td>\n",
              "      <td>Bachelor's</td>\n",
              "      <td>f</td>\n",
              "      <td>other</td>\n",
              "      <td>1</td>\n",
              "      <td>31</td>\n",
              "      <td>3.0</td>\n",
              "      <td>5</td>\n",
              "      <td>0</td>\n",
              "      <td>0</td>\n",
              "      <td>51</td>\n",
              "    </tr>\n",
              "    <tr>\n",
              "      <th>2</th>\n",
              "      <td>72255</td>\n",
              "      <td>Sales &amp; Marketing</td>\n",
              "      <td>region_13</td>\n",
              "      <td>Bachelor's</td>\n",
              "      <td>m</td>\n",
              "      <td>other</td>\n",
              "      <td>1</td>\n",
              "      <td>31</td>\n",
              "      <td>1.0</td>\n",
              "      <td>4</td>\n",
              "      <td>0</td>\n",
              "      <td>0</td>\n",
              "      <td>47</td>\n",
              "    </tr>\n",
              "    <tr>\n",
              "      <th>3</th>\n",
              "      <td>38562</td>\n",
              "      <td>Procurement</td>\n",
              "      <td>region_2</td>\n",
              "      <td>Bachelor's</td>\n",
              "      <td>f</td>\n",
              "      <td>other</td>\n",
              "      <td>3</td>\n",
              "      <td>31</td>\n",
              "      <td>2.0</td>\n",
              "      <td>9</td>\n",
              "      <td>0</td>\n",
              "      <td>0</td>\n",
              "      <td>65</td>\n",
              "    </tr>\n",
              "    <tr>\n",
              "      <th>4</th>\n",
              "      <td>64486</td>\n",
              "      <td>Finance</td>\n",
              "      <td>region_29</td>\n",
              "      <td>Bachelor's</td>\n",
              "      <td>m</td>\n",
              "      <td>sourcing</td>\n",
              "      <td>1</td>\n",
              "      <td>30</td>\n",
              "      <td>4.0</td>\n",
              "      <td>7</td>\n",
              "      <td>0</td>\n",
              "      <td>0</td>\n",
              "      <td>61</td>\n",
              "    </tr>\n",
              "  </tbody>\n",
              "</table>\n",
              "</div>"
            ],
            "text/plain": [
              "   employee_id         department  ... awards_won? avg_training_score\n",
              "0         8724         Technology  ...           0                 77\n",
              "1        74430                 HR  ...           0                 51\n",
              "2        72255  Sales & Marketing  ...           0                 47\n",
              "3        38562        Procurement  ...           0                 65\n",
              "4        64486            Finance  ...           0                 61\n",
              "\n",
              "[5 rows x 13 columns]"
            ]
          },
          "metadata": {
            "tags": []
          },
          "execution_count": 76
        }
      ]
    },
    {
      "cell_type": "code",
      "metadata": {
        "id": "232e9e2d"
      },
      "source": [
        "objectcolumns=hrtest[['department', 'region', 'education', 'gender',\n",
        "       'recruitment_channel','previous_year_rating',\n",
        "                      'KPIs_met >80%', 'awards_won?']]"
      ],
      "id": "232e9e2d",
      "execution_count": null,
      "outputs": []
    },
    {
      "cell_type": "code",
      "metadata": {
        "id": "386ffa94"
      },
      "source": [
        "numericcolumns=hrtest[['no_of_trainings', 'age',\n",
        "                        'avg_training_score','length_of_service']]"
      ],
      "id": "386ffa94",
      "execution_count": null,
      "outputs": []
    },
    {
      "cell_type": "code",
      "metadata": {
        "id": "ebadaae3"
      },
      "source": [
        "testobjectcolsdummy=objectcolumns.apply(le.fit_transform)"
      ],
      "id": "ebadaae3",
      "execution_count": null,
      "outputs": []
    },
    {
      "cell_type": "code",
      "metadata": {
        "id": "405b0716"
      },
      "source": [
        "hrtestdf=pd.concat([numericcolumns,testobjectcolsdummy],axis=1)"
      ],
      "id": "405b0716",
      "execution_count": null,
      "outputs": []
    },
    {
      "cell_type": "code",
      "metadata": {
        "id": "2e02af54"
      },
      "source": [
        "logitpredict=logregmodel.predict(hrtestdf)"
      ],
      "id": "2e02af54",
      "execution_count": null,
      "outputs": []
    },
    {
      "cell_type": "code",
      "metadata": {
        "id": "6ab24a81"
      },
      "source": [
        "pd.DataFrame(logitpredict).to_csv('logit.csv')"
      ],
      "id": "6ab24a81",
      "execution_count": null,
      "outputs": []
    },
    {
      "cell_type": "code",
      "metadata": {
        "id": "42a8cf90"
      },
      "source": [
        "treepredict=treemodel.predict(hrtestdf)"
      ],
      "id": "42a8cf90",
      "execution_count": null,
      "outputs": []
    },
    {
      "cell_type": "code",
      "metadata": {
        "id": "dffe5b2e"
      },
      "source": [
        "pd.DataFrame(treepredict).to_csv('tree.csv')"
      ],
      "id": "dffe5b2e",
      "execution_count": null,
      "outputs": []
    },
    {
      "cell_type": "code",
      "metadata": {
        "id": "0d0a7468"
      },
      "source": [
        "# Machine Learning - Supervised Learning - CART Model - MultiTree Models\n",
        "# Ensemble Meathods - Bagging or Bootstrap Aggregating\n",
        "# Algorithm - Random Forest - Random(Sampling) & Forest(Multiple trees)\n",
        "# Step 1 - Specify the number of Tree to be built (n_estimators=1000)\n",
        "# Step 2 - Create 1000 samples from original data using Random Sampling \n",
        "# method for observations and variables. Each sample will have 65% of \n",
        "# observations and sqrt(number of variables). Trees will not be built\n",
        "# untill sampling process ends.\n",
        "# Data Sampling Method used is Data with Replacement method wherein\n",
        "# observations and variables appear in multiple samples thereby in\n",
        "# multiple trees.\n",
        "# Step 3- Upon completion of sampling decision tree building will start\n",
        "# and parallely build multiple trees as each sample is independent. One\n",
        "# Decision Tree for One Sample.\n",
        "# Step 4 - After building Tree, prediction will also be done for each tree\n",
        "# Step 5 - Aggregate Outputs of multiple trees and if it is classification\n",
        "# use Majority Voting method and if it is regression using Average method\n",
        "# the final prediction of observation will be decided.\n",
        "# Example - Observation 205 appeared in 450 trees & 270 trees predicted \n",
        "# as O or No and 180 trees predicted as 1 or Yes. Final Prediction - No\n",
        "\n",
        "# Tree Splitting methods -1) Gini & 2) Entropy & Information Gain\n",
        "# Disadvantage - requires computing power and memory space'\n",
        "\n",
        "# Hierarchy of Algorithms \n",
        "# Try Multiple Linear Regression (Regression) or \n",
        "#. Binary Logistic Regression (Classification)\n",
        "# 2) Decision Tree\n",
        "# 3) Random Forest\n",
        "# 4) Gradient Boosting Machine\n",
        "# 5) Neural Networks\n",
        "# 6) Deep Learning\n",
        "\n",
        "# 7) Support Vector Machines(Image Processing)\n",
        "# 8) Naive Bayes (Sentiment Analysis of text)\n",
        "# 9) K Nearest Neighbours (KNN Algorithm)\n",
        "# Clustering Methods for Segmentation"
      ],
      "id": "0d0a7468",
      "execution_count": null,
      "outputs": []
    },
    {
      "cell_type": "code",
      "metadata": {
        "id": "175f4a3d"
      },
      "source": [
        "from sklearn.ensemble import RandomForestClassifier"
      ],
      "id": "175f4a3d",
      "execution_count": null,
      "outputs": []
    },
    {
      "cell_type": "code",
      "metadata": {
        "id": "a12041b2"
      },
      "source": [
        "RF=RandomForestClassifier(n_estimators=700)"
      ],
      "id": "a12041b2",
      "execution_count": null,
      "outputs": []
    },
    {
      "cell_type": "code",
      "metadata": {
        "id": "5cfef3e6"
      },
      "source": [
        "RFmodel=RF.fit(X,y)"
      ],
      "id": "5cfef3e6",
      "execution_count": null,
      "outputs": []
    },
    {
      "cell_type": "code",
      "metadata": {
        "colab": {
          "base_uri": "https://localhost:8080/"
        },
        "id": "5b5a1e02",
        "outputId": "367a3f15-d929-4124-e618-86262b844839"
      },
      "source": [
        "RFmodel.score(X,y)"
      ],
      "id": "5b5a1e02",
      "execution_count": null,
      "outputs": [
        {
          "output_type": "execute_result",
          "data": {
            "text/plain": [
              "0.999744562837542"
            ]
          },
          "metadata": {
            "tags": []
          },
          "execution_count": 89
        }
      ]
    },
    {
      "cell_type": "code",
      "metadata": {
        "id": "02f87039"
      },
      "source": [
        "from sklearn.model_selection import cross_val_score"
      ],
      "id": "02f87039",
      "execution_count": null,
      "outputs": []
    },
    {
      "cell_type": "code",
      "metadata": {
        "colab": {
          "base_uri": "https://localhost:8080/"
        },
        "id": "6b50b71a",
        "outputId": "d0545eb3-5e00-43aa-dbfb-7be377f651cf"
      },
      "source": [
        "cross_val_score(RF,X,y,cv=5)"
      ],
      "id": "6b50b71a",
      "execution_count": null,
      "outputs": [
        {
          "output_type": "execute_result",
          "data": {
            "text/plain": [
              "array([0.93650794, 0.93231162, 0.93313264, 0.93495119, 0.93285284])"
            ]
          },
          "metadata": {
            "tags": []
          },
          "execution_count": 91
        }
      ]
    },
    {
      "cell_type": "code",
      "metadata": {
        "colab": {
          "base_uri": "https://localhost:8080/",
          "height": 297
        },
        "id": "394761a1",
        "outputId": "88d57392-c9d9-4c95-a1b0-aa33223e1e03"
      },
      "source": [
        "plot_roc_curve(RF,X,y)"
      ],
      "id": "394761a1",
      "execution_count": null,
      "outputs": [
        {
          "output_type": "execute_result",
          "data": {
            "text/plain": [
              "<sklearn.metrics._plot.roc_curve.RocCurveDisplay at 0x7fb0e4811f50>"
            ]
          },
          "metadata": {
            "tags": []
          },
          "execution_count": 92
        },
        {
          "output_type": "display_data",
          "data": {
            "image/png": "[encoded data removed]",
            "text/plain": [
              "<Figure size 432x288 with 1 Axes>"
            ]
          },
          "metadata": {
            "tags": [],
            "needs_background": "light"
          }
        }
      ]
    },
    {
      "cell_type": "code",
      "metadata": {
        "id": "4f313e31"
      },
      "source": [
        "# MAchine Learning - Supervised Learning - CART - Multi Tree Model\n",
        "# Ensemble Method - Boosting\n",
        "# Algorithm - Gradient Boosting Machine \n",
        "# GBM is developed to increase accuracy of models or boost wrong or weak\n",
        "# learners towards right prediction\n",
        "# Step 1 - Specifiy Number of Trees to be built (n_estimators=1000)\n",
        "# Step 2 - Creates Sample 1 with 65% of observations and sqrt(num of variables)\n",
        "# Step 3 - Build Decision Tree for Sample 1\n",
        "# Step 4 - predict for Decision tree for sample 1\n",
        "# Step 5 - Identify wrong predictions and move them into Sample 2\n",
        "# Step 6 - Replenish Sample 2 which already has wrong predictions from\n",
        "# sample 1 and complete Sample2\n",
        "# Step 7 - Build Decision Tree for Sample 2 & predict & identify wrong\n",
        "# predictions and move them to Sample 3. continue Process.\n",
        "\n",
        "# Trees are build Sequentially as each Tree is dependent on previous trees\n",
        "# for sample. \n",
        "# More weightage is given to wrong predictions in Tree.\n",
        "# Tree Splitting methods - 1)Gini 2)Entropy & Information gain\n",
        "\n",
        "# Data without Replacement Method it downgrades those observations that\n",
        "# are predicted correctly."
      ],
      "id": "4f313e31",
      "execution_count": null,
      "outputs": []
    },
    {
      "cell_type": "code",
      "metadata": {
        "id": "44c5b81e"
      },
      "source": [
        "from sklearn.ensemble import GradientBoostingClassifier"
      ],
      "id": "44c5b81e",
      "execution_count": null,
      "outputs": []
    },
    {
      "cell_type": "code",
      "metadata": {
        "id": "4007d3cb"
      },
      "source": [
        "gbm=GradientBoostingClassifier(n_estimators=1000)"
      ],
      "id": "4007d3cb",
      "execution_count": null,
      "outputs": []
    },
    {
      "cell_type": "code",
      "metadata": {
        "id": "8e1695ee"
      },
      "source": [
        "gbmmodel=gbm.fit(X,y)"
      ],
      "id": "8e1695ee",
      "execution_count": null,
      "outputs": []
    },
    {
      "cell_type": "code",
      "metadata": {
        "colab": {
          "base_uri": "https://localhost:8080/"
        },
        "id": "cd95417e",
        "outputId": "700485ef-600e-41e8-8206-e8d972ec214f"
      },
      "source": [
        "gbmmodel.score(X,y)"
      ],
      "id": "cd95417e",
      "execution_count": null,
      "outputs": [
        {
          "output_type": "execute_result",
          "data": {
            "text/plain": [
              "0.9449350459786893"
            ]
          },
          "metadata": {
            "tags": []
          },
          "execution_count": 97
        }
      ]
    },
    {
      "cell_type": "code",
      "metadata": {
        "colab": {
          "base_uri": "https://localhost:8080/"
        },
        "id": "c92fc02f",
        "outputId": "092ea152-6b81-4a39-98ef-afd01c83d051"
      },
      "source": [
        "cross_val_score(gbm,X,y,cv=5)"
      ],
      "id": "c92fc02f",
      "execution_count": null,
      "outputs": [
        {
          "output_type": "execute_result",
          "data": {
            "text/plain": [
              "array([0.94179894, 0.94015691, 0.94161649, 0.94398321, 0.94133747])"
            ]
          },
          "metadata": {
            "tags": []
          },
          "execution_count": 98
        }
      ]
    },
    {
      "cell_type": "code",
      "metadata": {
        "colab": {
          "base_uri": "https://localhost:8080/",
          "height": 297
        },
        "id": "9d5f9a7d",
        "outputId": "d95935c9-788e-4534-d78b-d05443b1c18b"
      },
      "source": [
        "plot_roc_curve(gbm,X,y)"
      ],
      "id": "9d5f9a7d",
      "execution_count": null,
      "outputs": [
        {
          "output_type": "execute_result",
          "data": {
            "text/plain": [
              "<sklearn.metrics._plot.roc_curve.RocCurveDisplay at 0x7fb0e4789810>"
            ]
          },
          "metadata": {
            "tags": []
          },
          "execution_count": 99
        },
        {
          "output_type": "display_data",
          "data": {
            "image/png": "[encoded data removed]",
            "text/plain": [
              "<Figure size 432x288 with 1 Axes>"
            ]
          },
          "metadata": {
            "tags": [],
            "needs_background": "light"
          }
        }
      ]
    },
    {
      "cell_type": "code",
      "metadata": {
        "id": "8a73083d"
      },
      "source": [
        "RFpredict=RFmodel.predict(hrtestdf)"
      ],
      "id": "8a73083d",
      "execution_count": null,
      "outputs": []
    },
    {
      "cell_type": "code",
      "metadata": {
        "id": "9ba3d5db"
      },
      "source": [
        "pd.DataFrame(RFpredict).to_csv('RF.csv')"
      ],
      "id": "9ba3d5db",
      "execution_count": null,
      "outputs": []
    },
    {
      "cell_type": "code",
      "metadata": {
        "id": "8f6b3f2b"
      },
      "source": [
        "gbmpredict=gbmmodel.predict(hrtestdf)"
      ],
      "id": "8f6b3f2b",
      "execution_count": null,
      "outputs": []
    },
    {
      "cell_type": "code",
      "metadata": {
        "id": "410ce146"
      },
      "source": [
        "pd.DataFrame(gbmpredict).to_csv('gbm.csv')"
      ],
      "id": "410ce146",
      "execution_count": null,
      "outputs": []
    },
    {
      "cell_type": "code",
      "metadata": {
        "id": "322b972b"
      },
      "source": [
        "from sklearn.naive_bayes import GaussianNB"
      ],
      "id": "322b972b",
      "execution_count": null,
      "outputs": []
    },
    {
      "cell_type": "code",
      "metadata": {
        "id": "a5d0fa2e"
      },
      "source": [
        "nb=GaussianNB()"
      ],
      "id": "a5d0fa2e",
      "execution_count": null,
      "outputs": []
    },
    {
      "cell_type": "code",
      "metadata": {
        "id": "56f79a12"
      },
      "source": [
        "nbmodel=nb.fit(X,y)"
      ],
      "id": "56f79a12",
      "execution_count": null,
      "outputs": []
    },
    {
      "cell_type": "code",
      "metadata": {
        "colab": {
          "base_uri": "https://localhost:8080/"
        },
        "id": "1d5c79d0",
        "outputId": "9f172330-897a-41eb-ab30-45bc3817abf7"
      },
      "source": [
        "nbmodel.score(X,y)"
      ],
      "id": "1d5c79d0",
      "execution_count": null,
      "outputs": [
        {
          "output_type": "execute_result",
          "data": {
            "text/plain": [
              "0.9127317179973726"
            ]
          },
          "metadata": {
            "tags": []
          },
          "execution_count": 107
        }
      ]
    },
    {
      "cell_type": "code",
      "metadata": {
        "id": "9459862a"
      },
      "source": [
        "nbpredict=nb.predict(hrtestdf)"
      ],
      "id": "9459862a",
      "execution_count": null,
      "outputs": []
    },
    {
      "cell_type": "code",
      "metadata": {
        "id": "853714a2"
      },
      "source": [
        "pd.DataFrame(nbpredict).to_csv('nb.csv')"
      ],
      "id": "853714a2",
      "execution_count": null,
      "outputs": []
    },
    {
      "cell_type": "code",
      "metadata": {
        "id": "fd15213b"
      },
      "source": [
        "from sklearn.naive_bayes import BernoulliNB"
      ],
      "id": "fd15213b",
      "execution_count": null,
      "outputs": []
    },
    {
      "cell_type": "code",
      "metadata": {
        "id": "e9172f28"
      },
      "source": [
        "binarynb=BernoulliNB()"
      ],
      "id": "e9172f28",
      "execution_count": null,
      "outputs": []
    },
    {
      "cell_type": "code",
      "metadata": {
        "id": "fed98ffa"
      },
      "source": [
        "binarynbmodel=binarynb.fit(X,y)"
      ],
      "id": "fed98ffa",
      "execution_count": null,
      "outputs": []
    },
    {
      "cell_type": "code",
      "metadata": {
        "colab": {
          "base_uri": "https://localhost:8080/"
        },
        "id": "9182fafb",
        "outputId": "e2c32e0e-8e0b-49ea-9109-8e8bd248f62a"
      },
      "source": [
        "binarynbmodel.score(X,y)"
      ],
      "id": "9182fafb",
      "execution_count": null,
      "outputs": [
        {
          "output_type": "execute_result",
          "data": {
            "text/plain": [
              "0.9123850532768939"
            ]
          },
          "metadata": {
            "tags": []
          },
          "execution_count": 113
        }
      ]
    },
    {
      "cell_type": "code",
      "metadata": {
        "id": "146f62ee"
      },
      "source": [
        "from sklearn.neural_network import MLPClassifier"
      ],
      "id": "146f62ee",
      "execution_count": null,
      "outputs": []
    },
    {
      "cell_type": "code",
      "metadata": {
        "colab": {
          "base_uri": "https://localhost:8080/"
        },
        "id": "bd7127b5",
        "outputId": "7234a7ac-fb2d-4a86-eb2b-1d21222ad481"
      },
      "source": [
        "X.shape"
      ],
      "id": "bd7127b5",
      "execution_count": null,
      "outputs": [
        {
          "output_type": "execute_result",
          "data": {
            "text/plain": [
              "(54808, 12)"
            ]
          },
          "metadata": {
            "tags": []
          },
          "execution_count": 115
        }
      ]
    },
    {
      "cell_type": "code",
      "metadata": {
        "id": "e37191ff"
      },
      "source": [
        "nn=MLPClassifier()"
      ],
      "id": "e37191ff",
      "execution_count": null,
      "outputs": []
    },
    {
      "cell_type": "code",
      "metadata": {
        "id": "4d02fa6e"
      },
      "source": [
        "nnmodel=nn.fit(X,y)"
      ],
      "id": "4d02fa6e",
      "execution_count": null,
      "outputs": []
    },
    {
      "cell_type": "code",
      "metadata": {
        "colab": {
          "base_uri": "https://localhost:8080/"
        },
        "id": "4816a96c",
        "outputId": "708b873b-f3c9-451c-b0e8-0dd7e740c71f"
      },
      "source": [
        "nnmodel.score(X,y)"
      ],
      "id": "4816a96c",
      "execution_count": null,
      "outputs": [
        {
          "output_type": "execute_result",
          "data": {
            "text/plain": [
              "0.928587067581375"
            ]
          },
          "metadata": {
            "tags": []
          },
          "execution_count": 118
        }
      ]
    },
    {
      "cell_type": "code",
      "metadata": {
        "id": "556a6f8c"
      },
      "source": [
        "nnhrtest=nnmodel.predict(hrtestdf)"
      ],
      "id": "556a6f8c",
      "execution_count": null,
      "outputs": []
    },
    {
      "cell_type": "code",
      "metadata": {
        "id": "8b5d1131"
      },
      "source": [
        "pd.DataFrame(nnhrtest).to_csv('nn.csv')"
      ],
      "id": "8b5d1131",
      "execution_count": null,
      "outputs": []
    },
    {
      "cell_type": "code",
      "metadata": {
        "id": "e9d26d06"
      },
      "source": [
        "import keras\n",
        "import tensorflow as tf"
      ],
      "id": "e9d26d06",
      "execution_count": null,
      "outputs": []
    },
    {
      "cell_type": "code",
      "metadata": {
        "id": "9bfeec30"
      },
      "source": [
        "from sklearn.model_selection import GridSearchCV\n",
        "from keras.models import Sequential\n",
        "from keras.layers import Dense,Dropout\n",
        "from keras.wrappers.scikit_learn import KerasClassifier\n",
        "from keras.constraints import maxnorm"
      ],
      "id": "9bfeec30",
      "execution_count": null,
      "outputs": []
    },
    {
      "cell_type": "code",
      "metadata": {
        "id": "NrsEPbGpohyE"
      },
      "source": [
        "def create_model(neurons=1):\n",
        "  model=Sequential()\n",
        "  model.add(Dense(neurons,input_dim=12,activation='relu'))\n",
        "  model.add(Dropout(0.2))\n",
        "  model.add(Dense(1,activation='sigmoid'))\n",
        "  model.compile(loss='binary_crossentropy', optimizer='adam',\n",
        "                metrics=['accuracy'])\n",
        "  return model"
      ],
      "id": "NrsEPbGpohyE",
      "execution_count": null,
      "outputs": []
    },
    {
      "cell_type": "code",
      "metadata": {
        "id": "tKDtORrHp5eE"
      },
      "source": [
        "model=KerasClassifier(build_fn=create_model,epochs=20,batch_size=50,\n",
        "                      verbose=1)"
      ],
      "id": "tKDtORrHp5eE",
      "execution_count": null,
      "outputs": []
    },
    {
      "cell_type": "code",
      "metadata": {
        "id": "JmOmZOvxqMZu"
      },
      "source": [
        "neurons=[20,30,40,50,60]\n",
        "param_grid=dict(neurons=neurons)"
      ],
      "id": "JmOmZOvxqMZu",
      "execution_count": null,
      "outputs": []
    },
    {
      "cell_type": "code",
      "metadata": {
        "id": "pnbibeR6qfVE"
      },
      "source": [
        "grid=GridSearchCV(estimator=model,param_grid=param_grid,n_jobs=1)"
      ],
      "id": "pnbibeR6qfVE",
      "execution_count": null,
      "outputs": []
    },
    {
      "cell_type": "code",
      "metadata": {
        "colab": {
          "base_uri": "https://localhost:8080/"
        },
        "id": "uZhiR4ONqudS",
        "outputId": "d0070a27-9db4-4613-fb80-cc0fbaa3a8fc"
      },
      "source": [
        "grid_result=grid.fit(X,y)"
      ],
      "id": "uZhiR4ONqudS",
      "execution_count": null,
      "outputs": [
        {
          "output_type": "stream",
          "text": [
            "Epoch 1/20\n",
            "877/877 [==============================] - 12s 1ms/step - loss: 1.4405 - accuracy: 0.7967\n",
            "Epoch 2/20\n",
            "877/877 [==============================] - 1s 1ms/step - loss: 0.3043 - accuracy: 0.9121\n",
            "Epoch 3/20\n",
            "877/877 [==============================] - 1s 1ms/step - loss: 0.2827 - accuracy: 0.9168\n",
            "Epoch 4/20\n",
            "877/877 [==============================] - 1s 1ms/step - loss: 0.2702 - accuracy: 0.9153\n",
            "Epoch 5/20\n",
            "877/877 [==============================] - 1s 1ms/step - loss: 0.2604 - accuracy: 0.9176\n",
            "Epoch 6/20\n",
            "877/877 [==============================] - 1s 1ms/step - loss: 0.2606 - accuracy: 0.9147\n",
            "Epoch 7/20\n",
            "877/877 [==============================] - 1s 1ms/step - loss: 0.2516 - accuracy: 0.9158\n",
            "Epoch 8/20\n",
            "877/877 [==============================] - 1s 1ms/step - loss: 0.2497 - accuracy: 0.9165\n",
            "Epoch 9/20\n",
            "877/877 [==============================] - 1s 1ms/step - loss: 0.2409 - accuracy: 0.9199\n",
            "Epoch 10/20\n",
            "877/877 [==============================] - 1s 1ms/step - loss: 0.2462 - accuracy: 0.9189\n",
            "Epoch 11/20\n",
            "877/877 [==============================] - 1s 1ms/step - loss: 0.2454 - accuracy: 0.9176\n",
            "Epoch 12/20\n",
            "877/877 [==============================] - 1s 1ms/step - loss: 0.2445 - accuracy: 0.9178\n",
            "Epoch 13/20\n",
            "877/877 [==============================] - 1s 1ms/step - loss: 0.2475 - accuracy: 0.9155\n",
            "Epoch 14/20\n",
            "877/877 [==============================] - 1s 1ms/step - loss: 0.2440 - accuracy: 0.9169\n",
            "Epoch 15/20\n",
            "877/877 [==============================] - 1s 1ms/step - loss: 0.2418 - accuracy: 0.9173\n",
            "Epoch 16/20\n",
            "877/877 [==============================] - 1s 1ms/step - loss: 0.2410 - accuracy: 0.9175\n",
            "Epoch 17/20\n",
            "877/877 [==============================] - 1s 1ms/step - loss: 0.2423 - accuracy: 0.9169\n",
            "Epoch 18/20\n",
            "877/877 [==============================] - 1s 1ms/step - loss: 0.2384 - accuracy: 0.9195\n",
            "Epoch 19/20\n",
            "877/877 [==============================] - 1s 1ms/step - loss: 0.2351 - accuracy: 0.9196\n",
            "Epoch 20/20\n",
            "877/877 [==============================] - 1s 1ms/step - loss: 0.2396 - accuracy: 0.9186\n",
            "220/220 [==============================] - 1s 1ms/step - loss: 0.2439 - accuracy: 0.9155\n",
            "Epoch 1/20\n",
            "877/877 [==============================] - 2s 1ms/step - loss: 1.7990 - accuracy: 0.8686\n",
            "Epoch 2/20\n",
            "877/877 [==============================] - 1s 1ms/step - loss: 0.3066 - accuracy: 0.9103\n",
            "Epoch 3/20\n",
            "877/877 [==============================] - 1s 1ms/step - loss: 0.2809 - accuracy: 0.9144\n",
            "Epoch 4/20\n",
            "877/877 [==============================] - 1s 1ms/step - loss: 0.2750 - accuracy: 0.9130\n",
            "Epoch 5/20\n",
            "877/877 [==============================] - 1s 1ms/step - loss: 0.2683 - accuracy: 0.9122\n",
            "Epoch 6/20\n",
            "877/877 [==============================] - 1s 1ms/step - loss: 0.2651 - accuracy: 0.9122\n",
            "Epoch 7/20\n",
            "877/877 [==============================] - 1s 1ms/step - loss: 0.2564 - accuracy: 0.9142\n",
            "Epoch 8/20\n",
            "877/877 [==============================] - 1s 1ms/step - loss: 0.2529 - accuracy: 0.9148\n",
            "Epoch 9/20\n",
            "877/877 [==============================] - 1s 1ms/step - loss: 0.2547 - accuracy: 0.9136\n",
            "Epoch 10/20\n",
            "877/877 [==============================] - 1s 1ms/step - loss: 0.2475 - accuracy: 0.9159\n",
            "Epoch 11/20\n",
            "877/877 [==============================] - 1s 1ms/step - loss: 0.2460 - accuracy: 0.9172\n",
            "Epoch 12/20\n",
            "877/877 [==============================] - 1s 1ms/step - loss: 0.2442 - accuracy: 0.9171\n",
            "Epoch 13/20\n",
            "877/877 [==============================] - 1s 1ms/step - loss: 0.2471 - accuracy: 0.9142\n",
            "Epoch 14/20\n",
            "877/877 [==============================] - 1s 1ms/step - loss: 0.2469 - accuracy: 0.9152\n",
            "Epoch 15/20\n",
            "877/877 [==============================] - 1s 1ms/step - loss: 0.2408 - accuracy: 0.9179\n",
            "Epoch 16/20\n",
            "877/877 [==============================] - 1s 1ms/step - loss: 0.2377 - accuracy: 0.9183\n",
            "Epoch 17/20\n",
            "877/877 [==============================] - 1s 1ms/step - loss: 0.2396 - accuracy: 0.9170\n",
            "Epoch 18/20\n",
            "877/877 [==============================] - 1s 1ms/step - loss: 0.2389 - accuracy: 0.9177\n",
            "Epoch 19/20\n",
            "877/877 [==============================] - 1s 1ms/step - loss: 0.2393 - accuracy: 0.9170\n",
            "Epoch 20/20\n",
            "877/877 [==============================] - 1s 1ms/step - loss: 0.2441 - accuracy: 0.9161\n",
            "220/220 [==============================] - 0s 1ms/step - loss: 0.2196 - accuracy: 0.9236\n",
            "Epoch 1/20\n",
            "877/877 [==============================] - 2s 1ms/step - loss: 2.2628 - accuracy: 0.7314\n",
            "Epoch 2/20\n",
            "877/877 [==============================] - 1s 1ms/step - loss: 0.3338 - accuracy: 0.9018\n",
            "Epoch 3/20\n",
            "877/877 [==============================] - 1s 1ms/step - loss: 0.2908 - accuracy: 0.9116\n",
            "Epoch 4/20\n",
            "877/877 [==============================] - 1s 1ms/step - loss: 0.2740 - accuracy: 0.9153\n",
            "Epoch 5/20\n",
            "877/877 [==============================] - 1s 1ms/step - loss: 0.2712 - accuracy: 0.9134\n",
            "Epoch 6/20\n",
            "877/877 [==============================] - 1s 1ms/step - loss: 0.2627 - accuracy: 0.9147\n",
            "Epoch 7/20\n",
            "877/877 [==============================] - 1s 1ms/step - loss: 0.2554 - accuracy: 0.9165\n",
            "Epoch 8/20\n",
            "877/877 [==============================] - 1s 1ms/step - loss: 0.2511 - accuracy: 0.9169\n",
            "Epoch 9/20\n",
            "877/877 [==============================] - 1s 1ms/step - loss: 0.2499 - accuracy: 0.9165\n",
            "Epoch 10/20\n",
            "877/877 [==============================] - 1s 1ms/step - loss: 0.2522 - accuracy: 0.9141\n",
            "Epoch 11/20\n",
            "877/877 [==============================] - 1s 1ms/step - loss: 0.2484 - accuracy: 0.9158\n",
            "Epoch 12/20\n",
            "877/877 [==============================] - 1s 1ms/step - loss: 0.2438 - accuracy: 0.9181\n",
            "Epoch 13/20\n",
            "877/877 [==============================] - 1s 1ms/step - loss: 0.2467 - accuracy: 0.9163\n",
            "Epoch 14/20\n",
            "877/877 [==============================] - 1s 1ms/step - loss: 0.2475 - accuracy: 0.9153\n",
            "Epoch 15/20\n",
            "877/877 [==============================] - 1s 1ms/step - loss: 0.2418 - accuracy: 0.9173\n",
            "Epoch 16/20\n",
            "877/877 [==============================] - 1s 1ms/step - loss: 0.2379 - accuracy: 0.9199\n",
            "Epoch 17/20\n",
            "877/877 [==============================] - 1s 1ms/step - loss: 0.2393 - accuracy: 0.9182\n",
            "Epoch 18/20\n",
            "877/877 [==============================] - 1s 1ms/step - loss: 0.2411 - accuracy: 0.9177\n",
            "Epoch 19/20\n",
            "877/877 [==============================] - 1s 1ms/step - loss: 0.2372 - accuracy: 0.9192\n",
            "Epoch 20/20\n",
            "877/877 [==============================] - 1s 1ms/step - loss: 0.2376 - accuracy: 0.9181\n",
            "220/220 [==============================] - 0s 1ms/step - loss: 0.2390 - accuracy: 0.9184\n",
            "Epoch 1/20\n",
            "877/877 [==============================] - 2s 1ms/step - loss: 0.9992 - accuracy: 0.8621\n",
            "Epoch 2/20\n",
            "877/877 [==============================] - 1s 1ms/step - loss: 0.3085 - accuracy: 0.9141\n",
            "Epoch 3/20\n",
            "877/877 [==============================] - 1s 1ms/step - loss: 0.2853 - accuracy: 0.9147\n",
            "Epoch 4/20\n",
            "877/877 [==============================] - 1s 1ms/step - loss: 0.2674 - accuracy: 0.9175\n",
            "Epoch 5/20\n",
            "877/877 [==============================] - 1s 1ms/step - loss: 0.2670 - accuracy: 0.9137\n",
            "Epoch 6/20\n",
            "877/877 [==============================] - 1s 1ms/step - loss: 0.2589 - accuracy: 0.9166\n",
            "Epoch 7/20\n",
            "877/877 [==============================] - 1s 1ms/step - loss: 0.2469 - accuracy: 0.9192\n",
            "Epoch 8/20\n",
            "877/877 [==============================] - 1s 1ms/step - loss: 0.2500 - accuracy: 0.9171\n",
            "Epoch 9/20\n",
            "877/877 [==============================] - 1s 1ms/step - loss: 0.2492 - accuracy: 0.9159\n",
            "Epoch 10/20\n",
            "877/877 [==============================] - 1s 1ms/step - loss: 0.2489 - accuracy: 0.9164\n",
            "Epoch 11/20\n",
            "877/877 [==============================] - 1s 1ms/step - loss: 0.2439 - accuracy: 0.9177\n",
            "Epoch 12/20\n",
            "877/877 [==============================] - 1s 1ms/step - loss: 0.2456 - accuracy: 0.9173\n",
            "Epoch 13/20\n",
            "877/877 [==============================] - 1s 1ms/step - loss: 0.2434 - accuracy: 0.9167\n",
            "Epoch 14/20\n",
            "877/877 [==============================] - 1s 1ms/step - loss: 0.2423 - accuracy: 0.9175\n",
            "Epoch 15/20\n",
            "877/877 [==============================] - 1s 1ms/step - loss: 0.2360 - accuracy: 0.9203\n",
            "Epoch 16/20\n",
            "877/877 [==============================] - 1s 1ms/step - loss: 0.2447 - accuracy: 0.9167\n",
            "Epoch 17/20\n",
            "877/877 [==============================] - 1s 1ms/step - loss: 0.2438 - accuracy: 0.9172\n",
            "Epoch 18/20\n",
            "877/877 [==============================] - 1s 1ms/step - loss: 0.2381 - accuracy: 0.9180\n",
            "Epoch 19/20\n",
            "877/877 [==============================] - 1s 1ms/step - loss: 0.2416 - accuracy: 0.9167\n",
            "Epoch 20/20\n",
            "877/877 [==============================] - 1s 1ms/step - loss: 0.2444 - accuracy: 0.9163\n",
            "220/220 [==============================] - 0s 1ms/step - loss: 0.2406 - accuracy: 0.9167\n",
            "Epoch 1/20\n",
            "877/877 [==============================] - 2s 1ms/step - loss: 1.6157 - accuracy: 0.8586\n",
            "Epoch 2/20\n",
            "877/877 [==============================] - 1s 1ms/step - loss: 0.3089 - accuracy: 0.9122\n",
            "Epoch 3/20\n",
            "877/877 [==============================] - 1s 1ms/step - loss: 0.2817 - accuracy: 0.9150\n",
            "Epoch 4/20\n",
            "877/877 [==============================] - 1s 1ms/step - loss: 0.2684 - accuracy: 0.9148\n",
            "Epoch 5/20\n",
            "877/877 [==============================] - 1s 1ms/step - loss: 0.2611 - accuracy: 0.9161\n",
            "Epoch 6/20\n",
            "877/877 [==============================] - 1s 1ms/step - loss: 0.2605 - accuracy: 0.9142\n",
            "Epoch 7/20\n",
            "877/877 [==============================] - 1s 1ms/step - loss: 0.2462 - accuracy: 0.9185\n",
            "Epoch 8/20\n",
            "877/877 [==============================] - 1s 1ms/step - loss: 0.2489 - accuracy: 0.9166\n",
            "Epoch 9/20\n",
            "877/877 [==============================] - 1s 1ms/step - loss: 0.2461 - accuracy: 0.9184\n",
            "Epoch 10/20\n",
            "877/877 [==============================] - 1s 1ms/step - loss: 0.2452 - accuracy: 0.9176\n",
            "Epoch 11/20\n",
            "877/877 [==============================] - 1s 1ms/step - loss: 0.2406 - accuracy: 0.9193\n",
            "Epoch 12/20\n",
            "877/877 [==============================] - 1s 1ms/step - loss: 0.2399 - accuracy: 0.9187\n",
            "Epoch 13/20\n",
            "877/877 [==============================] - 1s 1ms/step - loss: 0.2393 - accuracy: 0.9201\n",
            "Epoch 14/20\n",
            "877/877 [==============================] - 1s 1ms/step - loss: 0.2383 - accuracy: 0.9195\n",
            "Epoch 15/20\n",
            "877/877 [==============================] - 1s 2ms/step - loss: 0.2443 - accuracy: 0.9170\n",
            "Epoch 16/20\n",
            "877/877 [==============================] - 1s 1ms/step - loss: 0.2399 - accuracy: 0.9188\n",
            "Epoch 17/20\n",
            "877/877 [==============================] - 1s 1ms/step - loss: 0.2394 - accuracy: 0.9188\n",
            "Epoch 18/20\n",
            "877/877 [==============================] - 1s 1ms/step - loss: 0.2387 - accuracy: 0.9179\n",
            "Epoch 19/20\n",
            "877/877 [==============================] - 1s 1ms/step - loss: 0.2371 - accuracy: 0.9191\n",
            "Epoch 20/20\n",
            "877/877 [==============================] - 1s 1ms/step - loss: 0.2407 - accuracy: 0.9176\n",
            "220/220 [==============================] - 0s 1ms/step - loss: 0.2377 - accuracy: 0.9167\n",
            "Epoch 1/20\n",
            "877/877 [==============================] - 2s 1ms/step - loss: 3.1545 - accuracy: 0.7013\n",
            "Epoch 2/20\n",
            "877/877 [==============================] - 1s 1ms/step - loss: 0.3417 - accuracy: 0.8983\n",
            "Epoch 3/20\n",
            "877/877 [==============================] - 1s 1ms/step - loss: 0.2934 - accuracy: 0.9136\n",
            "Epoch 4/20\n",
            "877/877 [==============================] - 1s 1ms/step - loss: 0.2834 - accuracy: 0.9160\n",
            "Epoch 5/20\n",
            "877/877 [==============================] - 1s 1ms/step - loss: 0.2700 - accuracy: 0.9174\n",
            "Epoch 6/20\n",
            "877/877 [==============================] - 1s 1ms/step - loss: 0.2624 - accuracy: 0.9174\n",
            "Epoch 7/20\n",
            "877/877 [==============================] - 1s 1ms/step - loss: 0.2619 - accuracy: 0.9158\n",
            "Epoch 8/20\n",
            "877/877 [==============================] - 1s 1ms/step - loss: 0.2518 - accuracy: 0.9185\n",
            "Epoch 9/20\n",
            "877/877 [==============================] - 1s 1ms/step - loss: 0.2553 - accuracy: 0.9145\n",
            "Epoch 10/20\n",
            "877/877 [==============================] - 1s 1ms/step - loss: 0.2489 - accuracy: 0.9170\n",
            "Epoch 11/20\n",
            "877/877 [==============================] - 1s 1ms/step - loss: 0.2455 - accuracy: 0.9185\n",
            "Epoch 12/20\n",
            "877/877 [==============================] - 1s 1ms/step - loss: 0.2418 - accuracy: 0.9196\n",
            "Epoch 13/20\n",
            "877/877 [==============================] - 1s 1ms/step - loss: 0.2421 - accuracy: 0.9189\n",
            "Epoch 14/20\n",
            "877/877 [==============================] - 1s 1ms/step - loss: 0.2482 - accuracy: 0.9158\n",
            "Epoch 15/20\n",
            "877/877 [==============================] - 1s 1ms/step - loss: 0.2397 - accuracy: 0.9174\n",
            "Epoch 16/20\n",
            "877/877 [==============================] - 1s 1ms/step - loss: 0.2391 - accuracy: 0.9193\n",
            "Epoch 17/20\n",
            "877/877 [==============================] - 1s 1ms/step - loss: 0.2404 - accuracy: 0.9175\n",
            "Epoch 18/20\n",
            "877/877 [==============================] - 1s 1ms/step - loss: 0.2411 - accuracy: 0.9169\n",
            "Epoch 19/20\n",
            "877/877 [==============================] - 1s 1ms/step - loss: 0.2390 - accuracy: 0.9188\n",
            "Epoch 20/20\n",
            "877/877 [==============================] - 1s 1ms/step - loss: 0.2314 - accuracy: 0.9210\n",
            "220/220 [==============================] - 0s 1ms/step - loss: 0.2458 - accuracy: 0.9149\n",
            "Epoch 1/20\n",
            "877/877 [==============================] - 2s 1ms/step - loss: 0.8953 - accuracy: 0.8395\n",
            "Epoch 2/20\n",
            "877/877 [==============================] - 1s 1ms/step - loss: 0.3003 - accuracy: 0.9105\n",
            "Epoch 3/20\n",
            "877/877 [==============================] - 1s 1ms/step - loss: 0.2785 - accuracy: 0.9138\n",
            "Epoch 4/20\n",
            "877/877 [==============================] - 1s 1ms/step - loss: 0.2677 - accuracy: 0.9140\n",
            "Epoch 5/20\n",
            "877/877 [==============================] - 1s 1ms/step - loss: 0.2625 - accuracy: 0.9148\n",
            "Epoch 6/20\n",
            "877/877 [==============================] - 1s 1ms/step - loss: 0.2567 - accuracy: 0.9154\n",
            "Epoch 7/20\n",
            "877/877 [==============================] - 1s 1ms/step - loss: 0.2534 - accuracy: 0.9160\n",
            "Epoch 8/20\n",
            "877/877 [==============================] - 1s 1ms/step - loss: 0.2568 - accuracy: 0.9146\n",
            "Epoch 9/20\n",
            "877/877 [==============================] - 1s 1ms/step - loss: 0.2491 - accuracy: 0.9161\n",
            "Epoch 10/20\n",
            "877/877 [==============================] - 1s 1ms/step - loss: 0.2516 - accuracy: 0.9151\n",
            "Epoch 11/20\n",
            "877/877 [==============================] - 1s 1ms/step - loss: 0.2492 - accuracy: 0.9151\n",
            "Epoch 12/20\n",
            "877/877 [==============================] - 1s 1ms/step - loss: 0.2493 - accuracy: 0.9153\n",
            "Epoch 13/20\n",
            "877/877 [==============================] - 1s 1ms/step - loss: 0.2468 - accuracy: 0.9156\n",
            "Epoch 14/20\n",
            "877/877 [==============================] - 1s 1ms/step - loss: 0.2484 - accuracy: 0.9148\n",
            "Epoch 15/20\n",
            "877/877 [==============================] - 1s 1ms/step - loss: 0.2440 - accuracy: 0.9164\n",
            "Epoch 16/20\n",
            "877/877 [==============================] - 1s 1ms/step - loss: 0.2420 - accuracy: 0.9170\n",
            "Epoch 17/20\n",
            "877/877 [==============================] - 1s 1ms/step - loss: 0.2423 - accuracy: 0.9174\n",
            "Epoch 18/20\n",
            "877/877 [==============================] - 1s 1ms/step - loss: 0.2459 - accuracy: 0.9152\n",
            "Epoch 19/20\n",
            "877/877 [==============================] - 1s 1ms/step - loss: 0.2423 - accuracy: 0.9169\n",
            "Epoch 20/20\n",
            "877/877 [==============================] - 1s 1ms/step - loss: 0.2400 - accuracy: 0.9170\n",
            "220/220 [==============================] - 0s 1ms/step - loss: 0.2234 - accuracy: 0.9231\n",
            "Epoch 1/20\n",
            "877/877 [==============================] - 2s 1ms/step - loss: 0.7833 - accuracy: 0.8691\n",
            "Epoch 2/20\n",
            "877/877 [==============================] - 1s 2ms/step - loss: 0.2901 - accuracy: 0.9158\n",
            "Epoch 3/20\n",
            "877/877 [==============================] - 1s 1ms/step - loss: 0.2844 - accuracy: 0.9123\n",
            "Epoch 4/20\n",
            "877/877 [==============================] - 1s 1ms/step - loss: 0.2711 - accuracy: 0.9146\n",
            "Epoch 5/20\n",
            "877/877 [==============================] - 1s 1ms/step - loss: 0.2649 - accuracy: 0.9135\n",
            "Epoch 6/20\n",
            "877/877 [==============================] - 1s 1ms/step - loss: 0.2561 - accuracy: 0.9155\n",
            "Epoch 7/20\n",
            "877/877 [==============================] - 1s 1ms/step - loss: 0.2491 - accuracy: 0.9166\n",
            "Epoch 8/20\n",
            "877/877 [==============================] - 1s 1ms/step - loss: 0.2466 - accuracy: 0.9181\n",
            "Epoch 9/20\n",
            "877/877 [==============================] - 1s 1ms/step - loss: 0.2513 - accuracy: 0.9146\n",
            "Epoch 10/20\n",
            "877/877 [==============================] - 1s 1ms/step - loss: 0.2457 - accuracy: 0.9175\n",
            "Epoch 11/20\n",
            "877/877 [==============================] - 1s 1ms/step - loss: 0.2447 - accuracy: 0.9164\n",
            "Epoch 12/20\n",
            "877/877 [==============================] - 1s 1ms/step - loss: 0.2425 - accuracy: 0.9178\n",
            "Epoch 13/20\n",
            "877/877 [==============================] - 1s 1ms/step - loss: 0.2416 - accuracy: 0.9176\n",
            "Epoch 14/20\n",
            "877/877 [==============================] - 1s 1ms/step - loss: 0.2389 - accuracy: 0.9195\n",
            "Epoch 15/20\n",
            "877/877 [==============================] - 1s 1ms/step - loss: 0.2430 - accuracy: 0.9172\n",
            "Epoch 16/20\n",
            "877/877 [==============================] - 1s 1ms/step - loss: 0.2398 - accuracy: 0.9179\n",
            "Epoch 17/20\n",
            "877/877 [==============================] - 1s 1ms/step - loss: 0.2444 - accuracy: 0.9167\n",
            "Epoch 18/20\n",
            "877/877 [==============================] - 1s 1ms/step - loss: 0.2383 - accuracy: 0.9180\n",
            "Epoch 19/20\n",
            "877/877 [==============================] - 1s 1ms/step - loss: 0.2436 - accuracy: 0.9165\n",
            "Epoch 20/20\n",
            "877/877 [==============================] - 1s 1ms/step - loss: 0.2332 - accuracy: 0.9212\n",
            "220/220 [==============================] - 0s 1ms/step - loss: 0.2367 - accuracy: 0.9198\n",
            "Epoch 1/20\n",
            "877/877 [==============================] - 2s 1ms/step - loss: 2.8584 - accuracy: 0.7378\n",
            "Epoch 2/20\n",
            "877/877 [==============================] - 1s 1ms/step - loss: 0.4154 - accuracy: 0.8840\n",
            "Epoch 3/20\n",
            "877/877 [==============================] - 1s 1ms/step - loss: 0.2771 - accuracy: 0.9175\n",
            "Epoch 4/20\n",
            "877/877 [==============================] - 1s 1ms/step - loss: 0.2670 - accuracy: 0.9169\n",
            "Epoch 5/20\n",
            "877/877 [==============================] - 1s 1ms/step - loss: 0.2617 - accuracy: 0.9167\n",
            "Epoch 6/20\n",
            "877/877 [==============================] - 1s 1ms/step - loss: 0.2600 - accuracy: 0.9159\n",
            "Epoch 7/20\n",
            "877/877 [==============================] - 1s 1ms/step - loss: 0.2477 - accuracy: 0.9191\n",
            "Epoch 8/20\n",
            "877/877 [==============================] - 1s 1ms/step - loss: 0.2499 - accuracy: 0.9178\n",
            "Epoch 9/20\n",
            "877/877 [==============================] - 1s 1ms/step - loss: 0.2506 - accuracy: 0.9153\n",
            "Epoch 10/20\n",
            "877/877 [==============================] - 1s 1ms/step - loss: 0.2499 - accuracy: 0.9154\n",
            "Epoch 11/20\n",
            "877/877 [==============================] - 1s 1ms/step - loss: 0.2480 - accuracy: 0.9157\n",
            "Epoch 12/20\n",
            "877/877 [==============================] - 1s 1ms/step - loss: 0.2410 - accuracy: 0.9198\n",
            "Epoch 13/20\n",
            "877/877 [==============================] - 1s 1ms/step - loss: 0.2431 - accuracy: 0.9181\n",
            "Epoch 14/20\n",
            "877/877 [==============================] - 1s 1ms/step - loss: 0.2436 - accuracy: 0.9177\n",
            "Epoch 15/20\n",
            "877/877 [==============================] - 1s 1ms/step - loss: 0.2448 - accuracy: 0.9165\n",
            "Epoch 16/20\n",
            "877/877 [==============================] - 1s 1ms/step - loss: 0.2417 - accuracy: 0.9180\n",
            "Epoch 17/20\n",
            "877/877 [==============================] - 1s 1ms/step - loss: 0.2361 - accuracy: 0.9198\n",
            "Epoch 18/20\n",
            "877/877 [==============================] - 1s 1ms/step - loss: 0.2396 - accuracy: 0.9181\n",
            "Epoch 19/20\n",
            "877/877 [==============================] - 1s 1ms/step - loss: 0.2401 - accuracy: 0.9186\n",
            "Epoch 20/20\n",
            "877/877 [==============================] - 1s 1ms/step - loss: 0.2381 - accuracy: 0.9183\n",
            "220/220 [==============================] - 0s 1ms/step - loss: 0.2411 - accuracy: 0.9175\n",
            "Epoch 1/20\n",
            "877/877 [==============================] - 2s 1ms/step - loss: 1.7337 - accuracy: 0.7952\n",
            "Epoch 2/20\n",
            "877/877 [==============================] - 1s 1ms/step - loss: 0.3503 - accuracy: 0.8935\n",
            "Epoch 3/20\n",
            "877/877 [==============================] - 1s 1ms/step - loss: 0.2805 - accuracy: 0.9148\n",
            "Epoch 4/20\n",
            "877/877 [==============================] - 1s 1ms/step - loss: 0.2658 - accuracy: 0.9164\n",
            "Epoch 5/20\n",
            "877/877 [==============================] - 1s 1ms/step - loss: 0.2595 - accuracy: 0.9168\n",
            "Epoch 6/20\n",
            "877/877 [==============================] - 1s 1ms/step - loss: 0.2577 - accuracy: 0.9169\n",
            "Epoch 7/20\n",
            "877/877 [==============================] - 1s 1ms/step - loss: 0.2542 - accuracy: 0.9168\n",
            "Epoch 8/20\n",
            "877/877 [==============================] - 1s 2ms/step - loss: 0.2480 - accuracy: 0.9185\n",
            "Epoch 9/20\n",
            "877/877 [==============================] - 1s 1ms/step - loss: 0.2490 - accuracy: 0.9154\n",
            "Epoch 10/20\n",
            "877/877 [==============================] - 1s 2ms/step - loss: 0.2431 - accuracy: 0.9185\n",
            "Epoch 11/20\n",
            "877/877 [==============================] - 1s 1ms/step - loss: 0.2481 - accuracy: 0.9161\n",
            "Epoch 12/20\n",
            "877/877 [==============================] - 1s 1ms/step - loss: 0.2463 - accuracy: 0.9158\n",
            "Epoch 13/20\n",
            "877/877 [==============================] - 1s 1ms/step - loss: 0.2430 - accuracy: 0.9174\n",
            "Epoch 14/20\n",
            "877/877 [==============================] - 1s 1ms/step - loss: 0.2403 - accuracy: 0.9177\n",
            "Epoch 15/20\n",
            "877/877 [==============================] - 1s 2ms/step - loss: 0.2401 - accuracy: 0.9192\n",
            "Epoch 16/20\n",
            "877/877 [==============================] - 1s 1ms/step - loss: 0.2396 - accuracy: 0.9181\n",
            "Epoch 17/20\n",
            "877/877 [==============================] - 1s 1ms/step - loss: 0.2356 - accuracy: 0.9207\n",
            "Epoch 18/20\n",
            "877/877 [==============================] - 1s 1ms/step - loss: 0.2427 - accuracy: 0.9188\n",
            "Epoch 19/20\n",
            "877/877 [==============================] - 1s 1ms/step - loss: 0.2385 - accuracy: 0.9185\n",
            "Epoch 20/20\n",
            "877/877 [==============================] - 1s 1ms/step - loss: 0.2397 - accuracy: 0.9179\n",
            "220/220 [==============================] - 0s 1ms/step - loss: 0.2368 - accuracy: 0.9183\n",
            "Epoch 1/20\n",
            "877/877 [==============================] - 2s 2ms/step - loss: 1.0232 - accuracy: 0.8440\n",
            "Epoch 2/20\n",
            "877/877 [==============================] - 1s 2ms/step - loss: 0.2867 - accuracy: 0.9157\n",
            "Epoch 3/20\n",
            "877/877 [==============================] - 1s 2ms/step - loss: 0.2726 - accuracy: 0.9166\n",
            "Epoch 4/20\n",
            "877/877 [==============================] - 1s 2ms/step - loss: 0.2678 - accuracy: 0.9145\n",
            "Epoch 5/20\n",
            "877/877 [==============================] - 1s 2ms/step - loss: 0.2535 - accuracy: 0.9187\n",
            "Epoch 6/20\n",
            "877/877 [==============================] - 1s 2ms/step - loss: 0.2534 - accuracy: 0.9174\n",
            "Epoch 7/20\n",
            "877/877 [==============================] - 1s 2ms/step - loss: 0.2520 - accuracy: 0.9169\n",
            "Epoch 8/20\n",
            "877/877 [==============================] - 1s 2ms/step - loss: 0.2435 - accuracy: 0.9195\n",
            "Epoch 9/20\n",
            "877/877 [==============================] - 1s 2ms/step - loss: 0.2477 - accuracy: 0.9171\n",
            "Epoch 10/20\n",
            "877/877 [==============================] - 1s 2ms/step - loss: 0.2468 - accuracy: 0.9165\n",
            "Epoch 11/20\n",
            "877/877 [==============================] - 1s 2ms/step - loss: 0.2408 - accuracy: 0.9193\n",
            "Epoch 12/20\n",
            "877/877 [==============================] - 1s 2ms/step - loss: 0.2440 - accuracy: 0.9164\n",
            "Epoch 13/20\n",
            "877/877 [==============================] - 1s 2ms/step - loss: 0.2383 - accuracy: 0.9185\n",
            "Epoch 14/20\n",
            "877/877 [==============================] - 1s 2ms/step - loss: 0.2370 - accuracy: 0.9189\n",
            "Epoch 15/20\n",
            "877/877 [==============================] - 1s 2ms/step - loss: 0.2339 - accuracy: 0.9204\n",
            "Epoch 16/20\n",
            "877/877 [==============================] - 1s 2ms/step - loss: 0.2361 - accuracy: 0.9198\n",
            "Epoch 17/20\n",
            "877/877 [==============================] - 1s 2ms/step - loss: 0.2407 - accuracy: 0.9171\n",
            "Epoch 18/20\n",
            "877/877 [==============================] - 1s 2ms/step - loss: 0.2388 - accuracy: 0.9177\n",
            "Epoch 19/20\n",
            "877/877 [==============================] - 1s 2ms/step - loss: 0.2304 - accuracy: 0.9214\n",
            "Epoch 20/20\n",
            "877/877 [==============================] - 1s 2ms/step - loss: 0.2373 - accuracy: 0.9186\n",
            "220/220 [==============================] - 0s 1ms/step - loss: 0.2458 - accuracy: 0.9154\n",
            "Epoch 1/20\n",
            "877/877 [==============================] - 2s 2ms/step - loss: 0.6581 - accuracy: 0.8633\n",
            "Epoch 2/20\n",
            "877/877 [==============================] - 1s 2ms/step - loss: 0.2923 - accuracy: 0.9112\n",
            "Epoch 3/20\n",
            "877/877 [==============================] - 1s 2ms/step - loss: 0.2780 - accuracy: 0.9120\n",
            "Epoch 4/20\n",
            "877/877 [==============================] - 1s 2ms/step - loss: 0.2677 - accuracy: 0.9139\n",
            "Epoch 5/20\n",
            "877/877 [==============================] - 1s 2ms/step - loss: 0.2573 - accuracy: 0.9150\n",
            "Epoch 6/20\n",
            "877/877 [==============================] - 1s 2ms/step - loss: 0.2551 - accuracy: 0.9151\n",
            "Epoch 7/20\n",
            "877/877 [==============================] - 1s 2ms/step - loss: 0.2532 - accuracy: 0.9149\n",
            "Epoch 8/20\n",
            "877/877 [==============================] - 1s 2ms/step - loss: 0.2484 - accuracy: 0.9153\n",
            "Epoch 9/20\n",
            "877/877 [==============================] - 1s 2ms/step - loss: 0.2496 - accuracy: 0.9150\n",
            "Epoch 10/20\n",
            "877/877 [==============================] - 1s 2ms/step - loss: 0.2440 - accuracy: 0.9184\n",
            "Epoch 11/20\n",
            "877/877 [==============================] - 1s 2ms/step - loss: 0.2499 - accuracy: 0.9153\n",
            "Epoch 12/20\n",
            "877/877 [==============================] - 1s 2ms/step - loss: 0.2465 - accuracy: 0.9157\n",
            "Epoch 13/20\n",
            "877/877 [==============================] - 1s 2ms/step - loss: 0.2462 - accuracy: 0.9159\n",
            "Epoch 14/20\n",
            "877/877 [==============================] - 1s 2ms/step - loss: 0.2375 - accuracy: 0.9186\n",
            "Epoch 15/20\n",
            "877/877 [==============================] - 1s 2ms/step - loss: 0.2443 - accuracy: 0.9167\n",
            "Epoch 16/20\n",
            "877/877 [==============================] - 1s 2ms/step - loss: 0.2461 - accuracy: 0.9155\n",
            "Epoch 17/20\n",
            "877/877 [==============================] - 1s 2ms/step - loss: 0.2433 - accuracy: 0.9165\n",
            "Epoch 18/20\n",
            "877/877 [==============================] - 1s 2ms/step - loss: 0.2431 - accuracy: 0.9159\n",
            "Epoch 19/20\n",
            "877/877 [==============================] - 1s 2ms/step - loss: 0.2418 - accuracy: 0.9173\n",
            "Epoch 20/20\n",
            "877/877 [==============================] - 1s 2ms/step - loss: 0.2394 - accuracy: 0.9174\n",
            "220/220 [==============================] - 0s 1ms/step - loss: 0.2235 - accuracy: 0.9232\n",
            "Epoch 1/20\n",
            "877/877 [==============================] - 2s 2ms/step - loss: 2.3044 - accuracy: 0.7635\n",
            "Epoch 2/20\n",
            "877/877 [==============================] - 1s 2ms/step - loss: 0.3875 - accuracy: 0.8887\n",
            "Epoch 3/20\n",
            "877/877 [==============================] - 1s 2ms/step - loss: 0.2860 - accuracy: 0.9132\n",
            "Epoch 4/20\n",
            "877/877 [==============================] - 1s 2ms/step - loss: 0.2691 - accuracy: 0.9153\n",
            "Epoch 5/20\n",
            "877/877 [==============================] - 1s 2ms/step - loss: 0.2642 - accuracy: 0.9147\n",
            "Epoch 6/20\n",
            "877/877 [==============================] - 1s 2ms/step - loss: 0.2610 - accuracy: 0.9132\n",
            "Epoch 7/20\n",
            "877/877 [==============================] - 1s 2ms/step - loss: 0.2520 - accuracy: 0.9166\n",
            "Epoch 8/20\n",
            "877/877 [==============================] - 1s 2ms/step - loss: 0.2464 - accuracy: 0.9186\n",
            "Epoch 9/20\n",
            "877/877 [==============================] - 1s 2ms/step - loss: 0.2515 - accuracy: 0.9152\n",
            "Epoch 10/20\n",
            "877/877 [==============================] - 1s 2ms/step - loss: 0.2464 - accuracy: 0.9174\n",
            "Epoch 11/20\n",
            "877/877 [==============================] - 1s 2ms/step - loss: 0.2420 - accuracy: 0.9190\n",
            "Epoch 12/20\n",
            "877/877 [==============================] - 1s 2ms/step - loss: 0.2435 - accuracy: 0.9170\n",
            "Epoch 13/20\n",
            "877/877 [==============================] - 1s 2ms/step - loss: 0.2391 - accuracy: 0.9195\n",
            "Epoch 14/20\n",
            "877/877 [==============================] - 1s 2ms/step - loss: 0.2367 - accuracy: 0.9196\n",
            "Epoch 15/20\n",
            "877/877 [==============================] - 1s 2ms/step - loss: 0.2357 - accuracy: 0.9198\n",
            "Epoch 16/20\n",
            "877/877 [==============================] - 1s 2ms/step - loss: 0.2394 - accuracy: 0.9175\n",
            "Epoch 17/20\n",
            "877/877 [==============================] - 1s 2ms/step - loss: 0.2404 - accuracy: 0.9185\n",
            "Epoch 18/20\n",
            "877/877 [==============================] - 1s 2ms/step - loss: 0.2371 - accuracy: 0.9182\n",
            "Epoch 19/20\n",
            "877/877 [==============================] - 1s 2ms/step - loss: 0.2371 - accuracy: 0.9184\n",
            "Epoch 20/20\n",
            "877/877 [==============================] - 1s 2ms/step - loss: 0.2379 - accuracy: 0.9172\n",
            "220/220 [==============================] - 0s 1ms/step - loss: 0.2330 - accuracy: 0.9201\n",
            "Epoch 1/20\n",
            "877/877 [==============================] - 2s 2ms/step - loss: 1.0991 - accuracy: 0.8567\n",
            "Epoch 2/20\n",
            "877/877 [==============================] - 1s 2ms/step - loss: 0.2910 - accuracy: 0.9122\n",
            "Epoch 3/20\n",
            "877/877 [==============================] - 1s 2ms/step - loss: 0.2726 - accuracy: 0.9148\n",
            "Epoch 4/20\n",
            "877/877 [==============================] - 1s 2ms/step - loss: 0.2637 - accuracy: 0.9161\n",
            "Epoch 5/20\n",
            "877/877 [==============================] - 1s 2ms/step - loss: 0.2614 - accuracy: 0.9141\n",
            "Epoch 6/20\n",
            "877/877 [==============================] - 1s 2ms/step - loss: 0.2491 - accuracy: 0.9188\n",
            "Epoch 7/20\n",
            "877/877 [==============================] - 1s 2ms/step - loss: 0.2539 - accuracy: 0.9145\n",
            "Epoch 8/20\n",
            "877/877 [==============================] - 1s 2ms/step - loss: 0.2497 - accuracy: 0.9166\n",
            "Epoch 9/20\n",
            "877/877 [==============================] - 1s 2ms/step - loss: 0.2408 - accuracy: 0.9188\n",
            "Epoch 10/20\n",
            "877/877 [==============================] - 1s 2ms/step - loss: 0.2424 - accuracy: 0.9194\n",
            "Epoch 11/20\n",
            "877/877 [==============================] - 1s 2ms/step - loss: 0.2437 - accuracy: 0.9181\n",
            "Epoch 12/20\n",
            "877/877 [==============================] - 1s 2ms/step - loss: 0.2421 - accuracy: 0.9181\n",
            "Epoch 13/20\n",
            "877/877 [==============================] - 1s 2ms/step - loss: 0.2383 - accuracy: 0.9192\n",
            "Epoch 14/20\n",
            "877/877 [==============================] - 1s 2ms/step - loss: 0.2398 - accuracy: 0.9186\n",
            "Epoch 15/20\n",
            "877/877 [==============================] - 1s 2ms/step - loss: 0.2363 - accuracy: 0.9190\n",
            "Epoch 16/20\n",
            "877/877 [==============================] - 1s 2ms/step - loss: 0.2372 - accuracy: 0.9194\n",
            "Epoch 17/20\n",
            "877/877 [==============================] - 1s 2ms/step - loss: 0.2354 - accuracy: 0.9191\n",
            "Epoch 18/20\n",
            "877/877 [==============================] - 1s 2ms/step - loss: 0.2404 - accuracy: 0.9177\n",
            "Epoch 19/20\n",
            "877/877 [==============================] - 1s 2ms/step - loss: 0.2395 - accuracy: 0.9169\n",
            "Epoch 20/20\n",
            "877/877 [==============================] - 1s 2ms/step - loss: 0.2339 - accuracy: 0.9203\n",
            "220/220 [==============================] - 0s 1ms/step - loss: 0.2363 - accuracy: 0.9177\n",
            "Epoch 1/20\n",
            "877/877 [==============================] - 2s 2ms/step - loss: 0.6672 - accuracy: 0.8636\n",
            "Epoch 2/20\n",
            "877/877 [==============================] - 1s 2ms/step - loss: 0.2820 - accuracy: 0.9148\n",
            "Epoch 3/20\n",
            "877/877 [==============================] - 1s 2ms/step - loss: 0.2733 - accuracy: 0.9142\n",
            "Epoch 4/20\n",
            "877/877 [==============================] - 1s 2ms/step - loss: 0.2634 - accuracy: 0.9158\n",
            "Epoch 5/20\n",
            "877/877 [==============================] - 1s 2ms/step - loss: 0.2561 - accuracy: 0.9157\n",
            "Epoch 6/20\n",
            "877/877 [==============================] - 1s 2ms/step - loss: 0.2519 - accuracy: 0.9168\n",
            "Epoch 7/20\n",
            "877/877 [==============================] - 1s 2ms/step - loss: 0.2508 - accuracy: 0.9170\n",
            "Epoch 8/20\n",
            "877/877 [==============================] - 1s 2ms/step - loss: 0.2478 - accuracy: 0.9177\n",
            "Epoch 9/20\n",
            "877/877 [==============================] - 2s 2ms/step - loss: 0.2438 - accuracy: 0.9186\n",
            "Epoch 10/20\n",
            "877/877 [==============================] - 1s 2ms/step - loss: 0.2458 - accuracy: 0.9172\n",
            "Epoch 11/20\n",
            "877/877 [==============================] - 1s 2ms/step - loss: 0.2412 - accuracy: 0.9188\n",
            "Epoch 12/20\n",
            "877/877 [==============================] - 1s 2ms/step - loss: 0.2408 - accuracy: 0.9170\n",
            "Epoch 13/20\n",
            "877/877 [==============================] - 1s 2ms/step - loss: 0.2398 - accuracy: 0.9186\n",
            "Epoch 14/20\n",
            "877/877 [==============================] - 1s 2ms/step - loss: 0.2388 - accuracy: 0.9184\n",
            "Epoch 15/20\n",
            "877/877 [==============================] - 1s 2ms/step - loss: 0.2375 - accuracy: 0.9190\n",
            "Epoch 16/20\n",
            "877/877 [==============================] - 1s 2ms/step - loss: 0.2364 - accuracy: 0.9198\n",
            "Epoch 17/20\n",
            "877/877 [==============================] - 1s 2ms/step - loss: 0.2411 - accuracy: 0.9161\n",
            "Epoch 18/20\n",
            "877/877 [==============================] - 1s 2ms/step - loss: 0.2379 - accuracy: 0.9182\n",
            "Epoch 19/20\n",
            "877/877 [==============================] - 1s 2ms/step - loss: 0.2333 - accuracy: 0.9183\n",
            "Epoch 20/20\n",
            "877/877 [==============================] - 1s 2ms/step - loss: 0.2373 - accuracy: 0.9178\n",
            "220/220 [==============================] - 0s 1ms/step - loss: 0.2348 - accuracy: 0.9171\n",
            "Epoch 1/20\n",
            "877/877 [==============================] - 2s 2ms/step - loss: 3.6249 - accuracy: 0.7250\n",
            "Epoch 2/20\n",
            "877/877 [==============================] - 1s 2ms/step - loss: 0.4120 - accuracy: 0.8859\n",
            "Epoch 3/20\n",
            "877/877 [==============================] - 1s 2ms/step - loss: 0.2836 - accuracy: 0.9153\n",
            "Epoch 4/20\n",
            "877/877 [==============================] - 1s 2ms/step - loss: 0.2691 - accuracy: 0.9168\n",
            "Epoch 5/20\n",
            "877/877 [==============================] - 1s 2ms/step - loss: 0.2592 - accuracy: 0.9170\n",
            "Epoch 6/20\n",
            "877/877 [==============================] - 1s 2ms/step - loss: 0.2586 - accuracy: 0.9166\n",
            "Epoch 7/20\n",
            "877/877 [==============================] - 1s 2ms/step - loss: 0.2475 - accuracy: 0.9188\n",
            "Epoch 8/20\n",
            "877/877 [==============================] - 1s 2ms/step - loss: 0.2516 - accuracy: 0.9168\n",
            "Epoch 9/20\n",
            "877/877 [==============================] - 1s 2ms/step - loss: 0.2531 - accuracy: 0.9150\n",
            "Epoch 10/20\n",
            "877/877 [==============================] - 1s 2ms/step - loss: 0.2424 - accuracy: 0.9188\n",
            "Epoch 11/20\n",
            "877/877 [==============================] - 1s 2ms/step - loss: 0.2442 - accuracy: 0.9173\n",
            "Epoch 12/20\n",
            "877/877 [==============================] - 1s 2ms/step - loss: 0.2430 - accuracy: 0.9171\n",
            "Epoch 13/20\n",
            "877/877 [==============================] - 1s 2ms/step - loss: 0.2420 - accuracy: 0.9188\n",
            "Epoch 14/20\n",
            "877/877 [==============================] - 2s 2ms/step - loss: 0.2484 - accuracy: 0.9129\n",
            "Epoch 15/20\n",
            "877/877 [==============================] - 2s 2ms/step - loss: 0.2404 - accuracy: 0.9177\n",
            "Epoch 16/20\n",
            "877/877 [==============================] - 1s 2ms/step - loss: 0.2348 - accuracy: 0.9212\n",
            "Epoch 17/20\n",
            "877/877 [==============================] - 2s 2ms/step - loss: 0.2329 - accuracy: 0.9202\n",
            "Epoch 18/20\n",
            "877/877 [==============================] - 1s 2ms/step - loss: 0.2347 - accuracy: 0.9202\n",
            "Epoch 19/20\n",
            "877/877 [==============================] - 1s 2ms/step - loss: 0.2355 - accuracy: 0.9202\n",
            "Epoch 20/20\n",
            "877/877 [==============================] - 2s 2ms/step - loss: 0.2382 - accuracy: 0.9183\n",
            "220/220 [==============================] - 1s 1ms/step - loss: 0.2404 - accuracy: 0.9163\n",
            "Epoch 1/20\n",
            "877/877 [==============================] - 2s 2ms/step - loss: 0.6244 - accuracy: 0.8718\n",
            "Epoch 2/20\n",
            "877/877 [==============================] - 1s 2ms/step - loss: 0.2813 - accuracy: 0.9135\n",
            "Epoch 3/20\n",
            "877/877 [==============================] - 1s 2ms/step - loss: 0.2729 - accuracy: 0.9118\n",
            "Epoch 4/20\n",
            "877/877 [==============================] - 2s 2ms/step - loss: 0.2655 - accuracy: 0.9132\n",
            "Epoch 5/20\n",
            "877/877 [==============================] - 1s 2ms/step - loss: 0.2625 - accuracy: 0.9134\n",
            "Epoch 6/20\n",
            "877/877 [==============================] - 1s 2ms/step - loss: 0.2544 - accuracy: 0.9150\n",
            "Epoch 7/20\n",
            "877/877 [==============================] - 1s 2ms/step - loss: 0.2571 - accuracy: 0.9137\n",
            "Epoch 8/20\n",
            "877/877 [==============================] - 1s 2ms/step - loss: 0.2507 - accuracy: 0.9152\n",
            "Epoch 9/20\n",
            "877/877 [==============================] - 1s 2ms/step - loss: 0.2485 - accuracy: 0.9161\n",
            "Epoch 10/20\n",
            "877/877 [==============================] - 1s 2ms/step - loss: 0.2466 - accuracy: 0.9165\n",
            "Epoch 11/20\n",
            "877/877 [==============================] - 1s 2ms/step - loss: 0.2429 - accuracy: 0.9178\n",
            "Epoch 12/20\n",
            "877/877 [==============================] - 1s 2ms/step - loss: 0.2448 - accuracy: 0.9166\n",
            "Epoch 13/20\n",
            "877/877 [==============================] - 1s 2ms/step - loss: 0.2429 - accuracy: 0.9176\n",
            "Epoch 14/20\n",
            "877/877 [==============================] - 1s 2ms/step - loss: 0.2435 - accuracy: 0.9169\n",
            "Epoch 15/20\n",
            "877/877 [==============================] - 1s 2ms/step - loss: 0.2389 - accuracy: 0.9182\n",
            "Epoch 16/20\n",
            "877/877 [==============================] - 1s 2ms/step - loss: 0.2431 - accuracy: 0.9158\n",
            "Epoch 17/20\n",
            "877/877 [==============================] - 1s 2ms/step - loss: 0.2392 - accuracy: 0.9175\n",
            "Epoch 18/20\n",
            "877/877 [==============================] - 1s 2ms/step - loss: 0.2433 - accuracy: 0.9168\n",
            "Epoch 19/20\n",
            "877/877 [==============================] - 1s 2ms/step - loss: 0.2419 - accuracy: 0.9164\n",
            "Epoch 20/20\n",
            "877/877 [==============================] - 1s 2ms/step - loss: 0.2370 - accuracy: 0.9187\n",
            "220/220 [==============================] - 0s 1ms/step - loss: 0.2225 - accuracy: 0.9246\n",
            "Epoch 1/20\n",
            "877/877 [==============================] - 2s 2ms/step - loss: 0.7673 - accuracy: 0.8568\n",
            "Epoch 2/20\n",
            "877/877 [==============================] - 1s 2ms/step - loss: 0.2875 - accuracy: 0.9122\n",
            "Epoch 3/20\n",
            "877/877 [==============================] - 1s 2ms/step - loss: 0.2671 - accuracy: 0.9141\n",
            "Epoch 4/20\n",
            "877/877 [==============================] - 1s 2ms/step - loss: 0.2612 - accuracy: 0.9142\n",
            "Epoch 5/20\n",
            "877/877 [==============================] - 1s 2ms/step - loss: 0.2517 - accuracy: 0.9168\n",
            "Epoch 6/20\n",
            "877/877 [==============================] - 2s 2ms/step - loss: 0.2549 - accuracy: 0.9145\n",
            "Epoch 7/20\n",
            "877/877 [==============================] - 1s 2ms/step - loss: 0.2421 - accuracy: 0.9188\n",
            "Epoch 8/20\n",
            "877/877 [==============================] - 2s 2ms/step - loss: 0.2466 - accuracy: 0.9175\n",
            "Epoch 9/20\n",
            "877/877 [==============================] - 1s 2ms/step - loss: 0.2408 - accuracy: 0.9181\n",
            "Epoch 10/20\n",
            "877/877 [==============================] - 1s 2ms/step - loss: 0.2409 - accuracy: 0.9194\n",
            "Epoch 11/20\n",
            "877/877 [==============================] - 1s 2ms/step - loss: 0.2401 - accuracy: 0.9191\n",
            "Epoch 12/20\n",
            "877/877 [==============================] - 1s 2ms/step - loss: 0.2441 - accuracy: 0.9163\n",
            "Epoch 13/20\n",
            "877/877 [==============================] - 1s 2ms/step - loss: 0.2406 - accuracy: 0.9190\n",
            "Epoch 14/20\n",
            "877/877 [==============================] - 1s 2ms/step - loss: 0.2397 - accuracy: 0.9174\n",
            "Epoch 15/20\n",
            "877/877 [==============================] - 2s 2ms/step - loss: 0.2368 - accuracy: 0.9186\n",
            "Epoch 16/20\n",
            "877/877 [==============================] - 2s 2ms/step - loss: 0.2377 - accuracy: 0.9182\n",
            "Epoch 17/20\n",
            "877/877 [==============================] - 2s 2ms/step - loss: 0.2392 - accuracy: 0.9178\n",
            "Epoch 18/20\n",
            "877/877 [==============================] - 2s 2ms/step - loss: 0.2349 - accuracy: 0.9194\n",
            "Epoch 19/20\n",
            "877/877 [==============================] - 1s 2ms/step - loss: 0.2355 - accuracy: 0.9194\n",
            "Epoch 20/20\n",
            "877/877 [==============================] - 2s 2ms/step - loss: 0.2374 - accuracy: 0.9182\n",
            "220/220 [==============================] - 1s 1ms/step - loss: 0.2314 - accuracy: 0.9207\n",
            "Epoch 1/20\n",
            "877/877 [==============================] - 2s 2ms/step - loss: 2.3841 - accuracy: 0.7523\n",
            "Epoch 2/20\n",
            "877/877 [==============================] - 2s 2ms/step - loss: 0.3500 - accuracy: 0.8930\n",
            "Epoch 3/20\n",
            "877/877 [==============================] - 2s 2ms/step - loss: 0.2753 - accuracy: 0.9136\n",
            "Epoch 4/20\n",
            "877/877 [==============================] - 2s 2ms/step - loss: 0.2657 - accuracy: 0.9175\n",
            "Epoch 5/20\n",
            "877/877 [==============================] - 2s 2ms/step - loss: 0.2653 - accuracy: 0.9149\n",
            "Epoch 6/20\n",
            "877/877 [==============================] - 2s 2ms/step - loss: 0.2610 - accuracy: 0.9150\n",
            "Epoch 7/20\n",
            "877/877 [==============================] - 1s 2ms/step - loss: 0.2522 - accuracy: 0.9169\n",
            "Epoch 8/20\n",
            "877/877 [==============================] - 2s 2ms/step - loss: 0.2495 - accuracy: 0.9172\n",
            "Epoch 9/20\n",
            "877/877 [==============================] - 2s 2ms/step - loss: 0.2445 - accuracy: 0.9185\n",
            "Epoch 10/20\n",
            "877/877 [==============================] - 2s 2ms/step - loss: 0.2417 - accuracy: 0.9196\n",
            "Epoch 11/20\n",
            "877/877 [==============================] - 2s 2ms/step - loss: 0.2440 - accuracy: 0.9174\n",
            "Epoch 12/20\n",
            "877/877 [==============================] - 2s 2ms/step - loss: 0.2424 - accuracy: 0.9170\n",
            "Epoch 13/20\n",
            "877/877 [==============================] - 2s 2ms/step - loss: 0.2380 - accuracy: 0.9192\n",
            "Epoch 14/20\n",
            "877/877 [==============================] - 2s 2ms/step - loss: 0.2384 - accuracy: 0.9192\n",
            "Epoch 15/20\n",
            "877/877 [==============================] - 2s 2ms/step - loss: 0.2356 - accuracy: 0.9207\n",
            "Epoch 16/20\n",
            "877/877 [==============================] - 2s 2ms/step - loss: 0.2382 - accuracy: 0.9178\n",
            "Epoch 17/20\n",
            "877/877 [==============================] - 2s 2ms/step - loss: 0.2379 - accuracy: 0.9188\n",
            "Epoch 18/20\n",
            "877/877 [==============================] - 2s 2ms/step - loss: 0.2417 - accuracy: 0.9165\n",
            "Epoch 19/20\n",
            "877/877 [==============================] - 2s 2ms/step - loss: 0.2402 - accuracy: 0.9171\n",
            "Epoch 20/20\n",
            "877/877 [==============================] - 2s 2ms/step - loss: 0.2419 - accuracy: 0.9172\n",
            "220/220 [==============================] - 1s 1ms/step - loss: 0.2373 - accuracy: 0.9171\n",
            "Epoch 1/20\n",
            "877/877 [==============================] - 2s 2ms/step - loss: 1.5160 - accuracy: 0.8126\n",
            "Epoch 2/20\n",
            "877/877 [==============================] - 2s 2ms/step - loss: 0.3062 - accuracy: 0.9063\n",
            "Epoch 3/20\n",
            "877/877 [==============================] - 2s 2ms/step - loss: 0.2726 - accuracy: 0.9156\n",
            "Epoch 4/20\n",
            "877/877 [==============================] - 2s 2ms/step - loss: 0.2671 - accuracy: 0.9150\n",
            "Epoch 5/20\n",
            "877/877 [==============================] - 2s 2ms/step - loss: 0.2572 - accuracy: 0.9161\n",
            "Epoch 6/20\n",
            "877/877 [==============================] - 1s 2ms/step - loss: 0.2570 - accuracy: 0.9141\n",
            "Epoch 7/20\n",
            "877/877 [==============================] - 1s 2ms/step - loss: 0.2482 - accuracy: 0.9163\n",
            "Epoch 8/20\n",
            "877/877 [==============================] - 1s 2ms/step - loss: 0.2412 - accuracy: 0.9212\n",
            "Epoch 9/20\n",
            "877/877 [==============================] - 1s 2ms/step - loss: 0.2423 - accuracy: 0.9194\n",
            "Epoch 10/20\n",
            "877/877 [==============================] - 2s 2ms/step - loss: 0.2415 - accuracy: 0.9197\n",
            "Epoch 11/20\n",
            "877/877 [==============================] - 2s 2ms/step - loss: 0.2424 - accuracy: 0.9195\n",
            "Epoch 12/20\n",
            "877/877 [==============================] - 2s 2ms/step - loss: 0.2365 - accuracy: 0.9210\n",
            "Epoch 13/20\n",
            "877/877 [==============================] - 1s 2ms/step - loss: 0.2374 - accuracy: 0.9194\n",
            "Epoch 14/20\n",
            "877/877 [==============================] - 2s 2ms/step - loss: 0.2333 - accuracy: 0.9214\n",
            "Epoch 15/20\n",
            "877/877 [==============================] - 2s 2ms/step - loss: 0.2375 - accuracy: 0.9185\n",
            "Epoch 16/20\n",
            "877/877 [==============================] - 2s 2ms/step - loss: 0.2363 - accuracy: 0.9197\n",
            "Epoch 17/20\n",
            "877/877 [==============================] - 1s 2ms/step - loss: 0.2442 - accuracy: 0.9161\n",
            "Epoch 18/20\n",
            "877/877 [==============================] - 1s 2ms/step - loss: 0.2313 - accuracy: 0.9220\n",
            "Epoch 19/20\n",
            "877/877 [==============================] - 2s 2ms/step - loss: 0.2339 - accuracy: 0.9193\n",
            "Epoch 20/20\n",
            "877/877 [==============================] - 2s 2ms/step - loss: 0.2353 - accuracy: 0.9189\n",
            "220/220 [==============================] - 0s 1ms/step - loss: 0.2347 - accuracy: 0.9177\n",
            "Epoch 1/20\n",
            "877/877 [==============================] - 2s 2ms/step - loss: 0.6420 - accuracy: 0.8654\n",
            "Epoch 2/20\n",
            "877/877 [==============================] - 2s 2ms/step - loss: 0.2831 - accuracy: 0.9113\n",
            "Epoch 3/20\n",
            "877/877 [==============================] - 2s 2ms/step - loss: 0.2632 - accuracy: 0.9167\n",
            "Epoch 4/20\n",
            "877/877 [==============================] - 2s 2ms/step - loss: 0.2697 - accuracy: 0.9120\n",
            "Epoch 5/20\n",
            "877/877 [==============================] - 2s 2ms/step - loss: 0.2515 - accuracy: 0.9181\n",
            "Epoch 6/20\n",
            "877/877 [==============================] - 2s 2ms/step - loss: 0.2549 - accuracy: 0.9144\n",
            "Epoch 7/20\n",
            "877/877 [==============================] - 2s 2ms/step - loss: 0.2471 - accuracy: 0.9165\n",
            "Epoch 8/20\n",
            "877/877 [==============================] - 2s 2ms/step - loss: 0.2376 - accuracy: 0.9205\n",
            "Epoch 9/20\n",
            "877/877 [==============================] - 2s 2ms/step - loss: 0.2400 - accuracy: 0.9188\n",
            "Epoch 10/20\n",
            "877/877 [==============================] - 2s 2ms/step - loss: 0.2390 - accuracy: 0.9184\n",
            "Epoch 11/20\n",
            "877/877 [==============================] - 2s 2ms/step - loss: 0.2374 - accuracy: 0.9203\n",
            "Epoch 12/20\n",
            "877/877 [==============================] - 2s 2ms/step - loss: 0.2369 - accuracy: 0.9211\n",
            "Epoch 13/20\n",
            "877/877 [==============================] - 2s 2ms/step - loss: 0.2372 - accuracy: 0.9186\n",
            "Epoch 14/20\n",
            "877/877 [==============================] - 2s 2ms/step - loss: 0.2340 - accuracy: 0.9199\n",
            "Epoch 15/20\n",
            "877/877 [==============================] - 2s 2ms/step - loss: 0.2360 - accuracy: 0.9200\n",
            "Epoch 16/20\n",
            "877/877 [==============================] - 2s 2ms/step - loss: 0.2371 - accuracy: 0.9198\n",
            "Epoch 17/20\n",
            "877/877 [==============================] - 2s 2ms/step - loss: 0.2292 - accuracy: 0.9228\n",
            "Epoch 18/20\n",
            "877/877 [==============================] - 2s 2ms/step - loss: 0.2321 - accuracy: 0.9211\n",
            "Epoch 19/20\n",
            "877/877 [==============================] - 1s 2ms/step - loss: 0.2343 - accuracy: 0.9193\n",
            "Epoch 20/20\n",
            "877/877 [==============================] - 2s 2ms/step - loss: 0.2388 - accuracy: 0.9180\n",
            "220/220 [==============================] - 0s 1ms/step - loss: 0.2389 - accuracy: 0.9169\n",
            "Epoch 1/20\n",
            "877/877 [==============================] - 2s 2ms/step - loss: 0.8541 - accuracy: 0.8497\n",
            "Epoch 2/20\n",
            "877/877 [==============================] - 2s 2ms/step - loss: 0.2891 - accuracy: 0.9105\n",
            "Epoch 3/20\n",
            "877/877 [==============================] - 2s 2ms/step - loss: 0.2748 - accuracy: 0.9115\n",
            "Epoch 4/20\n",
            "877/877 [==============================] - 2s 2ms/step - loss: 0.2633 - accuracy: 0.9136\n",
            "Epoch 5/20\n",
            "877/877 [==============================] - 2s 2ms/step - loss: 0.2572 - accuracy: 0.9147\n",
            "Epoch 6/20\n",
            "877/877 [==============================] - 1s 2ms/step - loss: 0.2554 - accuracy: 0.9155\n",
            "Epoch 7/20\n",
            "877/877 [==============================] - 2s 2ms/step - loss: 0.2555 - accuracy: 0.9138\n",
            "Epoch 8/20\n",
            "877/877 [==============================] - 2s 2ms/step - loss: 0.2480 - accuracy: 0.9159\n",
            "Epoch 9/20\n",
            "877/877 [==============================] - 2s 2ms/step - loss: 0.2447 - accuracy: 0.9177\n",
            "Epoch 10/20\n",
            "877/877 [==============================] - 2s 2ms/step - loss: 0.2434 - accuracy: 0.9184\n",
            "Epoch 11/20\n",
            "877/877 [==============================] - 2s 2ms/step - loss: 0.2473 - accuracy: 0.9158\n",
            "Epoch 12/20\n",
            "877/877 [==============================] - 2s 2ms/step - loss: 0.2450 - accuracy: 0.9170\n",
            "Epoch 13/20\n",
            "877/877 [==============================] - 2s 2ms/step - loss: 0.2446 - accuracy: 0.9168\n",
            "Epoch 14/20\n",
            "877/877 [==============================] - 2s 2ms/step - loss: 0.2378 - accuracy: 0.9197\n",
            "Epoch 15/20\n",
            "877/877 [==============================] - 2s 2ms/step - loss: 0.2386 - accuracy: 0.9188\n",
            "Epoch 16/20\n",
            "877/877 [==============================] - 2s 2ms/step - loss: 0.2361 - accuracy: 0.9191\n",
            "Epoch 17/20\n",
            "877/877 [==============================] - 2s 2ms/step - loss: 0.2402 - accuracy: 0.9183\n",
            "Epoch 18/20\n",
            "877/877 [==============================] - 2s 2ms/step - loss: 0.2395 - accuracy: 0.9181\n",
            "Epoch 19/20\n",
            "877/877 [==============================] - 2s 2ms/step - loss: 0.2372 - accuracy: 0.9182\n",
            "Epoch 20/20\n",
            "877/877 [==============================] - 2s 2ms/step - loss: 0.2348 - accuracy: 0.9199\n",
            "220/220 [==============================] - 0s 1ms/step - loss: 0.2195 - accuracy: 0.9240\n",
            "Epoch 1/20\n",
            "877/877 [==============================] - 2s 2ms/step - loss: 1.5801 - accuracy: 0.7947\n",
            "Epoch 2/20\n",
            "877/877 [==============================] - 2s 2ms/step - loss: 0.3360 - accuracy: 0.9013\n",
            "Epoch 3/20\n",
            "877/877 [==============================] - 2s 2ms/step - loss: 0.2772 - accuracy: 0.9121\n",
            "Epoch 4/20\n",
            "877/877 [==============================] - 2s 2ms/step - loss: 0.2594 - accuracy: 0.9176\n",
            "Epoch 5/20\n",
            "877/877 [==============================] - 2s 2ms/step - loss: 0.2615 - accuracy: 0.9147\n",
            "Epoch 6/20\n",
            "877/877 [==============================] - 2s 2ms/step - loss: 0.2545 - accuracy: 0.9156\n",
            "Epoch 7/20\n",
            "877/877 [==============================] - 2s 2ms/step - loss: 0.2561 - accuracy: 0.9145\n",
            "Epoch 8/20\n",
            "877/877 [==============================] - 2s 2ms/step - loss: 0.2505 - accuracy: 0.9161\n",
            "Epoch 9/20\n",
            "877/877 [==============================] - 2s 2ms/step - loss: 0.2447 - accuracy: 0.9188\n",
            "Epoch 10/20\n",
            "877/877 [==============================] - 2s 2ms/step - loss: 0.2434 - accuracy: 0.9182\n",
            "Epoch 11/20\n",
            "877/877 [==============================] - 2s 2ms/step - loss: 0.2416 - accuracy: 0.9180\n",
            "Epoch 12/20\n",
            "877/877 [==============================] - 2s 2ms/step - loss: 0.2411 - accuracy: 0.9171\n",
            "Epoch 13/20\n",
            "877/877 [==============================] - 2s 2ms/step - loss: 0.2393 - accuracy: 0.9198\n",
            "Epoch 14/20\n",
            "877/877 [==============================] - 2s 2ms/step - loss: 0.2394 - accuracy: 0.9169\n",
            "Epoch 15/20\n",
            "877/877 [==============================] - 2s 2ms/step - loss: 0.2419 - accuracy: 0.9172\n",
            "Epoch 16/20\n",
            "877/877 [==============================] - 1s 2ms/step - loss: 0.2344 - accuracy: 0.9207\n",
            "Epoch 17/20\n",
            "877/877 [==============================] - 2s 2ms/step - loss: 0.2371 - accuracy: 0.9183\n",
            "Epoch 18/20\n",
            "877/877 [==============================] - 2s 2ms/step - loss: 0.2338 - accuracy: 0.9190\n",
            "Epoch 19/20\n",
            "877/877 [==============================] - 2s 2ms/step - loss: 0.2328 - accuracy: 0.9204\n",
            "Epoch 20/20\n",
            "877/877 [==============================] - 2s 2ms/step - loss: 0.2357 - accuracy: 0.9193\n",
            "220/220 [==============================] - 0s 1ms/step - loss: 0.2327 - accuracy: 0.9207\n",
            "Epoch 1/20\n",
            "877/877 [==============================] - 2s 2ms/step - loss: 1.5442 - accuracy: 0.7901\n",
            "Epoch 2/20\n",
            "877/877 [==============================] - 2s 2ms/step - loss: 0.3208 - accuracy: 0.9053\n",
            "Epoch 3/20\n",
            "877/877 [==============================] - 2s 2ms/step - loss: 0.2776 - accuracy: 0.9136\n",
            "Epoch 4/20\n",
            "877/877 [==============================] - 2s 2ms/step - loss: 0.2640 - accuracy: 0.9170\n",
            "Epoch 5/20\n",
            "877/877 [==============================] - 2s 2ms/step - loss: 0.2604 - accuracy: 0.9145\n",
            "Epoch 6/20\n",
            "877/877 [==============================] - 2s 2ms/step - loss: 0.2525 - accuracy: 0.9170\n",
            "Epoch 7/20\n",
            "877/877 [==============================] - 2s 2ms/step - loss: 0.2529 - accuracy: 0.9167\n",
            "Epoch 8/20\n",
            "877/877 [==============================] - 2s 2ms/step - loss: 0.2473 - accuracy: 0.9174\n",
            "Epoch 9/20\n",
            "877/877 [==============================] - 2s 2ms/step - loss: 0.2491 - accuracy: 0.9163\n",
            "Epoch 10/20\n",
            "877/877 [==============================] - 2s 2ms/step - loss: 0.2402 - accuracy: 0.9203\n",
            "Epoch 11/20\n",
            "877/877 [==============================] - 2s 2ms/step - loss: 0.2444 - accuracy: 0.9163\n",
            "Epoch 12/20\n",
            "877/877 [==============================] - 2s 2ms/step - loss: 0.2385 - accuracy: 0.9202\n",
            "Epoch 13/20\n",
            "877/877 [==============================] - 2s 2ms/step - loss: 0.2412 - accuracy: 0.9173\n",
            "Epoch 14/20\n",
            "877/877 [==============================] - 2s 2ms/step - loss: 0.2323 - accuracy: 0.9196\n",
            "Epoch 15/20\n",
            "877/877 [==============================] - 2s 2ms/step - loss: 0.2365 - accuracy: 0.9190\n",
            "Epoch 16/20\n",
            "877/877 [==============================] - 2s 2ms/step - loss: 0.2374 - accuracy: 0.9188\n",
            "Epoch 17/20\n",
            "877/877 [==============================] - 2s 2ms/step - loss: 0.2328 - accuracy: 0.9213\n",
            "Epoch 18/20\n",
            "877/877 [==============================] - 2s 2ms/step - loss: 0.2339 - accuracy: 0.9187\n",
            "Epoch 19/20\n",
            "877/877 [==============================] - 2s 2ms/step - loss: 0.2364 - accuracy: 0.9187\n",
            "Epoch 20/20\n",
            "877/877 [==============================] - 2s 2ms/step - loss: 0.2318 - accuracy: 0.9204\n",
            "220/220 [==============================] - 0s 1ms/step - loss: 0.2366 - accuracy: 0.9178\n",
            "Epoch 1/20\n",
            "877/877 [==============================] - 2s 2ms/step - loss: 1.9434 - accuracy: 0.7736\n",
            "Epoch 2/20\n",
            "877/877 [==============================] - 2s 2ms/step - loss: 0.3389 - accuracy: 0.8987\n",
            "Epoch 3/20\n",
            "877/877 [==============================] - 2s 2ms/step - loss: 0.2751 - accuracy: 0.9155\n",
            "Epoch 4/20\n",
            "877/877 [==============================] - 2s 2ms/step - loss: 0.2624 - accuracy: 0.9168\n",
            "Epoch 5/20\n",
            "877/877 [==============================] - 2s 2ms/step - loss: 0.2590 - accuracy: 0.9168\n",
            "Epoch 6/20\n",
            "877/877 [==============================] - 2s 2ms/step - loss: 0.2577 - accuracy: 0.9156\n",
            "Epoch 7/20\n",
            "877/877 [==============================] - 2s 2ms/step - loss: 0.2512 - accuracy: 0.9162\n",
            "Epoch 8/20\n",
            "877/877 [==============================] - 2s 2ms/step - loss: 0.2496 - accuracy: 0.9171\n",
            "Epoch 9/20\n",
            "877/877 [==============================] - 2s 2ms/step - loss: 0.2500 - accuracy: 0.9152\n",
            "Epoch 10/20\n",
            "877/877 [==============================] - 2s 2ms/step - loss: 0.2401 - accuracy: 0.9200\n",
            "Epoch 11/20\n",
            "877/877 [==============================] - 2s 2ms/step - loss: 0.2398 - accuracy: 0.9194\n",
            "Epoch 12/20\n",
            "877/877 [==============================] - 2s 2ms/step - loss: 0.2383 - accuracy: 0.9197\n",
            "Epoch 13/20\n",
            "877/877 [==============================] - 2s 2ms/step - loss: 0.2395 - accuracy: 0.9184\n",
            "Epoch 14/20\n",
            "877/877 [==============================] - 2s 2ms/step - loss: 0.2382 - accuracy: 0.9188\n",
            "Epoch 15/20\n",
            "877/877 [==============================] - 2s 2ms/step - loss: 0.2427 - accuracy: 0.9165\n",
            "Epoch 16/20\n",
            "877/877 [==============================] - 2s 2ms/step - loss: 0.2408 - accuracy: 0.9177\n",
            "Epoch 17/20\n",
            "877/877 [==============================] - 2s 2ms/step - loss: 0.2326 - accuracy: 0.9206\n",
            "Epoch 18/20\n",
            "877/877 [==============================] - 2s 2ms/step - loss: 0.2389 - accuracy: 0.9192\n",
            "Epoch 19/20\n",
            "877/877 [==============================] - 2s 2ms/step - loss: 0.2322 - accuracy: 0.9200\n",
            "Epoch 20/20\n",
            "877/877 [==============================] - 2s 2ms/step - loss: 0.2373 - accuracy: 0.9200\n",
            "220/220 [==============================] - 0s 1ms/step - loss: 0.2335 - accuracy: 0.9185\n",
            "Epoch 1/20\n",
            "1097/1097 [==============================] - 3s 2ms/step - loss: 2.2838 - accuracy: 0.7611\n",
            "Epoch 2/20\n",
            "1097/1097 [==============================] - 2s 2ms/step - loss: 0.3008 - accuracy: 0.9084\n",
            "Epoch 3/20\n",
            "1097/1097 [==============================] - 2s 2ms/step - loss: 0.2742 - accuracy: 0.9126\n",
            "Epoch 4/20\n",
            "1097/1097 [==============================] - 2s 2ms/step - loss: 0.2611 - accuracy: 0.9155\n",
            "Epoch 5/20\n",
            "1097/1097 [==============================] - 2s 2ms/step - loss: 0.2541 - accuracy: 0.9169\n",
            "Epoch 6/20\n",
            "1097/1097 [==============================] - 2s 2ms/step - loss: 0.2547 - accuracy: 0.9152\n",
            "Epoch 7/20\n",
            "1097/1097 [==============================] - 2s 2ms/step - loss: 0.2472 - accuracy: 0.9172\n",
            "Epoch 8/20\n",
            "1097/1097 [==============================] - 2s 2ms/step - loss: 0.2445 - accuracy: 0.9172\n",
            "Epoch 9/20\n",
            "1097/1097 [==============================] - 2s 2ms/step - loss: 0.2424 - accuracy: 0.9179\n",
            "Epoch 10/20\n",
            "1097/1097 [==============================] - 2s 2ms/step - loss: 0.2410 - accuracy: 0.9175\n",
            "Epoch 11/20\n",
            "1097/1097 [==============================] - 2s 2ms/step - loss: 0.2432 - accuracy: 0.9177\n",
            "Epoch 12/20\n",
            "1097/1097 [==============================] - 2s 2ms/step - loss: 0.2340 - accuracy: 0.9195\n",
            "Epoch 13/20\n",
            "1097/1097 [==============================] - 2s 2ms/step - loss: 0.2382 - accuracy: 0.9176\n",
            "Epoch 14/20\n",
            "1097/1097 [==============================] - 2s 2ms/step - loss: 0.2352 - accuracy: 0.9198\n",
            "Epoch 15/20\n",
            "1097/1097 [==============================] - 2s 2ms/step - loss: 0.2367 - accuracy: 0.9187\n",
            "Epoch 16/20\n",
            "1097/1097 [==============================] - 2s 2ms/step - loss: 0.2375 - accuracy: 0.9188\n",
            "Epoch 17/20\n",
            "1097/1097 [==============================] - 2s 2ms/step - loss: 0.2416 - accuracy: 0.9158\n",
            "Epoch 18/20\n",
            "1097/1097 [==============================] - 2s 2ms/step - loss: 0.2299 - accuracy: 0.9217\n",
            "Epoch 19/20\n",
            "1097/1097 [==============================] - 2s 2ms/step - loss: 0.2345 - accuracy: 0.9197\n",
            "Epoch 20/20\n",
            "1097/1097 [==============================] - 2s 2ms/step - loss: 0.2343 - accuracy: 0.9187\n"
          ],
          "name": "stdout"
        }
      ]
    },
    {
      "cell_type": "code",
      "metadata": {
        "colab": {
          "base_uri": "https://localhost:8080/"
        },
        "id": "FA4Fc8MhqyPN",
        "outputId": "a43263aa-7081-4b36-a88b-b72b060a32c6"
      },
      "source": [
        "grid_result.best_score_"
      ],
      "id": "FA4Fc8MhqyPN",
      "execution_count": null,
      "outputs": [
        {
          "output_type": "execute_result",
          "data": {
            "text/plain": [
              "0.9195919752120971"
            ]
          },
          "metadata": {
            "tags": []
          },
          "execution_count": 134
        }
      ]
    },
    {
      "cell_type": "code",
      "metadata": {
        "colab": {
          "base_uri": "https://localhost:8080/"
        },
        "id": "BQxpEVfgurRy",
        "outputId": "656983a5-def7-425e-eef0-dd7650f65557"
      },
      "source": [
        "grid_result.best_params_"
      ],
      "id": "BQxpEVfgurRy",
      "execution_count": null,
      "outputs": [
        {
          "output_type": "execute_result",
          "data": {
            "text/plain": [
              "{'neurons': 60}"
            ]
          },
          "metadata": {
            "tags": []
          },
          "execution_count": 135
        }
      ]
    },
    {
      "cell_type": "code",
      "metadata": {
        "id": "B6t0Ze9Uuv33"
      },
      "source": [
        ""
      ],
      "id": "B6t0Ze9Uuv33",
      "execution_count": null,
      "outputs": []
    }
  ]
}