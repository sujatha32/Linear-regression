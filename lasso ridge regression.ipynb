{
 "cells": [
  {
   "cell_type": "code",
   "execution_count": 2,
   "id": "85bed1e4",
   "metadata": {},
   "outputs": [],
   "source": [
    "import pandas as pd\n",
    "import numpy as np\n",
    "from sklearn.preprocessing import MinMaxScaler, OneHotEncoder\n",
    "from sklearn.model_selection import train_test_split\n",
    "from sklearn.linear_model import LinearRegression, SGDRegressor\n",
    "from sklearn.linear_model import Lasso, Ridge, ElasticNet\n",
    "from sklearn.metrics import mean_squared_error, r2_score"
   ]
  },
  {
   "cell_type": "code",
   "execution_count": 6,
   "id": "505420ea",
   "metadata": {},
   "outputs": [
    {
     "data": {
      "text/html": [
       "<div>\n",
       "<style scoped>\n",
       "    .dataframe tbody tr th:only-of-type {\n",
       "        vertical-align: middle;\n",
       "    }\n",
       "\n",
       "    .dataframe tbody tr th {\n",
       "        vertical-align: top;\n",
       "    }\n",
       "\n",
       "    .dataframe thead th {\n",
       "        text-align: right;\n",
       "    }\n",
       "</style>\n",
       "<table border=\"1\" class=\"dataframe\">\n",
       "  <thead>\n",
       "    <tr style=\"text-align: right;\">\n",
       "      <th></th>\n",
       "      <th>age</th>\n",
       "      <th>sex</th>\n",
       "      <th>bmi</th>\n",
       "      <th>children</th>\n",
       "      <th>smoker</th>\n",
       "      <th>region</th>\n",
       "      <th>charges</th>\n",
       "    </tr>\n",
       "  </thead>\n",
       "  <tbody>\n",
       "    <tr>\n",
       "      <th>0</th>\n",
       "      <td>19</td>\n",
       "      <td>female</td>\n",
       "      <td>27.900</td>\n",
       "      <td>0</td>\n",
       "      <td>yes</td>\n",
       "      <td>southwest</td>\n",
       "      <td>16884.92400</td>\n",
       "    </tr>\n",
       "    <tr>\n",
       "      <th>1</th>\n",
       "      <td>18</td>\n",
       "      <td>male</td>\n",
       "      <td>33.770</td>\n",
       "      <td>1</td>\n",
       "      <td>no</td>\n",
       "      <td>southeast</td>\n",
       "      <td>1725.55230</td>\n",
       "    </tr>\n",
       "    <tr>\n",
       "      <th>2</th>\n",
       "      <td>28</td>\n",
       "      <td>male</td>\n",
       "      <td>33.000</td>\n",
       "      <td>3</td>\n",
       "      <td>no</td>\n",
       "      <td>southeast</td>\n",
       "      <td>4449.46200</td>\n",
       "    </tr>\n",
       "    <tr>\n",
       "      <th>3</th>\n",
       "      <td>33</td>\n",
       "      <td>male</td>\n",
       "      <td>22.705</td>\n",
       "      <td>0</td>\n",
       "      <td>no</td>\n",
       "      <td>northwest</td>\n",
       "      <td>21984.47061</td>\n",
       "    </tr>\n",
       "    <tr>\n",
       "      <th>4</th>\n",
       "      <td>32</td>\n",
       "      <td>male</td>\n",
       "      <td>28.880</td>\n",
       "      <td>0</td>\n",
       "      <td>no</td>\n",
       "      <td>northwest</td>\n",
       "      <td>3866.85520</td>\n",
       "    </tr>\n",
       "    <tr>\n",
       "      <th>...</th>\n",
       "      <td>...</td>\n",
       "      <td>...</td>\n",
       "      <td>...</td>\n",
       "      <td>...</td>\n",
       "      <td>...</td>\n",
       "      <td>...</td>\n",
       "      <td>...</td>\n",
       "    </tr>\n",
       "    <tr>\n",
       "      <th>1333</th>\n",
       "      <td>50</td>\n",
       "      <td>male</td>\n",
       "      <td>30.970</td>\n",
       "      <td>3</td>\n",
       "      <td>no</td>\n",
       "      <td>northwest</td>\n",
       "      <td>10600.54830</td>\n",
       "    </tr>\n",
       "    <tr>\n",
       "      <th>1334</th>\n",
       "      <td>18</td>\n",
       "      <td>female</td>\n",
       "      <td>31.920</td>\n",
       "      <td>0</td>\n",
       "      <td>no</td>\n",
       "      <td>northeast</td>\n",
       "      <td>2205.98080</td>\n",
       "    </tr>\n",
       "    <tr>\n",
       "      <th>1335</th>\n",
       "      <td>18</td>\n",
       "      <td>female</td>\n",
       "      <td>36.850</td>\n",
       "      <td>0</td>\n",
       "      <td>no</td>\n",
       "      <td>southeast</td>\n",
       "      <td>1629.83350</td>\n",
       "    </tr>\n",
       "    <tr>\n",
       "      <th>1336</th>\n",
       "      <td>21</td>\n",
       "      <td>female</td>\n",
       "      <td>25.800</td>\n",
       "      <td>0</td>\n",
       "      <td>no</td>\n",
       "      <td>southwest</td>\n",
       "      <td>2007.94500</td>\n",
       "    </tr>\n",
       "    <tr>\n",
       "      <th>1337</th>\n",
       "      <td>61</td>\n",
       "      <td>female</td>\n",
       "      <td>29.070</td>\n",
       "      <td>0</td>\n",
       "      <td>yes</td>\n",
       "      <td>northwest</td>\n",
       "      <td>29141.36030</td>\n",
       "    </tr>\n",
       "  </tbody>\n",
       "</table>\n",
       "<p>1338 rows × 7 columns</p>\n",
       "</div>"
      ],
      "text/plain": [
       "      age     sex     bmi  children smoker     region      charges\n",
       "0      19  female  27.900         0    yes  southwest  16884.92400\n",
       "1      18    male  33.770         1     no  southeast   1725.55230\n",
       "2      28    male  33.000         3     no  southeast   4449.46200\n",
       "3      33    male  22.705         0     no  northwest  21984.47061\n",
       "4      32    male  28.880         0     no  northwest   3866.85520\n",
       "...   ...     ...     ...       ...    ...        ...          ...\n",
       "1333   50    male  30.970         3     no  northwest  10600.54830\n",
       "1334   18  female  31.920         0     no  northeast   2205.98080\n",
       "1335   18  female  36.850         0     no  southeast   1629.83350\n",
       "1336   21  female  25.800         0     no  southwest   2007.94500\n",
       "1337   61  female  29.070         0    yes  northwest  29141.36030\n",
       "\n",
       "[1338 rows x 7 columns]"
      ]
     },
     "execution_count": 6,
     "metadata": {},
     "output_type": "execute_result"
    }
   ],
   "source": [
    "insuranceDataRaw = pd.read_csv(r'C:\\\\Users\\\\sujatha\\desktop\\sujatha\\insurance.csv')\n",
    "insuranceDataRaw"
   ]
  },
  {
   "cell_type": "code",
   "execution_count": 7,
   "id": "932b50f9",
   "metadata": {},
   "outputs": [],
   "source": [
    "X = insuranceDataRaw.drop([\"charges\"], axis=1)\n",
    "y = insuranceDataRaw[[\"charges\"]]\n",
    "x_train, x_test, y_train, y_test = train_test_split(X, y, test_size=0.1,\n",
    "                                                   random_state=42)"
   ]
  },
  {
   "cell_type": "code",
   "execution_count": 8,
   "id": "207d60d1",
   "metadata": {},
   "outputs": [
    {
     "data": {
      "text/html": [
       "<div>\n",
       "<style scoped>\n",
       "    .dataframe tbody tr th:only-of-type {\n",
       "        vertical-align: middle;\n",
       "    }\n",
       "\n",
       "    .dataframe tbody tr th {\n",
       "        vertical-align: top;\n",
       "    }\n",
       "\n",
       "    .dataframe thead th {\n",
       "        text-align: right;\n",
       "    }\n",
       "</style>\n",
       "<table border=\"1\" class=\"dataframe\">\n",
       "  <thead>\n",
       "    <tr style=\"text-align: right;\">\n",
       "      <th></th>\n",
       "      <th>sex</th>\n",
       "      <th>smoker</th>\n",
       "      <th>region</th>\n",
       "    </tr>\n",
       "  </thead>\n",
       "  <tbody>\n",
       "    <tr>\n",
       "      <th>196</th>\n",
       "      <td>female</td>\n",
       "      <td>no</td>\n",
       "      <td>southwest</td>\n",
       "    </tr>\n",
       "    <tr>\n",
       "      <th>1209</th>\n",
       "      <td>male</td>\n",
       "      <td>no</td>\n",
       "      <td>southwest</td>\n",
       "    </tr>\n",
       "  </tbody>\n",
       "</table>\n",
       "</div>"
      ],
      "text/plain": [
       "         sex smoker     region\n",
       "196   female     no  southwest\n",
       "1209    male     no  southwest"
      ]
     },
     "execution_count": 8,
     "metadata": {},
     "output_type": "execute_result"
    }
   ],
   "source": [
    "insuranceTrainCategorical = x_train.select_dtypes(\"object\")\n",
    "insuranceTrainCategorical.head(2)"
   ]
  },
  {
   "cell_type": "code",
   "execution_count": 9,
   "id": "439b659c",
   "metadata": {},
   "outputs": [
    {
     "data": {
      "text/plain": [
       "sex       0\n",
       "smoker    0\n",
       "region    0\n",
       "dtype: int64"
      ]
     },
     "execution_count": 9,
     "metadata": {},
     "output_type": "execute_result"
    }
   ],
   "source": [
    "insuranceTrainCategorical.isna().sum()"
   ]
  },
  {
   "cell_type": "code",
   "execution_count": 10,
   "id": "8b77511a",
   "metadata": {},
   "outputs": [],
   "source": [
    "insuranceTrainNumerical = x_train.select_dtypes(np.number)"
   ]
  },
  {
   "cell_type": "code",
   "execution_count": 11,
   "id": "ee7dfe94",
   "metadata": {},
   "outputs": [
    {
     "data": {
      "text/plain": [
       "age         0\n",
       "bmi         0\n",
       "children    0\n",
       "dtype: int64"
      ]
     },
     "execution_count": 11,
     "metadata": {},
     "output_type": "execute_result"
    }
   ],
   "source": [
    "insuranceTrainNumerical.isna().sum()"
   ]
  },
  {
   "cell_type": "code",
   "execution_count": 12,
   "id": "f209feaf",
   "metadata": {},
   "outputs": [],
   "source": [
    "ohe = OneHotEncoder()\n",
    "ohe.fit(insuranceTrainCategorical)\n",
    "insuranceTrainCategoricalEncoded = pd.DataFrame(ohe.transform(insuranceTrainCategorical).toarray())"
   ]
  },
  {
   "cell_type": "code",
   "execution_count": 13,
   "id": "df376a17",
   "metadata": {},
   "outputs": [],
   "source": [
    "mm = MinMaxScaler()\n",
    "mm.fit(insuranceTrainNumerical)\n",
    "insuranceTrainNumericalEncoded = pd.DataFrame(mm.transform(insuranceTrainNumerical),\n",
    "             columns=insuranceTrainNumerical.columns)"
   ]
  },
  {
   "cell_type": "code",
   "execution_count": 14,
   "id": "6f4432ff",
   "metadata": {},
   "outputs": [],
   "source": [
    "insuranceTrainFinal = pd.concat([insuranceTrainCategoricalEncoded, insuranceTrainNumericalEncoded], axis=1)"
   ]
  },
  {
   "cell_type": "code",
   "execution_count": 15,
   "id": "875639bb",
   "metadata": {},
   "outputs": [],
   "source": [
    "logReg = LinearRegression()\n",
    "sDescentReg = SGDRegressor()\n",
    "lasso = Lasso(alpha=0.5)\n",
    "ridge = Ridge(alpha=0.5)\n",
    "eNet = ElasticNet(l1_ratio=0.4)"
   ]
  },
  {
   "cell_type": "code",
   "execution_count": 16,
   "id": "9be53883",
   "metadata": {},
   "outputs": [
    {
     "name": "stderr",
     "output_type": "stream",
     "text": [
      "C:\\Users\\sujatha\\Downloads\\anaconda\\envs\\Test\\lib\\site-packages\\sklearn\\utils\\validation.py:63: DataConversionWarning: A column-vector y was passed when a 1d array was expected. Please change the shape of y to (n_samples, ), for example using ravel().\n",
      "  return f(*args, **kwargs)\n"
     ]
    },
    {
     "data": {
      "text/plain": [
       "ElasticNet(l1_ratio=0.4)"
      ]
     },
     "execution_count": 16,
     "metadata": {},
     "output_type": "execute_result"
    }
   ],
   "source": [
    "logReg.fit(insuranceTrainFinal, y_train)\n",
    "sDescentReg.fit(insuranceTrainFinal, y_train)\n",
    "lasso.fit(insuranceTrainFinal, y_train)\n",
    "ridge.fit(insuranceTrainFinal, y_train)\n",
    "eNet.fit(insuranceTrainFinal, y_train)"
   ]
  },
  {
   "cell_type": "markdown",
   "id": "8cef2b29",
   "metadata": {},
   "source": [
    "# processing of test data"
   ]
  },
  {
   "cell_type": "code",
   "execution_count": 26,
   "id": "eaa9ecef",
   "metadata": {},
   "outputs": [
    {
     "data": {
      "text/html": [
       "<div>\n",
       "<style scoped>\n",
       "    .dataframe tbody tr th:only-of-type {\n",
       "        vertical-align: middle;\n",
       "    }\n",
       "\n",
       "    .dataframe tbody tr th {\n",
       "        vertical-align: top;\n",
       "    }\n",
       "\n",
       "    .dataframe thead th {\n",
       "        text-align: right;\n",
       "    }\n",
       "</style>\n",
       "<table border=\"1\" class=\"dataframe\">\n",
       "  <thead>\n",
       "    <tr style=\"text-align: right;\">\n",
       "      <th></th>\n",
       "      <th>sex</th>\n",
       "      <th>smoker</th>\n",
       "      <th>region</th>\n",
       "    </tr>\n",
       "  </thead>\n",
       "  <tbody>\n",
       "    <tr>\n",
       "      <th>764</th>\n",
       "      <td>female</td>\n",
       "      <td>no</td>\n",
       "      <td>northeast</td>\n",
       "    </tr>\n",
       "    <tr>\n",
       "      <th>887</th>\n",
       "      <td>female</td>\n",
       "      <td>no</td>\n",
       "      <td>northwest</td>\n",
       "    </tr>\n",
       "  </tbody>\n",
       "</table>\n",
       "</div>"
      ],
      "text/plain": [
       "        sex smoker     region\n",
       "764  female     no  northeast\n",
       "887  female     no  northwest"
      ]
     },
     "execution_count": 26,
     "metadata": {},
     "output_type": "execute_result"
    }
   ],
   "source": [
    "insuranceTestCategorical = x_test.select_dtypes(object)\n",
    "insuranceTestCategorical.head(2)"
   ]
  },
  {
   "cell_type": "code",
   "execution_count": 27,
   "id": "01710c47",
   "metadata": {},
   "outputs": [
    {
     "data": {
      "text/plain": [
       "sex       0\n",
       "smoker    0\n",
       "region    0\n",
       "dtype: int64"
      ]
     },
     "execution_count": 27,
     "metadata": {},
     "output_type": "execute_result"
    }
   ],
   "source": [
    "insuranceTestCategorical.isna().sum()"
   ]
  },
  {
   "cell_type": "code",
   "execution_count": 28,
   "id": "be3c9fec",
   "metadata": {},
   "outputs": [],
   "source": [
    "insuranceTestNumerical = x_test.select_dtypes(np.number)"
   ]
  },
  {
   "cell_type": "code",
   "execution_count": 29,
   "id": "cb2f7b79",
   "metadata": {},
   "outputs": [
    {
     "data": {
      "text/plain": [
       "age         0\n",
       "bmi         0\n",
       "children    0\n",
       "dtype: int64"
      ]
     },
     "execution_count": 29,
     "metadata": {},
     "output_type": "execute_result"
    }
   ],
   "source": [
    "insuranceTestNumerical.isna().sum()"
   ]
  },
  {
   "cell_type": "code",
   "execution_count": 30,
   "id": "9bf07bd4",
   "metadata": {},
   "outputs": [],
   "source": [
    "insuranceTestCategoricalEncoded = pd.DataFrame(ohe.transform(insuranceTestCategorical).toarray())"
   ]
  },
  {
   "cell_type": "code",
   "execution_count": 31,
   "id": "4bf35172",
   "metadata": {},
   "outputs": [],
   "source": [
    "insuranceTestNumericalEncoded = pd.DataFrame(mm.transform(insuranceTestNumerical),\n",
    "             columns=insuranceTestNumerical.columns)"
   ]
  },
  {
   "cell_type": "code",
   "execution_count": 32,
   "id": "8ef2ce41",
   "metadata": {},
   "outputs": [],
   "source": [
    "insuranceTestFinal = pd.concat([insuranceTestCategoricalEncoded, insuranceTestNumericalEncoded], axis=1)"
   ]
  },
  {
   "cell_type": "code",
   "execution_count": 33,
   "id": "9fe90ea9",
   "metadata": {},
   "outputs": [],
   "source": [
    "predLogReg = logReg.predict(insuranceTestFinal)\n",
    "predSGD = sDescentReg.predict(insuranceTestFinal)\n",
    "predLasso = lasso.predict(insuranceTestFinal)\n",
    "predRidge = ridge.predict(insuranceTestFinal)\n",
    "predENet = eNet.predict(insuranceTestFinal)"
   ]
  },
  {
   "cell_type": "code",
   "execution_count": 34,
   "id": "4280adb9",
   "metadata": {},
   "outputs": [
    {
     "name": "stdout",
     "output_type": "stream",
     "text": [
      "Linear Regression RMSE: \t 5708.831564229939\n",
      "SGD Regression RMSE: \t 5719.84466690062\n",
      "Lasso Regression RMSE: \t 5681.608605533592\n",
      "Ridge Regression RMSE: \t 5683.669614576317\n",
      "Elastic Net Regression RMSE: \t 9082.810658087325\n"
     ]
    }
   ],
   "source": [
    "print(\"Linear Regression RMSE: \\t\", np.sqrt(mean_squared_error(predLogReg, y_test)))\n",
    "print(\"SGD Regression RMSE: \\t\", np.sqrt(mean_squared_error(predSGD, y_test)))\n",
    "print(\"Lasso Regression RMSE: \\t\", np.sqrt(mean_squared_error(predLasso, y_test)))\n",
    "print(\"Ridge Regression RMSE: \\t\", np.sqrt(mean_squared_error(predRidge, y_test)))\n",
    "print(\"Elastic Net Regression RMSE: \\t\", np.sqrt(mean_squared_error(predENet, y_test)))"
   ]
  },
  {
   "cell_type": "code",
   "execution_count": null,
   "id": "7edd419d",
   "metadata": {},
   "outputs": [],
   "source": []
  },
  {
   "cell_type": "code",
   "execution_count": null,
   "id": "ef04cab0",
   "metadata": {},
   "outputs": [],
   "source": []
  }
 ],
 "metadata": {
  "kernelspec": {
   "display_name": "Test",
   "language": "python",
   "name": "test"
  },
  "language_info": {
   "codemirror_mode": {
    "name": "ipython",
    "version": 3
   },
   "file_extension": ".py",
   "mimetype": "text/x-python",
   "name": "python",
   "nbconvert_exporter": "python",
   "pygments_lexer": "ipython3",
   "version": "3.8.8"
  }
 },
 "nbformat": 4,
 "nbformat_minor": 5
}
